{
 "cells": [
  {
   "cell_type": "markdown",
   "id": "a385787b",
   "metadata": {},
   "source": [
    "## Files provide\n",
    "- neighbourhood_based_extra_data.csv\n",
    "- neighbourhood_based_extra_data.xlsx\n",
    "\n",
    "Pick one of the files to edit"
   ]
  },
  {
   "cell_type": "markdown",
   "id": "33715e32",
   "metadata": {},
   "source": [
    "## Add more columns to dataframe\n",
    "- **Population_2021**\n",
    "\n",
    "    Map 4 on page 35: https://www.toronto.ca/wp-content/uploads/2022/02/92e3-City-Planning-2021-Census-Backgrounder-Population-Dwellings-Backgrounder.pdf\n",
    "\n",
    "- **One-Parent-Families**\n",
    "\n",
    "    Map 1 on page 27: https://www.toronto.ca/wp-content/uploads/2022/07/9877-City-Planning-2021-Census-Backgrounder-Families-Hhlds-Marital-Status-Income.pdf\n",
    "    \n",
    "- **Part-time-worker-percentage**\n",
    "\n",
    "    Map 3 on page 12: https://www.toronto.ca/wp-content/uploads/2022/12/93bb-2021-Census-Backgrounder-Education-Labour-Commuting-Language-of-Work.pdf\n",
    "    (The data prived is a pertage range, then use the mean value as the part time worker percentage)\n",
    "    \n",
    "- **Above-Postsecondary-percentage**\n",
    "\n",
    "    Map 4 on page 13: https://www.toronto.ca/wp-content/uploads/2022/12/93bb-2021-Census-Backgrounder-Education-Labour-Commuting-Language-of-Work.pdf\n",
    "    \n",
    "- **Median_household_income**\n",
    "\n",
    "    Map 4 on page 30: https://www.toronto.ca/wp-content/uploads/2022/07/9877-City-Planning-2021-Census-Backgrounder-Families-Hhlds-Marital-Status-Income.pdf\n",
    "    \n",
    "## Any other factors\n",
    "**If you think any other factors (such as unemployee rate, CPI, etc.) can be cosidered, feel free to add extra columns to the CSV file.**"
   ]
  },
  {
   "cell_type": "markdown",
   "id": "cdd9333e",
   "metadata": {},
   "source": [
    "## Using the following website to map neighborhood\n",
    "\n",
    "Find Your Neighbourhood: https://www.toronto.ca/city-government/data-research-maps/neighbourhoods-communities/neighbourhood-profiles/find-your-neighbourhood/#location=&lat=43.698119&lng=-79.377383"
   ]
  },
  {
   "cell_type": "code",
   "execution_count": null,
   "id": "97d7099b",
   "metadata": {},
   "outputs": [],
   "source": []
  }
 ],
 "metadata": {
  "kernelspec": {
   "display_name": "Python 3 (ipykernel)",
   "language": "python",
   "name": "python3"
  },
  "language_info": {
   "codemirror_mode": {
    "name": "ipython",
    "version": 3
   },
   "file_extension": ".py",
   "mimetype": "text/x-python",
   "name": "python",
   "nbconvert_exporter": "python",
   "pygments_lexer": "ipython3",
   "version": "3.9.17"
  }
 },
 "nbformat": 4,
 "nbformat_minor": 5
}

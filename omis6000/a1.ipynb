{
 "cells": [
  {
   "cell_type": "code",
   "execution_count": 16,
   "metadata": {},
   "outputs": [],
   "source": [
    "# Read data from CSV file\n",
    "import pandas as pd\n",
    "transportation_costs_production_to_refinement_df = pd.read_csv('/Users/frieda/Desktop/a1/Cost_Production_to_Refinement.csv')\n"
   ]
  },
  {
   "cell_type": "code",
   "execution_count": 17,
   "metadata": {},
   "outputs": [],
   "source": [
    "import gurobipy as gp\n",
    "from gurobipy import GRB"
   ]
  },
  {
   "cell_type": "code",
   "execution_count": 19,
   "metadata": {},
   "outputs": [
    {
     "name": "stdout",
     "output_type": "stream",
     "text": [
      "3\n"
     ]
    }
   ],
   "source": [
    "print(len(transportation_costs_production_to_refinement_df.columns))\n"
   ]
  },
  {
   "cell_type": "code",
   "execution_count": 28,
   "metadata": {},
   "outputs": [],
   "source": [
    "# Create the transportation_costs_production_to_refinement dictionary\n",
    "transportation_costs_production_to_refinement = {\n",
    "    (i, j, cost): 1 for i, j, cost in zip(\n",
    "        transportation_costs_production_to_refinement_df['ProductionFacility'],\n",
    "        transportation_costs_production_to_refinement_df['RefinementCenter'],\n",
    "        transportation_costs_production_to_refinement_df['Cost']\n",
    "    )\n",
    "}\n"
   ]
  },
  {
   "cell_type": "code",
   "execution_count": 29,
   "metadata": {},
   "outputs": [
    {
     "name": "stdout",
     "output_type": "stream",
     "text": [
      "{(1, 1, 4.252732774): 1, (1, 2, 4.567725519): 1, (1, 3, 4.696484464): 1, (1, 4, 2.67874096): 1, (1, 5, 4.272450694): 1, (2, 1, 2.950472217): 1, (2, 2, 2.636619306): 1, (2, 3, 2.853468713): 1, (2, 4, 5.480026127): 1, (2, 5, 3.037495395): 1, (3, 1, 4.025683134): 1, (3, 2, 5.407799438): 1, (3, 3, 3.380948941): 1, (3, 4, 5.441237127): 1, (3, 5, 4.408862172): 1, (4, 1, 3.46114107): 1, (4, 2, 5.346943887): 1, (4, 3, 4.993663113): 1, (4, 4, 5.96818684): 1, (4, 5, 4.836004068): 1, (5, 1, 5.946814293): 1, (5, 2, 4.749172486): 1, (5, 3, 3.726149815): 1, (5, 4, 3.589158582): 1, (5, 5, 4.937414587): 1, (6, 1, 3.469393658): 1, (6, 2, 2.755014432): 1, (6, 3, 5.601230554): 1, (6, 4, 4.499101123): 1, (6, 5, 4.22405746): 1, (7, 1, 4.729031498): 1, (7, 2, 4.301937659): 1, (7, 3, 3.677403086): 1, (7, 4, 4.158811211): 1, (7, 5, 4.159568059): 1, (8, 1, 5.743809755): 1, (8, 2, 5.571586655): 1, (8, 3, 5.095348142): 1, (8, 4, 5.349864973): 1, (8, 5, 2.625629664): 1, (9, 1, 4.256229818): 1, (9, 2, 5.568655736): 1, (9, 3, 4.137145718): 1, (9, 4, 4.904103823): 1, (9, 5, 3.05688139): 1, (10, 1, 4.296640669): 1, (10, 2, 5.75680178): 1, (10, 3, 4.874745853): 1, (10, 4, 4.109682753): 1, (10, 5, 4.660409159): 1, (11, 1, 4.021644173): 1, (11, 2, 5.387458656): 1, (11, 3, 5.408900402): 1, (11, 4, 5.185103032): 1, (11, 5, 3.472593208): 1, (12, 1, 3.289578048): 1, (12, 2, 3.588315171): 1, (12, 3, 3.621827714): 1, (12, 4, 4.849195961): 1, (12, 5, 4.896364019): 1, (13, 1, 2.907241503): 1, (13, 2, 4.151420982): 1, (13, 3, 4.606514181): 1, (13, 4, 5.222339128): 1, (13, 5, 3.765688146): 1, (14, 1, 5.804934363): 1, (14, 2, 3.586422692): 1, (14, 3, 4.326779845): 1, (14, 4, 5.637697457): 1, (14, 5, 3.392121682): 1, (15, 1, 5.874544153): 1, (15, 2, 3.572913): 1, (15, 3, 3.798970772): 1, (15, 4, 2.917931062): 1, (15, 5, 5.434967344): 1, (16, 1, 2.822057501): 1, (16, 2, 4.101307511): 1, (16, 3, 4.954399183): 1, (16, 4, 4.191645943): 1, (16, 5, 3.145432204): 1, (17, 1, 5.027896979): 1, (17, 2, 4.670953837): 1, (17, 3, 5.122869825): 1, (17, 4, 4.093371777): 1, (17, 5, 5.629273359): 1, (18, 1, 3.024882419): 1, (18, 2, 2.714102691): 1, (18, 3, 3.582688896): 1, (18, 4, 3.109988833): 1, (18, 5, 2.628336876): 1, (19, 1, 3.347095066): 1, (19, 2, 5.834444972): 1, (19, 3, 5.811004101): 1, (19, 4, 2.857047747): 1, (19, 5, 4.568377137): 1, (20, 1, 4.812178592): 1, (20, 2, 4.540783284): 1, (20, 3, 4.504062004): 1, (20, 4, 3.604851694): 1, (20, 5, 5.957395623): 1, (21, 1, 5.875317917): 1, (21, 2, 3.760434898): 1, (21, 3, 2.556882091): 1, (21, 4, 5.073185251): 1, (21, 5, 2.913070756): 1, (22, 1, 2.895784504): 1, (22, 2, 5.606921677): 1, (22, 3, 3.274637029): 1, (22, 4, 2.854759692): 1, (22, 5, 5.258524582): 1, (23, 1, 4.711734863): 1, (23, 2, 2.63791887): 1, (23, 3, 4.286773059): 1, (23, 4, 4.101984607): 1, (23, 5, 5.796440566): 1, (24, 1, 5.631219069): 1, (24, 2, 5.175821453): 1, (24, 3, 3.217585622): 1, (24, 4, 5.285429069): 1, (24, 5, 5.046930198): 1, (25, 1, 4.384175882): 1, (25, 2, 5.943448069): 1, (25, 3, 4.99921981): 1, (25, 4, 4.154833065): 1, (25, 5, 5.075280031): 1}\n"
     ]
    }
   ],
   "source": [
    "# Display the filled dictionary\n",
    "print(transportation_costs_production_to_refinement)"
   ]
  },
  {
   "cell_type": "code",
   "execution_count": 30,
   "metadata": {},
   "outputs": [],
   "source": [
    "# Data\n",
    "facilities = range(1, 41)\n",
    "direct_production_facilities = range(1, 26)\n",
    "transship_distribution_centers = [1, 2]\n",
    "transship_production_facilities = range(26, 41)\n",
    "refinement_centers = range(1, 6)"
   ]
  },
  {
   "cell_type": "code",
   "execution_count": 31,
   "metadata": {},
   "outputs": [],
   "source": [
    "# Capacity data\n",
    "direct_production_capacities = {\n",
    "    1: 462, 2: 103, 3: 460, 4: 325, 5: 227, 6: 217, 7: 205, 8: 521, 9: 548, 10: 191,\n",
    "    11: 361, 12: 411, 13: 104, 14: 155, 15: 285, 16: 109, 17: 422, 18: 438, 19: 501,\n",
    "    20: 139, 21: 462, 22: 504, 23: 106, 24: 132, 25: 298\n",
    "}\n",
    "\n",
    "transship_distribution_capacities = {\n",
    "    1: 1317,\n",
    "    2: 1453\n",
    "}\n",
    "\n",
    "transship_production_capacities = {\n",
    "    1: 374, 2: 444, 3: 395, 4: 245, 5: 378, 6: 408, 7: 435, 8: 175, 9: 415,\n",
    "    10: 503, 11: 184, 12: 297, 13: 450, 14: 169, 15: 365\n",
    "}\n",
    "\n",
    "# Demand data\n",
    "demand = {\n",
    "    'Refinery_1': 150, 'Refinery_2': 100, 'Refinery_3': 120, 'Refinery_4': 80, 'Refinery_5': 70\n",
    "}\n",
    "\n",
    "# Transportation costs data\n",
    "transportation_costs_production_to_transshipment = {\n",
    "    (i, j, k): cost for i, j, k, cost in [\n",
    "        (1, 1, 2, 2.378825860105162), (1, 2, 2, 0.8638421476510945),\n",
    "        (2, 1, 1, 1.6669815621992674), (2, 2, 2, 2.1194881741170786),\n",
    "        (3, 1, 1, 2.1748804139601248), (3, 2, 2, 0.9481837554796164),\n",
    "        (4, 1, 1, 2.6774155296149242), (4, 2, 2, 0.5924200958027974),\n",
    "        (5, 1, 1, 2.8202478310597714), (5, 2, 2, 0.9723289185578572),\n",
    "        (6, 1, 1, 2.8538900451592584), (6, 2, 2, 2.694342703),\n",
    "        (7, 1, 1, 1.4070281695438536), (7, 2, 2, 1.4283253152681572),\n",
    "        (8, 1, 1, 2.484999068788313), (8, 2, 2, 0.9534766574967986),\n",
    "        (9, 1, 1, 1.786372012026526), (9, 2, 2, 0.6366996211997129),\n",
    "        (10, 1, 1, 0.6885277071594851), (10, 2, 2, 2.2597032761699474),\n",
    "        (11, 1, 1, 2.4012857907559626), (11, 2, 2, 1.8001066456314834),\n",
    "        (12, 1, 1, 0.5643501932314339), (12, 2, 2, 2.1248424357447133),\n",
    "        (13, 1, 1, 1.9860695794538117), (13, 2, 2, 2.3471795283740797),\n",
    "        (14, 1, 1, 1.6399685751473123), (14, 2, 2, 1.619281027186056),\n",
    "        (15, 1, 1, 0.6490466268590618), (15, 2, 2, 1.9688116627184051)\n",
    "    ]\n",
    "}\n",
    "\n",
    "\n",
    "transportation_costs_transshipment_to_refinement = {\n",
    "    (i, j, k): cost for i, j, k, cost in [\n",
    "        (1, 1, 1, 1.5723285102511508), (1, 1, 2, 3.465473956167708),\n",
    "        (1, 1, 3, 2.2440622480675154), (1, 1, 4, 3.773839152270214),\n",
    "        (1, 1, 5, 3.262651798567284), (1, 2, 1, 1.9004245214843398),\n",
    "        (1, 2, 2, 1.6131231982898153), (1, 2, 3, 1.7072324080263828),\n",
    "        (1, 2, 4, 2.705395683206701), (1, 2, 5, 2.257428421003834),\n",
    "    ]\n",
    "}"
   ]
  },
  {
   "cell_type": "code",
   "execution_count": 32,
   "metadata": {},
   "outputs": [],
   "source": [
    "# Create the optimization model\n",
    "model = gp.Model(\"Can2Oil\")"
   ]
  },
  {
   "cell_type": "code",
   "execution_count": 33,
   "metadata": {},
   "outputs": [],
   "source": [
    "\n",
    "# Decision variables\n",
    "x = {}\n",
    "for i in facilities:\n",
    "    for j in facilities if i <= 25 else transship_distribution_centers:\n",
    "        x[i, j] = model.addVar(vtype=GRB.CONTINUOUS, name=f\"x_{i}_{j}\")"
   ]
  },
  {
   "cell_type": "code",
   "execution_count": 34,
   "metadata": {},
   "outputs": [
    {
     "ename": "KeyError",
     "evalue": "(1, 4.252732774)",
     "output_type": "error",
     "traceback": [
      "\u001b[0;31m---------------------------------------------------------------------------\u001b[0m",
      "\u001b[0;31mKeyError\u001b[0m                                  Traceback (most recent call last)",
      "Cell \u001b[0;32mIn[34], line 5\u001b[0m\n\u001b[1;32m      1\u001b[0m \u001b[38;5;66;03m# Objective function: Minimize total transportation cost\u001b[39;00m\n\u001b[1;32m      2\u001b[0m model\u001b[38;5;241m.\u001b[39msetObjective(\n\u001b[1;32m      3\u001b[0m     \u001b[38;5;28msum\u001b[39m(transportation_costs_production_to_transshipment[(i, j, k)] \u001b[38;5;241m*\u001b[39m x[i, k] \u001b[38;5;28;01mfor\u001b[39;00m i, j, k \u001b[38;5;129;01min\u001b[39;00m transportation_costs_production_to_transshipment) \u001b[38;5;241m+\u001b[39m\n\u001b[1;32m      4\u001b[0m     \u001b[38;5;28msum\u001b[39m(transportation_costs_transshipment_to_refinement[(i, j, k)] \u001b[38;5;241m*\u001b[39m x[j, k] \u001b[38;5;28;01mfor\u001b[39;00m i, j, k \u001b[38;5;129;01min\u001b[39;00m transportation_costs_transshipment_to_refinement) \u001b[38;5;241m+\u001b[39m\n\u001b[0;32m----> 5\u001b[0m     \u001b[38;5;28;43msum\u001b[39;49m\u001b[43m(\u001b[49m\u001b[43mtransportation_costs_production_to_refinement\u001b[49m\u001b[43m[\u001b[49m\u001b[43m(\u001b[49m\u001b[43mi\u001b[49m\u001b[43m,\u001b[49m\u001b[43m \u001b[49m\u001b[43mj\u001b[49m\u001b[43m,\u001b[49m\u001b[43m \u001b[49m\u001b[43mk\u001b[49m\u001b[43m)\u001b[49m\u001b[43m]\u001b[49m\u001b[43m \u001b[49m\u001b[38;5;241;43m*\u001b[39;49m\u001b[43m \u001b[49m\u001b[43mx\u001b[49m\u001b[43m[\u001b[49m\u001b[43mi\u001b[49m\u001b[43m,\u001b[49m\u001b[43m \u001b[49m\u001b[43mk\u001b[49m\u001b[43m]\u001b[49m\u001b[43m \u001b[49m\u001b[38;5;28;43;01mfor\u001b[39;49;00m\u001b[43m \u001b[49m\u001b[43mi\u001b[49m\u001b[43m,\u001b[49m\u001b[43m \u001b[49m\u001b[43mj\u001b[49m\u001b[43m,\u001b[49m\u001b[43m \u001b[49m\u001b[43mk\u001b[49m\u001b[43m \u001b[49m\u001b[38;5;129;43;01min\u001b[39;49;00m\u001b[43m \u001b[49m\u001b[43mtransportation_costs_production_to_refinement\u001b[49m\u001b[43m)\u001b[49m,\n\u001b[1;32m      6\u001b[0m \n\u001b[1;32m      7\u001b[0m     GRB\u001b[38;5;241m.\u001b[39mMINIMIZE\n\u001b[1;32m      8\u001b[0m )\n",
      "Cell \u001b[0;32mIn[34], line 5\u001b[0m, in \u001b[0;36m<genexpr>\u001b[0;34m(.0)\u001b[0m\n\u001b[1;32m      1\u001b[0m \u001b[38;5;66;03m# Objective function: Minimize total transportation cost\u001b[39;00m\n\u001b[1;32m      2\u001b[0m model\u001b[38;5;241m.\u001b[39msetObjective(\n\u001b[1;32m      3\u001b[0m     \u001b[38;5;28msum\u001b[39m(transportation_costs_production_to_transshipment[(i, j, k)] \u001b[38;5;241m*\u001b[39m x[i, k] \u001b[38;5;28;01mfor\u001b[39;00m i, j, k \u001b[38;5;129;01min\u001b[39;00m transportation_costs_production_to_transshipment) \u001b[38;5;241m+\u001b[39m\n\u001b[1;32m      4\u001b[0m     \u001b[38;5;28msum\u001b[39m(transportation_costs_transshipment_to_refinement[(i, j, k)] \u001b[38;5;241m*\u001b[39m x[j, k] \u001b[38;5;28;01mfor\u001b[39;00m i, j, k \u001b[38;5;129;01min\u001b[39;00m transportation_costs_transshipment_to_refinement) \u001b[38;5;241m+\u001b[39m\n\u001b[0;32m----> 5\u001b[0m     \u001b[38;5;28msum\u001b[39m(transportation_costs_production_to_refinement[(i, j, k)] \u001b[38;5;241m*\u001b[39m \u001b[43mx\u001b[49m\u001b[43m[\u001b[49m\u001b[43mi\u001b[49m\u001b[43m,\u001b[49m\u001b[43m \u001b[49m\u001b[43mk\u001b[49m\u001b[43m]\u001b[49m \u001b[38;5;28;01mfor\u001b[39;00m i, j, k \u001b[38;5;129;01min\u001b[39;00m transportation_costs_production_to_refinement),\n\u001b[1;32m      6\u001b[0m \n\u001b[1;32m      7\u001b[0m     GRB\u001b[38;5;241m.\u001b[39mMINIMIZE\n\u001b[1;32m      8\u001b[0m )\n",
      "\u001b[0;31mKeyError\u001b[0m: (1, 4.252732774)"
     ]
    }
   ],
   "source": [
    "\n",
    "# Objective function: Minimize total transportation cost\n",
    "model.setObjective(\n",
    "    sum(transportation_costs_production_to_transshipment[(i, j, k)] * x[i, k] for i, j, k in transportation_costs_production_to_transshipment) +\n",
    "    sum(transportation_costs_transshipment_to_refinement[(i, j, k)] * x[j, k] for i, j, k in transportation_costs_transshipment_to_refinement) +\n",
    "    sum(transportation_costs_production_to_refinement[(i, j, k)] * x[i, k] for i, j, k in transportation_costs_production_to_refinement),\n",
    "\n",
    "    GRB.MINIMIZE\n",
    ")"
   ]
  },
  {
   "cell_type": "code",
   "execution_count": 9,
   "metadata": {},
   "outputs": [
    {
     "ename": "KeyError",
     "evalue": "(1, 4.252732774348948)",
     "output_type": "error",
     "traceback": [
      "\u001b[0;31m---------------------------------------------------------------------------\u001b[0m",
      "\u001b[0;31mKeyError\u001b[0m                                  Traceback (most recent call last)",
      "Cell \u001b[0;32mIn[9], line 80\u001b[0m\n\u001b[1;32m     74\u001b[0m         x[i, j] \u001b[38;5;241m=\u001b[39m model\u001b[38;5;241m.\u001b[39maddVar(vtype\u001b[38;5;241m=\u001b[39mGRB\u001b[38;5;241m.\u001b[39mCONTINUOUS, name\u001b[38;5;241m=\u001b[39m\u001b[38;5;124mf\u001b[39m\u001b[38;5;124m\"\u001b[39m\u001b[38;5;124mx_\u001b[39m\u001b[38;5;132;01m{\u001b[39;00mi\u001b[38;5;132;01m}\u001b[39;00m\u001b[38;5;124m_\u001b[39m\u001b[38;5;132;01m{\u001b[39;00mj\u001b[38;5;132;01m}\u001b[39;00m\u001b[38;5;124m\"\u001b[39m)\n\u001b[1;32m     76\u001b[0m \u001b[38;5;66;03m# Objective function: Minimize total transportation cost\u001b[39;00m\n\u001b[1;32m     77\u001b[0m model\u001b[38;5;241m.\u001b[39msetObjective(\n\u001b[1;32m     78\u001b[0m     \u001b[38;5;28msum\u001b[39m(transportation_costs_production_to_transshipment[(i, j, k)] \u001b[38;5;241m*\u001b[39m x[i, k] \u001b[38;5;28;01mfor\u001b[39;00m i, j, k \u001b[38;5;129;01min\u001b[39;00m transportation_costs_production_to_transshipment) \u001b[38;5;241m+\u001b[39m\n\u001b[1;32m     79\u001b[0m     \u001b[38;5;28msum\u001b[39m(transportation_costs_transshipment_to_refinement[(i, j, k)] \u001b[38;5;241m*\u001b[39m x[j, k] \u001b[38;5;28;01mfor\u001b[39;00m i, j, k \u001b[38;5;129;01min\u001b[39;00m transportation_costs_transshipment_to_refinement) \u001b[38;5;241m+\u001b[39m\n\u001b[0;32m---> 80\u001b[0m     \u001b[38;5;28;43msum\u001b[39;49m\u001b[43m(\u001b[49m\u001b[43mtransportation_costs_production_to_refinement\u001b[49m\u001b[43m[\u001b[49m\u001b[43m(\u001b[49m\u001b[43mi\u001b[49m\u001b[43m,\u001b[49m\u001b[43m \u001b[49m\u001b[43mj\u001b[49m\u001b[43m,\u001b[49m\u001b[43m \u001b[49m\u001b[43mk\u001b[49m\u001b[43m)\u001b[49m\u001b[43m]\u001b[49m\u001b[43m \u001b[49m\u001b[38;5;241;43m*\u001b[39;49m\u001b[43m \u001b[49m\u001b[43mx\u001b[49m\u001b[43m[\u001b[49m\u001b[43mi\u001b[49m\u001b[43m,\u001b[49m\u001b[43m \u001b[49m\u001b[43mk\u001b[49m\u001b[43m]\u001b[49m\u001b[43m \u001b[49m\u001b[38;5;28;43;01mfor\u001b[39;49;00m\u001b[43m \u001b[49m\u001b[43mi\u001b[49m\u001b[43m,\u001b[49m\u001b[43m \u001b[49m\u001b[43mj\u001b[49m\u001b[43m,\u001b[49m\u001b[43m \u001b[49m\u001b[43mk\u001b[49m\u001b[43m \u001b[49m\u001b[38;5;129;43;01min\u001b[39;49;00m\u001b[43m \u001b[49m\u001b[43mtransportation_costs_production_to_refinement\u001b[49m\u001b[43m)\u001b[49m,\n\u001b[1;32m     81\u001b[0m \n\u001b[1;32m     82\u001b[0m     GRB\u001b[38;5;241m.\u001b[39mMINIMIZE\n\u001b[1;32m     83\u001b[0m )\n\u001b[1;32m     85\u001b[0m \u001b[38;5;66;03m# Constraints\u001b[39;00m\n\u001b[1;32m     86\u001b[0m \u001b[38;5;66;03m# Capacity constraints for direct production facilities\u001b[39;00m\n\u001b[1;32m     87\u001b[0m \u001b[38;5;28;01mfor\u001b[39;00m i \u001b[38;5;129;01min\u001b[39;00m direct_production_facilities:\n",
      "Cell \u001b[0;32mIn[9], line 80\u001b[0m, in \u001b[0;36m<genexpr>\u001b[0;34m(.0)\u001b[0m\n\u001b[1;32m     74\u001b[0m         x[i, j] \u001b[38;5;241m=\u001b[39m model\u001b[38;5;241m.\u001b[39maddVar(vtype\u001b[38;5;241m=\u001b[39mGRB\u001b[38;5;241m.\u001b[39mCONTINUOUS, name\u001b[38;5;241m=\u001b[39m\u001b[38;5;124mf\u001b[39m\u001b[38;5;124m\"\u001b[39m\u001b[38;5;124mx_\u001b[39m\u001b[38;5;132;01m{\u001b[39;00mi\u001b[38;5;132;01m}\u001b[39;00m\u001b[38;5;124m_\u001b[39m\u001b[38;5;132;01m{\u001b[39;00mj\u001b[38;5;132;01m}\u001b[39;00m\u001b[38;5;124m\"\u001b[39m)\n\u001b[1;32m     76\u001b[0m \u001b[38;5;66;03m# Objective function: Minimize total transportation cost\u001b[39;00m\n\u001b[1;32m     77\u001b[0m model\u001b[38;5;241m.\u001b[39msetObjective(\n\u001b[1;32m     78\u001b[0m     \u001b[38;5;28msum\u001b[39m(transportation_costs_production_to_transshipment[(i, j, k)] \u001b[38;5;241m*\u001b[39m x[i, k] \u001b[38;5;28;01mfor\u001b[39;00m i, j, k \u001b[38;5;129;01min\u001b[39;00m transportation_costs_production_to_transshipment) \u001b[38;5;241m+\u001b[39m\n\u001b[1;32m     79\u001b[0m     \u001b[38;5;28msum\u001b[39m(transportation_costs_transshipment_to_refinement[(i, j, k)] \u001b[38;5;241m*\u001b[39m x[j, k] \u001b[38;5;28;01mfor\u001b[39;00m i, j, k \u001b[38;5;129;01min\u001b[39;00m transportation_costs_transshipment_to_refinement) \u001b[38;5;241m+\u001b[39m\n\u001b[0;32m---> 80\u001b[0m     \u001b[38;5;28msum\u001b[39m(transportation_costs_production_to_refinement[(i, j, k)] \u001b[38;5;241m*\u001b[39m \u001b[43mx\u001b[49m\u001b[43m[\u001b[49m\u001b[43mi\u001b[49m\u001b[43m,\u001b[49m\u001b[43m \u001b[49m\u001b[43mk\u001b[49m\u001b[43m]\u001b[49m \u001b[38;5;28;01mfor\u001b[39;00m i, j, k \u001b[38;5;129;01min\u001b[39;00m transportation_costs_production_to_refinement),\n\u001b[1;32m     81\u001b[0m \n\u001b[1;32m     82\u001b[0m     GRB\u001b[38;5;241m.\u001b[39mMINIMIZE\n\u001b[1;32m     83\u001b[0m )\n\u001b[1;32m     85\u001b[0m \u001b[38;5;66;03m# Constraints\u001b[39;00m\n\u001b[1;32m     86\u001b[0m \u001b[38;5;66;03m# Capacity constraints for direct production facilities\u001b[39;00m\n\u001b[1;32m     87\u001b[0m \u001b[38;5;28;01mfor\u001b[39;00m i \u001b[38;5;129;01min\u001b[39;00m direct_production_facilities:\n",
      "\u001b[0;31mKeyError\u001b[0m: (1, 4.252732774348948)"
     ]
    }
   ],
   "source": [
    "\n",
    "\n",
    "# Constraints\n",
    "# Capacity constraints for direct production facilities\n",
    "for i in direct_production_facilities:\n",
    "    model.addConstr(sum(x[i, j] for j in refinement_centers) <= direct_production_capacities[i], f\"Capacity_Direct_{i}\")\n",
    "\n",
    "# Capacity constraints for transship distribution centers\n",
    "for j in transship_distribution_centers:\n",
    "    model.addConstr(sum(x[i, j] for i in facilities) <= transship_distribution_capacities[j], f\"Capacity_Transship_Distribution_{j}\")\n",
    "\n",
    "# Capacity constraints for transship production facilities\n",
    "for i in transship_production_facilities:\n",
    "    model.addConstr(sum(x[i, j] for j in transship_distribution_centers) <= transship_production_capacities[i], f\"Capacity_Transship_Production_{i}\")\n",
    "\n",
    "# Demand constraints\n",
    "for j in refinement_centers:\n",
    "    model.addConstr(sum(x[i, j] for i in facilities) == demand[f\"Refinery_{j}\"], f\"Demand_{j}\")\n",
    "\n",
    "# Solve the model\n",
    "model.optimize()\n",
    "\n",
    "# Print the optimal solution\n",
    "if model.status == GRB.OPTIMAL:\n",
    "    print(\"\\nOptimal solution:\")\n",
    "    for i, j in x:\n",
    "        if x[i, j].x > 0:\n",
    "            print(f\"Ship {x[i, j].x} million pounds from Facility {i} to Refinery/Distribution {j}\")\n",
    "\n",
    "    print(\"\\nTotal cost:\", model.objVal)\n",
    "else:\n",
    "    print(\"No solution found.\")\n"
   ]
  },
  {
   "cell_type": "markdown",
   "metadata": {},
   "source": [
    "Can2Oil sources canola oil from 40 different production facilities in Canada (5), United States (5),\n",
    "Mexico (5), China (5), France (5), India (5), Ukraine (5), Germany (5). While canola oil from Canada,\n",
    "US, Mexico, China, and France (i.e., facilities indexed from i = 1, ..., 25) can be shipped directly to its\n",
    "refinement centers, canola oil from India, Ukraine, and Germany (facilities indexed from i = 26, ..., 40)\n",
    "need to be transshipped through an intermediary that operates two large distribution centers in Italy\n",
    "(j = 1) and Greece (j = 2). Note that Can2Oil owns five refinement centers in North America.\n",
    "\n",
    "To determine the optimal sourcing plan that minimizes total costs, the company has provided data on\n",
    "transportation costs per million pound, production and distribution capacities (in millions of pounds),\n",
    "and demand (in millions of pounds). Formulate and solve a linear program using this data."
   ]
  },
  {
   "cell_type": "code",
   "execution_count": null,
   "metadata": {},
   "outputs": [],
   "source": []
  }
 ],
 "metadata": {
  "kernelspec": {
   "display_name": "base",
   "language": "python",
   "name": "python3"
  },
  "language_info": {
   "codemirror_mode": {
    "name": "ipython",
    "version": 3
   },
   "file_extension": ".py",
   "mimetype": "text/x-python",
   "name": "python",
   "nbconvert_exporter": "python",
   "pygments_lexer": "ipython3",
   "version": "3.8.8"
  }
 },
 "nbformat": 4,
 "nbformat_minor": 2
}

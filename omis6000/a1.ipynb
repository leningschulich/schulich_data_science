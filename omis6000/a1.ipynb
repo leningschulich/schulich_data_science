{
 "cells": [
  {
   "cell_type": "code",
   "execution_count": 1,
   "metadata": {},
   "outputs": [],
   "source": [
    "# Read data from CSV file\n",
    "import pandas as pd\n",
    "transportation_costs_production_to_refinement_df = pd.read_csv('/Users/frieda/Desktop/a1/Cost_Production_to_Refinement.csv')\n"
   ]
  },
  {
   "cell_type": "code",
   "execution_count": 14,
   "metadata": {},
   "outputs": [
    {
     "ename": "ValueError",
     "evalue": "not enough values to unpack (expected 4, got 3)",
     "output_type": "error",
     "traceback": [
      "\u001b[0;31m---------------------------------------------------------------------------\u001b[0m",
      "\u001b[0;31mValueError\u001b[0m                                Traceback (most recent call last)",
      "Cell \u001b[0;32mIn[14], line 2\u001b[0m\n\u001b[1;32m      1\u001b[0m \u001b[38;5;66;03m# Create the transportation_costs_production_to_refinement dictionary\u001b[39;00m\n\u001b[0;32m----> 2\u001b[0m transportation_costs_production_to_refinement \u001b[38;5;241m=\u001b[39m {\n\u001b[1;32m      3\u001b[0m     (i, j, k): cost \u001b[38;5;28;01mfor\u001b[39;00m i, j, k, cost \u001b[38;5;129;01min\u001b[39;00m \u001b[38;5;28mzip\u001b[39m(\n\u001b[1;32m      4\u001b[0m         transportation_costs_production_to_refinement_df[\u001b[38;5;124m'\u001b[39m\u001b[38;5;124mProductionFacility\u001b[39m\u001b[38;5;124m'\u001b[39m],\n\u001b[1;32m      5\u001b[0m         transportation_costs_production_to_refinement_df[\u001b[38;5;124m'\u001b[39m\u001b[38;5;124mRefinementCenter\u001b[39m\u001b[38;5;124m'\u001b[39m],\n\u001b[1;32m      6\u001b[0m         transportation_costs_production_to_refinement_df[\u001b[38;5;124m'\u001b[39m\u001b[38;5;124mCost\u001b[39m\u001b[38;5;124m'\u001b[39m]\n\u001b[1;32m      7\u001b[0m     )\n\u001b[1;32m      8\u001b[0m }\n",
      "Cell \u001b[0;32mIn[14], line 3\u001b[0m, in \u001b[0;36m<dictcomp>\u001b[0;34m(.0)\u001b[0m\n\u001b[1;32m      1\u001b[0m \u001b[38;5;66;03m# Create the transportation_costs_production_to_refinement dictionary\u001b[39;00m\n\u001b[1;32m      2\u001b[0m transportation_costs_production_to_refinement \u001b[38;5;241m=\u001b[39m {\n\u001b[0;32m----> 3\u001b[0m     (i, j, k): cost \u001b[38;5;28;01mfor\u001b[39;00m i, j, k, cost \u001b[38;5;129;01min\u001b[39;00m \u001b[38;5;28mzip\u001b[39m(\n\u001b[1;32m      4\u001b[0m         transportation_costs_production_to_refinement_df[\u001b[38;5;124m'\u001b[39m\u001b[38;5;124mProductionFacility\u001b[39m\u001b[38;5;124m'\u001b[39m],\n\u001b[1;32m      5\u001b[0m         transportation_costs_production_to_refinement_df[\u001b[38;5;124m'\u001b[39m\u001b[38;5;124mRefinementCenter\u001b[39m\u001b[38;5;124m'\u001b[39m],\n\u001b[1;32m      6\u001b[0m         transportation_costs_production_to_refinement_df[\u001b[38;5;124m'\u001b[39m\u001b[38;5;124mCost\u001b[39m\u001b[38;5;124m'\u001b[39m]\n\u001b[1;32m      7\u001b[0m     )\n\u001b[1;32m      8\u001b[0m }\n",
      "\u001b[0;31mValueError\u001b[0m: not enough values to unpack (expected 4, got 3)"
     ]
    }
   ],
   "source": [
    "# Create the transportation_costs_production_to_refinement dictionary\n",
    "transportation_costs_production_to_refinement = {\n",
    "    (i, j, k): cost for i, j, k, cost in zip(\n",
    "        transportation_costs_production_to_refinement_df['ProductionFacility'],\n",
    "        transportation_costs_production_to_refinement_df['RefinementCenter'],\n",
    "        transportation_costs_production_to_refinement_df['Cost']\n",
    "    )\n",
    "}\n"
   ]
  },
  {
   "cell_type": "code",
   "execution_count": 5,
   "metadata": {},
   "outputs": [
    {
     "name": "stdout",
     "output_type": "stream",
     "text": [
      "{(1, 1, 4.252732774348948): 4.252732774348948, (1, 2, 4.567725519403256): 4.567725519403256, (1, 3, 4.69648446391391): 4.69648446391391, (1, 4, 2.6787409603944687): 2.6787409603944687, (1, 5, 4.272450693961823): 4.272450693961823, (2, 1, 2.950472217454552): 2.950472217454552, (2, 2, 2.636619306034325): 2.636619306034325, (2, 3, 2.8534687127010105): 2.8534687127010105, (2, 4, 5.480026127297881): 5.480026127297881, (2, 5, 3.0374953949422725): 3.0374953949422725, (3, 1, 4.025683133858296): 4.025683133858296, (3, 2, 5.407799438264689): 5.407799438264689, (3, 3, 3.3809489414264826): 3.3809489414264826, (3, 4, 5.441237127126044): 5.441237127126044, (3, 5, 4.408862171934162): 4.408862171934162, (4, 1, 3.4611410702148424): 3.4611410702148424, (4, 2, 5.346943886626531): 5.346943886626531, (4, 3, 4.993663112848553): 4.993663112848553, (4, 4, 5.968186840110128): 5.968186840110128, (4, 5, 4.836004067813168): 4.836004067813168, (5, 1, 5.946814292671199): 5.946814292671199, (5, 2, 4.749172486438884): 4.749172486438884, (5, 3, 3.726149814787561): 3.726149814787561, (5, 4, 3.589158582134974): 3.589158582134974, (5, 5, 4.937414587049542): 4.937414587049542, (6, 1, 3.469393658424241): 3.469393658424241, (6, 2, 2.755014432340268): 2.755014432340268, (6, 3, 5.601230554363697): 5.601230554363697, (6, 4, 4.499101122764968): 4.499101122764968, (6, 5, 4.224057459566888): 4.224057459566888, (7, 1, 4.729031498376857): 4.729031498376857, (7, 2, 4.301937659109236): 4.301937659109236, (7, 3, 3.6774030857071978): 3.6774030857071978, (7, 4, 4.1588112110494935): 4.1588112110494935, (7, 5, 4.159568059275534): 4.159568059275534, (8, 1, 5.7438097550760645): 5.7438097550760645, (8, 2, 5.571586655443967): 5.571586655443967, (8, 3, 5.095348142264408): 5.095348142264408, (8, 4, 5.349864972645936): 5.349864972645936, (8, 5, 2.6256296639216687): 2.6256296639216687, (9, 1, 4.256229817893197): 4.256229817893197, (9, 2, 5.568655735666077): 5.568655735666077, (9, 3, 4.137145717781689): 4.137145717781689, (9, 4, 4.9041038232018925): 4.9041038232018925, (9, 5, 3.0568813896653717): 3.0568813896653717, (10, 1, 4.296640669278873): 4.296640669278873, (10, 2, 5.756801779513614): 5.756801779513614, (10, 3, 4.874745853221483): 4.874745853221483, (10, 4, 4.10968275291761): 4.10968275291761, (10, 5, 4.660409158651788): 4.660409158651788, (11, 1, 4.021644172638932): 4.021644172638932, (11, 2, 5.387458655595976): 5.387458655595976, (11, 3, 5.408900402489025): 5.408900402489025, (11, 4, 5.18510303180016): 5.18510303180016, (11, 5, 3.4725932077136967): 3.4725932077136967, (12, 1, 3.289578048164309): 3.289578048164309, (12, 2, 3.588315170732999): 3.588315170732999, (12, 3, 3.6218277136759855): 3.6218277136759855, (12, 4, 4.849195960669807): 4.849195960669807, (12, 5, 4.896364019355897): 4.896364019355897, (13, 1, 2.907241502852207): 2.907241502852207, (13, 2, 4.151420982313312): 4.151420982313312, (13, 3, 4.606514180972326): 4.606514180972326, (13, 4, 5.222339128097508): 5.222339128097508, (13, 5, 3.765688145663368): 3.765688145663368, (14, 1, 5.804934363355002): 5.804934363355002, (14, 2, 3.586422691503266): 3.586422691503266, (14, 3, 4.326779844810961): 4.326779844810961, (14, 4, 5.637697456911085): 5.637697456911085, (14, 5, 3.3921216823679594): 3.3921216823679594, (15, 1, 5.8745441533996985): 5.8745441533996985, (15, 2, 3.5729129997021447): 3.5729129997021447, (15, 3, 3.798970772392816): 3.798970772392816, (15, 4, 2.91793106183316): 2.91793106183316, (15, 5, 5.434967344299428): 5.434967344299428, (16, 1, 2.822057500626228): 2.822057500626228, (16, 2, 4.101307511273536): 4.101307511273536, (16, 3, 4.954399183291761): 4.954399183291761, (16, 4, 4.191645942688678): 4.191645942688678, (16, 5, 3.145432203886859): 3.145432203886859, (17, 1, 5.027896978679048): 5.027896978679048, (17, 2, 4.67095383723087): 4.67095383723087, (17, 3, 5.122869825470111): 5.122869825470111, (17, 4, 4.093371776580771): 4.093371776580771, (17, 5, 5.629273358689176): 5.629273358689176, (18, 1, 3.0248824186927994): 3.0248824186927994, (18, 2, 2.7141026913609627): 2.7141026913609627, (18, 3, 3.582688896260814): 3.582688896260814, (18, 4, 3.10998883315875): 3.10998883315875, (18, 5, 2.628336876253786): 2.628336876253786, (19, 1, 3.3470950663925567): 3.3470950663925567, (19, 2, 5.834444972057007): 5.834444972057007, (19, 3, 5.811004101112803): 5.811004101112803, (19, 4, 2.857047746768337): 2.857047746768337, (19, 5, 4.568377136588667): 4.568377136588667, (20, 1, 4.81217859198564): 4.81217859198564, (20, 2, 4.540783283735268): 4.540783283735268, (20, 3, 4.504062004048924): 4.504062004048924, (20, 4, 3.604851693662916): 3.604851693662916, (20, 5, 5.957395622915985): 5.957395622915985, (21, 1, 5.875317916829886): 5.875317916829886, (21, 2, 3.7604348979687767): 3.7604348979687767, (21, 3, 2.556882090724466): 2.556882090724466, (21, 4, 5.073185251142085): 5.073185251142085, (21, 5, 2.9130707559324054): 2.9130707559324054, (22, 1, 2.8957845041752543): 2.8957845041752543, (22, 2, 5.60692167726468): 5.60692167726468, (22, 3, 3.274637029424487): 3.274637029424487, (22, 4, 2.8547596916129816): 2.8547596916129816, (22, 5, 5.258524582005728): 5.258524582005728, (23, 1, 4.711734863282897): 4.711734863282897, (23, 2, 2.6379188697900977): 2.6379188697900977, (23, 3, 4.2867730586299135): 4.2867730586299135, (23, 4, 4.101984606758497): 4.101984606758497, (23, 5, 5.796440565894779): 5.796440565894779, (24, 1, 5.63121906868319): 5.63121906868319, (24, 2, 5.175821453382263): 5.175821453382263, (24, 3, 3.2175856221330497): 3.2175856221330497, (24, 4, 5.285429069451629): 5.285429069451629, (24, 5, 5.046930198086645): 5.046930198086645, (25, 1, 4.38417588221705): 4.38417588221705, (25, 2, 5.943448069453891): 5.943448069453891, (25, 3, 4.999219809667741): 4.999219809667741, (25, 4, 4.154833065489862): 4.154833065489862, (25, 5, 5.075280031237861): 5.075280031237861}\n"
     ]
    }
   ],
   "source": [
    "# Display the filled dictionary\n",
    "print(transportation_costs_production_to_refinement)"
   ]
  },
  {
   "cell_type": "code",
   "execution_count": 9,
   "metadata": {},
   "outputs": [
    {
     "ename": "KeyError",
     "evalue": "(1, 4.252732774348948)",
     "output_type": "error",
     "traceback": [
      "\u001b[0;31m---------------------------------------------------------------------------\u001b[0m",
      "\u001b[0;31mKeyError\u001b[0m                                  Traceback (most recent call last)",
      "Cell \u001b[0;32mIn[9], line 80\u001b[0m\n\u001b[1;32m     74\u001b[0m         x[i, j] \u001b[38;5;241m=\u001b[39m model\u001b[38;5;241m.\u001b[39maddVar(vtype\u001b[38;5;241m=\u001b[39mGRB\u001b[38;5;241m.\u001b[39mCONTINUOUS, name\u001b[38;5;241m=\u001b[39m\u001b[38;5;124mf\u001b[39m\u001b[38;5;124m\"\u001b[39m\u001b[38;5;124mx_\u001b[39m\u001b[38;5;132;01m{\u001b[39;00mi\u001b[38;5;132;01m}\u001b[39;00m\u001b[38;5;124m_\u001b[39m\u001b[38;5;132;01m{\u001b[39;00mj\u001b[38;5;132;01m}\u001b[39;00m\u001b[38;5;124m\"\u001b[39m)\n\u001b[1;32m     76\u001b[0m \u001b[38;5;66;03m# Objective function: Minimize total transportation cost\u001b[39;00m\n\u001b[1;32m     77\u001b[0m model\u001b[38;5;241m.\u001b[39msetObjective(\n\u001b[1;32m     78\u001b[0m     \u001b[38;5;28msum\u001b[39m(transportation_costs_production_to_transshipment[(i, j, k)] \u001b[38;5;241m*\u001b[39m x[i, k] \u001b[38;5;28;01mfor\u001b[39;00m i, j, k \u001b[38;5;129;01min\u001b[39;00m transportation_costs_production_to_transshipment) \u001b[38;5;241m+\u001b[39m\n\u001b[1;32m     79\u001b[0m     \u001b[38;5;28msum\u001b[39m(transportation_costs_transshipment_to_refinement[(i, j, k)] \u001b[38;5;241m*\u001b[39m x[j, k] \u001b[38;5;28;01mfor\u001b[39;00m i, j, k \u001b[38;5;129;01min\u001b[39;00m transportation_costs_transshipment_to_refinement) \u001b[38;5;241m+\u001b[39m\n\u001b[0;32m---> 80\u001b[0m     \u001b[38;5;28;43msum\u001b[39;49m\u001b[43m(\u001b[49m\u001b[43mtransportation_costs_production_to_refinement\u001b[49m\u001b[43m[\u001b[49m\u001b[43m(\u001b[49m\u001b[43mi\u001b[49m\u001b[43m,\u001b[49m\u001b[43m \u001b[49m\u001b[43mj\u001b[49m\u001b[43m,\u001b[49m\u001b[43m \u001b[49m\u001b[43mk\u001b[49m\u001b[43m)\u001b[49m\u001b[43m]\u001b[49m\u001b[43m \u001b[49m\u001b[38;5;241;43m*\u001b[39;49m\u001b[43m \u001b[49m\u001b[43mx\u001b[49m\u001b[43m[\u001b[49m\u001b[43mi\u001b[49m\u001b[43m,\u001b[49m\u001b[43m \u001b[49m\u001b[43mk\u001b[49m\u001b[43m]\u001b[49m\u001b[43m \u001b[49m\u001b[38;5;28;43;01mfor\u001b[39;49;00m\u001b[43m \u001b[49m\u001b[43mi\u001b[49m\u001b[43m,\u001b[49m\u001b[43m \u001b[49m\u001b[43mj\u001b[49m\u001b[43m,\u001b[49m\u001b[43m \u001b[49m\u001b[43mk\u001b[49m\u001b[43m \u001b[49m\u001b[38;5;129;43;01min\u001b[39;49;00m\u001b[43m \u001b[49m\u001b[43mtransportation_costs_production_to_refinement\u001b[49m\u001b[43m)\u001b[49m,\n\u001b[1;32m     81\u001b[0m \n\u001b[1;32m     82\u001b[0m     GRB\u001b[38;5;241m.\u001b[39mMINIMIZE\n\u001b[1;32m     83\u001b[0m )\n\u001b[1;32m     85\u001b[0m \u001b[38;5;66;03m# Constraints\u001b[39;00m\n\u001b[1;32m     86\u001b[0m \u001b[38;5;66;03m# Capacity constraints for direct production facilities\u001b[39;00m\n\u001b[1;32m     87\u001b[0m \u001b[38;5;28;01mfor\u001b[39;00m i \u001b[38;5;129;01min\u001b[39;00m direct_production_facilities:\n",
      "Cell \u001b[0;32mIn[9], line 80\u001b[0m, in \u001b[0;36m<genexpr>\u001b[0;34m(.0)\u001b[0m\n\u001b[1;32m     74\u001b[0m         x[i, j] \u001b[38;5;241m=\u001b[39m model\u001b[38;5;241m.\u001b[39maddVar(vtype\u001b[38;5;241m=\u001b[39mGRB\u001b[38;5;241m.\u001b[39mCONTINUOUS, name\u001b[38;5;241m=\u001b[39m\u001b[38;5;124mf\u001b[39m\u001b[38;5;124m\"\u001b[39m\u001b[38;5;124mx_\u001b[39m\u001b[38;5;132;01m{\u001b[39;00mi\u001b[38;5;132;01m}\u001b[39;00m\u001b[38;5;124m_\u001b[39m\u001b[38;5;132;01m{\u001b[39;00mj\u001b[38;5;132;01m}\u001b[39;00m\u001b[38;5;124m\"\u001b[39m)\n\u001b[1;32m     76\u001b[0m \u001b[38;5;66;03m# Objective function: Minimize total transportation cost\u001b[39;00m\n\u001b[1;32m     77\u001b[0m model\u001b[38;5;241m.\u001b[39msetObjective(\n\u001b[1;32m     78\u001b[0m     \u001b[38;5;28msum\u001b[39m(transportation_costs_production_to_transshipment[(i, j, k)] \u001b[38;5;241m*\u001b[39m x[i, k] \u001b[38;5;28;01mfor\u001b[39;00m i, j, k \u001b[38;5;129;01min\u001b[39;00m transportation_costs_production_to_transshipment) \u001b[38;5;241m+\u001b[39m\n\u001b[1;32m     79\u001b[0m     \u001b[38;5;28msum\u001b[39m(transportation_costs_transshipment_to_refinement[(i, j, k)] \u001b[38;5;241m*\u001b[39m x[j, k] \u001b[38;5;28;01mfor\u001b[39;00m i, j, k \u001b[38;5;129;01min\u001b[39;00m transportation_costs_transshipment_to_refinement) \u001b[38;5;241m+\u001b[39m\n\u001b[0;32m---> 80\u001b[0m     \u001b[38;5;28msum\u001b[39m(transportation_costs_production_to_refinement[(i, j, k)] \u001b[38;5;241m*\u001b[39m \u001b[43mx\u001b[49m\u001b[43m[\u001b[49m\u001b[43mi\u001b[49m\u001b[43m,\u001b[49m\u001b[43m \u001b[49m\u001b[43mk\u001b[49m\u001b[43m]\u001b[49m \u001b[38;5;28;01mfor\u001b[39;00m i, j, k \u001b[38;5;129;01min\u001b[39;00m transportation_costs_production_to_refinement),\n\u001b[1;32m     81\u001b[0m \n\u001b[1;32m     82\u001b[0m     GRB\u001b[38;5;241m.\u001b[39mMINIMIZE\n\u001b[1;32m     83\u001b[0m )\n\u001b[1;32m     85\u001b[0m \u001b[38;5;66;03m# Constraints\u001b[39;00m\n\u001b[1;32m     86\u001b[0m \u001b[38;5;66;03m# Capacity constraints for direct production facilities\u001b[39;00m\n\u001b[1;32m     87\u001b[0m \u001b[38;5;28;01mfor\u001b[39;00m i \u001b[38;5;129;01min\u001b[39;00m direct_production_facilities:\n",
      "\u001b[0;31mKeyError\u001b[0m: (1, 4.252732774348948)"
     ]
    }
   ],
   "source": [
    "import gurobipy as gp\n",
    "from gurobipy import GRB\n",
    "\n",
    "# Data\n",
    "facilities = range(1, 41)\n",
    "direct_production_facilities = range(1, 26)\n",
    "transship_distribution_centers = [1, 2]\n",
    "transship_production_facilities = range(26, 41)\n",
    "refinement_centers = range(1, 6)\n",
    "\n",
    "# Capacity data\n",
    "direct_production_capacities = {\n",
    "    1: 462, 2: 103, 3: 460, 4: 325, 5: 227, 6: 217, 7: 205, 8: 521, 9: 548, 10: 191,\n",
    "    11: 361, 12: 411, 13: 104, 14: 155, 15: 285, 16: 109, 17: 422, 18: 438, 19: 501,\n",
    "    20: 139, 21: 462, 22: 504, 23: 106, 24: 132, 25: 298\n",
    "}\n",
    "\n",
    "transship_distribution_capacities = {\n",
    "    1: 1317,\n",
    "    2: 1453\n",
    "}\n",
    "\n",
    "transship_production_capacities = {\n",
    "    1: 374, 2: 444, 3: 395, 4: 245, 5: 378, 6: 408, 7: 435, 8: 175, 9: 415,\n",
    "    10: 503, 11: 184, 12: 297, 13: 450, 14: 169, 15: 365\n",
    "}\n",
    "\n",
    "# Demand data\n",
    "demand = {\n",
    "    'Refinery_1': 150, 'Refinery_2': 100, 'Refinery_3': 120, 'Refinery_4': 80, 'Refinery_5': 70\n",
    "}\n",
    "\n",
    "# Transportation costs data\n",
    "transportation_costs_production_to_transshipment = {\n",
    "    (i, j, k): cost for i, j, k, cost in [\n",
    "        (1, 1, 2, 2.378825860105162), (1, 2, 2, 0.8638421476510945),\n",
    "        (2, 1, 1, 1.6669815621992674), (2, 2, 2, 2.1194881741170786),\n",
    "        (3, 1, 1, 2.1748804139601248), (3, 2, 2, 0.9481837554796164),\n",
    "        (4, 1, 1, 2.6774155296149242), (4, 2, 2, 0.5924200958027974),\n",
    "        (5, 1, 1, 2.8202478310597714), (5, 2, 2, 0.9723289185578572),\n",
    "        (6, 1, 1, 2.8538900451592584), (6, 2, 2, 2.694342703),\n",
    "        (7, 1, 1, 1.4070281695438536), (7, 2, 2, 1.4283253152681572),\n",
    "        (8, 1, 1, 2.484999068788313), (8, 2, 2, 0.9534766574967986),\n",
    "        (9, 1, 1, 1.786372012026526), (9, 2, 2, 0.6366996211997129),\n",
    "        (10, 1, 1, 0.6885277071594851), (10, 2, 2, 2.2597032761699474),\n",
    "        (11, 1, 1, 2.4012857907559626), (11, 2, 2, 1.8001066456314834),\n",
    "        (12, 1, 1, 0.5643501932314339), (12, 2, 2, 2.1248424357447133),\n",
    "        (13, 1, 1, 1.9860695794538117), (13, 2, 2, 2.3471795283740797),\n",
    "        (14, 1, 1, 1.6399685751473123), (14, 2, 2, 1.619281027186056),\n",
    "        (15, 1, 1, 0.6490466268590618), (15, 2, 2, 1.9688116627184051)\n",
    "    ]\n",
    "}\n",
    "\n",
    "\n",
    "transportation_costs_transshipment_to_refinement = {\n",
    "    (i, j, k): cost for i, j, k, cost in [\n",
    "        (1, 1, 1, 1.5723285102511508), (1, 1, 2, 3.465473956167708),\n",
    "        (1, 1, 3, 2.2440622480675154), (1, 1, 4, 3.773839152270214),\n",
    "        (1, 1, 5, 3.262651798567284), (1, 2, 1, 1.9004245214843398),\n",
    "        (1, 2, 2, 1.6131231982898153), (1, 2, 3, 1.7072324080263828),\n",
    "        (1, 2, 4, 2.705395683206701), (1, 2, 5, 2.257428421003834),\n",
    "    ]\n",
    "}\n",
    "\n",
    "\n",
    "\n",
    "# Create the optimization model\n",
    "model = gp.Model(\"Can2Oil\")\n",
    "\n",
    "# Decision variables\n",
    "x = {}\n",
    "for i in facilities:\n",
    "    for j in facilities if i <= 25 else transship_distribution_centers:\n",
    "        x[i, j] = model.addVar(vtype=GRB.CONTINUOUS, name=f\"x_{i}_{j}\")\n",
    "\n",
    "# Objective function: Minimize total transportation cost\n",
    "model.setObjective(\n",
    "    sum(transportation_costs_production_to_transshipment[(i, j, k)] * x[i, k] for i, j, k in transportation_costs_production_to_transshipment) +\n",
    "    sum(transportation_costs_transshipment_to_refinement[(i, j, k)] * x[j, k] for i, j, k in transportation_costs_transshipment_to_refinement) +\n",
    "    sum(transportation_costs_production_to_refinement[(i, j, k)] * x[i, k] for i, j, k in transportation_costs_production_to_refinement),\n",
    "\n",
    "    GRB.MINIMIZE\n",
    ")\n",
    "\n",
    "# Constraints\n",
    "# Capacity constraints for direct production facilities\n",
    "for i in direct_production_facilities:\n",
    "    model.addConstr(sum(x[i, j] for j in refinement_centers) <= direct_production_capacities[i], f\"Capacity_Direct_{i}\")\n",
    "\n",
    "# Capacity constraints for transship distribution centers\n",
    "for j in transship_distribution_centers:\n",
    "    model.addConstr(sum(x[i, j] for i in facilities) <= transship_distribution_capacities[j], f\"Capacity_Transship_Distribution_{j}\")\n",
    "\n",
    "# Capacity constraints for transship production facilities\n",
    "for i in transship_production_facilities:\n",
    "    model.addConstr(sum(x[i, j] for j in transship_distribution_centers) <= transship_production_capacities[i], f\"Capacity_Transship_Production_{i}\")\n",
    "\n",
    "# Demand constraints\n",
    "for j in refinement_centers:\n",
    "    model.addConstr(sum(x[i, j] for i in facilities) == demand[f\"Refinery_{j}\"], f\"Demand_{j}\")\n",
    "\n",
    "# Solve the model\n",
    "model.optimize()\n",
    "\n",
    "# Print the optimal solution\n",
    "if model.status == GRB.OPTIMAL:\n",
    "    print(\"\\nOptimal solution:\")\n",
    "    for i, j in x:\n",
    "        if x[i, j].x > 0:\n",
    "            print(f\"Ship {x[i, j].x} million pounds from Facility {i} to Refinery/Distribution {j}\")\n",
    "\n",
    "    print(\"\\nTotal cost:\", model.objVal)\n",
    "else:\n",
    "    print(\"No solution found.\")\n"
   ]
  },
  {
   "cell_type": "markdown",
   "metadata": {},
   "source": [
    "Can2Oil sources canola oil from 40 different production facilities in Canada (5), United States (5),\n",
    "Mexico (5), China (5), France (5), India (5), Ukraine (5), Germany (5). While canola oil from Canada,\n",
    "US, Mexico, China, and France (i.e., facilities indexed from i = 1, ..., 25) can be shipped directly to its\n",
    "refinement centers, canola oil from India, Ukraine, and Germany (facilities indexed from i = 26, ..., 40)\n",
    "need to be transshipped through an intermediary that operates two large distribution centers in Italy\n",
    "(j = 1) and Greece (j = 2). Note that Can2Oil owns five refinement centers in North America.\n",
    "\n",
    "To determine the optimal sourcing plan that minimizes total costs, the company has provided data on\n",
    "transportation costs per million pound, production and distribution capacities (in millions of pounds),\n",
    "and demand (in millions of pounds). Formulate and solve a linear program using this data."
   ]
  },
  {
   "cell_type": "code",
   "execution_count": null,
   "metadata": {},
   "outputs": [],
   "source": []
  }
 ],
 "metadata": {
  "kernelspec": {
   "display_name": "base",
   "language": "python",
   "name": "python3"
  },
  "language_info": {
   "codemirror_mode": {
    "name": "ipython",
    "version": 3
   },
   "file_extension": ".py",
   "mimetype": "text/x-python",
   "name": "python",
   "nbconvert_exporter": "python",
   "pygments_lexer": "ipython3",
   "version": "3.8.8"
  }
 },
 "nbformat": 4,
 "nbformat_minor": 2
}

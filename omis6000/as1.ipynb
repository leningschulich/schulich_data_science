{
 "cells": [
  {
   "cell_type": "code",
   "execution_count": 1,
   "metadata": {},
   "outputs": [],
   "source": [
    "from gurobipy import GRB\n",
    "import gurobipy as gb"
   ]
  },
  {
   "cell_type": "markdown",
   "metadata": {},
   "source": [
    "Objective: minimizes the total amount that Sunnyshore Bay has to repay to the bank over the summer months.\n",
    "\n",
    "Define Variables: \n",
    "\n",
    "X i : Amount borrowed in month i\n",
    "\n",
    "Y i : Amount repaid in month i\n",
    "\n",
    "W i : Cash balance at the end of month i\n"
   ]
  },
  {
   "cell_type": "markdown",
   "metadata": {},
   "source": [
    "Write the mathematical objective function:\n",
    "\n",
    "Minimize Z = (Xi+Interest of Xi - Yi) = (X5 + )\n"
   ]
  },
  {
   "cell_type": "code",
   "execution_count": null,
   "metadata": {},
   "outputs": [],
   "source": [
    "# The parameters\n",
    "may_revenue = 180000\n",
    "june_revenue = 260000\n",
    "july_revenue = 420000\n",
    "aug_revenue = 580000\n",
    "may_exp = 300000\n",
    "june_exp = 400000\n",
    "july_exp = 350000\n",
    "aug_exp = 200000\n",
    "\n",
    "# Number of options\n",
    "May_loan = 3\n",
    "June_loan = 2\n",
    "July_loan = 1\n",
    "\n",
    "# Selling prices\n",
    "#sell = [220, 260, 55, 26]\n",
    "#purchase = [264, 312]"
   ]
  },
  {
   "cell_type": "code",
   "execution_count": null,
   "metadata": {},
   "outputs": [],
   "source": [
    "# Create a new optimization model to maximize profit\n",
    "model = gb.Model(\"Farming Problem\")\n",
    "\n",
    "# Construct the decision variables.\n",
    "x = model.addVars(3, lb=0, vtype=GRB.CONTINUOUS, name=\"Crops\")\n",
    "w = model.addVars(4, lb=0, vtype=GRB.CONTINUOUS, name=\"Sold\")\n",
    "y = model.addVars(2, lb=0, vtype=GRB.CONTINUOUS, name=\"Purchased\")\n",
    "\n",
    "# Objective Function\n",
    "model.setObjective(gb.quicksum(w[i]*sell[i] for i in range(SOLD)) - gb.quicksum(y[i]*purchase[i] for i in range(PURCHASED)), GRB.MAXIMIZE)\n",
    "\n",
    "# Land capacity constraints \n",
    "land_constraint = model.addConstr(x[0] + x[1] + x[2] <= 500, \"Land Capacity\")\n",
    "\n",
    "# Cattle feed constraints (oats)\n",
    "cattle_constraint = model.addConstr(oat_yield*x[0] + y[0] - w[0] >= 200, \"Oats\")\n",
    "\n",
    "# Cattle feed constraints (Maize)\n",
    "oat_constraint = model.addConstr(maize_yield*x[1] + y[1] - w[1] >= 260, \"Oats\")\n",
    "\n",
    "# Quota constraints (Soybean)\n",
    "model.addConstr(w[2] <= 7000, \"Quota\")\n",
    "soy_constraint = model.addConstr(w[2] + w[3] == soybean_yield*x[2], \"Soybean\")\n",
    "\n",
    "# Solve our model\n",
    "model.optimize()\n",
    "\n",
    "# Append the objective function value\n",
    "print(\"The optimal solution: \", model.objVal)\n",
    "    \n",
    "# Check if the optimization was successful\n",
    "if model.status == gb.GRB.OPTIMAL:\n",
    "    # Print the sensitivity analysis for the amount sold\n",
    "    print(\"Optimal Amount Sold:\")\n",
    "    print(f\"{'Oats'} = {w[0].x, w[0].RC, sell[0], w[0].SAObjUp, w[0].SAObjLow}\")\n",
    "    print(f\"{'Maize'} = {w[1].x, w[1].RC, sell[1], w[1].SAObjUp, w[1].SAObjLow}\")\n",
    "    print(f\"{'Soybean'} = {w[2].x, w[2].RC, sell[2], w[2].SAObjUp, w[2].SAObjLow}\")\n",
    "    print(f\"{'Soybean'} = {w[3].x, w[3].RC, sell[3], w[3].SAObjUp, w[3].SAObjLow}\")\n",
    "else:\n",
    "    print(\"Optimization was not successful.\")\n",
    "\n",
    "# Print sensitivity information\n",
    "print(\"\")\n",
    "print(f\"Sensitivity Information for Land Capacity Constraint {land_constraint.pi:.2f}:\")\n",
    "print(\"(LHS, RHS, Slack): \", (model.getRow(land_constraint).getValue(), land_constraint.RHS, land_constraint.slack))\n",
    "print(\"Shadow Price: \", land_constraint.pi)\n",
    "print(\"Range of Feasibility: \", (land_constraint.SARHSUp, land_constraint.SARHSLow))\n",
    "\n"
   ]
  }
 ],
 "metadata": {
  "kernelspec": {
   "display_name": "base",
   "language": "python",
   "name": "python3"
  },
  "language_info": {
   "codemirror_mode": {
    "name": "ipython",
    "version": 3
   },
   "file_extension": ".py",
   "mimetype": "text/x-python",
   "name": "python",
   "nbconvert_exporter": "python",
   "pygments_lexer": "ipython3",
   "version": "3.8.8"
  }
 },
 "nbformat": 4,
 "nbformat_minor": 2
}

{
 "cells": [
  {
   "cell_type": "code",
   "execution_count": 328,
   "metadata": {},
   "outputs": [],
   "source": [
    "import pandas as pd\n",
    "import numpy as np\n",
    "import matplotlib.pyplot as plt\n",
    "%matplotlib inline\n",
    "from statsmodels.formula.api import ols\n",
    "import statsmodels.api as sm\n",
    "from sklearn.linear_model import LinearRegression\n",
    "import seaborn as sns"
   ]
  },
  {
   "cell_type": "code",
   "execution_count": 329,
   "metadata": {},
   "outputs": [
    {
     "name": "stdout",
     "output_type": "stream",
     "text": [
      "Requirement already satisfied: scikit-learn in /Users/frieda/opt/anaconda3/lib/python3.8/site-packages (0.24.1)\n",
      "Requirement already satisfied: threadpoolctl>=2.0.0 in /Users/frieda/opt/anaconda3/lib/python3.8/site-packages (from scikit-learn) (2.1.0)\n",
      "Requirement already satisfied: scipy>=0.19.1 in /Users/frieda/opt/anaconda3/lib/python3.8/site-packages (from scikit-learn) (1.6.2)\n",
      "Requirement already satisfied: numpy>=1.13.3 in /Users/frieda/opt/anaconda3/lib/python3.8/site-packages (from scikit-learn) (1.20.1)\n",
      "Requirement already satisfied: joblib>=0.11 in /Users/frieda/opt/anaconda3/lib/python3.8/site-packages (from scikit-learn) (1.0.1)\n",
      "Note: you may need to restart the kernel to use updated packages.\n"
     ]
    }
   ],
   "source": [
    "pip install scikit-learn"
   ]
  },
  {
   "cell_type": "code",
   "execution_count": 330,
   "metadata": {},
   "outputs": [],
   "source": [
    "kc = pd.read_csv('https://raw.githubusercontent.com/delinai/schulich_ds1/main/Datasets/kc_house_data.csv')"
   ]
  },
  {
   "cell_type": "code",
   "execution_count": 331,
   "metadata": {},
   "outputs": [
    {
     "data": {
      "text/html": [
       "<div>\n",
       "<style scoped>\n",
       "    .dataframe tbody tr th:only-of-type {\n",
       "        vertical-align: middle;\n",
       "    }\n",
       "\n",
       "    .dataframe tbody tr th {\n",
       "        vertical-align: top;\n",
       "    }\n",
       "\n",
       "    .dataframe thead th {\n",
       "        text-align: right;\n",
       "    }\n",
       "</style>\n",
       "<table border=\"1\" class=\"dataframe\">\n",
       "  <thead>\n",
       "    <tr style=\"text-align: right;\">\n",
       "      <th></th>\n",
       "      <th>id</th>\n",
       "      <th>date</th>\n",
       "      <th>price</th>\n",
       "      <th>bedrooms</th>\n",
       "      <th>bathrooms</th>\n",
       "      <th>sqft_living</th>\n",
       "      <th>sqft_lot</th>\n",
       "      <th>floors</th>\n",
       "      <th>waterfront</th>\n",
       "      <th>view</th>\n",
       "      <th>...</th>\n",
       "      <th>grade</th>\n",
       "      <th>sqft_above</th>\n",
       "      <th>sqft_basement</th>\n",
       "      <th>yr_built</th>\n",
       "      <th>yr_renovated</th>\n",
       "      <th>zipcode</th>\n",
       "      <th>lat</th>\n",
       "      <th>long</th>\n",
       "      <th>sqft_living15</th>\n",
       "      <th>sqft_lot15</th>\n",
       "    </tr>\n",
       "  </thead>\n",
       "  <tbody>\n",
       "    <tr>\n",
       "      <th>0</th>\n",
       "      <td>7129300520</td>\n",
       "      <td>20141013T000000</td>\n",
       "      <td>221900.0</td>\n",
       "      <td>3</td>\n",
       "      <td>1.00</td>\n",
       "      <td>1180</td>\n",
       "      <td>5650</td>\n",
       "      <td>1.0</td>\n",
       "      <td>0</td>\n",
       "      <td>0</td>\n",
       "      <td>...</td>\n",
       "      <td>7</td>\n",
       "      <td>1180</td>\n",
       "      <td>0</td>\n",
       "      <td>1955</td>\n",
       "      <td>0</td>\n",
       "      <td>98178</td>\n",
       "      <td>47.5112</td>\n",
       "      <td>-122.257</td>\n",
       "      <td>1340</td>\n",
       "      <td>5650</td>\n",
       "    </tr>\n",
       "    <tr>\n",
       "      <th>1</th>\n",
       "      <td>6414100192</td>\n",
       "      <td>20141209T000000</td>\n",
       "      <td>538000.0</td>\n",
       "      <td>3</td>\n",
       "      <td>2.25</td>\n",
       "      <td>2570</td>\n",
       "      <td>7242</td>\n",
       "      <td>2.0</td>\n",
       "      <td>0</td>\n",
       "      <td>0</td>\n",
       "      <td>...</td>\n",
       "      <td>7</td>\n",
       "      <td>2170</td>\n",
       "      <td>400</td>\n",
       "      <td>1951</td>\n",
       "      <td>1991</td>\n",
       "      <td>98125</td>\n",
       "      <td>47.7210</td>\n",
       "      <td>-122.319</td>\n",
       "      <td>1690</td>\n",
       "      <td>7639</td>\n",
       "    </tr>\n",
       "    <tr>\n",
       "      <th>2</th>\n",
       "      <td>5631500400</td>\n",
       "      <td>20150225T000000</td>\n",
       "      <td>180000.0</td>\n",
       "      <td>2</td>\n",
       "      <td>1.00</td>\n",
       "      <td>770</td>\n",
       "      <td>10000</td>\n",
       "      <td>1.0</td>\n",
       "      <td>0</td>\n",
       "      <td>0</td>\n",
       "      <td>...</td>\n",
       "      <td>6</td>\n",
       "      <td>770</td>\n",
       "      <td>0</td>\n",
       "      <td>1933</td>\n",
       "      <td>0</td>\n",
       "      <td>98028</td>\n",
       "      <td>47.7379</td>\n",
       "      <td>-122.233</td>\n",
       "      <td>2720</td>\n",
       "      <td>8062</td>\n",
       "    </tr>\n",
       "    <tr>\n",
       "      <th>3</th>\n",
       "      <td>2487200875</td>\n",
       "      <td>20141209T000000</td>\n",
       "      <td>604000.0</td>\n",
       "      <td>4</td>\n",
       "      <td>3.00</td>\n",
       "      <td>1960</td>\n",
       "      <td>5000</td>\n",
       "      <td>1.0</td>\n",
       "      <td>0</td>\n",
       "      <td>0</td>\n",
       "      <td>...</td>\n",
       "      <td>7</td>\n",
       "      <td>1050</td>\n",
       "      <td>910</td>\n",
       "      <td>1965</td>\n",
       "      <td>0</td>\n",
       "      <td>98136</td>\n",
       "      <td>47.5208</td>\n",
       "      <td>-122.393</td>\n",
       "      <td>1360</td>\n",
       "      <td>5000</td>\n",
       "    </tr>\n",
       "    <tr>\n",
       "      <th>4</th>\n",
       "      <td>1954400510</td>\n",
       "      <td>20150218T000000</td>\n",
       "      <td>510000.0</td>\n",
       "      <td>3</td>\n",
       "      <td>2.00</td>\n",
       "      <td>1680</td>\n",
       "      <td>8080</td>\n",
       "      <td>1.0</td>\n",
       "      <td>0</td>\n",
       "      <td>0</td>\n",
       "      <td>...</td>\n",
       "      <td>8</td>\n",
       "      <td>1680</td>\n",
       "      <td>0</td>\n",
       "      <td>1987</td>\n",
       "      <td>0</td>\n",
       "      <td>98074</td>\n",
       "      <td>47.6168</td>\n",
       "      <td>-122.045</td>\n",
       "      <td>1800</td>\n",
       "      <td>7503</td>\n",
       "    </tr>\n",
       "  </tbody>\n",
       "</table>\n",
       "<p>5 rows × 21 columns</p>\n",
       "</div>"
      ],
      "text/plain": [
       "           id             date     price  bedrooms  bathrooms  sqft_living  \\\n",
       "0  7129300520  20141013T000000  221900.0         3       1.00         1180   \n",
       "1  6414100192  20141209T000000  538000.0         3       2.25         2570   \n",
       "2  5631500400  20150225T000000  180000.0         2       1.00          770   \n",
       "3  2487200875  20141209T000000  604000.0         4       3.00         1960   \n",
       "4  1954400510  20150218T000000  510000.0         3       2.00         1680   \n",
       "\n",
       "   sqft_lot  floors  waterfront  view  ...  grade  sqft_above  sqft_basement  \\\n",
       "0      5650     1.0           0     0  ...      7        1180              0   \n",
       "1      7242     2.0           0     0  ...      7        2170            400   \n",
       "2     10000     1.0           0     0  ...      6         770              0   \n",
       "3      5000     1.0           0     0  ...      7        1050            910   \n",
       "4      8080     1.0           0     0  ...      8        1680              0   \n",
       "\n",
       "   yr_built  yr_renovated  zipcode      lat     long  sqft_living15  \\\n",
       "0      1955             0    98178  47.5112 -122.257           1340   \n",
       "1      1951          1991    98125  47.7210 -122.319           1690   \n",
       "2      1933             0    98028  47.7379 -122.233           2720   \n",
       "3      1965             0    98136  47.5208 -122.393           1360   \n",
       "4      1987             0    98074  47.6168 -122.045           1800   \n",
       "\n",
       "   sqft_lot15  \n",
       "0        5650  \n",
       "1        7639  \n",
       "2        8062  \n",
       "3        5000  \n",
       "4        7503  \n",
       "\n",
       "[5 rows x 21 columns]"
      ]
     },
     "execution_count": 331,
     "metadata": {},
     "output_type": "execute_result"
    }
   ],
   "source": [
    "kc.head()"
   ]
  },
  {
   "cell_type": "code",
   "execution_count": 332,
   "metadata": {},
   "outputs": [
    {
     "name": "stdout",
     "output_type": "stream",
     "text": [
      "<class 'pandas.core.frame.DataFrame'>\n",
      "RangeIndex: 21613 entries, 0 to 21612\n",
      "Data columns (total 21 columns):\n",
      " #   Column         Non-Null Count  Dtype  \n",
      "---  ------         --------------  -----  \n",
      " 0   id             21613 non-null  int64  \n",
      " 1   date           21613 non-null  object \n",
      " 2   price          21613 non-null  float64\n",
      " 3   bedrooms       21613 non-null  int64  \n",
      " 4   bathrooms      21613 non-null  float64\n",
      " 5   sqft_living    21613 non-null  int64  \n",
      " 6   sqft_lot       21613 non-null  int64  \n",
      " 7   floors         21613 non-null  float64\n",
      " 8   waterfront     21613 non-null  int64  \n",
      " 9   view           21613 non-null  int64  \n",
      " 10  condition      21613 non-null  int64  \n",
      " 11  grade          21613 non-null  int64  \n",
      " 12  sqft_above     21613 non-null  int64  \n",
      " 13  sqft_basement  21613 non-null  int64  \n",
      " 14  yr_built       21613 non-null  int64  \n",
      " 15  yr_renovated   21613 non-null  int64  \n",
      " 16  zipcode        21613 non-null  int64  \n",
      " 17  lat            21613 non-null  float64\n",
      " 18  long           21613 non-null  float64\n",
      " 19  sqft_living15  21613 non-null  int64  \n",
      " 20  sqft_lot15     21613 non-null  int64  \n",
      "dtypes: float64(5), int64(15), object(1)\n",
      "memory usage: 3.5+ MB\n"
     ]
    }
   ],
   "source": [
    "kc.info()"
   ]
  },
  {
   "cell_type": "code",
   "execution_count": 333,
   "metadata": {},
   "outputs": [],
   "source": [
    "# Transform date to a datetime data format\n",
    "kc['date'] = pd.to_datetime(kc['date'])"
   ]
  },
  {
   "cell_type": "code",
   "execution_count": 334,
   "metadata": {},
   "outputs": [],
   "source": [
    "# Extract hour, month, day into new columns\n",
    "kc['month'] = kc['date'].dt.month\n",
    "kc['day'] = kc['date'].dt.day\n",
    "kc['year'] = kc['date'].dt.year"
   ]
  },
  {
   "cell_type": "code",
   "execution_count": 335,
   "metadata": {},
   "outputs": [
    {
     "data": {
      "text/html": [
       "<div>\n",
       "<style scoped>\n",
       "    .dataframe tbody tr th:only-of-type {\n",
       "        vertical-align: middle;\n",
       "    }\n",
       "\n",
       "    .dataframe tbody tr th {\n",
       "        vertical-align: top;\n",
       "    }\n",
       "\n",
       "    .dataframe thead th {\n",
       "        text-align: right;\n",
       "    }\n",
       "</style>\n",
       "<table border=\"1\" class=\"dataframe\">\n",
       "  <thead>\n",
       "    <tr style=\"text-align: right;\">\n",
       "      <th></th>\n",
       "      <th>id</th>\n",
       "      <th>price</th>\n",
       "      <th>bedrooms</th>\n",
       "      <th>bathrooms</th>\n",
       "      <th>sqft_living</th>\n",
       "      <th>sqft_lot</th>\n",
       "      <th>floors</th>\n",
       "      <th>waterfront</th>\n",
       "      <th>view</th>\n",
       "      <th>condition</th>\n",
       "      <th>...</th>\n",
       "      <th>yr_built</th>\n",
       "      <th>yr_renovated</th>\n",
       "      <th>zipcode</th>\n",
       "      <th>lat</th>\n",
       "      <th>long</th>\n",
       "      <th>sqft_living15</th>\n",
       "      <th>sqft_lot15</th>\n",
       "      <th>month</th>\n",
       "      <th>day</th>\n",
       "      <th>year</th>\n",
       "    </tr>\n",
       "  </thead>\n",
       "  <tbody>\n",
       "    <tr>\n",
       "      <th>count</th>\n",
       "      <td>2.161300e+04</td>\n",
       "      <td>2.161300e+04</td>\n",
       "      <td>21613.000000</td>\n",
       "      <td>21613.000000</td>\n",
       "      <td>21613.000000</td>\n",
       "      <td>2.161300e+04</td>\n",
       "      <td>21613.000000</td>\n",
       "      <td>21613.000000</td>\n",
       "      <td>21613.000000</td>\n",
       "      <td>21613.000000</td>\n",
       "      <td>...</td>\n",
       "      <td>21613.000000</td>\n",
       "      <td>21613.000000</td>\n",
       "      <td>21613.000000</td>\n",
       "      <td>21613.000000</td>\n",
       "      <td>21613.000000</td>\n",
       "      <td>21613.000000</td>\n",
       "      <td>21613.000000</td>\n",
       "      <td>21613.000000</td>\n",
       "      <td>21613.000000</td>\n",
       "      <td>21613.000000</td>\n",
       "    </tr>\n",
       "    <tr>\n",
       "      <th>mean</th>\n",
       "      <td>4.580302e+09</td>\n",
       "      <td>5.400881e+05</td>\n",
       "      <td>3.370842</td>\n",
       "      <td>2.114757</td>\n",
       "      <td>2079.899736</td>\n",
       "      <td>1.510697e+04</td>\n",
       "      <td>1.494309</td>\n",
       "      <td>0.007542</td>\n",
       "      <td>0.234303</td>\n",
       "      <td>3.409430</td>\n",
       "      <td>...</td>\n",
       "      <td>1971.005136</td>\n",
       "      <td>84.402258</td>\n",
       "      <td>98077.939805</td>\n",
       "      <td>47.560053</td>\n",
       "      <td>-122.213896</td>\n",
       "      <td>1986.552492</td>\n",
       "      <td>12768.455652</td>\n",
       "      <td>6.574423</td>\n",
       "      <td>15.688197</td>\n",
       "      <td>2014.322954</td>\n",
       "    </tr>\n",
       "    <tr>\n",
       "      <th>std</th>\n",
       "      <td>2.876566e+09</td>\n",
       "      <td>3.671272e+05</td>\n",
       "      <td>0.930062</td>\n",
       "      <td>0.770163</td>\n",
       "      <td>918.440897</td>\n",
       "      <td>4.142051e+04</td>\n",
       "      <td>0.539989</td>\n",
       "      <td>0.086517</td>\n",
       "      <td>0.766318</td>\n",
       "      <td>0.650743</td>\n",
       "      <td>...</td>\n",
       "      <td>29.373411</td>\n",
       "      <td>401.679240</td>\n",
       "      <td>53.505026</td>\n",
       "      <td>0.138564</td>\n",
       "      <td>0.140828</td>\n",
       "      <td>685.391304</td>\n",
       "      <td>27304.179631</td>\n",
       "      <td>3.115308</td>\n",
       "      <td>8.635063</td>\n",
       "      <td>0.467616</td>\n",
       "    </tr>\n",
       "    <tr>\n",
       "      <th>min</th>\n",
       "      <td>1.000102e+06</td>\n",
       "      <td>7.500000e+04</td>\n",
       "      <td>0.000000</td>\n",
       "      <td>0.000000</td>\n",
       "      <td>290.000000</td>\n",
       "      <td>5.200000e+02</td>\n",
       "      <td>1.000000</td>\n",
       "      <td>0.000000</td>\n",
       "      <td>0.000000</td>\n",
       "      <td>1.000000</td>\n",
       "      <td>...</td>\n",
       "      <td>1900.000000</td>\n",
       "      <td>0.000000</td>\n",
       "      <td>98001.000000</td>\n",
       "      <td>47.155900</td>\n",
       "      <td>-122.519000</td>\n",
       "      <td>399.000000</td>\n",
       "      <td>651.000000</td>\n",
       "      <td>1.000000</td>\n",
       "      <td>1.000000</td>\n",
       "      <td>2014.000000</td>\n",
       "    </tr>\n",
       "    <tr>\n",
       "      <th>25%</th>\n",
       "      <td>2.123049e+09</td>\n",
       "      <td>3.219500e+05</td>\n",
       "      <td>3.000000</td>\n",
       "      <td>1.750000</td>\n",
       "      <td>1427.000000</td>\n",
       "      <td>5.040000e+03</td>\n",
       "      <td>1.000000</td>\n",
       "      <td>0.000000</td>\n",
       "      <td>0.000000</td>\n",
       "      <td>3.000000</td>\n",
       "      <td>...</td>\n",
       "      <td>1951.000000</td>\n",
       "      <td>0.000000</td>\n",
       "      <td>98033.000000</td>\n",
       "      <td>47.471000</td>\n",
       "      <td>-122.328000</td>\n",
       "      <td>1490.000000</td>\n",
       "      <td>5100.000000</td>\n",
       "      <td>4.000000</td>\n",
       "      <td>8.000000</td>\n",
       "      <td>2014.000000</td>\n",
       "    </tr>\n",
       "    <tr>\n",
       "      <th>50%</th>\n",
       "      <td>3.904930e+09</td>\n",
       "      <td>4.500000e+05</td>\n",
       "      <td>3.000000</td>\n",
       "      <td>2.250000</td>\n",
       "      <td>1910.000000</td>\n",
       "      <td>7.618000e+03</td>\n",
       "      <td>1.500000</td>\n",
       "      <td>0.000000</td>\n",
       "      <td>0.000000</td>\n",
       "      <td>3.000000</td>\n",
       "      <td>...</td>\n",
       "      <td>1975.000000</td>\n",
       "      <td>0.000000</td>\n",
       "      <td>98065.000000</td>\n",
       "      <td>47.571800</td>\n",
       "      <td>-122.230000</td>\n",
       "      <td>1840.000000</td>\n",
       "      <td>7620.000000</td>\n",
       "      <td>6.000000</td>\n",
       "      <td>16.000000</td>\n",
       "      <td>2014.000000</td>\n",
       "    </tr>\n",
       "    <tr>\n",
       "      <th>75%</th>\n",
       "      <td>7.308900e+09</td>\n",
       "      <td>6.450000e+05</td>\n",
       "      <td>4.000000</td>\n",
       "      <td>2.500000</td>\n",
       "      <td>2550.000000</td>\n",
       "      <td>1.068800e+04</td>\n",
       "      <td>2.000000</td>\n",
       "      <td>0.000000</td>\n",
       "      <td>0.000000</td>\n",
       "      <td>4.000000</td>\n",
       "      <td>...</td>\n",
       "      <td>1997.000000</td>\n",
       "      <td>0.000000</td>\n",
       "      <td>98118.000000</td>\n",
       "      <td>47.678000</td>\n",
       "      <td>-122.125000</td>\n",
       "      <td>2360.000000</td>\n",
       "      <td>10083.000000</td>\n",
       "      <td>9.000000</td>\n",
       "      <td>23.000000</td>\n",
       "      <td>2015.000000</td>\n",
       "    </tr>\n",
       "    <tr>\n",
       "      <th>max</th>\n",
       "      <td>9.900000e+09</td>\n",
       "      <td>7.700000e+06</td>\n",
       "      <td>33.000000</td>\n",
       "      <td>8.000000</td>\n",
       "      <td>13540.000000</td>\n",
       "      <td>1.651359e+06</td>\n",
       "      <td>3.500000</td>\n",
       "      <td>1.000000</td>\n",
       "      <td>4.000000</td>\n",
       "      <td>5.000000</td>\n",
       "      <td>...</td>\n",
       "      <td>2015.000000</td>\n",
       "      <td>2015.000000</td>\n",
       "      <td>98199.000000</td>\n",
       "      <td>47.777600</td>\n",
       "      <td>-121.315000</td>\n",
       "      <td>6210.000000</td>\n",
       "      <td>871200.000000</td>\n",
       "      <td>12.000000</td>\n",
       "      <td>31.000000</td>\n",
       "      <td>2015.000000</td>\n",
       "    </tr>\n",
       "  </tbody>\n",
       "</table>\n",
       "<p>8 rows × 23 columns</p>\n",
       "</div>"
      ],
      "text/plain": [
       "                 id         price      bedrooms     bathrooms   sqft_living  \\\n",
       "count  2.161300e+04  2.161300e+04  21613.000000  21613.000000  21613.000000   \n",
       "mean   4.580302e+09  5.400881e+05      3.370842      2.114757   2079.899736   \n",
       "std    2.876566e+09  3.671272e+05      0.930062      0.770163    918.440897   \n",
       "min    1.000102e+06  7.500000e+04      0.000000      0.000000    290.000000   \n",
       "25%    2.123049e+09  3.219500e+05      3.000000      1.750000   1427.000000   \n",
       "50%    3.904930e+09  4.500000e+05      3.000000      2.250000   1910.000000   \n",
       "75%    7.308900e+09  6.450000e+05      4.000000      2.500000   2550.000000   \n",
       "max    9.900000e+09  7.700000e+06     33.000000      8.000000  13540.000000   \n",
       "\n",
       "           sqft_lot        floors    waterfront          view     condition  \\\n",
       "count  2.161300e+04  21613.000000  21613.000000  21613.000000  21613.000000   \n",
       "mean   1.510697e+04      1.494309      0.007542      0.234303      3.409430   \n",
       "std    4.142051e+04      0.539989      0.086517      0.766318      0.650743   \n",
       "min    5.200000e+02      1.000000      0.000000      0.000000      1.000000   \n",
       "25%    5.040000e+03      1.000000      0.000000      0.000000      3.000000   \n",
       "50%    7.618000e+03      1.500000      0.000000      0.000000      3.000000   \n",
       "75%    1.068800e+04      2.000000      0.000000      0.000000      4.000000   \n",
       "max    1.651359e+06      3.500000      1.000000      4.000000      5.000000   \n",
       "\n",
       "       ...      yr_built  yr_renovated       zipcode           lat  \\\n",
       "count  ...  21613.000000  21613.000000  21613.000000  21613.000000   \n",
       "mean   ...   1971.005136     84.402258  98077.939805     47.560053   \n",
       "std    ...     29.373411    401.679240     53.505026      0.138564   \n",
       "min    ...   1900.000000      0.000000  98001.000000     47.155900   \n",
       "25%    ...   1951.000000      0.000000  98033.000000     47.471000   \n",
       "50%    ...   1975.000000      0.000000  98065.000000     47.571800   \n",
       "75%    ...   1997.000000      0.000000  98118.000000     47.678000   \n",
       "max    ...   2015.000000   2015.000000  98199.000000     47.777600   \n",
       "\n",
       "               long  sqft_living15     sqft_lot15         month           day  \\\n",
       "count  21613.000000   21613.000000   21613.000000  21613.000000  21613.000000   \n",
       "mean    -122.213896    1986.552492   12768.455652      6.574423     15.688197   \n",
       "std        0.140828     685.391304   27304.179631      3.115308      8.635063   \n",
       "min     -122.519000     399.000000     651.000000      1.000000      1.000000   \n",
       "25%     -122.328000    1490.000000    5100.000000      4.000000      8.000000   \n",
       "50%     -122.230000    1840.000000    7620.000000      6.000000     16.000000   \n",
       "75%     -122.125000    2360.000000   10083.000000      9.000000     23.000000   \n",
       "max     -121.315000    6210.000000  871200.000000     12.000000     31.000000   \n",
       "\n",
       "               year  \n",
       "count  21613.000000  \n",
       "mean    2014.322954  \n",
       "std        0.467616  \n",
       "min     2014.000000  \n",
       "25%     2014.000000  \n",
       "50%     2014.000000  \n",
       "75%     2015.000000  \n",
       "max     2015.000000  \n",
       "\n",
       "[8 rows x 23 columns]"
      ]
     },
     "execution_count": 335,
     "metadata": {},
     "output_type": "execute_result"
    }
   ],
   "source": [
    "kc.describe()"
   ]
  },
  {
   "cell_type": "code",
   "execution_count": 336,
   "metadata": {},
   "outputs": [],
   "source": [
    "kc.drop_duplicates(inplace=True)\n",
    "#drop duplicates of the dataset"
   ]
  },
  {
   "cell_type": "code",
   "execution_count": 337,
   "metadata": {},
   "outputs": [
    {
     "data": {
      "text/plain": [
       "<AxesSubplot:ylabel='floors'>"
      ]
     },
     "execution_count": 337,
     "metadata": {},
     "output_type": "execute_result"
    },
    {
     "data": {
      "image/png": "[encoded data removed]",
      "text/plain": [
       "<Figure size 432x288 with 1 Axes>"
      ]
     },
     "metadata": {
      "needs_background": "light"
     },
     "output_type": "display_data"
    }
   ],
   "source": [
    "sns.boxplot(data = kc, y='floors')"
   ]
  },
  {
   "cell_type": "code",
   "execution_count": 338,
   "metadata": {},
   "outputs": [
    {
     "data": {
      "text/plain": [
       "<AxesSubplot:ylabel='grade'>"
      ]
     },
     "execution_count": 338,
     "metadata": {},
     "output_type": "execute_result"
    },
    {
     "data": {
      "image/png": "[encoded data removed]",
      "text/plain": [
       "<Figure size 432x288 with 1 Axes>"
      ]
     },
     "metadata": {
      "needs_background": "light"
     },
     "output_type": "display_data"
    }
   ],
   "source": [
    "sns.boxplot(data = kc, y='grade')"
   ]
  },
  {
   "cell_type": "code",
   "execution_count": 339,
   "metadata": {},
   "outputs": [
    {
     "data": {
      "text/plain": [
       "<AxesSubplot:ylabel='yr_built'>"
      ]
     },
     "execution_count": 339,
     "metadata": {},
     "output_type": "execute_result"
    },
    {
     "data": {
      "image/png": "[encoded data removed]",
      "text/plain": [
       "<Figure size 432x288 with 1 Axes>"
      ]
     },
     "metadata": {
      "needs_background": "light"
     },
     "output_type": "display_data"
    }
   ],
   "source": [
    "sns.boxplot(data = kc, y='yr_built')"
   ]
  },
  {
   "cell_type": "code",
   "execution_count": 340,
   "metadata": {},
   "outputs": [
    {
     "data": {
      "text/plain": [
       "<AxesSubplot:ylabel='bedrooms'>"
      ]
     },
     "execution_count": 340,
     "metadata": {},
     "output_type": "execute_result"
    },
    {
     "data": {
      "image/png": "[encoded data removed]",
      "text/plain": [
       "<Figure size 432x288 with 1 Axes>"
      ]
     },
     "metadata": {
      "needs_background": "light"
     },
     "output_type": "display_data"
    }
   ],
   "source": [
    "sns.boxplot(data = kc, y='bedrooms')"
   ]
  },
  {
   "cell_type": "markdown",
   "metadata": {},
   "source": [
    "We consider remove the outlier shown in the bedroom's boxplot."
   ]
  },
  {
   "cell_type": "code",
   "execution_count": 341,
   "metadata": {},
   "outputs": [
    {
     "data": {
      "text/plain": [
       "Int64Index([15870], dtype='int64')"
      ]
     },
     "execution_count": 341,
     "metadata": {},
     "output_type": "execute_result"
    }
   ],
   "source": [
    "drop_bedrooms_outliers = kc[kc['bedrooms']>30].index\n",
    "drop_bedrooms_outliers"
   ]
  },
  {
   "cell_type": "code",
   "execution_count": 342,
   "metadata": {},
   "outputs": [],
   "source": [
    "kc.drop(drop_bedrooms_outliers, inplace=True)"
   ]
  },
  {
   "cell_type": "code",
   "execution_count": 343,
   "metadata": {},
   "outputs": [],
   "source": [
    "kc.drop('id', axis=1, inplace = True)\n",
    "kc.drop('zipcode', axis=1, inplace = True)\n",
    "#drop columns that are not related to the price"
   ]
  },
  {
   "cell_type": "code",
   "execution_count": 344,
   "metadata": {},
   "outputs": [
    {
     "data": {
      "text/html": [
       "<div>\n",
       "<style scoped>\n",
       "    .dataframe tbody tr th:only-of-type {\n",
       "        vertical-align: middle;\n",
       "    }\n",
       "\n",
       "    .dataframe tbody tr th {\n",
       "        vertical-align: top;\n",
       "    }\n",
       "\n",
       "    .dataframe thead th {\n",
       "        text-align: right;\n",
       "    }\n",
       "</style>\n",
       "<table border=\"1\" class=\"dataframe\">\n",
       "  <thead>\n",
       "    <tr style=\"text-align: right;\">\n",
       "      <th></th>\n",
       "      <th>date</th>\n",
       "      <th>price</th>\n",
       "      <th>bedrooms</th>\n",
       "      <th>bathrooms</th>\n",
       "      <th>sqft_living</th>\n",
       "      <th>sqft_lot</th>\n",
       "      <th>floors</th>\n",
       "      <th>waterfront</th>\n",
       "      <th>view</th>\n",
       "      <th>condition</th>\n",
       "      <th>...</th>\n",
       "      <th>sqft_basement</th>\n",
       "      <th>yr_built</th>\n",
       "      <th>yr_renovated</th>\n",
       "      <th>lat</th>\n",
       "      <th>long</th>\n",
       "      <th>sqft_living15</th>\n",
       "      <th>sqft_lot15</th>\n",
       "      <th>month</th>\n",
       "      <th>day</th>\n",
       "      <th>year</th>\n",
       "    </tr>\n",
       "  </thead>\n",
       "  <tbody>\n",
       "    <tr>\n",
       "      <th>0</th>\n",
       "      <td>2014-10-13</td>\n",
       "      <td>221900.0</td>\n",
       "      <td>3</td>\n",
       "      <td>1.00</td>\n",
       "      <td>1180</td>\n",
       "      <td>5650</td>\n",
       "      <td>1.0</td>\n",
       "      <td>0</td>\n",
       "      <td>0</td>\n",
       "      <td>3</td>\n",
       "      <td>...</td>\n",
       "      <td>0</td>\n",
       "      <td>1955</td>\n",
       "      <td>0</td>\n",
       "      <td>47.5112</td>\n",
       "      <td>-122.257</td>\n",
       "      <td>1340</td>\n",
       "      <td>5650</td>\n",
       "      <td>10</td>\n",
       "      <td>13</td>\n",
       "      <td>2014</td>\n",
       "    </tr>\n",
       "    <tr>\n",
       "      <th>1</th>\n",
       "      <td>2014-12-09</td>\n",
       "      <td>538000.0</td>\n",
       "      <td>3</td>\n",
       "      <td>2.25</td>\n",
       "      <td>2570</td>\n",
       "      <td>7242</td>\n",
       "      <td>2.0</td>\n",
       "      <td>0</td>\n",
       "      <td>0</td>\n",
       "      <td>3</td>\n",
       "      <td>...</td>\n",
       "      <td>400</td>\n",
       "      <td>1951</td>\n",
       "      <td>1991</td>\n",
       "      <td>47.7210</td>\n",
       "      <td>-122.319</td>\n",
       "      <td>1690</td>\n",
       "      <td>7639</td>\n",
       "      <td>12</td>\n",
       "      <td>9</td>\n",
       "      <td>2014</td>\n",
       "    </tr>\n",
       "    <tr>\n",
       "      <th>2</th>\n",
       "      <td>2015-02-25</td>\n",
       "      <td>180000.0</td>\n",
       "      <td>2</td>\n",
       "      <td>1.00</td>\n",
       "      <td>770</td>\n",
       "      <td>10000</td>\n",
       "      <td>1.0</td>\n",
       "      <td>0</td>\n",
       "      <td>0</td>\n",
       "      <td>3</td>\n",
       "      <td>...</td>\n",
       "      <td>0</td>\n",
       "      <td>1933</td>\n",
       "      <td>0</td>\n",
       "      <td>47.7379</td>\n",
       "      <td>-122.233</td>\n",
       "      <td>2720</td>\n",
       "      <td>8062</td>\n",
       "      <td>2</td>\n",
       "      <td>25</td>\n",
       "      <td>2015</td>\n",
       "    </tr>\n",
       "    <tr>\n",
       "      <th>3</th>\n",
       "      <td>2014-12-09</td>\n",
       "      <td>604000.0</td>\n",
       "      <td>4</td>\n",
       "      <td>3.00</td>\n",
       "      <td>1960</td>\n",
       "      <td>5000</td>\n",
       "      <td>1.0</td>\n",
       "      <td>0</td>\n",
       "      <td>0</td>\n",
       "      <td>5</td>\n",
       "      <td>...</td>\n",
       "      <td>910</td>\n",
       "      <td>1965</td>\n",
       "      <td>0</td>\n",
       "      <td>47.5208</td>\n",
       "      <td>-122.393</td>\n",
       "      <td>1360</td>\n",
       "      <td>5000</td>\n",
       "      <td>12</td>\n",
       "      <td>9</td>\n",
       "      <td>2014</td>\n",
       "    </tr>\n",
       "    <tr>\n",
       "      <th>4</th>\n",
       "      <td>2015-02-18</td>\n",
       "      <td>510000.0</td>\n",
       "      <td>3</td>\n",
       "      <td>2.00</td>\n",
       "      <td>1680</td>\n",
       "      <td>8080</td>\n",
       "      <td>1.0</td>\n",
       "      <td>0</td>\n",
       "      <td>0</td>\n",
       "      <td>3</td>\n",
       "      <td>...</td>\n",
       "      <td>0</td>\n",
       "      <td>1987</td>\n",
       "      <td>0</td>\n",
       "      <td>47.6168</td>\n",
       "      <td>-122.045</td>\n",
       "      <td>1800</td>\n",
       "      <td>7503</td>\n",
       "      <td>2</td>\n",
       "      <td>18</td>\n",
       "      <td>2015</td>\n",
       "    </tr>\n",
       "  </tbody>\n",
       "</table>\n",
       "<p>5 rows × 22 columns</p>\n",
       "</div>"
      ],
      "text/plain": [
       "        date     price  bedrooms  bathrooms  sqft_living  sqft_lot  floors  \\\n",
       "0 2014-10-13  221900.0         3       1.00         1180      5650     1.0   \n",
       "1 2014-12-09  538000.0         3       2.25         2570      7242     2.0   \n",
       "2 2015-02-25  180000.0         2       1.00          770     10000     1.0   \n",
       "3 2014-12-09  604000.0         4       3.00         1960      5000     1.0   \n",
       "4 2015-02-18  510000.0         3       2.00         1680      8080     1.0   \n",
       "\n",
       "   waterfront  view  condition  ...  sqft_basement  yr_built  yr_renovated  \\\n",
       "0           0     0          3  ...              0      1955             0   \n",
       "1           0     0          3  ...            400      1951          1991   \n",
       "2           0     0          3  ...              0      1933             0   \n",
       "3           0     0          5  ...            910      1965             0   \n",
       "4           0     0          3  ...              0      1987             0   \n",
       "\n",
       "       lat     long  sqft_living15  sqft_lot15  month  day  year  \n",
       "0  47.5112 -122.257           1340        5650     10   13  2014  \n",
       "1  47.7210 -122.319           1690        7639     12    9  2014  \n",
       "2  47.7379 -122.233           2720        8062      2   25  2015  \n",
       "3  47.5208 -122.393           1360        5000     12    9  2014  \n",
       "4  47.6168 -122.045           1800        7503      2   18  2015  \n",
       "\n",
       "[5 rows x 22 columns]"
      ]
     },
     "execution_count": 344,
     "metadata": {},
     "output_type": "execute_result"
    }
   ],
   "source": [
    "kc.head()"
   ]
  },
  {
   "cell_type": "code",
   "execution_count": 345,
   "metadata": {},
   "outputs": [],
   "source": [
    "# Create function to classify amounts\n",
    "def total_cat(x):\n",
    "    if x >0:\n",
    "        return 1\n",
    "    else:\n",
    "        return 0"
   ]
  },
  {
   "cell_type": "code",
   "execution_count": 346,
   "metadata": {},
   "outputs": [],
   "source": [
    "# Create new column by applying total_cat() function created above\n",
    "# we create a new column to as dummy variable \n",
    "kc['if_renovated'] = kc['yr_renovated'].apply(total_cat)"
   ]
  },
  {
   "cell_type": "code",
   "execution_count": 347,
   "metadata": {},
   "outputs": [
    {
     "name": "stdout",
     "output_type": "stream",
     "text": [
      "Columns with correlation above or equal to 0.5 with 'x': ['price', 'bathrooms', 'sqft_living', 'grade', 'sqft_above', 'sqft_living15']\n"
     ]
    }
   ],
   "source": [
    "correlations = kc.corr()['price']\n",
    "# Filter the columns with correlation above 0.5\n",
    "high_corr_columns = correlations[abs(correlations) >= 0.5].index.tolist()\n",
    "print(f\"Columns with correlation above or equal to 0.5 with 'x': {high_corr_columns}\")\n"
   ]
  },
  {
   "cell_type": "markdown",
   "metadata": {},
   "source": [
    "To avoid multicollinearity, I keep only one of the highly correlated variables, either 'sqft_living' or 'sqft_living15'. Both variables represent square footage measurements, and their similarity suggests a high degree of multicollinearity, which can adversely affect the model's performance and interpretation."
   ]
  },
  {
   "cell_type": "code",
   "execution_count": 348,
   "metadata": {},
   "outputs": [
    {
     "name": "stdout",
     "output_type": "stream",
     "text": [
      "                            OLS Regression Results                            \n",
      "==============================================================================\n",
      "Dep. Variable:                  price   R-squared:                       0.544\n",
      "Model:                            OLS   Adj. R-squared:                  0.543\n",
      "Method:                 Least Squares   F-statistic:                     6433.\n",
      "Date:                Wed, 12 Jul 2023   Prob (F-statistic):               0.00\n",
      "Time:                        00:12:50   Log-Likelihood:            -2.9912e+05\n",
      "No. Observations:               21612   AIC:                         5.982e+05\n",
      "Df Residuals:                   21607   BIC:                         5.983e+05\n",
      "Df Model:                           4                                         \n",
      "Covariance Type:            nonrobust                                         \n",
      "===============================================================================\n",
      "                  coef    std err          t      P>|t|      [0.025      0.975]\n",
      "-------------------------------------------------------------------------------\n",
      "Intercept   -6.503e+05   1.35e+04    -48.133      0.000   -6.77e+05   -6.24e+05\n",
      "bathrooms   -3.706e+04   3416.454    -10.847      0.000   -4.38e+04   -3.04e+04\n",
      "sqft_living   252.5145      4.350     58.055      0.000     243.989     261.040\n",
      "grade        1.151e+05   2359.208     48.767      0.000     1.1e+05     1.2e+05\n",
      "sqft_above    -76.8529      4.412    -17.418      0.000     -85.501     -68.204\n",
      "==============================================================================\n",
      "Omnibus:                    17095.330   Durbin-Watson:                   1.980\n",
      "Prob(Omnibus):                  0.000   Jarque-Bera (JB):          1069517.047\n",
      "Skew:                           3.323   Prob(JB):                         0.00\n",
      "Kurtosis:                      36.816   Cond. No.                     2.43e+04\n",
      "==============================================================================\n",
      "\n",
      "Notes:\n",
      "[1] Standard Errors assume that the covariance matrix of the errors is correctly specified.\n",
      "[2] The condition number is large, 2.43e+04. This might indicate that there are\n",
      "strong multicollinearity or other numerical problems.\n"
     ]
    }
   ],
   "source": [
    "results = ols(\"price ~ bathrooms+sqft_living+grade+sqft_above\", data=kc).fit()\n",
    "print(results.summary())"
   ]
  },
  {
   "attachments": {},
   "cell_type": "markdown",
   "metadata": {},
   "source": [
    "We observed that all the values in the summary exhibit large numerical values, and the skewness and kurtosis values indicate that the data is not normally distributed. Given this situation, we can attempt to address the issue by applying a logarithmic transformation to our variables."
   ]
  },
  {
   "cell_type": "code",
   "execution_count": 349,
   "metadata": {},
   "outputs": [],
   "source": [
    "kc['log_sqft_living'] = np.log(kc['sqft_living'])\n",
    "kc['log_grade'] = np.log(kc['grade'])\n",
    "kc['log_price'] = np.log(kc['price'])\n",
    "kc['log_sqft_above'] = np.log(kc['sqft_above'])"
   ]
  },
  {
   "cell_type": "code",
   "execution_count": 350,
   "metadata": {},
   "outputs": [
    {
     "name": "stdout",
     "output_type": "stream",
     "text": [
      "                            OLS Regression Results                            \n",
      "==============================================================================\n",
      "Dep. Variable:              log_price   R-squared:                       0.542\n",
      "Model:                            OLS   Adj. R-squared:                  0.542\n",
      "Method:                 Least Squares   F-statistic:                     6400.\n",
      "Date:                Wed, 12 Jul 2023   Prob (F-statistic):               0.00\n",
      "Time:                        00:12:50   Log-Likelihood:                -8364.3\n",
      "No. Observations:               21612   AIC:                         1.674e+04\n",
      "Df Residuals:                   21607   BIC:                         1.678e+04\n",
      "Df Model:                           4                                         \n",
      "Covariance Type:            nonrobust                                         \n",
      "===================================================================================\n",
      "                      coef    std err          t      P>|t|      [0.025      0.975]\n",
      "-----------------------------------------------------------------------------------\n",
      "Intercept           6.8133      0.061    111.647      0.000       6.694       6.933\n",
      "bathrooms          -0.0026      0.005     -0.525      0.600      -0.012       0.007\n",
      "log_sqft_living     0.5907      0.013     45.503      0.000       0.565       0.616\n",
      "log_grade           1.6110      0.026     62.781      0.000       1.561       1.661\n",
      "log_sqft_above     -0.2003      0.012    -16.968      0.000      -0.223      -0.177\n",
      "==============================================================================\n",
      "Omnibus:                      221.325   Durbin-Watson:                   1.974\n",
      "Prob(Omnibus):                  0.000   Jarque-Bera (JB):              237.676\n",
      "Skew:                           0.222   Prob(JB):                     2.45e-52\n",
      "Kurtosis:                       3.258   Cond. No.                         280.\n",
      "==============================================================================\n",
      "\n",
      "Notes:\n",
      "[1] Standard Errors assume that the covariance matrix of the errors is correctly specified.\n"
     ]
    }
   ],
   "source": [
    "results_log1 = ols(\"log_price ~ bathrooms + log_sqft_living + log_grade+ log_sqft_above\", data=kc).fit()\n",
    "print(results_log1.summary())"
   ]
  },
  {
   "cell_type": "markdown",
   "metadata": {},
   "source": [
    "After applying the logarithmic transformation to our variables, we can observe that the skewness and kurtosis values indicate a more normal distribution in the regression analysis. Additionally, the coefficient values are not as large as they were before. These changes suggest that the logarithmic transformation has helped to improve the normality and interpretability of the regression model."
   ]
  },
  {
   "cell_type": "code",
   "execution_count": 351,
   "metadata": {},
   "outputs": [
    {
     "name": "stdout",
     "output_type": "stream",
     "text": [
      "                            OLS Regression Results                            \n",
      "==============================================================================\n",
      "Dep. Variable:              log_price   R-squared:                       0.638\n",
      "Model:                            OLS   Adj. R-squared:                  0.637\n",
      "Method:                 Least Squares   F-statistic:                     3800.\n",
      "Date:                Wed, 12 Jul 2023   Prob (F-statistic):               0.00\n",
      "Time:                        00:12:51   Log-Likelihood:                -5841.4\n",
      "No. Observations:               21612   AIC:                         1.170e+04\n",
      "Df Residuals:                   21601   BIC:                         1.179e+04\n",
      "Df Model:                          10                                         \n",
      "Covariance Type:            nonrobust                                         \n",
      "===================================================================================\n",
      "                      coef    std err          t      P>|t|      [0.025      0.975]\n",
      "-----------------------------------------------------------------------------------\n",
      "Intercept          17.5038      0.206     85.086      0.000      17.101      17.907\n",
      "bathrooms           0.1129      0.005     23.266      0.000       0.103       0.122\n",
      "bedrooms           -0.0465      0.003    -14.522      0.000      -0.053      -0.040\n",
      "log_sqft_living     0.3741      0.013     28.494      0.000       0.348       0.400\n",
      "log_grade           1.7731      0.024     74.108      0.000       1.726       1.820\n",
      "log_sqft_above      0.0111      0.011      1.015      0.310      -0.010       0.033\n",
      "waterfront          0.3589      0.027     13.133      0.000       0.305       0.412\n",
      "view                0.0583      0.003     17.908      0.000       0.052       0.065\n",
      "condition           0.0247      0.004      6.776      0.000       0.018       0.032\n",
      "if_renovated        0.0036      0.011      0.311      0.756      -0.019       0.026\n",
      "yr_built           -0.0056      0.000    -55.162      0.000      -0.006      -0.005\n",
      "==============================================================================\n",
      "Omnibus:                      300.178   Durbin-Watson:                   1.949\n",
      "Prob(Omnibus):                  0.000   Jarque-Bera (JB):              565.682\n",
      "Skew:                          -0.001   Prob(JB):                    1.46e-123\n",
      "Kurtosis:                       3.793   Cond. No.                     1.88e+05\n",
      "==============================================================================\n",
      "\n",
      "Notes:\n",
      "[1] Standard Errors assume that the covariance matrix of the errors is correctly specified.\n",
      "[2] The condition number is large, 1.88e+05. This might indicate that there are\n",
      "strong multicollinearity or other numerical problems.\n"
     ]
    }
   ],
   "source": [
    "results_log3 = ols(\"log_price ~ bathrooms + bedrooms+\\\n",
    "                  log_sqft_living + log_grade+ log_sqft_above + \\\n",
    "                  waterfront+view+condition+if_renovated+yr_built\", data=kc).fit()\n",
    "print(results_log3.summary())"
   ]
  },
  {
   "cell_type": "markdown",
   "metadata": {},
   "source": [
    " We also add the categorical variables in the model. We know when the p-value is greater than 0.05, it suggests that the coefficient is not statistically significant, so we remove if_renovated and log_sqft_above. "
   ]
  },
  {
   "cell_type": "code",
   "execution_count": 352,
   "metadata": {},
   "outputs": [
    {
     "name": "stdout",
     "output_type": "stream",
     "text": [
      "                            OLS Regression Results                            \n",
      "==============================================================================\n",
      "Dep. Variable:              log_price   R-squared:                       0.638\n",
      "Model:                            OLS   Adj. R-squared:                  0.637\n",
      "Method:                 Least Squares   F-statistic:                     4750.\n",
      "Date:                Wed, 12 Jul 2023   Prob (F-statistic):               0.00\n",
      "Time:                        00:12:51   Log-Likelihood:                -5842.0\n",
      "No. Observations:               21612   AIC:                         1.170e+04\n",
      "Df Residuals:                   21603   BIC:                         1.177e+04\n",
      "Df Model:                           8                                         \n",
      "Covariance Type:            nonrobust                                         \n",
      "===================================================================================\n",
      "                      coef    std err          t      P>|t|      [0.025      0.975]\n",
      "-----------------------------------------------------------------------------------\n",
      "Intercept          17.4992      0.194     90.215      0.000      17.119      17.879\n",
      "bathrooms           0.1130      0.005     23.518      0.000       0.104       0.122\n",
      "bedrooms           -0.0466      0.003    -14.543      0.000      -0.053      -0.040\n",
      "log_sqft_living     0.3824      0.010     37.009      0.000       0.362       0.403\n",
      "log_grade           1.7783      0.023     76.007      0.000       1.732       1.824\n",
      "waterfront          0.3604      0.027     13.219      0.000       0.307       0.414\n",
      "view                0.0580      0.003     17.907      0.000       0.052       0.064\n",
      "condition           0.0241      0.004      6.751      0.000       0.017       0.031\n",
      "yr_built           -0.0056   9.54e-05    -59.157      0.000      -0.006      -0.005\n",
      "==============================================================================\n",
      "Omnibus:                      303.585   Durbin-Watson:                   1.949\n",
      "Prob(Omnibus):                  0.000   Jarque-Bera (JB):              574.410\n",
      "Skew:                           0.001   Prob(JB):                    1.86e-125\n",
      "Kurtosis:                       3.799   Cond. No.                     1.77e+05\n",
      "==============================================================================\n",
      "\n",
      "Notes:\n",
      "[1] Standard Errors assume that the covariance matrix of the errors is correctly specified.\n",
      "[2] The condition number is large, 1.77e+05. This might indicate that there are\n",
      "strong multicollinearity or other numerical problems.\n"
     ]
    }
   ],
   "source": [
    "results_log = ols(\"log_price ~ bathrooms + bedrooms+\\\n",
    "                  log_sqft_living + log_grade + \\\n",
    "                  waterfront+view+condition+yr_built\", data=kc).fit()\n",
    "print(results_log.summary())"
   ]
  },
  {
   "cell_type": "markdown",
   "metadata": {},
   "source": [
    "Now we get our final ols regression model"
   ]
  },
  {
   "cell_type": "code",
   "execution_count": 353,
   "metadata": {},
   "outputs": [
    {
     "data": {
      "text/html": [
       "<div>\n",
       "<style scoped>\n",
       "    .dataframe tbody tr th:only-of-type {\n",
       "        vertical-align: middle;\n",
       "    }\n",
       "\n",
       "    .dataframe tbody tr th {\n",
       "        vertical-align: top;\n",
       "    }\n",
       "\n",
       "    .dataframe thead th {\n",
       "        text-align: right;\n",
       "    }\n",
       "</style>\n",
       "<table border=\"1\" class=\"dataframe\">\n",
       "  <thead>\n",
       "    <tr style=\"text-align: right;\">\n",
       "      <th></th>\n",
       "      <th>date</th>\n",
       "      <th>price</th>\n",
       "      <th>bedrooms</th>\n",
       "      <th>bathrooms</th>\n",
       "      <th>sqft_living</th>\n",
       "      <th>sqft_lot</th>\n",
       "      <th>floors</th>\n",
       "      <th>waterfront</th>\n",
       "      <th>view</th>\n",
       "      <th>condition</th>\n",
       "      <th>...</th>\n",
       "      <th>sqft_living15</th>\n",
       "      <th>sqft_lot15</th>\n",
       "      <th>month</th>\n",
       "      <th>day</th>\n",
       "      <th>year</th>\n",
       "      <th>if_renovated</th>\n",
       "      <th>log_sqft_living</th>\n",
       "      <th>log_grade</th>\n",
       "      <th>log_price</th>\n",
       "      <th>log_sqft_above</th>\n",
       "    </tr>\n",
       "  </thead>\n",
       "  <tbody>\n",
       "    <tr>\n",
       "      <th>0</th>\n",
       "      <td>2014-10-13</td>\n",
       "      <td>221900.0</td>\n",
       "      <td>3</td>\n",
       "      <td>1.00</td>\n",
       "      <td>1180</td>\n",
       "      <td>5650</td>\n",
       "      <td>1.0</td>\n",
       "      <td>0</td>\n",
       "      <td>0</td>\n",
       "      <td>3</td>\n",
       "      <td>...</td>\n",
       "      <td>1340</td>\n",
       "      <td>5650</td>\n",
       "      <td>10</td>\n",
       "      <td>13</td>\n",
       "      <td>2014</td>\n",
       "      <td>0</td>\n",
       "      <td>7.073270</td>\n",
       "      <td>1.945910</td>\n",
       "      <td>12.309982</td>\n",
       "      <td>7.073270</td>\n",
       "    </tr>\n",
       "    <tr>\n",
       "      <th>1</th>\n",
       "      <td>2014-12-09</td>\n",
       "      <td>538000.0</td>\n",
       "      <td>3</td>\n",
       "      <td>2.25</td>\n",
       "      <td>2570</td>\n",
       "      <td>7242</td>\n",
       "      <td>2.0</td>\n",
       "      <td>0</td>\n",
       "      <td>0</td>\n",
       "      <td>3</td>\n",
       "      <td>...</td>\n",
       "      <td>1690</td>\n",
       "      <td>7639</td>\n",
       "      <td>12</td>\n",
       "      <td>9</td>\n",
       "      <td>2014</td>\n",
       "      <td>1</td>\n",
       "      <td>7.851661</td>\n",
       "      <td>1.945910</td>\n",
       "      <td>13.195614</td>\n",
       "      <td>7.682482</td>\n",
       "    </tr>\n",
       "    <tr>\n",
       "      <th>2</th>\n",
       "      <td>2015-02-25</td>\n",
       "      <td>180000.0</td>\n",
       "      <td>2</td>\n",
       "      <td>1.00</td>\n",
       "      <td>770</td>\n",
       "      <td>10000</td>\n",
       "      <td>1.0</td>\n",
       "      <td>0</td>\n",
       "      <td>0</td>\n",
       "      <td>3</td>\n",
       "      <td>...</td>\n",
       "      <td>2720</td>\n",
       "      <td>8062</td>\n",
       "      <td>2</td>\n",
       "      <td>25</td>\n",
       "      <td>2015</td>\n",
       "      <td>0</td>\n",
       "      <td>6.646391</td>\n",
       "      <td>1.791759</td>\n",
       "      <td>12.100712</td>\n",
       "      <td>6.646391</td>\n",
       "    </tr>\n",
       "    <tr>\n",
       "      <th>3</th>\n",
       "      <td>2014-12-09</td>\n",
       "      <td>604000.0</td>\n",
       "      <td>4</td>\n",
       "      <td>3.00</td>\n",
       "      <td>1960</td>\n",
       "      <td>5000</td>\n",
       "      <td>1.0</td>\n",
       "      <td>0</td>\n",
       "      <td>0</td>\n",
       "      <td>5</td>\n",
       "      <td>...</td>\n",
       "      <td>1360</td>\n",
       "      <td>5000</td>\n",
       "      <td>12</td>\n",
       "      <td>9</td>\n",
       "      <td>2014</td>\n",
       "      <td>0</td>\n",
       "      <td>7.580700</td>\n",
       "      <td>1.945910</td>\n",
       "      <td>13.311329</td>\n",
       "      <td>6.956545</td>\n",
       "    </tr>\n",
       "    <tr>\n",
       "      <th>4</th>\n",
       "      <td>2015-02-18</td>\n",
       "      <td>510000.0</td>\n",
       "      <td>3</td>\n",
       "      <td>2.00</td>\n",
       "      <td>1680</td>\n",
       "      <td>8080</td>\n",
       "      <td>1.0</td>\n",
       "      <td>0</td>\n",
       "      <td>0</td>\n",
       "      <td>3</td>\n",
       "      <td>...</td>\n",
       "      <td>1800</td>\n",
       "      <td>7503</td>\n",
       "      <td>2</td>\n",
       "      <td>18</td>\n",
       "      <td>2015</td>\n",
       "      <td>0</td>\n",
       "      <td>7.426549</td>\n",
       "      <td>2.079442</td>\n",
       "      <td>13.142166</td>\n",
       "      <td>7.426549</td>\n",
       "    </tr>\n",
       "  </tbody>\n",
       "</table>\n",
       "<p>5 rows × 27 columns</p>\n",
       "</div>"
      ],
      "text/plain": [
       "        date     price  bedrooms  bathrooms  sqft_living  sqft_lot  floors  \\\n",
       "0 2014-10-13  221900.0         3       1.00         1180      5650     1.0   \n",
       "1 2014-12-09  538000.0         3       2.25         2570      7242     2.0   \n",
       "2 2015-02-25  180000.0         2       1.00          770     10000     1.0   \n",
       "3 2014-12-09  604000.0         4       3.00         1960      5000     1.0   \n",
       "4 2015-02-18  510000.0         3       2.00         1680      8080     1.0   \n",
       "\n",
       "   waterfront  view  condition  ...  sqft_living15  sqft_lot15  month  day  \\\n",
       "0           0     0          3  ...           1340        5650     10   13   \n",
       "1           0     0          3  ...           1690        7639     12    9   \n",
       "2           0     0          3  ...           2720        8062      2   25   \n",
       "3           0     0          5  ...           1360        5000     12    9   \n",
       "4           0     0          3  ...           1800        7503      2   18   \n",
       "\n",
       "   year  if_renovated  log_sqft_living  log_grade  log_price  log_sqft_above  \n",
       "0  2014             0         7.073270   1.945910  12.309982        7.073270  \n",
       "1  2014             1         7.851661   1.945910  13.195614        7.682482  \n",
       "2  2015             0         6.646391   1.791759  12.100712        6.646391  \n",
       "3  2014             0         7.580700   1.945910  13.311329        6.956545  \n",
       "4  2015             0         7.426549   2.079442  13.142166        7.426549  \n",
       "\n",
       "[5 rows x 27 columns]"
      ]
     },
     "execution_count": 353,
     "metadata": {},
     "output_type": "execute_result"
    }
   ],
   "source": [
    "kc.head()"
   ]
  },
  {
   "cell_type": "code",
   "execution_count": 354,
   "metadata": {},
   "outputs": [],
   "source": [
    "pred_vals = results_log.predict(kc[['bathrooms','bedrooms','log_sqft_living','log_grade',\n",
    "                                    'waterfront','view','condition',\n",
    "                                   'yr_built']])"
   ]
  },
  {
   "cell_type": "code",
   "execution_count": 355,
   "metadata": {},
   "outputs": [
    {
     "data": {
      "text/plain": [
       "0        12.681470\n",
       "1        13.142912\n",
       "2        12.414776\n",
       "3        13.046774\n",
       "4        12.986482\n",
       "           ...    \n",
       "21608    12.883098\n",
       "21609    12.965868\n",
       "21610    12.339443\n",
       "21611    12.928411\n",
       "21612    12.345085\n",
       "Length: 21612, dtype: float64"
      ]
     },
     "execution_count": 355,
     "metadata": {},
     "output_type": "execute_result"
    }
   ],
   "source": [
    "pred_vals"
   ]
  },
  {
   "cell_type": "code",
   "execution_count": 356,
   "metadata": {},
   "outputs": [],
   "source": [
    "res = pd.concat([pred_vals.to_frame().rename(columns={0:'y_hat'}),kc['price']], axis=1)"
   ]
  },
  {
   "cell_type": "code",
   "execution_count": 357,
   "metadata": {},
   "outputs": [
    {
     "data": {
      "text/html": [
       "<div>\n",
       "<style scoped>\n",
       "    .dataframe tbody tr th:only-of-type {\n",
       "        vertical-align: middle;\n",
       "    }\n",
       "\n",
       "    .dataframe tbody tr th {\n",
       "        vertical-align: top;\n",
       "    }\n",
       "\n",
       "    .dataframe thead th {\n",
       "        text-align: right;\n",
       "    }\n",
       "</style>\n",
       "<table border=\"1\" class=\"dataframe\">\n",
       "  <thead>\n",
       "    <tr style=\"text-align: right;\">\n",
       "      <th></th>\n",
       "      <th>y_hat</th>\n",
       "      <th>price</th>\n",
       "    </tr>\n",
       "  </thead>\n",
       "  <tbody>\n",
       "    <tr>\n",
       "      <th>0</th>\n",
       "      <td>12.681470</td>\n",
       "      <td>221900.0</td>\n",
       "    </tr>\n",
       "    <tr>\n",
       "      <th>1</th>\n",
       "      <td>13.142912</td>\n",
       "      <td>538000.0</td>\n",
       "    </tr>\n",
       "    <tr>\n",
       "      <th>2</th>\n",
       "      <td>12.414776</td>\n",
       "      <td>180000.0</td>\n",
       "    </tr>\n",
       "    <tr>\n",
       "      <th>3</th>\n",
       "      <td>13.046774</td>\n",
       "      <td>604000.0</td>\n",
       "    </tr>\n",
       "    <tr>\n",
       "      <th>4</th>\n",
       "      <td>12.986482</td>\n",
       "      <td>510000.0</td>\n",
       "    </tr>\n",
       "    <tr>\n",
       "      <th>...</th>\n",
       "      <td>...</td>\n",
       "      <td>...</td>\n",
       "    </tr>\n",
       "    <tr>\n",
       "      <th>21608</th>\n",
       "      <td>12.883098</td>\n",
       "      <td>360000.0</td>\n",
       "    </tr>\n",
       "    <tr>\n",
       "      <th>21609</th>\n",
       "      <td>12.965868</td>\n",
       "      <td>400000.0</td>\n",
       "    </tr>\n",
       "    <tr>\n",
       "      <th>21610</th>\n",
       "      <td>12.339443</td>\n",
       "      <td>402101.0</td>\n",
       "    </tr>\n",
       "    <tr>\n",
       "      <th>21611</th>\n",
       "      <td>12.928411</td>\n",
       "      <td>400000.0</td>\n",
       "    </tr>\n",
       "    <tr>\n",
       "      <th>21612</th>\n",
       "      <td>12.345085</td>\n",
       "      <td>325000.0</td>\n",
       "    </tr>\n",
       "  </tbody>\n",
       "</table>\n",
       "<p>21612 rows × 2 columns</p>\n",
       "</div>"
      ],
      "text/plain": [
       "           y_hat     price\n",
       "0      12.681470  221900.0\n",
       "1      13.142912  538000.0\n",
       "2      12.414776  180000.0\n",
       "3      13.046774  604000.0\n",
       "4      12.986482  510000.0\n",
       "...          ...       ...\n",
       "21608  12.883098  360000.0\n",
       "21609  12.965868  400000.0\n",
       "21610  12.339443  402101.0\n",
       "21611  12.928411  400000.0\n",
       "21612  12.345085  325000.0\n",
       "\n",
       "[21612 rows x 2 columns]"
      ]
     },
     "execution_count": 357,
     "metadata": {},
     "output_type": "execute_result"
    }
   ],
   "source": [
    "res"
   ]
  },
  {
   "cell_type": "code",
   "execution_count": 358,
   "metadata": {},
   "outputs": [],
   "source": [
    "res['log_price'] = kc['log_price']"
   ]
  },
  {
   "cell_type": "code",
   "execution_count": 359,
   "metadata": {},
   "outputs": [],
   "source": [
    "res['error'] = res['y_hat'] - res['log_price']"
   ]
  },
  {
   "cell_type": "code",
   "execution_count": 360,
   "metadata": {},
   "outputs": [
    {
     "data": {
      "text/html": [
       "<div>\n",
       "<style scoped>\n",
       "    .dataframe tbody tr th:only-of-type {\n",
       "        vertical-align: middle;\n",
       "    }\n",
       "\n",
       "    .dataframe tbody tr th {\n",
       "        vertical-align: top;\n",
       "    }\n",
       "\n",
       "    .dataframe thead th {\n",
       "        text-align: right;\n",
       "    }\n",
       "</style>\n",
       "<table border=\"1\" class=\"dataframe\">\n",
       "  <thead>\n",
       "    <tr style=\"text-align: right;\">\n",
       "      <th></th>\n",
       "      <th>y_hat</th>\n",
       "      <th>price</th>\n",
       "      <th>log_price</th>\n",
       "      <th>error</th>\n",
       "    </tr>\n",
       "  </thead>\n",
       "  <tbody>\n",
       "    <tr>\n",
       "      <th>0</th>\n",
       "      <td>12.68147</td>\n",
       "      <td>221900.0</td>\n",
       "      <td>12.309982</td>\n",
       "      <td>0.371488</td>\n",
       "    </tr>\n",
       "  </tbody>\n",
       "</table>\n",
       "</div>"
      ],
      "text/plain": [
       "      y_hat     price  log_price     error\n",
       "0  12.68147  221900.0  12.309982  0.371488"
      ]
     },
     "execution_count": 360,
     "metadata": {},
     "output_type": "execute_result"
    }
   ],
   "source": [
    "res.head(1)"
   ]
  },
  {
   "cell_type": "code",
   "execution_count": 361,
   "metadata": {},
   "outputs": [],
   "source": [
    "res['sq_error'] = res['error']**2"
   ]
  },
  {
   "cell_type": "code",
   "execution_count": 362,
   "metadata": {},
   "outputs": [
    {
     "data": {
      "text/plain": [
       "0.317072158700658"
      ]
     },
     "execution_count": 362,
     "metadata": {},
     "output_type": "execute_result"
    }
   ],
   "source": [
    "np.sqrt(res['sq_error'].mean())"
   ]
  },
  {
   "attachments": {},
   "cell_type": "markdown",
   "metadata": {},
   "source": [
    "The above value indicates the square root of the mean squared error (MSE) in a regression analysis. The value is small, which implies that the regression model has a relatively low level of prediction error, which is a positive outcome.\n",
    "\n"
   ]
  },
  {
   "cell_type": "code",
   "execution_count": 363,
   "metadata": {},
   "outputs": [
    {
     "data": {
      "text/html": [
       "<div>\n",
       "<style scoped>\n",
       "    .dataframe tbody tr th:only-of-type {\n",
       "        vertical-align: middle;\n",
       "    }\n",
       "\n",
       "    .dataframe tbody tr th {\n",
       "        vertical-align: top;\n",
       "    }\n",
       "\n",
       "    .dataframe thead th {\n",
       "        text-align: right;\n",
       "    }\n",
       "</style>\n",
       "<table border=\"1\" class=\"dataframe\">\n",
       "  <thead>\n",
       "    <tr style=\"text-align: right;\">\n",
       "      <th></th>\n",
       "      <th>price</th>\n",
       "      <th>bedrooms</th>\n",
       "      <th>bathrooms</th>\n",
       "      <th>sqft_living</th>\n",
       "      <th>sqft_lot</th>\n",
       "      <th>floors</th>\n",
       "      <th>waterfront</th>\n",
       "      <th>view</th>\n",
       "      <th>condition</th>\n",
       "      <th>grade</th>\n",
       "      <th>...</th>\n",
       "      <th>sqft_living15</th>\n",
       "      <th>sqft_lot15</th>\n",
       "      <th>month</th>\n",
       "      <th>day</th>\n",
       "      <th>year</th>\n",
       "      <th>if_renovated</th>\n",
       "      <th>log_sqft_living</th>\n",
       "      <th>log_grade</th>\n",
       "      <th>log_price</th>\n",
       "      <th>log_sqft_above</th>\n",
       "    </tr>\n",
       "  </thead>\n",
       "  <tbody>\n",
       "    <tr>\n",
       "      <th>count</th>\n",
       "      <td>2.161200e+04</td>\n",
       "      <td>21612.000000</td>\n",
       "      <td>21612.000000</td>\n",
       "      <td>21612.000000</td>\n",
       "      <td>2.161200e+04</td>\n",
       "      <td>21612.000000</td>\n",
       "      <td>21612.000000</td>\n",
       "      <td>21612.000000</td>\n",
       "      <td>21612.000000</td>\n",
       "      <td>21612.000000</td>\n",
       "      <td>...</td>\n",
       "      <td>21612.000000</td>\n",
       "      <td>21612.000000</td>\n",
       "      <td>21612.000000</td>\n",
       "      <td>21612.000000</td>\n",
       "      <td>21612.000000</td>\n",
       "      <td>21612.000000</td>\n",
       "      <td>21612.000000</td>\n",
       "      <td>21612.000000</td>\n",
       "      <td>21612.000000</td>\n",
       "      <td>21612.000000</td>\n",
       "    </tr>\n",
       "    <tr>\n",
       "      <th>mean</th>\n",
       "      <td>5.400835e+05</td>\n",
       "      <td>3.369471</td>\n",
       "      <td>2.114774</td>\n",
       "      <td>2079.921016</td>\n",
       "      <td>1.510739e+04</td>\n",
       "      <td>1.494332</td>\n",
       "      <td>0.007542</td>\n",
       "      <td>0.234314</td>\n",
       "      <td>3.409356</td>\n",
       "      <td>7.656904</td>\n",
       "      <td>...</td>\n",
       "      <td>1986.582871</td>\n",
       "      <td>12768.828984</td>\n",
       "      <td>6.574449</td>\n",
       "      <td>15.687766</td>\n",
       "      <td>2014.322969</td>\n",
       "      <td>0.042291</td>\n",
       "      <td>7.550342</td>\n",
       "      <td>2.024224</td>\n",
       "      <td>13.047802</td>\n",
       "      <td>7.394898</td>\n",
       "    </tr>\n",
       "    <tr>\n",
       "      <th>std</th>\n",
       "      <td>3.671351e+05</td>\n",
       "      <td>0.907982</td>\n",
       "      <td>0.770177</td>\n",
       "      <td>918.456818</td>\n",
       "      <td>4.142142e+04</td>\n",
       "      <td>0.539991</td>\n",
       "      <td>0.086519</td>\n",
       "      <td>0.766334</td>\n",
       "      <td>0.650668</td>\n",
       "      <td>1.175477</td>\n",
       "      <td>...</td>\n",
       "      <td>685.392610</td>\n",
       "      <td>27304.756179</td>\n",
       "      <td>3.115377</td>\n",
       "      <td>8.635030</td>\n",
       "      <td>0.467622</td>\n",
       "      <td>0.201258</td>\n",
       "      <td>0.424815</td>\n",
       "      <td>0.150356</td>\n",
       "      <td>0.526692</td>\n",
       "      <td>0.427630</td>\n",
       "    </tr>\n",
       "    <tr>\n",
       "      <th>min</th>\n",
       "      <td>7.500000e+04</td>\n",
       "      <td>0.000000</td>\n",
       "      <td>0.000000</td>\n",
       "      <td>290.000000</td>\n",
       "      <td>5.200000e+02</td>\n",
       "      <td>1.000000</td>\n",
       "      <td>0.000000</td>\n",
       "      <td>0.000000</td>\n",
       "      <td>1.000000</td>\n",
       "      <td>1.000000</td>\n",
       "      <td>...</td>\n",
       "      <td>399.000000</td>\n",
       "      <td>651.000000</td>\n",
       "      <td>1.000000</td>\n",
       "      <td>1.000000</td>\n",
       "      <td>2014.000000</td>\n",
       "      <td>0.000000</td>\n",
       "      <td>5.669881</td>\n",
       "      <td>0.000000</td>\n",
       "      <td>11.225243</td>\n",
       "      <td>5.669881</td>\n",
       "    </tr>\n",
       "    <tr>\n",
       "      <th>25%</th>\n",
       "      <td>3.218375e+05</td>\n",
       "      <td>3.000000</td>\n",
       "      <td>1.750000</td>\n",
       "      <td>1426.500000</td>\n",
       "      <td>5.040000e+03</td>\n",
       "      <td>1.000000</td>\n",
       "      <td>0.000000</td>\n",
       "      <td>0.000000</td>\n",
       "      <td>3.000000</td>\n",
       "      <td>7.000000</td>\n",
       "      <td>...</td>\n",
       "      <td>1490.000000</td>\n",
       "      <td>5100.000000</td>\n",
       "      <td>4.000000</td>\n",
       "      <td>8.000000</td>\n",
       "      <td>2014.000000</td>\n",
       "      <td>0.000000</td>\n",
       "      <td>7.262979</td>\n",
       "      <td>1.945910</td>\n",
       "      <td>12.681802</td>\n",
       "      <td>7.081709</td>\n",
       "    </tr>\n",
       "    <tr>\n",
       "      <th>50%</th>\n",
       "      <td>4.500000e+05</td>\n",
       "      <td>3.000000</td>\n",
       "      <td>2.250000</td>\n",
       "      <td>1910.000000</td>\n",
       "      <td>7.619000e+03</td>\n",
       "      <td>1.500000</td>\n",
       "      <td>0.000000</td>\n",
       "      <td>0.000000</td>\n",
       "      <td>3.000000</td>\n",
       "      <td>7.000000</td>\n",
       "      <td>...</td>\n",
       "      <td>1840.000000</td>\n",
       "      <td>7620.000000</td>\n",
       "      <td>6.000000</td>\n",
       "      <td>16.000000</td>\n",
       "      <td>2014.000000</td>\n",
       "      <td>0.000000</td>\n",
       "      <td>7.554859</td>\n",
       "      <td>1.945910</td>\n",
       "      <td>13.017003</td>\n",
       "      <td>7.352441</td>\n",
       "    </tr>\n",
       "    <tr>\n",
       "      <th>75%</th>\n",
       "      <td>6.450000e+05</td>\n",
       "      <td>4.000000</td>\n",
       "      <td>2.500000</td>\n",
       "      <td>2550.000000</td>\n",
       "      <td>1.068825e+04</td>\n",
       "      <td>2.000000</td>\n",
       "      <td>0.000000</td>\n",
       "      <td>0.000000</td>\n",
       "      <td>4.000000</td>\n",
       "      <td>8.000000</td>\n",
       "      <td>...</td>\n",
       "      <td>2360.000000</td>\n",
       "      <td>10083.250000</td>\n",
       "      <td>9.000000</td>\n",
       "      <td>23.000000</td>\n",
       "      <td>2015.000000</td>\n",
       "      <td>0.000000</td>\n",
       "      <td>7.843849</td>\n",
       "      <td>2.079442</td>\n",
       "      <td>13.377006</td>\n",
       "      <td>7.700748</td>\n",
       "    </tr>\n",
       "    <tr>\n",
       "      <th>max</th>\n",
       "      <td>7.700000e+06</td>\n",
       "      <td>11.000000</td>\n",
       "      <td>8.000000</td>\n",
       "      <td>13540.000000</td>\n",
       "      <td>1.651359e+06</td>\n",
       "      <td>3.500000</td>\n",
       "      <td>1.000000</td>\n",
       "      <td>4.000000</td>\n",
       "      <td>5.000000</td>\n",
       "      <td>13.000000</td>\n",
       "      <td>...</td>\n",
       "      <td>6210.000000</td>\n",
       "      <td>871200.000000</td>\n",
       "      <td>12.000000</td>\n",
       "      <td>31.000000</td>\n",
       "      <td>2015.000000</td>\n",
       "      <td>1.000000</td>\n",
       "      <td>9.513404</td>\n",
       "      <td>2.564949</td>\n",
       "      <td>15.856731</td>\n",
       "      <td>9.149528</td>\n",
       "    </tr>\n",
       "  </tbody>\n",
       "</table>\n",
       "<p>8 rows × 26 columns</p>\n",
       "</div>"
      ],
      "text/plain": [
       "              price      bedrooms     bathrooms   sqft_living      sqft_lot  \\\n",
       "count  2.161200e+04  21612.000000  21612.000000  21612.000000  2.161200e+04   \n",
       "mean   5.400835e+05      3.369471      2.114774   2079.921016  1.510739e+04   \n",
       "std    3.671351e+05      0.907982      0.770177    918.456818  4.142142e+04   \n",
       "min    7.500000e+04      0.000000      0.000000    290.000000  5.200000e+02   \n",
       "25%    3.218375e+05      3.000000      1.750000   1426.500000  5.040000e+03   \n",
       "50%    4.500000e+05      3.000000      2.250000   1910.000000  7.619000e+03   \n",
       "75%    6.450000e+05      4.000000      2.500000   2550.000000  1.068825e+04   \n",
       "max    7.700000e+06     11.000000      8.000000  13540.000000  1.651359e+06   \n",
       "\n",
       "             floors    waterfront          view     condition         grade  \\\n",
       "count  21612.000000  21612.000000  21612.000000  21612.000000  21612.000000   \n",
       "mean       1.494332      0.007542      0.234314      3.409356      7.656904   \n",
       "std        0.539991      0.086519      0.766334      0.650668      1.175477   \n",
       "min        1.000000      0.000000      0.000000      1.000000      1.000000   \n",
       "25%        1.000000      0.000000      0.000000      3.000000      7.000000   \n",
       "50%        1.500000      0.000000      0.000000      3.000000      7.000000   \n",
       "75%        2.000000      0.000000      0.000000      4.000000      8.000000   \n",
       "max        3.500000      1.000000      4.000000      5.000000     13.000000   \n",
       "\n",
       "       ...  sqft_living15     sqft_lot15         month           day  \\\n",
       "count  ...   21612.000000   21612.000000  21612.000000  21612.000000   \n",
       "mean   ...    1986.582871   12768.828984      6.574449     15.687766   \n",
       "std    ...     685.392610   27304.756179      3.115377      8.635030   \n",
       "min    ...     399.000000     651.000000      1.000000      1.000000   \n",
       "25%    ...    1490.000000    5100.000000      4.000000      8.000000   \n",
       "50%    ...    1840.000000    7620.000000      6.000000     16.000000   \n",
       "75%    ...    2360.000000   10083.250000      9.000000     23.000000   \n",
       "max    ...    6210.000000  871200.000000     12.000000     31.000000   \n",
       "\n",
       "               year  if_renovated  log_sqft_living     log_grade  \\\n",
       "count  21612.000000  21612.000000     21612.000000  21612.000000   \n",
       "mean    2014.322969      0.042291         7.550342      2.024224   \n",
       "std        0.467622      0.201258         0.424815      0.150356   \n",
       "min     2014.000000      0.000000         5.669881      0.000000   \n",
       "25%     2014.000000      0.000000         7.262979      1.945910   \n",
       "50%     2014.000000      0.000000         7.554859      1.945910   \n",
       "75%     2015.000000      0.000000         7.843849      2.079442   \n",
       "max     2015.000000      1.000000         9.513404      2.564949   \n",
       "\n",
       "          log_price  log_sqft_above  \n",
       "count  21612.000000    21612.000000  \n",
       "mean      13.047802        7.394898  \n",
       "std        0.526692        0.427630  \n",
       "min       11.225243        5.669881  \n",
       "25%       12.681802        7.081709  \n",
       "50%       13.017003        7.352441  \n",
       "75%       13.377006        7.700748  \n",
       "max       15.856731        9.149528  \n",
       "\n",
       "[8 rows x 26 columns]"
      ]
     },
     "execution_count": 363,
     "metadata": {},
     "output_type": "execute_result"
    }
   ],
   "source": [
    "kc.describe()"
   ]
  },
  {
   "cell_type": "code",
   "execution_count": 364,
   "metadata": {},
   "outputs": [
    {
     "data": {
      "text/plain": [
       "(array([1.000e+00, 0.000e+00, 0.000e+00, 3.000e+00, 5.700e+01, 9.790e+02,\n",
       "        8.966e+03, 9.447e+03, 2.080e+03, 7.900e+01]),\n",
       " array([-3.24591401, -2.788575  , -2.33123598, -1.87389696, -1.41655795,\n",
       "        -0.95921893, -0.50187992, -0.0445409 ,  0.41279812,  0.87013713,\n",
       "         1.32747615]),\n",
       " <BarContainer object of 10 artists>)"
      ]
     },
     "execution_count": 364,
     "metadata": {},
     "output_type": "execute_result"
    },
    {
     "data": {
      "image/png": "[encoded data removed]",
      "text/plain": [
       "<Figure size 432x288 with 1 Axes>"
      ]
     },
     "metadata": {
      "needs_background": "light"
     },
     "output_type": "display_data"
    }
   ],
   "source": [
    "plt.hist(res['error'])\n",
    "#the model is almost a normal distribution"
   ]
  },
  {
   "cell_type": "code",
   "execution_count": 365,
   "metadata": {},
   "outputs": [
    {
     "data": {
      "text/plain": [
       "(array([6.300e+01, 5.330e+02, 3.977e+03, 7.183e+03, 6.344e+03, 2.541e+03,\n",
       "        7.330e+02, 1.930e+02, 3.800e+01, 7.000e+00]),\n",
       " array([11.22524339, 11.68839214, 12.15154089, 12.61468964, 13.07783839,\n",
       "        13.54098714, 14.00413589, 14.46728464, 14.93043339, 15.39358214,\n",
       "        15.85673089]),\n",
       " <BarContainer object of 10 artists>)"
      ]
     },
     "execution_count": 365,
     "metadata": {},
     "output_type": "execute_result"
    },
    {
     "data": {
      "image/png": "[encoded data removed]",
      "text/plain": [
       "<Figure size 432x288 with 1 Axes>"
      ]
     },
     "metadata": {
      "needs_background": "light"
     },
     "output_type": "display_data"
    }
   ],
   "source": [
    "plt.hist(kc['log_price'])"
   ]
  },
  {
   "cell_type": "code",
   "execution_count": 366,
   "metadata": {},
   "outputs": [
    {
     "data": {
      "text/plain": [
       "<matplotlib.collections.PathCollection at 0x7fa147e65d30>"
      ]
     },
     "execution_count": 366,
     "metadata": {},
     "output_type": "execute_result"
    },
    {
     "data": {
      "image/png": "[encoded data removed]",
      "text/plain": [
       "<Figure size 432x288 with 1 Axes>"
      ]
     },
     "metadata": {
      "needs_background": "light"
     },
     "output_type": "display_data"
    }
   ],
   "source": [
    "plt.scatter(kc['bathrooms'],res['error'])\n",
    "# we can find that the points are around value 0, thus a good prediction."
   ]
  },
  {
   "cell_type": "code",
   "execution_count": 367,
   "metadata": {},
   "outputs": [
    {
     "data": {
      "text/plain": [
       "<matplotlib.collections.PathCollection at 0x7fa147f0e5e0>"
      ]
     },
     "execution_count": 367,
     "metadata": {},
     "output_type": "execute_result"
    },
    {
     "data": {
      "image/png": "[encoded data removed]",
      "text/plain": [
       "<Figure size 432x288 with 1 Axes>"
      ]
     },
     "metadata": {
      "needs_background": "light"
     },
     "output_type": "display_data"
    }
   ],
   "source": [
    "plt.scatter(kc['log_sqft_living'],res['error'])\n",
    "# we can find that the points are around value 0, thus a good prediction."
   ]
  },
  {
   "cell_type": "code",
   "execution_count": 368,
   "metadata": {},
   "outputs": [
    {
     "data": {
      "text/plain": [
       "<matplotlib.collections.PathCollection at 0x7fa145d4ce50>"
      ]
     },
     "execution_count": 368,
     "metadata": {},
     "output_type": "execute_result"
    },
    {
     "data": {
      "image/png": "[encoded data removed]",
      "text/plain": [
       "<Figure size 432x288 with 1 Axes>"
      ]
     },
     "metadata": {
      "needs_background": "light"
     },
     "output_type": "display_data"
    }
   ],
   "source": [
    "plt.scatter(kc['log_grade'],res['error'])\n",
    "# we can find that the most of the points are around value 0, thus a good prediction."
   ]
  },
  {
   "cell_type": "code",
   "execution_count": 370,
   "metadata": {},
   "outputs": [
    {
     "data": {
      "text/plain": [
       "((array([-3.99702463, -3.78180084, -3.66407141, ...,  3.66407141,\n",
       "          3.78180084,  3.99702463]),\n",
       "  array([-3.24591401, -1.64225598, -1.44801913, ...,  1.20969698,\n",
       "          1.26396137,  1.32747615])),\n",
       " (0.3163917729660636, 1.263894439404241e-13, 0.9976765319758752))"
      ]
     },
     "execution_count": 370,
     "metadata": {},
     "output_type": "execute_result"
    },
    {
     "data": {
      "image/png": "[encoded data removed]",
      "text/plain": [
       "<Figure size 432x288 with 1 Axes>"
      ]
     },
     "metadata": {
      "needs_background": "light"
     },
     "output_type": "display_data"
    }
   ],
   "source": [
    "import scipy.stats as stats\n",
    "fig = plt.figure()\n",
    "ax = fig.add_subplot(111)\n",
    "stats.probplot(res['error'], dist='norm', plot=ax)\n",
    "#qq plot: the line indicates that the regression has a normal distribution."
   ]
  },
  {
   "cell_type": "code",
   "execution_count": 371,
   "metadata": {},
   "outputs": [
    {
     "name": "stdout",
     "output_type": "stream",
     "text": [
      "       dfb_Intercept  dfb_bathrooms  dfb_bedrooms  dfb_log_sqft_living  \\\n",
      "0          -0.002287       0.008550     -0.005408             0.004557   \n",
      "1           0.000769       0.000278     -0.001681             0.002264   \n",
      "2          -0.010245      -0.003790      0.001710             0.007767   \n",
      "3           0.000831       0.011120      0.001412            -0.004277   \n",
      "4          -0.000752      -0.000732     -0.000265            -0.001426   \n",
      "...              ...            ...           ...                  ...   \n",
      "21608       0.000897      -0.001415     -0.000048             0.002391   \n",
      "21609       0.001810       0.000555     -0.000902            -0.000098   \n",
      "21610      -0.025077      -0.023427     -0.002359            -0.002016   \n",
      "21611       0.000203      -0.000456      0.000057             0.000660   \n",
      "21612      -0.015064      -0.014251     -0.001474            -0.001264   \n",
      "\n",
      "       dfb_log_grade  dfb_waterfront  dfb_view  dfb_condition  dfb_yr_built  \\\n",
      "0          -0.005877       -0.000438  0.000196       0.006247      0.001301   \n",
      "1          -0.001725       -0.000023 -0.000637      -0.001170     -0.001126   \n",
      "2          -0.000611        0.000134 -0.000415       0.006801      0.007093   \n",
      "3          -0.004617        0.000217 -0.002001       0.014001      0.000563   \n",
      "4           0.002314        0.000128 -0.000745      -0.001269      0.000963   \n",
      "...              ...             ...       ...            ...           ...   \n",
      "21608      -0.001072       -0.000054  0.000143       0.000124     -0.001600   \n",
      "21609       0.000367       -0.000099  0.000144       0.000198     -0.001928   \n",
      "21610       0.004452        0.000084  0.004525       0.000666      0.027074   \n",
      "21611      -0.000312       -0.000016  0.000084       0.000090     -0.000396   \n",
      "21612       0.002805        0.000052  0.002717       0.000305      0.016274   \n",
      "\n",
      "            cooks_d  standard_resid  hat_diag  dffits_internal  student_resid  \\\n",
      "0      3.261954e-05       -1.171502  0.000214        -0.017134      -1.171512   \n",
      "1      1.116192e-06        0.166209  0.000364         0.003169       0.166205   \n",
      "2      3.690787e-05       -0.990473  0.000338        -0.018226      -0.990473   \n",
      "3      4.395482e-05        0.834432  0.000568         0.019890       0.834426   \n",
      "4      2.855145e-06        0.490930  0.000107         0.005069       0.490921   \n",
      "...             ...             ...       ...              ...            ...   \n",
      "21608  1.925018e-06       -0.281419  0.000219        -0.004162      -0.281413   \n",
      "21609  8.752438e-07       -0.210172  0.000178        -0.002807      -0.210168   \n",
      "21610  1.802096e-04        1.782061  0.000510         0.040273       1.782150   \n",
      "21611  1.703382e-07       -0.092055  0.000181        -0.001238      -0.092053   \n",
      "21612  6.657064e-05        1.092845  0.000501         0.024477       1.092849   \n",
      "\n",
      "         dffits  \n",
      "0     -0.017134  \n",
      "1      0.003169  \n",
      "2     -0.018226  \n",
      "3      0.019889  \n",
      "4      0.005069  \n",
      "...         ...  \n",
      "21608 -0.004162  \n",
      "21609 -0.002807  \n",
      "21610  0.040275  \n",
      "21611 -0.001238  \n",
      "21612  0.024477  \n",
      "\n",
      "[21612 rows x 15 columns]\n"
     ]
    }
   ],
   "source": [
    "infl = results_log.get_influence()\n",
    "print(infl.summary_frame())"
   ]
  },
  {
   "cell_type": "code",
   "execution_count": 372,
   "metadata": {},
   "outputs": [
    {
     "data": {
      "text/html": [
       "<div>\n",
       "<style scoped>\n",
       "    .dataframe tbody tr th:only-of-type {\n",
       "        vertical-align: middle;\n",
       "    }\n",
       "\n",
       "    .dataframe tbody tr th {\n",
       "        vertical-align: top;\n",
       "    }\n",
       "\n",
       "    .dataframe thead th {\n",
       "        text-align: right;\n",
       "    }\n",
       "</style>\n",
       "<table border=\"1\" class=\"dataframe\">\n",
       "  <thead>\n",
       "    <tr style=\"text-align: right;\">\n",
       "      <th></th>\n",
       "      <th>dfb_Intercept</th>\n",
       "      <th>dfb_bathrooms</th>\n",
       "      <th>dfb_bedrooms</th>\n",
       "      <th>dfb_log_sqft_living</th>\n",
       "      <th>dfb_log_grade</th>\n",
       "      <th>dfb_waterfront</th>\n",
       "      <th>dfb_view</th>\n",
       "      <th>dfb_condition</th>\n",
       "      <th>dfb_yr_built</th>\n",
       "      <th>cooks_d</th>\n",
       "      <th>standard_resid</th>\n",
       "      <th>hat_diag</th>\n",
       "      <th>dffits_internal</th>\n",
       "      <th>student_resid</th>\n",
       "      <th>dffits</th>\n",
       "    </tr>\n",
       "  </thead>\n",
       "  <tbody>\n",
       "    <tr>\n",
       "      <th>0</th>\n",
       "      <td>-0.002287</td>\n",
       "      <td>0.008550</td>\n",
       "      <td>-0.005408</td>\n",
       "      <td>0.004557</td>\n",
       "      <td>-0.005877</td>\n",
       "      <td>-0.000438</td>\n",
       "      <td>0.000196</td>\n",
       "      <td>0.006247</td>\n",
       "      <td>0.001301</td>\n",
       "      <td>3.261954e-05</td>\n",
       "      <td>-1.171502</td>\n",
       "      <td>0.000214</td>\n",
       "      <td>-0.017134</td>\n",
       "      <td>-1.171512</td>\n",
       "      <td>-0.017134</td>\n",
       "    </tr>\n",
       "    <tr>\n",
       "      <th>1</th>\n",
       "      <td>0.000769</td>\n",
       "      <td>0.000278</td>\n",
       "      <td>-0.001681</td>\n",
       "      <td>0.002264</td>\n",
       "      <td>-0.001725</td>\n",
       "      <td>-0.000023</td>\n",
       "      <td>-0.000637</td>\n",
       "      <td>-0.001170</td>\n",
       "      <td>-0.001126</td>\n",
       "      <td>1.116192e-06</td>\n",
       "      <td>0.166209</td>\n",
       "      <td>0.000364</td>\n",
       "      <td>0.003169</td>\n",
       "      <td>0.166205</td>\n",
       "      <td>0.003169</td>\n",
       "    </tr>\n",
       "    <tr>\n",
       "      <th>2</th>\n",
       "      <td>-0.010245</td>\n",
       "      <td>-0.003790</td>\n",
       "      <td>0.001710</td>\n",
       "      <td>0.007767</td>\n",
       "      <td>-0.000611</td>\n",
       "      <td>0.000134</td>\n",
       "      <td>-0.000415</td>\n",
       "      <td>0.006801</td>\n",
       "      <td>0.007093</td>\n",
       "      <td>3.690787e-05</td>\n",
       "      <td>-0.990473</td>\n",
       "      <td>0.000338</td>\n",
       "      <td>-0.018226</td>\n",
       "      <td>-0.990473</td>\n",
       "      <td>-0.018226</td>\n",
       "    </tr>\n",
       "    <tr>\n",
       "      <th>3</th>\n",
       "      <td>0.000831</td>\n",
       "      <td>0.011120</td>\n",
       "      <td>0.001412</td>\n",
       "      <td>-0.004277</td>\n",
       "      <td>-0.004617</td>\n",
       "      <td>0.000217</td>\n",
       "      <td>-0.002001</td>\n",
       "      <td>0.014001</td>\n",
       "      <td>0.000563</td>\n",
       "      <td>4.395482e-05</td>\n",
       "      <td>0.834432</td>\n",
       "      <td>0.000568</td>\n",
       "      <td>0.019890</td>\n",
       "      <td>0.834426</td>\n",
       "      <td>0.019889</td>\n",
       "    </tr>\n",
       "    <tr>\n",
       "      <th>4</th>\n",
       "      <td>-0.000752</td>\n",
       "      <td>-0.000732</td>\n",
       "      <td>-0.000265</td>\n",
       "      <td>-0.001426</td>\n",
       "      <td>0.002314</td>\n",
       "      <td>0.000128</td>\n",
       "      <td>-0.000745</td>\n",
       "      <td>-0.001269</td>\n",
       "      <td>0.000963</td>\n",
       "      <td>2.855145e-06</td>\n",
       "      <td>0.490930</td>\n",
       "      <td>0.000107</td>\n",
       "      <td>0.005069</td>\n",
       "      <td>0.490921</td>\n",
       "      <td>0.005069</td>\n",
       "    </tr>\n",
       "    <tr>\n",
       "      <th>...</th>\n",
       "      <td>...</td>\n",
       "      <td>...</td>\n",
       "      <td>...</td>\n",
       "      <td>...</td>\n",
       "      <td>...</td>\n",
       "      <td>...</td>\n",
       "      <td>...</td>\n",
       "      <td>...</td>\n",
       "      <td>...</td>\n",
       "      <td>...</td>\n",
       "      <td>...</td>\n",
       "      <td>...</td>\n",
       "      <td>...</td>\n",
       "      <td>...</td>\n",
       "      <td>...</td>\n",
       "    </tr>\n",
       "    <tr>\n",
       "      <th>21608</th>\n",
       "      <td>0.000897</td>\n",
       "      <td>-0.001415</td>\n",
       "      <td>-0.000048</td>\n",
       "      <td>0.002391</td>\n",
       "      <td>-0.001072</td>\n",
       "      <td>-0.000054</td>\n",
       "      <td>0.000143</td>\n",
       "      <td>0.000124</td>\n",
       "      <td>-0.001600</td>\n",
       "      <td>1.925018e-06</td>\n",
       "      <td>-0.281419</td>\n",
       "      <td>0.000219</td>\n",
       "      <td>-0.004162</td>\n",
       "      <td>-0.281413</td>\n",
       "      <td>-0.004162</td>\n",
       "    </tr>\n",
       "    <tr>\n",
       "      <th>21609</th>\n",
       "      <td>0.001810</td>\n",
       "      <td>0.000555</td>\n",
       "      <td>-0.000902</td>\n",
       "      <td>-0.000098</td>\n",
       "      <td>0.000367</td>\n",
       "      <td>-0.000099</td>\n",
       "      <td>0.000144</td>\n",
       "      <td>0.000198</td>\n",
       "      <td>-0.001928</td>\n",
       "      <td>8.752438e-07</td>\n",
       "      <td>-0.210172</td>\n",
       "      <td>0.000178</td>\n",
       "      <td>-0.002807</td>\n",
       "      <td>-0.210168</td>\n",
       "      <td>-0.002807</td>\n",
       "    </tr>\n",
       "    <tr>\n",
       "      <th>21610</th>\n",
       "      <td>-0.025077</td>\n",
       "      <td>-0.023427</td>\n",
       "      <td>-0.002359</td>\n",
       "      <td>-0.002016</td>\n",
       "      <td>0.004452</td>\n",
       "      <td>0.000084</td>\n",
       "      <td>0.004525</td>\n",
       "      <td>0.000666</td>\n",
       "      <td>0.027074</td>\n",
       "      <td>1.802096e-04</td>\n",
       "      <td>1.782061</td>\n",
       "      <td>0.000510</td>\n",
       "      <td>0.040273</td>\n",
       "      <td>1.782150</td>\n",
       "      <td>0.040275</td>\n",
       "    </tr>\n",
       "    <tr>\n",
       "      <th>21611</th>\n",
       "      <td>0.000203</td>\n",
       "      <td>-0.000456</td>\n",
       "      <td>0.000057</td>\n",
       "      <td>0.000660</td>\n",
       "      <td>-0.000312</td>\n",
       "      <td>-0.000016</td>\n",
       "      <td>0.000084</td>\n",
       "      <td>0.000090</td>\n",
       "      <td>-0.000396</td>\n",
       "      <td>1.703382e-07</td>\n",
       "      <td>-0.092055</td>\n",
       "      <td>0.000181</td>\n",
       "      <td>-0.001238</td>\n",
       "      <td>-0.092053</td>\n",
       "      <td>-0.001238</td>\n",
       "    </tr>\n",
       "    <tr>\n",
       "      <th>21612</th>\n",
       "      <td>-0.015064</td>\n",
       "      <td>-0.014251</td>\n",
       "      <td>-0.001474</td>\n",
       "      <td>-0.001264</td>\n",
       "      <td>0.002805</td>\n",
       "      <td>0.000052</td>\n",
       "      <td>0.002717</td>\n",
       "      <td>0.000305</td>\n",
       "      <td>0.016274</td>\n",
       "      <td>6.657064e-05</td>\n",
       "      <td>1.092845</td>\n",
       "      <td>0.000501</td>\n",
       "      <td>0.024477</td>\n",
       "      <td>1.092849</td>\n",
       "      <td>0.024477</td>\n",
       "    </tr>\n",
       "  </tbody>\n",
       "</table>\n",
       "<p>21612 rows × 15 columns</p>\n",
       "</div>"
      ],
      "text/plain": [
       "       dfb_Intercept  dfb_bathrooms  dfb_bedrooms  dfb_log_sqft_living  \\\n",
       "0          -0.002287       0.008550     -0.005408             0.004557   \n",
       "1           0.000769       0.000278     -0.001681             0.002264   \n",
       "2          -0.010245      -0.003790      0.001710             0.007767   \n",
       "3           0.000831       0.011120      0.001412            -0.004277   \n",
       "4          -0.000752      -0.000732     -0.000265            -0.001426   \n",
       "...              ...            ...           ...                  ...   \n",
       "21608       0.000897      -0.001415     -0.000048             0.002391   \n",
       "21609       0.001810       0.000555     -0.000902            -0.000098   \n",
       "21610      -0.025077      -0.023427     -0.002359            -0.002016   \n",
       "21611       0.000203      -0.000456      0.000057             0.000660   \n",
       "21612      -0.015064      -0.014251     -0.001474            -0.001264   \n",
       "\n",
       "       dfb_log_grade  dfb_waterfront  dfb_view  dfb_condition  dfb_yr_built  \\\n",
       "0          -0.005877       -0.000438  0.000196       0.006247      0.001301   \n",
       "1          -0.001725       -0.000023 -0.000637      -0.001170     -0.001126   \n",
       "2          -0.000611        0.000134 -0.000415       0.006801      0.007093   \n",
       "3          -0.004617        0.000217 -0.002001       0.014001      0.000563   \n",
       "4           0.002314        0.000128 -0.000745      -0.001269      0.000963   \n",
       "...              ...             ...       ...            ...           ...   \n",
       "21608      -0.001072       -0.000054  0.000143       0.000124     -0.001600   \n",
       "21609       0.000367       -0.000099  0.000144       0.000198     -0.001928   \n",
       "21610       0.004452        0.000084  0.004525       0.000666      0.027074   \n",
       "21611      -0.000312       -0.000016  0.000084       0.000090     -0.000396   \n",
       "21612       0.002805        0.000052  0.002717       0.000305      0.016274   \n",
       "\n",
       "            cooks_d  standard_resid  hat_diag  dffits_internal  student_resid  \\\n",
       "0      3.261954e-05       -1.171502  0.000214        -0.017134      -1.171512   \n",
       "1      1.116192e-06        0.166209  0.000364         0.003169       0.166205   \n",
       "2      3.690787e-05       -0.990473  0.000338        -0.018226      -0.990473   \n",
       "3      4.395482e-05        0.834432  0.000568         0.019890       0.834426   \n",
       "4      2.855145e-06        0.490930  0.000107         0.005069       0.490921   \n",
       "...             ...             ...       ...              ...            ...   \n",
       "21608  1.925018e-06       -0.281419  0.000219        -0.004162      -0.281413   \n",
       "21609  8.752438e-07       -0.210172  0.000178        -0.002807      -0.210168   \n",
       "21610  1.802096e-04        1.782061  0.000510         0.040273       1.782150   \n",
       "21611  1.703382e-07       -0.092055  0.000181        -0.001238      -0.092053   \n",
       "21612  6.657064e-05        1.092845  0.000501         0.024477       1.092849   \n",
       "\n",
       "         dffits  \n",
       "0     -0.017134  \n",
       "1      0.003169  \n",
       "2     -0.018226  \n",
       "3      0.019889  \n",
       "4      0.005069  \n",
       "...         ...  \n",
       "21608 -0.004162  \n",
       "21609 -0.002807  \n",
       "21610  0.040275  \n",
       "21611 -0.001238  \n",
       "21612  0.024477  \n",
       "\n",
       "[21612 rows x 15 columns]"
      ]
     },
     "execution_count": 372,
     "metadata": {},
     "output_type": "execute_result"
    }
   ],
   "source": [
    "infl.summary_frame()"
   ]
  },
  {
   "cell_type": "code",
   "execution_count": 373,
   "metadata": {},
   "outputs": [
    {
     "data": {
      "image/png": "[encoded data removed]",
      "text/plain": [
       "<Figure size 864x576 with 1 Axes>"
      ]
     },
     "metadata": {
      "needs_background": "light"
     },
     "output_type": "display_data"
    }
   ],
   "source": [
    "fig, ax = plt.subplots(figsize=(12,8))\n",
    "fig = sm.graphics.influence_plot(results_log, ax=ax, criterion='cooks')\n",
    "# We can find that there is one influence spot located at the top right cornor, which indicates\n",
    "# that we need to remove this outlier with index = 19452."
   ]
  },
  {
   "cell_type": "code",
   "execution_count": 374,
   "metadata": {},
   "outputs": [],
   "source": [
    "filtered_kc = kc.drop(19452, axis=0)"
   ]
  },
  {
   "cell_type": "code",
   "execution_count": 375,
   "metadata": {},
   "outputs": [],
   "source": [
    "results_log_2 = ols(\"log_price ~ bathrooms + log_sqft_living + log_grade+ log_sqft_above\", data=filtered_kc).fit()"
   ]
  },
  {
   "cell_type": "code",
   "execution_count": 376,
   "metadata": {},
   "outputs": [
    {
     "data": {
      "image/png": "[encoded data removed]",
      "text/plain": [
       "<Figure size 864x576 with 1 Axes>"
      ]
     },
     "metadata": {
      "needs_background": "light"
     },
     "output_type": "display_data"
    }
   ],
   "source": [
    "fig, ax = plt.subplots(figsize=(12,8))\n",
    "fig = sm.graphics.influence_plot(results_log_2, ax=ax, criterion='cooks')"
   ]
  },
  {
   "cell_type": "code",
   "execution_count": 377,
   "metadata": {},
   "outputs": [
    {
     "name": "stdout",
     "output_type": "stream",
     "text": [
      "Requirement already satisfied: scikit-learn in /Users/frieda/opt/anaconda3/lib/python3.8/site-packages (0.24.1)\n",
      "Requirement already satisfied: scipy>=0.19.1 in /Users/frieda/opt/anaconda3/lib/python3.8/site-packages (from scikit-learn) (1.6.2)\n",
      "Requirement already satisfied: joblib>=0.11 in /Users/frieda/opt/anaconda3/lib/python3.8/site-packages (from scikit-learn) (1.0.1)\n",
      "Requirement already satisfied: threadpoolctl>=2.0.0 in /Users/frieda/opt/anaconda3/lib/python3.8/site-packages (from scikit-learn) (2.1.0)\n",
      "Requirement already satisfied: numpy>=1.13.3 in /Users/frieda/opt/anaconda3/lib/python3.8/site-packages (from scikit-learn) (1.20.1)\n",
      "Note: you may need to restart the kernel to use updated packages.\n"
     ]
    }
   ],
   "source": [
    "pip install scikit-learn"
   ]
  },
  {
   "cell_type": "code",
   "execution_count": 378,
   "metadata": {},
   "outputs": [],
   "source": [
    "from sklearn.model_selection import train_test_split\n",
    "from sklearn.pipeline import Pipeline\n",
    "from sklearn.compose import ColumnTransformer\n",
    "from sklearn.preprocessing import OneHotEncoder, MinMaxScaler, StandardScaler\n",
    "from sklearn.linear_model import LinearRegression, ElasticNet, Ridge, Lasso"
   ]
  },
  {
   "cell_type": "code",
   "execution_count": 379,
   "metadata": {},
   "outputs": [
    {
     "data": {
      "text/html": [
       "<div>\n",
       "<style scoped>\n",
       "    .dataframe tbody tr th:only-of-type {\n",
       "        vertical-align: middle;\n",
       "    }\n",
       "\n",
       "    .dataframe tbody tr th {\n",
       "        vertical-align: top;\n",
       "    }\n",
       "\n",
       "    .dataframe thead th {\n",
       "        text-align: right;\n",
       "    }\n",
       "</style>\n",
       "<table border=\"1\" class=\"dataframe\">\n",
       "  <thead>\n",
       "    <tr style=\"text-align: right;\">\n",
       "      <th></th>\n",
       "      <th>date</th>\n",
       "      <th>price</th>\n",
       "      <th>bedrooms</th>\n",
       "      <th>bathrooms</th>\n",
       "      <th>sqft_living</th>\n",
       "      <th>sqft_lot</th>\n",
       "      <th>floors</th>\n",
       "      <th>waterfront</th>\n",
       "      <th>view</th>\n",
       "      <th>condition</th>\n",
       "      <th>...</th>\n",
       "      <th>sqft_living15</th>\n",
       "      <th>sqft_lot15</th>\n",
       "      <th>month</th>\n",
       "      <th>day</th>\n",
       "      <th>year</th>\n",
       "      <th>if_renovated</th>\n",
       "      <th>log_sqft_living</th>\n",
       "      <th>log_grade</th>\n",
       "      <th>log_price</th>\n",
       "      <th>log_sqft_above</th>\n",
       "    </tr>\n",
       "  </thead>\n",
       "  <tbody>\n",
       "    <tr>\n",
       "      <th>0</th>\n",
       "      <td>2014-10-13</td>\n",
       "      <td>221900.0</td>\n",
       "      <td>3</td>\n",
       "      <td>1.00</td>\n",
       "      <td>1180</td>\n",
       "      <td>5650</td>\n",
       "      <td>1.0</td>\n",
       "      <td>0</td>\n",
       "      <td>0</td>\n",
       "      <td>3</td>\n",
       "      <td>...</td>\n",
       "      <td>1340</td>\n",
       "      <td>5650</td>\n",
       "      <td>10</td>\n",
       "      <td>13</td>\n",
       "      <td>2014</td>\n",
       "      <td>0</td>\n",
       "      <td>7.073270</td>\n",
       "      <td>1.945910</td>\n",
       "      <td>12.309982</td>\n",
       "      <td>7.073270</td>\n",
       "    </tr>\n",
       "    <tr>\n",
       "      <th>1</th>\n",
       "      <td>2014-12-09</td>\n",
       "      <td>538000.0</td>\n",
       "      <td>3</td>\n",
       "      <td>2.25</td>\n",
       "      <td>2570</td>\n",
       "      <td>7242</td>\n",
       "      <td>2.0</td>\n",
       "      <td>0</td>\n",
       "      <td>0</td>\n",
       "      <td>3</td>\n",
       "      <td>...</td>\n",
       "      <td>1690</td>\n",
       "      <td>7639</td>\n",
       "      <td>12</td>\n",
       "      <td>9</td>\n",
       "      <td>2014</td>\n",
       "      <td>1</td>\n",
       "      <td>7.851661</td>\n",
       "      <td>1.945910</td>\n",
       "      <td>13.195614</td>\n",
       "      <td>7.682482</td>\n",
       "    </tr>\n",
       "    <tr>\n",
       "      <th>2</th>\n",
       "      <td>2015-02-25</td>\n",
       "      <td>180000.0</td>\n",
       "      <td>2</td>\n",
       "      <td>1.00</td>\n",
       "      <td>770</td>\n",
       "      <td>10000</td>\n",
       "      <td>1.0</td>\n",
       "      <td>0</td>\n",
       "      <td>0</td>\n",
       "      <td>3</td>\n",
       "      <td>...</td>\n",
       "      <td>2720</td>\n",
       "      <td>8062</td>\n",
       "      <td>2</td>\n",
       "      <td>25</td>\n",
       "      <td>2015</td>\n",
       "      <td>0</td>\n",
       "      <td>6.646391</td>\n",
       "      <td>1.791759</td>\n",
       "      <td>12.100712</td>\n",
       "      <td>6.646391</td>\n",
       "    </tr>\n",
       "    <tr>\n",
       "      <th>3</th>\n",
       "      <td>2014-12-09</td>\n",
       "      <td>604000.0</td>\n",
       "      <td>4</td>\n",
       "      <td>3.00</td>\n",
       "      <td>1960</td>\n",
       "      <td>5000</td>\n",
       "      <td>1.0</td>\n",
       "      <td>0</td>\n",
       "      <td>0</td>\n",
       "      <td>5</td>\n",
       "      <td>...</td>\n",
       "      <td>1360</td>\n",
       "      <td>5000</td>\n",
       "      <td>12</td>\n",
       "      <td>9</td>\n",
       "      <td>2014</td>\n",
       "      <td>0</td>\n",
       "      <td>7.580700</td>\n",
       "      <td>1.945910</td>\n",
       "      <td>13.311329</td>\n",
       "      <td>6.956545</td>\n",
       "    </tr>\n",
       "    <tr>\n",
       "      <th>4</th>\n",
       "      <td>2015-02-18</td>\n",
       "      <td>510000.0</td>\n",
       "      <td>3</td>\n",
       "      <td>2.00</td>\n",
       "      <td>1680</td>\n",
       "      <td>8080</td>\n",
       "      <td>1.0</td>\n",
       "      <td>0</td>\n",
       "      <td>0</td>\n",
       "      <td>3</td>\n",
       "      <td>...</td>\n",
       "      <td>1800</td>\n",
       "      <td>7503</td>\n",
       "      <td>2</td>\n",
       "      <td>18</td>\n",
       "      <td>2015</td>\n",
       "      <td>0</td>\n",
       "      <td>7.426549</td>\n",
       "      <td>2.079442</td>\n",
       "      <td>13.142166</td>\n",
       "      <td>7.426549</td>\n",
       "    </tr>\n",
       "  </tbody>\n",
       "</table>\n",
       "<p>5 rows × 27 columns</p>\n",
       "</div>"
      ],
      "text/plain": [
       "        date     price  bedrooms  bathrooms  sqft_living  sqft_lot  floors  \\\n",
       "0 2014-10-13  221900.0         3       1.00         1180      5650     1.0   \n",
       "1 2014-12-09  538000.0         3       2.25         2570      7242     2.0   \n",
       "2 2015-02-25  180000.0         2       1.00          770     10000     1.0   \n",
       "3 2014-12-09  604000.0         4       3.00         1960      5000     1.0   \n",
       "4 2015-02-18  510000.0         3       2.00         1680      8080     1.0   \n",
       "\n",
       "   waterfront  view  condition  ...  sqft_living15  sqft_lot15  month  day  \\\n",
       "0           0     0          3  ...           1340        5650     10   13   \n",
       "1           0     0          3  ...           1690        7639     12    9   \n",
       "2           0     0          3  ...           2720        8062      2   25   \n",
       "3           0     0          5  ...           1360        5000     12    9   \n",
       "4           0     0          3  ...           1800        7503      2   18   \n",
       "\n",
       "   year  if_renovated  log_sqft_living  log_grade  log_price  log_sqft_above  \n",
       "0  2014             0         7.073270   1.945910  12.309982        7.073270  \n",
       "1  2014             1         7.851661   1.945910  13.195614        7.682482  \n",
       "2  2015             0         6.646391   1.791759  12.100712        6.646391  \n",
       "3  2014             0         7.580700   1.945910  13.311329        6.956545  \n",
       "4  2015             0         7.426549   2.079442  13.142166        7.426549  \n",
       "\n",
       "[5 rows x 27 columns]"
      ]
     },
     "execution_count": 379,
     "metadata": {},
     "output_type": "execute_result"
    }
   ],
   "source": [
    "filtered_kc.head()"
   ]
  },
  {
   "cell_type": "code",
   "execution_count": 380,
   "metadata": {},
   "outputs": [],
   "source": [
    "# separate features and target\n",
    "categorical_features = ['waterfront','view', 'condition']\n",
    "numerical_features = ['log_sqft_living','log_grade', 'bedrooms','bathrooms','yr_built']\n",
    "target = 'log_price'"
   ]
  },
  {
   "cell_type": "code",
   "execution_count": 381,
   "metadata": {},
   "outputs": [],
   "source": [
    "# split data in train / test\n",
    "X_train, X_test, y_train, y_test = train_test_split(filtered_kc[categorical_features + numerical_features]\n",
    "                                                    ,filtered_kc[target],\n",
    "                                                    test_size = 0.3, random_state=1234)"
   ]
  },
  {
   "cell_type": "code",
   "execution_count": 382,
   "metadata": {},
   "outputs": [],
   "source": [
    "# define transformers\n",
    "cat_transformer = Pipeline(steps = [('onehot', OneHotEncoder(handle_unknown='ignore'))])\n",
    "num_transformer = Pipeline(steps = [('scaler', StandardScaler())])"
   ]
  },
  {
   "cell_type": "code",
   "execution_count": 383,
   "metadata": {},
   "outputs": [],
   "source": [
    "# building processor\n",
    "preprocessor = ColumnTransformer(transformers = [('cat',cat_transformer, categorical_features),\n",
    "                                                 ('num', num_transformer, numerical_features)])"
   ]
  },
  {
   "cell_type": "code",
   "execution_count": 384,
   "metadata": {},
   "outputs": [],
   "source": [
    "linear_regression = Pipeline(steps = [\n",
    "    ('preprocessor', preprocessor),\n",
    "    ('regressor', LinearRegression())\n",
    "])"
   ]
  },
  {
   "cell_type": "code",
   "execution_count": 385,
   "metadata": {},
   "outputs": [
    {
     "data": {
      "text/plain": [
       "Pipeline(steps=[('preprocessor',\n",
       "                 ColumnTransformer(transformers=[('cat',\n",
       "                                                  Pipeline(steps=[('onehot',\n",
       "                                                                   OneHotEncoder(handle_unknown='ignore'))]),\n",
       "                                                  ['waterfront', 'view',\n",
       "                                                   'condition']),\n",
       "                                                 ('num',\n",
       "                                                  Pipeline(steps=[('scaler',\n",
       "                                                                   StandardScaler())]),\n",
       "                                                  ['log_sqft_living',\n",
       "                                                   'log_grade', 'bedrooms',\n",
       "                                                   'bathrooms',\n",
       "                                                   'yr_built'])])),\n",
       "                ('regressor', LinearRegression())])"
      ]
     },
     "execution_count": 385,
     "metadata": {},
     "output_type": "execute_result"
    }
   ],
   "source": [
    "linear_regression.fit(X_train, y_train)"
   ]
  },
  {
   "cell_type": "code",
   "execution_count": 386,
   "metadata": {},
   "outputs": [],
   "source": [
    "pred2 = linear_regression.predict(X_test)"
   ]
  },
  {
   "cell_type": "code",
   "execution_count": 387,
   "metadata": {},
   "outputs": [
    {
     "data": {
      "text/plain": [
       "array([13.29037476, 13.16362   , 13.04930115, ..., 13.07194519,\n",
       "       13.36645508, 12.8445282 ])"
      ]
     },
     "execution_count": 387,
     "metadata": {},
     "output_type": "execute_result"
    }
   ],
   "source": [
    "pred2"
   ]
  },
  {
   "cell_type": "code",
   "execution_count": 388,
   "metadata": {},
   "outputs": [],
   "source": [
    "from sklearn.metrics import mean_squared_error"
   ]
  },
  {
   "cell_type": "code",
   "execution_count": 389,
   "metadata": {},
   "outputs": [
    {
     "data": {
      "text/plain": [
       "0.3132930543837229"
      ]
     },
     "execution_count": 389,
     "metadata": {},
     "output_type": "execute_result"
    }
   ],
   "source": [
    "np.sqrt(mean_squared_error(pred2,y_test))"
   ]
  },
  {
   "cell_type": "code",
   "execution_count": 390,
   "metadata": {},
   "outputs": [],
   "source": [
    "ridge_regression = Pipeline(steps = [\n",
    "    ('preprocessor', preprocessor),\n",
    "    ('regressor', Ridge(alpha=3.0))\n",
    "])"
   ]
  },
  {
   "cell_type": "code",
   "execution_count": 391,
   "metadata": {},
   "outputs": [
    {
     "data": {
      "text/plain": [
       "Pipeline(steps=[('preprocessor',\n",
       "                 ColumnTransformer(transformers=[('cat',\n",
       "                                                  Pipeline(steps=[('onehot',\n",
       "                                                                   OneHotEncoder(handle_unknown='ignore'))]),\n",
       "                                                  ['waterfront', 'view',\n",
       "                                                   'condition']),\n",
       "                                                 ('num',\n",
       "                                                  Pipeline(steps=[('scaler',\n",
       "                                                                   StandardScaler())]),\n",
       "                                                  ['log_sqft_living',\n",
       "                                                   'log_grade', 'bedrooms',\n",
       "                                                   'bathrooms',\n",
       "                                                   'yr_built'])])),\n",
       "                ('regressor', Ridge(alpha=3.0))])"
      ]
     },
     "execution_count": 391,
     "metadata": {},
     "output_type": "execute_result"
    }
   ],
   "source": [
    "ridge_regression.fit(X_train, y_train)"
   ]
  },
  {
   "cell_type": "code",
   "execution_count": 392,
   "metadata": {},
   "outputs": [],
   "source": [
    "pred_ridge = ridge_regression.predict(X_test)"
   ]
  },
  {
   "cell_type": "code",
   "execution_count": 393,
   "metadata": {},
   "outputs": [
    {
     "data": {
      "text/plain": [
       "0.3132925185181096"
      ]
     },
     "execution_count": 393,
     "metadata": {},
     "output_type": "execute_result"
    }
   ],
   "source": [
    "np.sqrt(mean_squared_error(pred_ridge,y_test))"
   ]
  },
  {
   "cell_type": "code",
   "execution_count": 394,
   "metadata": {},
   "outputs": [],
   "source": [
    "lasso_regression = Pipeline(steps = [\n",
    "    ('preprocessor', preprocessor),\n",
    "    ('regressor', Lasso(alpha=1.0))\n",
    "])"
   ]
  },
  {
   "cell_type": "code",
   "execution_count": 395,
   "metadata": {},
   "outputs": [
    {
     "data": {
      "text/plain": [
       "Pipeline(steps=[('preprocessor',\n",
       "                 ColumnTransformer(transformers=[('cat',\n",
       "                                                  Pipeline(steps=[('onehot',\n",
       "                                                                   OneHotEncoder(handle_unknown='ignore'))]),\n",
       "                                                  ['waterfront', 'view',\n",
       "                                                   'condition']),\n",
       "                                                 ('num',\n",
       "                                                  Pipeline(steps=[('scaler',\n",
       "                                                                   StandardScaler())]),\n",
       "                                                  ['log_sqft_living',\n",
       "                                                   'log_grade', 'bedrooms',\n",
       "                                                   'bathrooms',\n",
       "                                                   'yr_built'])])),\n",
       "                ('regressor', Lasso())])"
      ]
     },
     "execution_count": 395,
     "metadata": {},
     "output_type": "execute_result"
    }
   ],
   "source": [
    "lasso_regression.fit(X_train, y_train)"
   ]
  },
  {
   "cell_type": "code",
   "execution_count": 396,
   "metadata": {},
   "outputs": [],
   "source": [
    "lasso_pred = lasso_regression.predict(X_test)"
   ]
  },
  {
   "cell_type": "code",
   "execution_count": 397,
   "metadata": {},
   "outputs": [
    {
     "data": {
      "text/plain": [
       "0.5285962913395351"
      ]
     },
     "execution_count": 397,
     "metadata": {},
     "output_type": "execute_result"
    }
   ],
   "source": [
    "np.sqrt(mean_squared_error(lasso_pred, y_test))"
   ]
  },
  {
   "cell_type": "code",
   "execution_count": 398,
   "metadata": {},
   "outputs": [],
   "source": [
    "elasticnet_regression = Pipeline(steps = [\n",
    "    ('preprocessor', preprocessor),\n",
    "    ('regressor', ElasticNet(alpha=1.0, l1_ratio=0.8))\n",
    "])"
   ]
  },
  {
   "cell_type": "code",
   "execution_count": 399,
   "metadata": {},
   "outputs": [
    {
     "data": {
      "text/plain": [
       "Pipeline(steps=[('preprocessor',\n",
       "                 ColumnTransformer(transformers=[('cat',\n",
       "                                                  Pipeline(steps=[('onehot',\n",
       "                                                                   OneHotEncoder(handle_unknown='ignore'))]),\n",
       "                                                  ['waterfront', 'view',\n",
       "                                                   'condition']),\n",
       "                                                 ('num',\n",
       "                                                  Pipeline(steps=[('scaler',\n",
       "                                                                   StandardScaler())]),\n",
       "                                                  ['log_sqft_living',\n",
       "                                                   'log_grade', 'bedrooms',\n",
       "                                                   'bathrooms',\n",
       "                                                   'yr_built'])])),\n",
       "                ('regressor', ElasticNet(l1_ratio=0.8))])"
      ]
     },
     "execution_count": 399,
     "metadata": {},
     "output_type": "execute_result"
    }
   ],
   "source": [
    "elasticnet_regression.fit(X_train, y_train)"
   ]
  },
  {
   "cell_type": "code",
   "execution_count": 400,
   "metadata": {},
   "outputs": [],
   "source": [
    "elasticnet_pred = elasticnet_regression.predict(X_test)"
   ]
  },
  {
   "cell_type": "code",
   "execution_count": 401,
   "metadata": {},
   "outputs": [
    {
     "data": {
      "text/plain": [
       "0.5285962913395351"
      ]
     },
     "execution_count": 401,
     "metadata": {},
     "output_type": "execute_result"
    }
   ],
   "source": [
    "np.sqrt(mean_squared_error(elasticnet_pred, y_test))"
   ]
  },
  {
   "attachments": {},
   "cell_type": "markdown",
   "metadata": {},
   "source": [
    "We performed Ordinary Least Squares (OLS) regression, linear regression, LASSO, Ridge, and Elastic Net on the provided data. After evaluating the Mean Squared Error (MSE) values, we observed that linear regression, ridge regression, and ols regression achieved the lowest MSE values, approximately 0.31. Meanwhile, Elastic Net and LASSO demonstrated the highest MSE values, around 0.52.\n",
    "\n",
    "We can choose either one of them(linear regression, ridge regression, and ols regression) to be the best model. They have the smallest mse, which indicates that the these three models provide the best overall fit to the data compared to the other models.\n",
    "\n"
   ]
  },
  {
   "attachments": {},
   "cell_type": "markdown",
   "metadata": {},
   "source": [
    "\n",
    "To choose the best model, we need to consider multiple reasons. We first consider alternative modeling approaches, in terms of minimizing prediction errors, we can conclude linear regression and ridge have the best performance while ols has a slightly higher mse. \n",
    "\n",
    "I believe ridge regression is the best, as ridge regression is a model tuning method that is used to analyse any data that suffers from multicollinearity. For our dataset, it's clear to see that we have similar variables, which would suffer from multicollinearity. "
   ]
  },
  {
   "attachments": {},
   "cell_type": "markdown",
   "metadata": {},
   "source": [
    "To a business executive, Among these approaches, we believe that ridge regression is the most suitable choice for our dataset. Ridge regression is a model tuning method specifically designed to handle multicollinearity, which occurs when we have similar variables that are highly correlated. In our dataset, we have observed such multicollinearity, making ridge regression an ideal choice to address this issue effectively.\n",
    "\n",
    "The main drivers of house price are bathrooms, sqft_living, grade, sqft_living15. They have an abosolute correlation value >= 0.5, which indicates there is a strong positive relationship between these variables and the house price. However, sqft_living15 has a strong multicolinearity, so we remove this variable from our prediction list. Also, including categorical variables. \n",
    "\n",
    "After applying logarithmic transformation to the variables in the OLS regression to address the issue, the distribution of the data becomes closer to normal, and the coefficients become extremely small. A more accurate and reliable interpretation of the relationships between the predictors and the target variable is provided.\n",
    "\n",
    "Bathrooms: For each additional bathroom, the expected price increases by approximately 11.30%.\n",
    "\n",
    "Bedrooms: For each additional bedroom, the expected price decreases by approximately 4.66%.\n",
    "\n",
    "Log_sqft_living: A 1% increase in the square footage of living area is associated with an expected increase in price by approximately 38.24%.\n",
    "\n",
    "Log_grade: A 1% increase in the grade is associated with an expected increase in price by approximately 177.83%.\n",
    "\n",
    "Waterfront: If a property is classified as waterfront (waterfront = 1), the expected price increases by approximately 36.04% compared to properties without waterfront views.\n",
    "\n",
    "View: Each additional view of the property is associated with an expected increase in price by approximately 5.80%.\n",
    "\n",
    "Condition: For each additional unit increase in condition, the expected price increases by approximately 2.41%.\n",
    "\n",
    "Yr_built: For each additional year of building age, the expected price decreases by approximately 0.56%.\n",
    "\n",
    "\n"
   ]
  }
 ],
 "metadata": {
  "kernelspec": {
   "display_name": "base",
   "language": "python",
   "name": "python3"
  },
  "language_info": {
   "codemirror_mode": {
    "name": "ipython",
    "version": 3
   },
   "file_extension": ".py",
   "mimetype": "text/x-python",
   "name": "python",
   "nbconvert_exporter": "python",
   "pygments_lexer": "ipython3",
   "version": "3.8.8"
  },
  "orig_nbformat": 4
 },
 "nbformat": 4,
 "nbformat_minor": 2
}

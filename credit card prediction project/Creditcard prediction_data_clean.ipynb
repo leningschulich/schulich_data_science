{
 "cells": [
  {
   "cell_type": "code",
   "execution_count": 2,
   "metadata": {},
   "outputs": [],
   "source": [
    "# Importing the required libraries for handling dataframes & graphs\n",
    "import pandas as pd\n",
    "import numpy as np\n",
    "import matplotlib.pyplot as plt\n",
    "%matplotlib inline\n",
    "import seaborn as sns"
   ]
  },
  {
   "cell_type": "code",
   "execution_count": 3,
   "metadata": {},
   "outputs": [
    {
     "name": "stdout",
     "output_type": "stream",
     "text": [
      "(438557, 18)\n"
     ]
    },
    {
     "data": {
      "text/html": [
       "<div>\n",
       "<style scoped>\n",
       "    .dataframe tbody tr th:only-of-type {\n",
       "        vertical-align: middle;\n",
       "    }\n",
       "\n",
       "    .dataframe tbody tr th {\n",
       "        vertical-align: top;\n",
       "    }\n",
       "\n",
       "    .dataframe thead th {\n",
       "        text-align: right;\n",
       "    }\n",
       "</style>\n",
       "<table border=\"1\" class=\"dataframe\">\n",
       "  <thead>\n",
       "    <tr style=\"text-align: right;\">\n",
       "      <th></th>\n",
       "      <th>ID</th>\n",
       "      <th>CODE_GENDER</th>\n",
       "      <th>FLAG_OWN_CAR</th>\n",
       "      <th>FLAG_OWN_REALTY</th>\n",
       "      <th>CNT_CHILDREN</th>\n",
       "      <th>AMT_INCOME_TOTAL</th>\n",
       "      <th>NAME_INCOME_TYPE</th>\n",
       "      <th>NAME_EDUCATION_TYPE</th>\n",
       "      <th>NAME_FAMILY_STATUS</th>\n",
       "      <th>NAME_HOUSING_TYPE</th>\n",
       "      <th>DAYS_BIRTH</th>\n",
       "      <th>DAYS_EMPLOYED</th>\n",
       "      <th>FLAG_MOBIL</th>\n",
       "      <th>FLAG_WORK_PHONE</th>\n",
       "      <th>FLAG_PHONE</th>\n",
       "      <th>FLAG_EMAIL</th>\n",
       "      <th>OCCUPATION_TYPE</th>\n",
       "      <th>CNT_FAM_MEMBERS</th>\n",
       "    </tr>\n",
       "  </thead>\n",
       "  <tbody>\n",
       "    <tr>\n",
       "      <th>371233</th>\n",
       "      <td>6563036</td>\n",
       "      <td>F</td>\n",
       "      <td>Y</td>\n",
       "      <td>Y</td>\n",
       "      <td>0</td>\n",
       "      <td>157500.0</td>\n",
       "      <td>Working</td>\n",
       "      <td>Secondary / secondary special</td>\n",
       "      <td>Civil marriage</td>\n",
       "      <td>House / apartment</td>\n",
       "      <td>-14064</td>\n",
       "      <td>-3601</td>\n",
       "      <td>1</td>\n",
       "      <td>0</td>\n",
       "      <td>0</td>\n",
       "      <td>0</td>\n",
       "      <td>Sales staff</td>\n",
       "      <td>2.0</td>\n",
       "    </tr>\n",
       "    <tr>\n",
       "      <th>337647</th>\n",
       "      <td>6390860</td>\n",
       "      <td>M</td>\n",
       "      <td>N</td>\n",
       "      <td>Y</td>\n",
       "      <td>1</td>\n",
       "      <td>270000.0</td>\n",
       "      <td>State servant</td>\n",
       "      <td>Secondary / secondary special</td>\n",
       "      <td>Married</td>\n",
       "      <td>Municipal apartment</td>\n",
       "      <td>-15950</td>\n",
       "      <td>-1877</td>\n",
       "      <td>1</td>\n",
       "      <td>0</td>\n",
       "      <td>0</td>\n",
       "      <td>0</td>\n",
       "      <td>Drivers</td>\n",
       "      <td>3.0</td>\n",
       "    </tr>\n",
       "    <tr>\n",
       "      <th>36469</th>\n",
       "      <td>5105159</td>\n",
       "      <td>M</td>\n",
       "      <td>N</td>\n",
       "      <td>Y</td>\n",
       "      <td>2</td>\n",
       "      <td>450000.0</td>\n",
       "      <td>Commercial associate</td>\n",
       "      <td>Higher education</td>\n",
       "      <td>Married</td>\n",
       "      <td>House / apartment</td>\n",
       "      <td>-12238</td>\n",
       "      <td>-2187</td>\n",
       "      <td>1</td>\n",
       "      <td>1</td>\n",
       "      <td>1</td>\n",
       "      <td>0</td>\n",
       "      <td>Managers</td>\n",
       "      <td>4.0</td>\n",
       "    </tr>\n",
       "    <tr>\n",
       "      <th>221482</th>\n",
       "      <td>6464828</td>\n",
       "      <td>F</td>\n",
       "      <td>N</td>\n",
       "      <td>Y</td>\n",
       "      <td>0</td>\n",
       "      <td>85500.0</td>\n",
       "      <td>Pensioner</td>\n",
       "      <td>Higher education</td>\n",
       "      <td>Married</td>\n",
       "      <td>House / apartment</td>\n",
       "      <td>-20352</td>\n",
       "      <td>365243</td>\n",
       "      <td>1</td>\n",
       "      <td>0</td>\n",
       "      <td>0</td>\n",
       "      <td>0</td>\n",
       "      <td>NaN</td>\n",
       "      <td>2.0</td>\n",
       "    </tr>\n",
       "    <tr>\n",
       "      <th>435465</th>\n",
       "      <td>5466816</td>\n",
       "      <td>F</td>\n",
       "      <td>N</td>\n",
       "      <td>Y</td>\n",
       "      <td>0</td>\n",
       "      <td>180000.0</td>\n",
       "      <td>Working</td>\n",
       "      <td>Lower secondary</td>\n",
       "      <td>Single / not married</td>\n",
       "      <td>House / apartment</td>\n",
       "      <td>-20013</td>\n",
       "      <td>-397</td>\n",
       "      <td>1</td>\n",
       "      <td>1</td>\n",
       "      <td>1</td>\n",
       "      <td>0</td>\n",
       "      <td>Laborers</td>\n",
       "      <td>1.0</td>\n",
       "    </tr>\n",
       "  </tbody>\n",
       "</table>\n",
       "</div>"
      ],
      "text/plain": [
       "             ID CODE_GENDER FLAG_OWN_CAR FLAG_OWN_REALTY  CNT_CHILDREN  \\\n",
       "371233  6563036           F            Y               Y             0   \n",
       "337647  6390860           M            N               Y             1   \n",
       "36469   5105159           M            N               Y             2   \n",
       "221482  6464828           F            N               Y             0   \n",
       "435465  5466816           F            N               Y             0   \n",
       "\n",
       "        AMT_INCOME_TOTAL      NAME_INCOME_TYPE            NAME_EDUCATION_TYPE  \\\n",
       "371233          157500.0               Working  Secondary / secondary special   \n",
       "337647          270000.0         State servant  Secondary / secondary special   \n",
       "36469           450000.0  Commercial associate               Higher education   \n",
       "221482           85500.0             Pensioner               Higher education   \n",
       "435465          180000.0               Working                Lower secondary   \n",
       "\n",
       "          NAME_FAMILY_STATUS    NAME_HOUSING_TYPE  DAYS_BIRTH  DAYS_EMPLOYED  \\\n",
       "371233        Civil marriage    House / apartment      -14064          -3601   \n",
       "337647               Married  Municipal apartment      -15950          -1877   \n",
       "36469                Married    House / apartment      -12238          -2187   \n",
       "221482               Married    House / apartment      -20352         365243   \n",
       "435465  Single / not married    House / apartment      -20013           -397   \n",
       "\n",
       "        FLAG_MOBIL  FLAG_WORK_PHONE  FLAG_PHONE  FLAG_EMAIL OCCUPATION_TYPE  \\\n",
       "371233           1                0           0           0     Sales staff   \n",
       "337647           1                0           0           0         Drivers   \n",
       "36469            1                1           1           0        Managers   \n",
       "221482           1                0           0           0             NaN   \n",
       "435465           1                1           1           0        Laborers   \n",
       "\n",
       "        CNT_FAM_MEMBERS  \n",
       "371233              2.0  \n",
       "337647              3.0  \n",
       "36469               4.0  \n",
       "221482              2.0  \n",
       "435465              1.0  "
      ]
     },
     "execution_count": 3,
     "metadata": {},
     "output_type": "execute_result"
    }
   ],
   "source": [
    "# importing the dataset \n",
    "df = pd.read_csv('https://raw.githubusercontent.com/sriku2412/Creditcard-prediction/main/application_record.csv')\n",
    "print(df.shape)\n",
    "\n",
    "# looking at a sample dataset \n",
    "df.sample(5)"
   ]
  },
  {
   "cell_type": "code",
   "execution_count": 10,
   "metadata": {},
   "outputs": [],
   "source": [
    "record = pd.read_csv(\"https://raw.githubusercontent.com/sriku2412/Creditcard-prediction/main/credit_record.csv\", encoding = 'utf-8')"
   ]
  },
  {
   "cell_type": "code",
   "execution_count": 12,
   "metadata": {},
   "outputs": [
    {
     "name": "stdout",
     "output_type": "stream",
     "text": [
      "(1048575, 3)\n"
     ]
    },
    {
     "data": {
      "text/html": [
       "<div>\n",
       "<style scoped>\n",
       "    .dataframe tbody tr th:only-of-type {\n",
       "        vertical-align: middle;\n",
       "    }\n",
       "\n",
       "    .dataframe tbody tr th {\n",
       "        vertical-align: top;\n",
       "    }\n",
       "\n",
       "    .dataframe thead th {\n",
       "        text-align: right;\n",
       "    }\n",
       "</style>\n",
       "<table border=\"1\" class=\"dataframe\">\n",
       "  <thead>\n",
       "    <tr style=\"text-align: right;\">\n",
       "      <th></th>\n",
       "      <th>ID</th>\n",
       "      <th>MONTHS_BALANCE</th>\n",
       "      <th>STATUS</th>\n",
       "    </tr>\n",
       "  </thead>\n",
       "  <tbody>\n",
       "    <tr>\n",
       "      <th>289658</th>\n",
       "      <td>5025659</td>\n",
       "      <td>-28</td>\n",
       "      <td>C</td>\n",
       "    </tr>\n",
       "    <tr>\n",
       "      <th>287655</th>\n",
       "      <td>5025142</td>\n",
       "      <td>-4</td>\n",
       "      <td>C</td>\n",
       "    </tr>\n",
       "    <tr>\n",
       "      <th>287027</th>\n",
       "      <td>5025104</td>\n",
       "      <td>-38</td>\n",
       "      <td>0</td>\n",
       "    </tr>\n",
       "    <tr>\n",
       "      <th>778981</th>\n",
       "      <td>5113405</td>\n",
       "      <td>-21</td>\n",
       "      <td>C</td>\n",
       "    </tr>\n",
       "    <tr>\n",
       "      <th>480917</th>\n",
       "      <td>5060058</td>\n",
       "      <td>-24</td>\n",
       "      <td>X</td>\n",
       "    </tr>\n",
       "  </tbody>\n",
       "</table>\n",
       "</div>"
      ],
      "text/plain": [
       "             ID  MONTHS_BALANCE STATUS\n",
       "289658  5025659             -28      C\n",
       "287655  5025142              -4      C\n",
       "287027  5025104             -38      0\n",
       "778981  5113405             -21      C\n",
       "480917  5060058             -24      X"
      ]
     },
     "execution_count": 12,
     "metadata": {},
     "output_type": "execute_result"
    }
   ],
   "source": [
    "print(record.shape)\n",
    "\n",
    "# looking at a sample dataset \n",
    "record.sample(5)"
   ]
  },
  {
   "cell_type": "code",
   "execution_count": null,
   "metadata": {},
   "outputs": [
    {
     "name": "stdout",
     "output_type": "stream",
     "text": [
      "<class 'pandas.core.frame.DataFrame'>\n",
      "RangeIndex: 438557 entries, 0 to 438556\n",
      "Data columns (total 18 columns):\n",
      " #   Column               Non-Null Count   Dtype  \n",
      "---  ------               --------------   -----  \n",
      " 0   ID                   438557 non-null  int64  \n",
      " 1   CODE_GENDER          438557 non-null  object \n",
      " 2   FLAG_OWN_CAR         438557 non-null  object \n",
      " 3   FLAG_OWN_REALTY      438557 non-null  object \n",
      " 4   CNT_CHILDREN         438557 non-null  int64  \n",
      " 5   AMT_INCOME_TOTAL     438557 non-null  float64\n",
      " 6   NAME_INCOME_TYPE     438557 non-null  object \n",
      " 7   NAME_EDUCATION_TYPE  438557 non-null  object \n",
      " 8   NAME_FAMILY_STATUS   438557 non-null  object \n",
      " 9   NAME_HOUSING_TYPE    438557 non-null  object \n",
      " 10  DAYS_BIRTH           438557 non-null  int64  \n",
      " 11  DAYS_EMPLOYED        438557 non-null  int64  \n",
      " 12  FLAG_MOBIL           438557 non-null  int64  \n",
      " 13  FLAG_WORK_PHONE      438557 non-null  int64  \n",
      " 14  FLAG_PHONE           438557 non-null  int64  \n",
      " 15  FLAG_EMAIL           438557 non-null  int64  \n",
      " 16  OCCUPATION_TYPE      304354 non-null  object \n",
      " 17  CNT_FAM_MEMBERS      438557 non-null  float64\n",
      "dtypes: float64(2), int64(8), object(8)\n",
      "memory usage: 60.2+ MB\n"
     ]
    }
   ],
   "source": [
    "df.info() # understanding our DataFrame"
   ]
  },
  {
   "cell_type": "markdown",
   "metadata": {},
   "source": [
    "no missing values"
   ]
  },
  {
   "cell_type": "code",
   "execution_count": null,
   "metadata": {},
   "outputs": [
    {
     "data": {
      "text/html": [
       "<div>\n",
       "<style scoped>\n",
       "    .dataframe tbody tr th:only-of-type {\n",
       "        vertical-align: middle;\n",
       "    }\n",
       "\n",
       "    .dataframe tbody tr th {\n",
       "        vertical-align: top;\n",
       "    }\n",
       "\n",
       "    .dataframe thead th {\n",
       "        text-align: right;\n",
       "    }\n",
       "</style>\n",
       "<table border=\"1\" class=\"dataframe\">\n",
       "  <thead>\n",
       "    <tr style=\"text-align: right;\">\n",
       "      <th></th>\n",
       "      <th>ID</th>\n",
       "      <th>CODE_GENDER</th>\n",
       "      <th>FLAG_OWN_CAR</th>\n",
       "      <th>FLAG_OWN_REALTY</th>\n",
       "      <th>CNT_CHILDREN</th>\n",
       "      <th>AMT_INCOME_TOTAL</th>\n",
       "      <th>NAME_INCOME_TYPE</th>\n",
       "      <th>NAME_EDUCATION_TYPE</th>\n",
       "      <th>NAME_FAMILY_STATUS</th>\n",
       "      <th>NAME_HOUSING_TYPE</th>\n",
       "      <th>DAYS_BIRTH</th>\n",
       "      <th>DAYS_EMPLOYED</th>\n",
       "      <th>FLAG_MOBIL</th>\n",
       "      <th>FLAG_WORK_PHONE</th>\n",
       "      <th>FLAG_PHONE</th>\n",
       "      <th>FLAG_EMAIL</th>\n",
       "      <th>OCCUPATION_TYPE</th>\n",
       "      <th>CNT_FAM_MEMBERS</th>\n",
       "    </tr>\n",
       "  </thead>\n",
       "  <tbody>\n",
       "    <tr>\n",
       "      <th>count</th>\n",
       "      <td>4.385570e+05</td>\n",
       "      <td>438557</td>\n",
       "      <td>438557</td>\n",
       "      <td>438557</td>\n",
       "      <td>438557.000000</td>\n",
       "      <td>4.385570e+05</td>\n",
       "      <td>438557</td>\n",
       "      <td>438557</td>\n",
       "      <td>438557</td>\n",
       "      <td>438557</td>\n",
       "      <td>438557.000000</td>\n",
       "      <td>438557.000000</td>\n",
       "      <td>438557.0</td>\n",
       "      <td>438557.000000</td>\n",
       "      <td>438557.000000</td>\n",
       "      <td>438557.000000</td>\n",
       "      <td>304354</td>\n",
       "      <td>438557.000000</td>\n",
       "    </tr>\n",
       "    <tr>\n",
       "      <th>unique</th>\n",
       "      <td>NaN</td>\n",
       "      <td>2</td>\n",
       "      <td>2</td>\n",
       "      <td>2</td>\n",
       "      <td>NaN</td>\n",
       "      <td>NaN</td>\n",
       "      <td>5</td>\n",
       "      <td>5</td>\n",
       "      <td>5</td>\n",
       "      <td>6</td>\n",
       "      <td>NaN</td>\n",
       "      <td>NaN</td>\n",
       "      <td>NaN</td>\n",
       "      <td>NaN</td>\n",
       "      <td>NaN</td>\n",
       "      <td>NaN</td>\n",
       "      <td>18</td>\n",
       "      <td>NaN</td>\n",
       "    </tr>\n",
       "    <tr>\n",
       "      <th>top</th>\n",
       "      <td>NaN</td>\n",
       "      <td>F</td>\n",
       "      <td>N</td>\n",
       "      <td>Y</td>\n",
       "      <td>NaN</td>\n",
       "      <td>NaN</td>\n",
       "      <td>Working</td>\n",
       "      <td>Secondary / secondary special</td>\n",
       "      <td>Married</td>\n",
       "      <td>House / apartment</td>\n",
       "      <td>NaN</td>\n",
       "      <td>NaN</td>\n",
       "      <td>NaN</td>\n",
       "      <td>NaN</td>\n",
       "      <td>NaN</td>\n",
       "      <td>NaN</td>\n",
       "      <td>Laborers</td>\n",
       "      <td>NaN</td>\n",
       "    </tr>\n",
       "    <tr>\n",
       "      <th>freq</th>\n",
       "      <td>NaN</td>\n",
       "      <td>294440</td>\n",
       "      <td>275459</td>\n",
       "      <td>304074</td>\n",
       "      <td>NaN</td>\n",
       "      <td>NaN</td>\n",
       "      <td>226104</td>\n",
       "      <td>301821</td>\n",
       "      <td>299828</td>\n",
       "      <td>393831</td>\n",
       "      <td>NaN</td>\n",
       "      <td>NaN</td>\n",
       "      <td>NaN</td>\n",
       "      <td>NaN</td>\n",
       "      <td>NaN</td>\n",
       "      <td>NaN</td>\n",
       "      <td>78240</td>\n",
       "      <td>NaN</td>\n",
       "    </tr>\n",
       "    <tr>\n",
       "      <th>mean</th>\n",
       "      <td>6.022176e+06</td>\n",
       "      <td>NaN</td>\n",
       "      <td>NaN</td>\n",
       "      <td>NaN</td>\n",
       "      <td>0.427390</td>\n",
       "      <td>1.875243e+05</td>\n",
       "      <td>NaN</td>\n",
       "      <td>NaN</td>\n",
       "      <td>NaN</td>\n",
       "      <td>NaN</td>\n",
       "      <td>-15997.904649</td>\n",
       "      <td>60563.675328</td>\n",
       "      <td>1.0</td>\n",
       "      <td>0.206133</td>\n",
       "      <td>0.287771</td>\n",
       "      <td>0.108207</td>\n",
       "      <td>NaN</td>\n",
       "      <td>2.194465</td>\n",
       "    </tr>\n",
       "    <tr>\n",
       "      <th>std</th>\n",
       "      <td>5.716370e+05</td>\n",
       "      <td>NaN</td>\n",
       "      <td>NaN</td>\n",
       "      <td>NaN</td>\n",
       "      <td>0.724882</td>\n",
       "      <td>1.100869e+05</td>\n",
       "      <td>NaN</td>\n",
       "      <td>NaN</td>\n",
       "      <td>NaN</td>\n",
       "      <td>NaN</td>\n",
       "      <td>4185.030007</td>\n",
       "      <td>138767.799647</td>\n",
       "      <td>0.0</td>\n",
       "      <td>0.404527</td>\n",
       "      <td>0.452724</td>\n",
       "      <td>0.310642</td>\n",
       "      <td>NaN</td>\n",
       "      <td>0.897207</td>\n",
       "    </tr>\n",
       "    <tr>\n",
       "      <th>min</th>\n",
       "      <td>5.008804e+06</td>\n",
       "      <td>NaN</td>\n",
       "      <td>NaN</td>\n",
       "      <td>NaN</td>\n",
       "      <td>0.000000</td>\n",
       "      <td>2.610000e+04</td>\n",
       "      <td>NaN</td>\n",
       "      <td>NaN</td>\n",
       "      <td>NaN</td>\n",
       "      <td>NaN</td>\n",
       "      <td>-25201.000000</td>\n",
       "      <td>-17531.000000</td>\n",
       "      <td>1.0</td>\n",
       "      <td>0.000000</td>\n",
       "      <td>0.000000</td>\n",
       "      <td>0.000000</td>\n",
       "      <td>NaN</td>\n",
       "      <td>1.000000</td>\n",
       "    </tr>\n",
       "    <tr>\n",
       "      <th>25%</th>\n",
       "      <td>5.609375e+06</td>\n",
       "      <td>NaN</td>\n",
       "      <td>NaN</td>\n",
       "      <td>NaN</td>\n",
       "      <td>0.000000</td>\n",
       "      <td>1.215000e+05</td>\n",
       "      <td>NaN</td>\n",
       "      <td>NaN</td>\n",
       "      <td>NaN</td>\n",
       "      <td>NaN</td>\n",
       "      <td>-19483.000000</td>\n",
       "      <td>-3103.000000</td>\n",
       "      <td>1.0</td>\n",
       "      <td>0.000000</td>\n",
       "      <td>0.000000</td>\n",
       "      <td>0.000000</td>\n",
       "      <td>NaN</td>\n",
       "      <td>2.000000</td>\n",
       "    </tr>\n",
       "    <tr>\n",
       "      <th>50%</th>\n",
       "      <td>6.047745e+06</td>\n",
       "      <td>NaN</td>\n",
       "      <td>NaN</td>\n",
       "      <td>NaN</td>\n",
       "      <td>0.000000</td>\n",
       "      <td>1.607805e+05</td>\n",
       "      <td>NaN</td>\n",
       "      <td>NaN</td>\n",
       "      <td>NaN</td>\n",
       "      <td>NaN</td>\n",
       "      <td>-15630.000000</td>\n",
       "      <td>-1467.000000</td>\n",
       "      <td>1.0</td>\n",
       "      <td>0.000000</td>\n",
       "      <td>0.000000</td>\n",
       "      <td>0.000000</td>\n",
       "      <td>NaN</td>\n",
       "      <td>2.000000</td>\n",
       "    </tr>\n",
       "    <tr>\n",
       "      <th>75%</th>\n",
       "      <td>6.456971e+06</td>\n",
       "      <td>NaN</td>\n",
       "      <td>NaN</td>\n",
       "      <td>NaN</td>\n",
       "      <td>1.000000</td>\n",
       "      <td>2.250000e+05</td>\n",
       "      <td>NaN</td>\n",
       "      <td>NaN</td>\n",
       "      <td>NaN</td>\n",
       "      <td>NaN</td>\n",
       "      <td>-12514.000000</td>\n",
       "      <td>-371.000000</td>\n",
       "      <td>1.0</td>\n",
       "      <td>0.000000</td>\n",
       "      <td>1.000000</td>\n",
       "      <td>0.000000</td>\n",
       "      <td>NaN</td>\n",
       "      <td>3.000000</td>\n",
       "    </tr>\n",
       "    <tr>\n",
       "      <th>max</th>\n",
       "      <td>7.999952e+06</td>\n",
       "      <td>NaN</td>\n",
       "      <td>NaN</td>\n",
       "      <td>NaN</td>\n",
       "      <td>19.000000</td>\n",
       "      <td>6.750000e+06</td>\n",
       "      <td>NaN</td>\n",
       "      <td>NaN</td>\n",
       "      <td>NaN</td>\n",
       "      <td>NaN</td>\n",
       "      <td>-7489.000000</td>\n",
       "      <td>365243.000000</td>\n",
       "      <td>1.0</td>\n",
       "      <td>1.000000</td>\n",
       "      <td>1.000000</td>\n",
       "      <td>1.000000</td>\n",
       "      <td>NaN</td>\n",
       "      <td>20.000000</td>\n",
       "    </tr>\n",
       "  </tbody>\n",
       "</table>\n",
       "</div>"
      ],
      "text/plain": [
       "                  ID CODE_GENDER FLAG_OWN_CAR FLAG_OWN_REALTY   CNT_CHILDREN  \\\n",
       "count   4.385570e+05      438557       438557          438557  438557.000000   \n",
       "unique           NaN           2            2               2            NaN   \n",
       "top              NaN           F            N               Y            NaN   \n",
       "freq             NaN      294440       275459          304074            NaN   \n",
       "mean    6.022176e+06         NaN          NaN             NaN       0.427390   \n",
       "std     5.716370e+05         NaN          NaN             NaN       0.724882   \n",
       "min     5.008804e+06         NaN          NaN             NaN       0.000000   \n",
       "25%     5.609375e+06         NaN          NaN             NaN       0.000000   \n",
       "50%     6.047745e+06         NaN          NaN             NaN       0.000000   \n",
       "75%     6.456971e+06         NaN          NaN             NaN       1.000000   \n",
       "max     7.999952e+06         NaN          NaN             NaN      19.000000   \n",
       "\n",
       "        AMT_INCOME_TOTAL NAME_INCOME_TYPE            NAME_EDUCATION_TYPE  \\\n",
       "count       4.385570e+05           438557                         438557   \n",
       "unique               NaN                5                              5   \n",
       "top                  NaN          Working  Secondary / secondary special   \n",
       "freq                 NaN           226104                         301821   \n",
       "mean        1.875243e+05              NaN                            NaN   \n",
       "std         1.100869e+05              NaN                            NaN   \n",
       "min         2.610000e+04              NaN                            NaN   \n",
       "25%         1.215000e+05              NaN                            NaN   \n",
       "50%         1.607805e+05              NaN                            NaN   \n",
       "75%         2.250000e+05              NaN                            NaN   \n",
       "max         6.750000e+06              NaN                            NaN   \n",
       "\n",
       "       NAME_FAMILY_STATUS  NAME_HOUSING_TYPE     DAYS_BIRTH  DAYS_EMPLOYED  \\\n",
       "count              438557             438557  438557.000000  438557.000000   \n",
       "unique                  5                  6            NaN            NaN   \n",
       "top               Married  House / apartment            NaN            NaN   \n",
       "freq               299828             393831            NaN            NaN   \n",
       "mean                  NaN                NaN  -15997.904649   60563.675328   \n",
       "std                   NaN                NaN    4185.030007  138767.799647   \n",
       "min                   NaN                NaN  -25201.000000  -17531.000000   \n",
       "25%                   NaN                NaN  -19483.000000   -3103.000000   \n",
       "50%                   NaN                NaN  -15630.000000   -1467.000000   \n",
       "75%                   NaN                NaN  -12514.000000    -371.000000   \n",
       "max                   NaN                NaN   -7489.000000  365243.000000   \n",
       "\n",
       "        FLAG_MOBIL  FLAG_WORK_PHONE     FLAG_PHONE     FLAG_EMAIL  \\\n",
       "count     438557.0    438557.000000  438557.000000  438557.000000   \n",
       "unique         NaN              NaN            NaN            NaN   \n",
       "top            NaN              NaN            NaN            NaN   \n",
       "freq           NaN              NaN            NaN            NaN   \n",
       "mean           1.0         0.206133       0.287771       0.108207   \n",
       "std            0.0         0.404527       0.452724       0.310642   \n",
       "min            1.0         0.000000       0.000000       0.000000   \n",
       "25%            1.0         0.000000       0.000000       0.000000   \n",
       "50%            1.0         0.000000       0.000000       0.000000   \n",
       "75%            1.0         0.000000       1.000000       0.000000   \n",
       "max            1.0         1.000000       1.000000       1.000000   \n",
       "\n",
       "       OCCUPATION_TYPE  CNT_FAM_MEMBERS  \n",
       "count           304354    438557.000000  \n",
       "unique              18              NaN  \n",
       "top           Laborers              NaN  \n",
       "freq             78240              NaN  \n",
       "mean               NaN         2.194465  \n",
       "std                NaN         0.897207  \n",
       "min                NaN         1.000000  \n",
       "25%                NaN         2.000000  \n",
       "50%                NaN         2.000000  \n",
       "75%                NaN         3.000000  \n",
       "max                NaN        20.000000  "
      ]
     },
     "execution_count": 161,
     "metadata": {},
     "output_type": "execute_result"
    }
   ],
   "source": [
    "df.describe(include = 'all')\n"
   ]
  },
  {
   "cell_type": "markdown",
   "metadata": {},
   "source": [
    "According to what we got from this table, we can conclude the following points:\n",
    "\n",
    "Gender: Two unique genders, with \"Female\" (F) being the most frequent.\n",
    "\n",
    "Car Ownership: Majority own a car, with \"Yes\" (Y) being the most common.\n",
    "\n",
    "Realty Ownership: Majority own real estate, with \"Yes\" (Y) being the most common.\n",
    "\n",
    "Children: On average, there are less than one child per household (mean = 0.43).\n",
    "\n",
    "Income: The mean income is approximately $187,524, with a standard deviation of $110,086.\n",
    "\n",
    "Income Type: There are five unique income types, with \"Working\" as the most common.\n",
    "\n",
    "Education: Five unique education types, with \"Secondary / secondary special\" as the most frequent.\n",
    "\n",
    "Family Status: \"Married\" is the most common family status.\n",
    "\n",
    "Housing Type: \"House / apartment\" is the most common housing type.\n",
    "\n",
    "Age:  The \"DAYS_BIRTH\" column represents the number of days since the individual's birth. The average age is around 44(43.8) years.\n",
    "\n",
    "Employment: The mean employment duration is around 60,563 days, potentially indicating outliers.\n",
    "\n",
    "Contact Info: Binary flags for mobile phone, work phone, regular phone, and email.\n",
    "\n",
    "Occupation: 18 unique occupation categories, NaN value exists.\n",
    "\n",
    "Family Members: On average, there are slightly more than two family members per household (mean = 2.19).\n"
   ]
  },
  {
   "cell_type": "markdown",
   "metadata": {},
   "source": [
    "### Data Cleaning"
   ]
  },
  {
   "cell_type": "code",
   "execution_count": null,
   "metadata": {},
   "outputs": [
    {
     "data": {
      "text/html": [
       "<div>\n",
       "<style scoped>\n",
       "    .dataframe tbody tr th:only-of-type {\n",
       "        vertical-align: middle;\n",
       "    }\n",
       "\n",
       "    .dataframe tbody tr th {\n",
       "        vertical-align: top;\n",
       "    }\n",
       "\n",
       "    .dataframe thead th {\n",
       "        text-align: right;\n",
       "    }\n",
       "</style>\n",
       "<table border=\"1\" class=\"dataframe\">\n",
       "  <thead>\n",
       "    <tr style=\"text-align: right;\">\n",
       "      <th></th>\n",
       "      <th>ID</th>\n",
       "      <th>CODE_GENDER</th>\n",
       "      <th>FLAG_OWN_CAR</th>\n",
       "      <th>FLAG_OWN_REALTY</th>\n",
       "      <th>CNT_CHILDREN</th>\n",
       "      <th>AMT_INCOME_TOTAL</th>\n",
       "      <th>NAME_INCOME_TYPE</th>\n",
       "      <th>NAME_EDUCATION_TYPE</th>\n",
       "      <th>NAME_FAMILY_STATUS</th>\n",
       "      <th>NAME_HOUSING_TYPE</th>\n",
       "      <th>DAYS_BIRTH</th>\n",
       "      <th>DAYS_EMPLOYED</th>\n",
       "      <th>FLAG_MOBIL</th>\n",
       "      <th>FLAG_WORK_PHONE</th>\n",
       "      <th>FLAG_PHONE</th>\n",
       "      <th>FLAG_EMAIL</th>\n",
       "      <th>OCCUPATION_TYPE</th>\n",
       "      <th>CNT_FAM_MEMBERS</th>\n",
       "    </tr>\n",
       "  </thead>\n",
       "  <tbody>\n",
       "  </tbody>\n",
       "</table>\n",
       "</div>"
      ],
      "text/plain": [
       "Empty DataFrame\n",
       "Columns: [ID, CODE_GENDER, FLAG_OWN_CAR, FLAG_OWN_REALTY, CNT_CHILDREN, AMT_INCOME_TOTAL, NAME_INCOME_TYPE, NAME_EDUCATION_TYPE, NAME_FAMILY_STATUS, NAME_HOUSING_TYPE, DAYS_BIRTH, DAYS_EMPLOYED, FLAG_MOBIL, FLAG_WORK_PHONE, FLAG_PHONE, FLAG_EMAIL, OCCUPATION_TYPE, CNT_FAM_MEMBERS]\n",
       "Index: []"
      ]
     },
     "execution_count": 162,
     "metadata": {},
     "output_type": "execute_result"
    }
   ],
   "source": [
    "# We can use a simple filter to check if there is missing data (NaN) in the \"ID\" column\n",
    "\n",
    "df[df['ID'].isnull()]"
   ]
  },
  {
   "cell_type": "code",
   "execution_count": 13,
   "metadata": {},
   "outputs": [
    {
     "data": {
      "text/plain": [
       "ID                0\n",
       "MONTHS_BALANCE    0\n",
       "STATUS            0\n",
       "dtype: int64"
      ]
     },
     "execution_count": 13,
     "metadata": {},
     "output_type": "execute_result"
    }
   ],
   "source": [
    "record.isna().sum()"
   ]
  },
  {
   "cell_type": "code",
   "execution_count": null,
   "metadata": {},
   "outputs": [],
   "source": [
    "df.set_index('ID', inplace=True)"
   ]
  },
  {
   "cell_type": "code",
   "execution_count": null,
   "metadata": {},
   "outputs": [
    {
     "data": {
      "text/html": [
       "<div>\n",
       "<style scoped>\n",
       "    .dataframe tbody tr th:only-of-type {\n",
       "        vertical-align: middle;\n",
       "    }\n",
       "\n",
       "    .dataframe tbody tr th {\n",
       "        vertical-align: top;\n",
       "    }\n",
       "\n",
       "    .dataframe thead th {\n",
       "        text-align: right;\n",
       "    }\n",
       "</style>\n",
       "<table border=\"1\" class=\"dataframe\">\n",
       "  <thead>\n",
       "    <tr style=\"text-align: right;\">\n",
       "      <th></th>\n",
       "      <th>CODE_GENDER</th>\n",
       "      <th>FLAG_OWN_CAR</th>\n",
       "      <th>FLAG_OWN_REALTY</th>\n",
       "      <th>CNT_CHILDREN</th>\n",
       "      <th>AMT_INCOME_TOTAL</th>\n",
       "      <th>NAME_INCOME_TYPE</th>\n",
       "      <th>NAME_EDUCATION_TYPE</th>\n",
       "      <th>NAME_FAMILY_STATUS</th>\n",
       "      <th>NAME_HOUSING_TYPE</th>\n",
       "      <th>DAYS_BIRTH</th>\n",
       "      <th>DAYS_EMPLOYED</th>\n",
       "      <th>FLAG_MOBIL</th>\n",
       "      <th>FLAG_WORK_PHONE</th>\n",
       "      <th>FLAG_PHONE</th>\n",
       "      <th>FLAG_EMAIL</th>\n",
       "      <th>OCCUPATION_TYPE</th>\n",
       "      <th>CNT_FAM_MEMBERS</th>\n",
       "    </tr>\n",
       "    <tr>\n",
       "      <th>ID</th>\n",
       "      <th></th>\n",
       "      <th></th>\n",
       "      <th></th>\n",
       "      <th></th>\n",
       "      <th></th>\n",
       "      <th></th>\n",
       "      <th></th>\n",
       "      <th></th>\n",
       "      <th></th>\n",
       "      <th></th>\n",
       "      <th></th>\n",
       "      <th></th>\n",
       "      <th></th>\n",
       "      <th></th>\n",
       "      <th></th>\n",
       "      <th></th>\n",
       "      <th></th>\n",
       "    </tr>\n",
       "  </thead>\n",
       "  <tbody>\n",
       "    <tr>\n",
       "      <th>6362661</th>\n",
       "      <td>M</td>\n",
       "      <td>Y</td>\n",
       "      <td>Y</td>\n",
       "      <td>1</td>\n",
       "      <td>216000.0</td>\n",
       "      <td>Commercial associate</td>\n",
       "      <td>Secondary / secondary special</td>\n",
       "      <td>Married</td>\n",
       "      <td>House / apartment</td>\n",
       "      <td>-11658</td>\n",
       "      <td>-118</td>\n",
       "      <td>1</td>\n",
       "      <td>0</td>\n",
       "      <td>0</td>\n",
       "      <td>0</td>\n",
       "      <td>Drivers</td>\n",
       "      <td>3.0</td>\n",
       "    </tr>\n",
       "    <tr>\n",
       "      <th>6682204</th>\n",
       "      <td>F</td>\n",
       "      <td>N</td>\n",
       "      <td>N</td>\n",
       "      <td>0</td>\n",
       "      <td>216000.0</td>\n",
       "      <td>Working</td>\n",
       "      <td>Secondary / secondary special</td>\n",
       "      <td>Married</td>\n",
       "      <td>House / apartment</td>\n",
       "      <td>-16278</td>\n",
       "      <td>-1457</td>\n",
       "      <td>1</td>\n",
       "      <td>0</td>\n",
       "      <td>0</td>\n",
       "      <td>0</td>\n",
       "      <td>Laborers</td>\n",
       "      <td>2.0</td>\n",
       "    </tr>\n",
       "    <tr>\n",
       "      <th>6185983</th>\n",
       "      <td>M</td>\n",
       "      <td>Y</td>\n",
       "      <td>N</td>\n",
       "      <td>2</td>\n",
       "      <td>270000.0</td>\n",
       "      <td>Working</td>\n",
       "      <td>Secondary / secondary special</td>\n",
       "      <td>Married</td>\n",
       "      <td>House / apartment</td>\n",
       "      <td>-11817</td>\n",
       "      <td>-2810</td>\n",
       "      <td>1</td>\n",
       "      <td>0</td>\n",
       "      <td>0</td>\n",
       "      <td>0</td>\n",
       "      <td>NaN</td>\n",
       "      <td>4.0</td>\n",
       "    </tr>\n",
       "    <tr>\n",
       "      <th>6212077</th>\n",
       "      <td>F</td>\n",
       "      <td>N</td>\n",
       "      <td>Y</td>\n",
       "      <td>0</td>\n",
       "      <td>81000.0</td>\n",
       "      <td>Working</td>\n",
       "      <td>Secondary / secondary special</td>\n",
       "      <td>Married</td>\n",
       "      <td>House / apartment</td>\n",
       "      <td>-16693</td>\n",
       "      <td>-486</td>\n",
       "      <td>1</td>\n",
       "      <td>1</td>\n",
       "      <td>0</td>\n",
       "      <td>0</td>\n",
       "      <td>NaN</td>\n",
       "      <td>2.0</td>\n",
       "    </tr>\n",
       "    <tr>\n",
       "      <th>6670509</th>\n",
       "      <td>F</td>\n",
       "      <td>N</td>\n",
       "      <td>N</td>\n",
       "      <td>0</td>\n",
       "      <td>225000.0</td>\n",
       "      <td>Commercial associate</td>\n",
       "      <td>Secondary / secondary special</td>\n",
       "      <td>Married</td>\n",
       "      <td>House / apartment</td>\n",
       "      <td>-13272</td>\n",
       "      <td>-236</td>\n",
       "      <td>1</td>\n",
       "      <td>0</td>\n",
       "      <td>0</td>\n",
       "      <td>0</td>\n",
       "      <td>Realty agents</td>\n",
       "      <td>2.0</td>\n",
       "    </tr>\n",
       "  </tbody>\n",
       "</table>\n",
       "</div>"
      ],
      "text/plain": [
       "        CODE_GENDER FLAG_OWN_CAR FLAG_OWN_REALTY  CNT_CHILDREN  \\\n",
       "ID                                                               \n",
       "6362661           M            Y               Y             1   \n",
       "6682204           F            N               N             0   \n",
       "6185983           M            Y               N             2   \n",
       "6212077           F            N               Y             0   \n",
       "6670509           F            N               N             0   \n",
       "\n",
       "         AMT_INCOME_TOTAL      NAME_INCOME_TYPE  \\\n",
       "ID                                                \n",
       "6362661          216000.0  Commercial associate   \n",
       "6682204          216000.0               Working   \n",
       "6185983          270000.0               Working   \n",
       "6212077           81000.0               Working   \n",
       "6670509          225000.0  Commercial associate   \n",
       "\n",
       "                   NAME_EDUCATION_TYPE NAME_FAMILY_STATUS  NAME_HOUSING_TYPE  \\\n",
       "ID                                                                             \n",
       "6362661  Secondary / secondary special            Married  House / apartment   \n",
       "6682204  Secondary / secondary special            Married  House / apartment   \n",
       "6185983  Secondary / secondary special            Married  House / apartment   \n",
       "6212077  Secondary / secondary special            Married  House / apartment   \n",
       "6670509  Secondary / secondary special            Married  House / apartment   \n",
       "\n",
       "         DAYS_BIRTH  DAYS_EMPLOYED  FLAG_MOBIL  FLAG_WORK_PHONE  FLAG_PHONE  \\\n",
       "ID                                                                            \n",
       "6362661      -11658           -118           1                0           0   \n",
       "6682204      -16278          -1457           1                0           0   \n",
       "6185983      -11817          -2810           1                0           0   \n",
       "6212077      -16693           -486           1                1           0   \n",
       "6670509      -13272           -236           1                0           0   \n",
       "\n",
       "         FLAG_EMAIL OCCUPATION_TYPE  CNT_FAM_MEMBERS  \n",
       "ID                                                    \n",
       "6362661           0         Drivers              3.0  \n",
       "6682204           0        Laborers              2.0  \n",
       "6185983           0             NaN              4.0  \n",
       "6212077           0             NaN              2.0  \n",
       "6670509           0   Realty agents              2.0  "
      ]
     },
     "execution_count": 164,
     "metadata": {},
     "output_type": "execute_result"
    }
   ],
   "source": [
    "df.sample(5)"
   ]
  },
  {
   "cell_type": "code",
   "execution_count": null,
   "metadata": {},
   "outputs": [
    {
     "data": {
      "text/plain": [
       "CODE_GENDER            False\n",
       "FLAG_OWN_CAR           False\n",
       "FLAG_OWN_REALTY        False\n",
       "CNT_CHILDREN           False\n",
       "AMT_INCOME_TOTAL       False\n",
       "NAME_INCOME_TYPE       False\n",
       "NAME_EDUCATION_TYPE    False\n",
       "NAME_FAMILY_STATUS     False\n",
       "NAME_HOUSING_TYPE      False\n",
       "DAYS_BIRTH             False\n",
       "DAYS_EMPLOYED          False\n",
       "FLAG_MOBIL             False\n",
       "FLAG_WORK_PHONE        False\n",
       "FLAG_PHONE             False\n",
       "FLAG_EMAIL             False\n",
       "OCCUPATION_TYPE         True\n",
       "CNT_FAM_MEMBERS        False\n",
       "dtype: bool"
      ]
     },
     "execution_count": 165,
     "metadata": {},
     "output_type": "execute_result"
    }
   ],
   "source": [
    "df.isna().any()\n",
    "#only column \"OCCUPATION_TYPE \" includes Null value"
   ]
  },
  {
   "cell_type": "code",
   "execution_count": null,
   "metadata": {},
   "outputs": [
    {
     "data": {
      "text/plain": [
       "134203"
      ]
     },
     "execution_count": 166,
     "metadata": {},
     "output_type": "execute_result"
    }
   ],
   "source": [
    "nan_count_in_column = df[\"OCCUPATION_TYPE\"].isna().sum()\n",
    "nan_count_in_column\n",
    "#We can find there is 31% of occupancy type is NaN"
   ]
  },
  {
   "cell_type": "code",
   "execution_count": null,
   "metadata": {},
   "outputs": [
    {
     "data": {
      "text/plain": [
       "array([nan, 'Security staff', 'Sales staff', 'Accountants', 'Laborers',\n",
       "       'Managers', 'Drivers', 'Core staff', 'High skill tech staff',\n",
       "       'Cleaning staff', 'Private service staff', 'Cooking staff',\n",
       "       'Low-skill Laborers', 'Medicine staff', 'Secretaries',\n",
       "       'Waiters/barmen staff', 'HR staff', 'Realty agents', 'IT staff'],\n",
       "      dtype=object)"
      ]
     },
     "execution_count": 167,
     "metadata": {},
     "output_type": "execute_result"
    }
   ],
   "source": [
    "column_name = 'OCCUPATION_TYPE'\n",
    "distinct_values = df[column_name].unique()\n",
    "distinct_values"
   ]
  },
  {
   "cell_type": "code",
   "execution_count": null,
   "metadata": {},
   "outputs": [
    {
     "data": {
      "text/plain": [
       "array(['Working', 'Commercial associate', 'Pensioner', 'State servant',\n",
       "       'Student'], dtype=object)"
      ]
     },
     "execution_count": 168,
     "metadata": {},
     "output_type": "execute_result"
    }
   ],
   "source": [
    "column_name2 = 'NAME_INCOME_TYPE'\n",
    "distinct_values2 = df[column_name2].unique()\n",
    "distinct_values2"
   ]
  },
  {
   "cell_type": "code",
   "execution_count": null,
   "metadata": {},
   "outputs": [],
   "source": [
    "df['OCCUPATION_TYPE'].fillna('undetermine', inplace=True)# fill NaN with undetermine"
   ]
  },
  {
   "cell_type": "code",
   "execution_count": null,
   "metadata": {},
   "outputs": [],
   "source": [
    "df_test = df.copy()"
   ]
  },
  {
   "cell_type": "code",
   "execution_count": null,
   "metadata": {},
   "outputs": [
    {
     "data": {
      "text/html": [
       "<div>\n",
       "<style scoped>\n",
       "    .dataframe tbody tr th:only-of-type {\n",
       "        vertical-align: middle;\n",
       "    }\n",
       "\n",
       "    .dataframe tbody tr th {\n",
       "        vertical-align: top;\n",
       "    }\n",
       "\n",
       "    .dataframe thead tr th {\n",
       "        text-align: left;\n",
       "    }\n",
       "\n",
       "    .dataframe thead tr:last-of-type th {\n",
       "        text-align: right;\n",
       "    }\n",
       "</style>\n",
       "<table border=\"1\" class=\"dataframe\">\n",
       "  <thead>\n",
       "    <tr>\n",
       "      <th></th>\n",
       "      <th colspan=\"8\" halign=\"left\">CNT_CHILDREN</th>\n",
       "      <th colspan=\"2\" halign=\"left\">AMT_INCOME_TOTAL</th>\n",
       "      <th>...</th>\n",
       "      <th colspan=\"2\" halign=\"left\">FLAG_EMAIL</th>\n",
       "      <th colspan=\"8\" halign=\"left\">CNT_FAM_MEMBERS</th>\n",
       "    </tr>\n",
       "    <tr>\n",
       "      <th></th>\n",
       "      <th>count</th>\n",
       "      <th>mean</th>\n",
       "      <th>std</th>\n",
       "      <th>min</th>\n",
       "      <th>25%</th>\n",
       "      <th>50%</th>\n",
       "      <th>75%</th>\n",
       "      <th>max</th>\n",
       "      <th>count</th>\n",
       "      <th>mean</th>\n",
       "      <th>...</th>\n",
       "      <th>75%</th>\n",
       "      <th>max</th>\n",
       "      <th>count</th>\n",
       "      <th>mean</th>\n",
       "      <th>std</th>\n",
       "      <th>min</th>\n",
       "      <th>25%</th>\n",
       "      <th>50%</th>\n",
       "      <th>75%</th>\n",
       "      <th>max</th>\n",
       "    </tr>\n",
       "    <tr>\n",
       "      <th>OCCUPATION_TYPE</th>\n",
       "      <th></th>\n",
       "      <th></th>\n",
       "      <th></th>\n",
       "      <th></th>\n",
       "      <th></th>\n",
       "      <th></th>\n",
       "      <th></th>\n",
       "      <th></th>\n",
       "      <th></th>\n",
       "      <th></th>\n",
       "      <th></th>\n",
       "      <th></th>\n",
       "      <th></th>\n",
       "      <th></th>\n",
       "      <th></th>\n",
       "      <th></th>\n",
       "      <th></th>\n",
       "      <th></th>\n",
       "      <th></th>\n",
       "      <th></th>\n",
       "      <th></th>\n",
       "    </tr>\n",
       "  </thead>\n",
       "  <tbody>\n",
       "    <tr>\n",
       "      <th>Accountants</th>\n",
       "      <td>15985.0</td>\n",
       "      <td>0.495715</td>\n",
       "      <td>0.740892</td>\n",
       "      <td>0.0</td>\n",
       "      <td>0.0</td>\n",
       "      <td>0.0</td>\n",
       "      <td>1.0</td>\n",
       "      <td>4.0</td>\n",
       "      <td>15985.0</td>\n",
       "      <td>215137.274977</td>\n",
       "      <td>...</td>\n",
       "      <td>0.0</td>\n",
       "      <td>1.0</td>\n",
       "      <td>15985.0</td>\n",
       "      <td>2.262871</td>\n",
       "      <td>0.911959</td>\n",
       "      <td>1.0</td>\n",
       "      <td>2.0</td>\n",
       "      <td>2.0</td>\n",
       "      <td>3.0</td>\n",
       "      <td>6.0</td>\n",
       "    </tr>\n",
       "    <tr>\n",
       "      <th>Cleaning staff</th>\n",
       "      <td>5845.0</td>\n",
       "      <td>0.353122</td>\n",
       "      <td>0.769583</td>\n",
       "      <td>0.0</td>\n",
       "      <td>0.0</td>\n",
       "      <td>0.0</td>\n",
       "      <td>0.0</td>\n",
       "      <td>7.0</td>\n",
       "      <td>5845.0</td>\n",
       "      <td>147064.463815</td>\n",
       "      <td>...</td>\n",
       "      <td>0.0</td>\n",
       "      <td>1.0</td>\n",
       "      <td>5845.0</td>\n",
       "      <td>2.069632</td>\n",
       "      <td>0.936069</td>\n",
       "      <td>1.0</td>\n",
       "      <td>2.0</td>\n",
       "      <td>2.0</td>\n",
       "      <td>2.0</td>\n",
       "      <td>9.0</td>\n",
       "    </tr>\n",
       "    <tr>\n",
       "      <th>Cooking staff</th>\n",
       "      <td>8076.0</td>\n",
       "      <td>0.476721</td>\n",
       "      <td>0.747390</td>\n",
       "      <td>0.0</td>\n",
       "      <td>0.0</td>\n",
       "      <td>0.0</td>\n",
       "      <td>1.0</td>\n",
       "      <td>4.0</td>\n",
       "      <td>8076.0</td>\n",
       "      <td>155848.425334</td>\n",
       "      <td>...</td>\n",
       "      <td>0.0</td>\n",
       "      <td>1.0</td>\n",
       "      <td>8076.0</td>\n",
       "      <td>2.247400</td>\n",
       "      <td>0.897999</td>\n",
       "      <td>1.0</td>\n",
       "      <td>2.0</td>\n",
       "      <td>2.0</td>\n",
       "      <td>3.0</td>\n",
       "      <td>6.0</td>\n",
       "    </tr>\n",
       "    <tr>\n",
       "      <th>Core staff</th>\n",
       "      <td>43007.0</td>\n",
       "      <td>0.554491</td>\n",
       "      <td>0.776073</td>\n",
       "      <td>0.0</td>\n",
       "      <td>0.0</td>\n",
       "      <td>0.0</td>\n",
       "      <td>1.0</td>\n",
       "      <td>12.0</td>\n",
       "      <td>43007.0</td>\n",
       "      <td>190905.844378</td>\n",
       "      <td>...</td>\n",
       "      <td>0.0</td>\n",
       "      <td>1.0</td>\n",
       "      <td>43007.0</td>\n",
       "      <td>2.337061</td>\n",
       "      <td>0.942617</td>\n",
       "      <td>1.0</td>\n",
       "      <td>2.0</td>\n",
       "      <td>2.0</td>\n",
       "      <td>3.0</td>\n",
       "      <td>14.0</td>\n",
       "    </tr>\n",
       "    <tr>\n",
       "      <th>Drivers</th>\n",
       "      <td>26090.0</td>\n",
       "      <td>0.555424</td>\n",
       "      <td>0.816348</td>\n",
       "      <td>0.0</td>\n",
       "      <td>0.0</td>\n",
       "      <td>0.0</td>\n",
       "      <td>1.0</td>\n",
       "      <td>14.0</td>\n",
       "      <td>26090.0</td>\n",
       "      <td>202065.242047</td>\n",
       "      <td>...</td>\n",
       "      <td>0.0</td>\n",
       "      <td>1.0</td>\n",
       "      <td>26090.0</td>\n",
       "      <td>2.407512</td>\n",
       "      <td>0.939329</td>\n",
       "      <td>1.0</td>\n",
       "      <td>2.0</td>\n",
       "      <td>2.0</td>\n",
       "      <td>3.0</td>\n",
       "      <td>15.0</td>\n",
       "    </tr>\n",
       "    <tr>\n",
       "      <th>HR staff</th>\n",
       "      <td>774.0</td>\n",
       "      <td>0.325581</td>\n",
       "      <td>0.599648</td>\n",
       "      <td>0.0</td>\n",
       "      <td>0.0</td>\n",
       "      <td>0.0</td>\n",
       "      <td>1.0</td>\n",
       "      <td>3.0</td>\n",
       "      <td>774.0</td>\n",
       "      <td>203620.686047</td>\n",
       "      <td>...</td>\n",
       "      <td>0.0</td>\n",
       "      <td>1.0</td>\n",
       "      <td>774.0</td>\n",
       "      <td>2.020672</td>\n",
       "      <td>0.807203</td>\n",
       "      <td>1.0</td>\n",
       "      <td>1.0</td>\n",
       "      <td>2.0</td>\n",
       "      <td>2.0</td>\n",
       "      <td>5.0</td>\n",
       "    </tr>\n",
       "    <tr>\n",
       "      <th>High skill tech staff</th>\n",
       "      <td>17289.0</td>\n",
       "      <td>0.473654</td>\n",
       "      <td>0.738331</td>\n",
       "      <td>0.0</td>\n",
       "      <td>0.0</td>\n",
       "      <td>0.0</td>\n",
       "      <td>1.0</td>\n",
       "      <td>4.0</td>\n",
       "      <td>17289.0</td>\n",
       "      <td>195712.011010</td>\n",
       "      <td>...</td>\n",
       "      <td>0.0</td>\n",
       "      <td>1.0</td>\n",
       "      <td>17289.0</td>\n",
       "      <td>2.244202</td>\n",
       "      <td>0.899219</td>\n",
       "      <td>1.0</td>\n",
       "      <td>2.0</td>\n",
       "      <td>2.0</td>\n",
       "      <td>3.0</td>\n",
       "      <td>6.0</td>\n",
       "    </tr>\n",
       "    <tr>\n",
       "      <th>IT staff</th>\n",
       "      <td>604.0</td>\n",
       "      <td>0.322848</td>\n",
       "      <td>0.606822</td>\n",
       "      <td>0.0</td>\n",
       "      <td>0.0</td>\n",
       "      <td>0.0</td>\n",
       "      <td>0.0</td>\n",
       "      <td>2.0</td>\n",
       "      <td>604.0</td>\n",
       "      <td>210958.733444</td>\n",
       "      <td>...</td>\n",
       "      <td>0.0</td>\n",
       "      <td>1.0</td>\n",
       "      <td>604.0</td>\n",
       "      <td>1.973510</td>\n",
       "      <td>0.869204</td>\n",
       "      <td>1.0</td>\n",
       "      <td>1.0</td>\n",
       "      <td>2.0</td>\n",
       "      <td>2.0</td>\n",
       "      <td>4.0</td>\n",
       "    </tr>\n",
       "    <tr>\n",
       "      <th>Laborers</th>\n",
       "      <td>78240.0</td>\n",
       "      <td>0.528131</td>\n",
       "      <td>0.778043</td>\n",
       "      <td>0.0</td>\n",
       "      <td>0.0</td>\n",
       "      <td>0.0</td>\n",
       "      <td>1.0</td>\n",
       "      <td>5.0</td>\n",
       "      <td>78240.0</td>\n",
       "      <td>179865.810449</td>\n",
       "      <td>...</td>\n",
       "      <td>0.0</td>\n",
       "      <td>1.0</td>\n",
       "      <td>78240.0</td>\n",
       "      <td>2.322214</td>\n",
       "      <td>0.939381</td>\n",
       "      <td>1.0</td>\n",
       "      <td>2.0</td>\n",
       "      <td>2.0</td>\n",
       "      <td>3.0</td>\n",
       "      <td>7.0</td>\n",
       "    </tr>\n",
       "    <tr>\n",
       "      <th>Low-skill Laborers</th>\n",
       "      <td>2140.0</td>\n",
       "      <td>0.465888</td>\n",
       "      <td>0.749789</td>\n",
       "      <td>0.0</td>\n",
       "      <td>0.0</td>\n",
       "      <td>0.0</td>\n",
       "      <td>1.0</td>\n",
       "      <td>5.0</td>\n",
       "      <td>2140.0</td>\n",
       "      <td>150334.309346</td>\n",
       "      <td>...</td>\n",
       "      <td>0.0</td>\n",
       "      <td>1.0</td>\n",
       "      <td>2140.0</td>\n",
       "      <td>2.257944</td>\n",
       "      <td>0.928892</td>\n",
       "      <td>1.0</td>\n",
       "      <td>2.0</td>\n",
       "      <td>2.0</td>\n",
       "      <td>3.0</td>\n",
       "      <td>7.0</td>\n",
       "    </tr>\n",
       "    <tr>\n",
       "      <th>Managers</th>\n",
       "      <td>35487.0</td>\n",
       "      <td>0.499901</td>\n",
       "      <td>0.746589</td>\n",
       "      <td>0.0</td>\n",
       "      <td>0.0</td>\n",
       "      <td>0.0</td>\n",
       "      <td>1.0</td>\n",
       "      <td>5.0</td>\n",
       "      <td>35487.0</td>\n",
       "      <td>282125.938701</td>\n",
       "      <td>...</td>\n",
       "      <td>0.0</td>\n",
       "      <td>1.0</td>\n",
       "      <td>35487.0</td>\n",
       "      <td>2.312622</td>\n",
       "      <td>0.896771</td>\n",
       "      <td>1.0</td>\n",
       "      <td>2.0</td>\n",
       "      <td>2.0</td>\n",
       "      <td>3.0</td>\n",
       "      <td>7.0</td>\n",
       "    </tr>\n",
       "    <tr>\n",
       "      <th>Medicine staff</th>\n",
       "      <td>13520.0</td>\n",
       "      <td>0.453846</td>\n",
       "      <td>0.736202</td>\n",
       "      <td>0.0</td>\n",
       "      <td>0.0</td>\n",
       "      <td>0.0</td>\n",
       "      <td>1.0</td>\n",
       "      <td>4.0</td>\n",
       "      <td>13520.0</td>\n",
       "      <td>168102.197707</td>\n",
       "      <td>...</td>\n",
       "      <td>0.0</td>\n",
       "      <td>1.0</td>\n",
       "      <td>13520.0</td>\n",
       "      <td>2.218787</td>\n",
       "      <td>0.904527</td>\n",
       "      <td>1.0</td>\n",
       "      <td>2.0</td>\n",
       "      <td>2.0</td>\n",
       "      <td>3.0</td>\n",
       "      <td>6.0</td>\n",
       "    </tr>\n",
       "    <tr>\n",
       "      <th>Private service staff</th>\n",
       "      <td>3456.0</td>\n",
       "      <td>0.549479</td>\n",
       "      <td>0.733238</td>\n",
       "      <td>0.0</td>\n",
       "      <td>0.0</td>\n",
       "      <td>0.0</td>\n",
       "      <td>1.0</td>\n",
       "      <td>3.0</td>\n",
       "      <td>3456.0</td>\n",
       "      <td>201600.651042</td>\n",
       "      <td>...</td>\n",
       "      <td>0.0</td>\n",
       "      <td>1.0</td>\n",
       "      <td>3456.0</td>\n",
       "      <td>2.253472</td>\n",
       "      <td>0.916161</td>\n",
       "      <td>1.0</td>\n",
       "      <td>2.0</td>\n",
       "      <td>2.0</td>\n",
       "      <td>3.0</td>\n",
       "      <td>5.0</td>\n",
       "    </tr>\n",
       "    <tr>\n",
       "      <th>Realty agents</th>\n",
       "      <td>1041.0</td>\n",
       "      <td>0.537944</td>\n",
       "      <td>0.770084</td>\n",
       "      <td>0.0</td>\n",
       "      <td>0.0</td>\n",
       "      <td>0.0</td>\n",
       "      <td>1.0</td>\n",
       "      <td>3.0</td>\n",
       "      <td>1041.0</td>\n",
       "      <td>223510.806916</td>\n",
       "      <td>...</td>\n",
       "      <td>0.0</td>\n",
       "      <td>1.0</td>\n",
       "      <td>1041.0</td>\n",
       "      <td>2.320845</td>\n",
       "      <td>0.946064</td>\n",
       "      <td>1.0</td>\n",
       "      <td>2.0</td>\n",
       "      <td>2.0</td>\n",
       "      <td>3.0</td>\n",
       "      <td>5.0</td>\n",
       "    </tr>\n",
       "    <tr>\n",
       "      <th>Sales staff</th>\n",
       "      <td>41098.0</td>\n",
       "      <td>0.506594</td>\n",
       "      <td>0.751582</td>\n",
       "      <td>0.0</td>\n",
       "      <td>0.0</td>\n",
       "      <td>0.0</td>\n",
       "      <td>1.0</td>\n",
       "      <td>5.0</td>\n",
       "      <td>41098.0</td>\n",
       "      <td>170912.759267</td>\n",
       "      <td>...</td>\n",
       "      <td>0.0</td>\n",
       "      <td>1.0</td>\n",
       "      <td>41098.0</td>\n",
       "      <td>2.271789</td>\n",
       "      <td>0.923111</td>\n",
       "      <td>1.0</td>\n",
       "      <td>2.0</td>\n",
       "      <td>2.0</td>\n",
       "      <td>3.0</td>\n",
       "      <td>7.0</td>\n",
       "    </tr>\n",
       "    <tr>\n",
       "      <th>Secretaries</th>\n",
       "      <td>2044.0</td>\n",
       "      <td>0.467710</td>\n",
       "      <td>0.704113</td>\n",
       "      <td>0.0</td>\n",
       "      <td>0.0</td>\n",
       "      <td>0.0</td>\n",
       "      <td>1.0</td>\n",
       "      <td>3.0</td>\n",
       "      <td>2044.0</td>\n",
       "      <td>169456.878669</td>\n",
       "      <td>...</td>\n",
       "      <td>0.0</td>\n",
       "      <td>1.0</td>\n",
       "      <td>2044.0</td>\n",
       "      <td>2.249022</td>\n",
       "      <td>0.849476</td>\n",
       "      <td>1.0</td>\n",
       "      <td>2.0</td>\n",
       "      <td>2.0</td>\n",
       "      <td>3.0</td>\n",
       "      <td>5.0</td>\n",
       "    </tr>\n",
       "    <tr>\n",
       "      <th>Security staff</th>\n",
       "      <td>7993.0</td>\n",
       "      <td>0.424997</td>\n",
       "      <td>0.722795</td>\n",
       "      <td>0.0</td>\n",
       "      <td>0.0</td>\n",
       "      <td>0.0</td>\n",
       "      <td>1.0</td>\n",
       "      <td>5.0</td>\n",
       "      <td>7993.0</td>\n",
       "      <td>169835.113662</td>\n",
       "      <td>...</td>\n",
       "      <td>0.0</td>\n",
       "      <td>1.0</td>\n",
       "      <td>7993.0</td>\n",
       "      <td>2.217941</td>\n",
       "      <td>0.873961</td>\n",
       "      <td>1.0</td>\n",
       "      <td>2.0</td>\n",
       "      <td>2.0</td>\n",
       "      <td>3.0</td>\n",
       "      <td>7.0</td>\n",
       "    </tr>\n",
       "    <tr>\n",
       "      <th>Waiters/barmen staff</th>\n",
       "      <td>1665.0</td>\n",
       "      <td>0.528529</td>\n",
       "      <td>0.894325</td>\n",
       "      <td>0.0</td>\n",
       "      <td>0.0</td>\n",
       "      <td>0.0</td>\n",
       "      <td>1.0</td>\n",
       "      <td>19.0</td>\n",
       "      <td>1665.0</td>\n",
       "      <td>158796.621622</td>\n",
       "      <td>...</td>\n",
       "      <td>0.0</td>\n",
       "      <td>1.0</td>\n",
       "      <td>1665.0</td>\n",
       "      <td>2.174775</td>\n",
       "      <td>1.049880</td>\n",
       "      <td>1.0</td>\n",
       "      <td>2.0</td>\n",
       "      <td>2.0</td>\n",
       "      <td>3.0</td>\n",
       "      <td>20.0</td>\n",
       "    </tr>\n",
       "    <tr>\n",
       "      <th>undetermine</th>\n",
       "      <td>134203.0</td>\n",
       "      <td>0.237826</td>\n",
       "      <td>0.579992</td>\n",
       "      <td>0.0</td>\n",
       "      <td>0.0</td>\n",
       "      <td>0.0</td>\n",
       "      <td>0.0</td>\n",
       "      <td>6.0</td>\n",
       "      <td>134203.0</td>\n",
       "      <td>170869.803331</td>\n",
       "      <td>...</td>\n",
       "      <td>0.0</td>\n",
       "      <td>1.0</td>\n",
       "      <td>134203.0</td>\n",
       "      <td>1.959695</td>\n",
       "      <td>0.778673</td>\n",
       "      <td>1.0</td>\n",
       "      <td>1.0</td>\n",
       "      <td>2.0</td>\n",
       "      <td>2.0</td>\n",
       "      <td>8.0</td>\n",
       "    </tr>\n",
       "  </tbody>\n",
       "</table>\n",
       "<p>19 rows × 72 columns</p>\n",
       "</div>"
      ],
      "text/plain": [
       "                      CNT_CHILDREN                                          \\\n",
       "                             count      mean       std  min  25%  50%  75%   \n",
       "OCCUPATION_TYPE                                                              \n",
       "Accountants                15985.0  0.495715  0.740892  0.0  0.0  0.0  1.0   \n",
       "Cleaning staff              5845.0  0.353122  0.769583  0.0  0.0  0.0  0.0   \n",
       "Cooking staff               8076.0  0.476721  0.747390  0.0  0.0  0.0  1.0   \n",
       "Core staff                 43007.0  0.554491  0.776073  0.0  0.0  0.0  1.0   \n",
       "Drivers                    26090.0  0.555424  0.816348  0.0  0.0  0.0  1.0   \n",
       "HR staff                     774.0  0.325581  0.599648  0.0  0.0  0.0  1.0   \n",
       "High skill tech staff      17289.0  0.473654  0.738331  0.0  0.0  0.0  1.0   \n",
       "IT staff                     604.0  0.322848  0.606822  0.0  0.0  0.0  0.0   \n",
       "Laborers                   78240.0  0.528131  0.778043  0.0  0.0  0.0  1.0   \n",
       "Low-skill Laborers          2140.0  0.465888  0.749789  0.0  0.0  0.0  1.0   \n",
       "Managers                   35487.0  0.499901  0.746589  0.0  0.0  0.0  1.0   \n",
       "Medicine staff             13520.0  0.453846  0.736202  0.0  0.0  0.0  1.0   \n",
       "Private service staff       3456.0  0.549479  0.733238  0.0  0.0  0.0  1.0   \n",
       "Realty agents               1041.0  0.537944  0.770084  0.0  0.0  0.0  1.0   \n",
       "Sales staff                41098.0  0.506594  0.751582  0.0  0.0  0.0  1.0   \n",
       "Secretaries                 2044.0  0.467710  0.704113  0.0  0.0  0.0  1.0   \n",
       "Security staff              7993.0  0.424997  0.722795  0.0  0.0  0.0  1.0   \n",
       "Waiters/barmen staff        1665.0  0.528529  0.894325  0.0  0.0  0.0  1.0   \n",
       "undetermine               134203.0  0.237826  0.579992  0.0  0.0  0.0  0.0   \n",
       "\n",
       "                            AMT_INCOME_TOTAL                 ... FLAG_EMAIL  \\\n",
       "                        max            count           mean  ...        75%   \n",
       "OCCUPATION_TYPE                                              ...              \n",
       "Accountants             4.0          15985.0  215137.274977  ...        0.0   \n",
       "Cleaning staff          7.0           5845.0  147064.463815  ...        0.0   \n",
       "Cooking staff           4.0           8076.0  155848.425334  ...        0.0   \n",
       "Core staff             12.0          43007.0  190905.844378  ...        0.0   \n",
       "Drivers                14.0          26090.0  202065.242047  ...        0.0   \n",
       "HR staff                3.0            774.0  203620.686047  ...        0.0   \n",
       "High skill tech staff   4.0          17289.0  195712.011010  ...        0.0   \n",
       "IT staff                2.0            604.0  210958.733444  ...        0.0   \n",
       "Laborers                5.0          78240.0  179865.810449  ...        0.0   \n",
       "Low-skill Laborers      5.0           2140.0  150334.309346  ...        0.0   \n",
       "Managers                5.0          35487.0  282125.938701  ...        0.0   \n",
       "Medicine staff          4.0          13520.0  168102.197707  ...        0.0   \n",
       "Private service staff   3.0           3456.0  201600.651042  ...        0.0   \n",
       "Realty agents           3.0           1041.0  223510.806916  ...        0.0   \n",
       "Sales staff             5.0          41098.0  170912.759267  ...        0.0   \n",
       "Secretaries             3.0           2044.0  169456.878669  ...        0.0   \n",
       "Security staff          5.0           7993.0  169835.113662  ...        0.0   \n",
       "Waiters/barmen staff   19.0           1665.0  158796.621622  ...        0.0   \n",
       "undetermine             6.0         134203.0  170869.803331  ...        0.0   \n",
       "\n",
       "                           CNT_FAM_MEMBERS                                     \\\n",
       "                       max           count      mean       std  min  25%  50%   \n",
       "OCCUPATION_TYPE                                                                 \n",
       "Accountants            1.0         15985.0  2.262871  0.911959  1.0  2.0  2.0   \n",
       "Cleaning staff         1.0          5845.0  2.069632  0.936069  1.0  2.0  2.0   \n",
       "Cooking staff          1.0          8076.0  2.247400  0.897999  1.0  2.0  2.0   \n",
       "Core staff             1.0         43007.0  2.337061  0.942617  1.0  2.0  2.0   \n",
       "Drivers                1.0         26090.0  2.407512  0.939329  1.0  2.0  2.0   \n",
       "HR staff               1.0           774.0  2.020672  0.807203  1.0  1.0  2.0   \n",
       "High skill tech staff  1.0         17289.0  2.244202  0.899219  1.0  2.0  2.0   \n",
       "IT staff               1.0           604.0  1.973510  0.869204  1.0  1.0  2.0   \n",
       "Laborers               1.0         78240.0  2.322214  0.939381  1.0  2.0  2.0   \n",
       "Low-skill Laborers     1.0          2140.0  2.257944  0.928892  1.0  2.0  2.0   \n",
       "Managers               1.0         35487.0  2.312622  0.896771  1.0  2.0  2.0   \n",
       "Medicine staff         1.0         13520.0  2.218787  0.904527  1.0  2.0  2.0   \n",
       "Private service staff  1.0          3456.0  2.253472  0.916161  1.0  2.0  2.0   \n",
       "Realty agents          1.0          1041.0  2.320845  0.946064  1.0  2.0  2.0   \n",
       "Sales staff            1.0         41098.0  2.271789  0.923111  1.0  2.0  2.0   \n",
       "Secretaries            1.0          2044.0  2.249022  0.849476  1.0  2.0  2.0   \n",
       "Security staff         1.0          7993.0  2.217941  0.873961  1.0  2.0  2.0   \n",
       "Waiters/barmen staff   1.0          1665.0  2.174775  1.049880  1.0  2.0  2.0   \n",
       "undetermine            1.0        134203.0  1.959695  0.778673  1.0  1.0  2.0   \n",
       "\n",
       "                                  \n",
       "                       75%   max  \n",
       "OCCUPATION_TYPE                   \n",
       "Accountants            3.0   6.0  \n",
       "Cleaning staff         2.0   9.0  \n",
       "Cooking staff          3.0   6.0  \n",
       "Core staff             3.0  14.0  \n",
       "Drivers                3.0  15.0  \n",
       "HR staff               2.0   5.0  \n",
       "High skill tech staff  3.0   6.0  \n",
       "IT staff               2.0   4.0  \n",
       "Laborers               3.0   7.0  \n",
       "Low-skill Laborers     3.0   7.0  \n",
       "Managers               3.0   7.0  \n",
       "Medicine staff         3.0   6.0  \n",
       "Private service staff  3.0   5.0  \n",
       "Realty agents          3.0   5.0  \n",
       "Sales staff            3.0   7.0  \n",
       "Secretaries            3.0   5.0  \n",
       "Security staff         3.0   7.0  \n",
       "Waiters/barmen staff   3.0  20.0  \n",
       "undetermine            2.0   8.0  \n",
       "\n",
       "[19 rows x 72 columns]"
      ]
     },
     "execution_count": 171,
     "metadata": {},
     "output_type": "execute_result"
    }
   ],
   "source": [
    "df_test.groupby('OCCUPATION_TYPE').describe()"
   ]
  },
  {
   "cell_type": "markdown",
   "metadata": {},
   "source": [
    "#### Outliers"
   ]
  },
  {
   "cell_type": "code",
   "execution_count": null,
   "metadata": {},
   "outputs": [
    {
     "data": {
      "text/plain": [
       "<AxesSubplot:ylabel='DAYS_EMPLOYED'>"
      ]
     },
     "execution_count": 172,
     "metadata": {},
     "output_type": "execute_result"
    },
    {
     "data": {
      "image/png": "[encoded data removed]",
      "text/plain": [
       "<Figure size 432x288 with 1 Axes>"
      ]
     },
     "metadata": {
      "needs_background": "light"
     },
     "output_type": "display_data"
    }
   ],
   "source": [
    "sns.boxplot(data = df, y='DAYS_EMPLOYED')"
   ]
  },
  {
   "cell_type": "code",
   "execution_count": null,
   "metadata": {},
   "outputs": [
    {
     "data": {
      "text/plain": [
       "Int64Index([5008812, 5008813, 5008814, 5008884, 5008974, 5008975, 5008976,\n",
       "            5008977, 5008978, 5008979,\n",
       "            ...\n",
       "            6836902, 6837198, 6837493, 6839651, 6839890, 6840098, 6840100,\n",
       "            6840102, 6840104, 6842765],\n",
       "           dtype='int64', name='ID', length=75329)"
      ]
     },
     "execution_count": 173,
     "metadata": {},
     "output_type": "execute_result"
    }
   ],
   "source": [
    "# Find index values of observations above 50000\n",
    "drop_employ_outliers = df[df['DAYS_EMPLOYED']>50000].index\n",
    "drop_employ_outliers"
   ]
  },
  {
   "cell_type": "code",
   "execution_count": null,
   "metadata": {},
   "outputs": [],
   "source": [
    "df.drop(drop_employ_outliers, inplace=True)"
   ]
  },
  {
   "cell_type": "code",
   "execution_count": null,
   "metadata": {},
   "outputs": [
    {
     "data": {
      "text/plain": [
       "<AxesSubplot:ylabel='DAYS_EMPLOYED'>"
      ]
     },
     "execution_count": 175,
     "metadata": {},
     "output_type": "execute_result"
    },
    {
     "data": {
      "image/png": "[encoded data removed]",
      "text/plain": [
       "<Figure size 432x288 with 1 Axes>"
      ]
     },
     "metadata": {
      "needs_background": "light"
     },
     "output_type": "display_data"
    }
   ],
   "source": [
    "sns.boxplot(data = df, y='DAYS_EMPLOYED')"
   ]
  },
  {
   "cell_type": "code",
   "execution_count": null,
   "metadata": {},
   "outputs": [
    {
     "data": {
      "text/plain": [
       "<AxesSubplot:ylabel='DAYS_BIRTH'>"
      ]
     },
     "execution_count": 176,
     "metadata": {},
     "output_type": "execute_result"
    },
    {
     "data": {
      "image/png": "[encoded data removed]",
      "text/plain": [
       "<Figure size 432x288 with 1 Axes>"
      ]
     },
     "metadata": {
      "needs_background": "light"
     },
     "output_type": "display_data"
    }
   ],
   "source": [
    "sns.boxplot(data = df, y='DAYS_BIRTH')"
   ]
  },
  {
   "cell_type": "code",
   "execution_count": null,
   "metadata": {},
   "outputs": [
    {
     "data": {
      "text/plain": [
       "<AxesSubplot:ylabel='CNT_FAM_MEMBERS'>"
      ]
     },
     "execution_count": 177,
     "metadata": {},
     "output_type": "execute_result"
    },
    {
     "data": {
      "image/png": "[encoded data removed]",
      "text/plain": [
       "<Figure size 432x288 with 1 Axes>"
      ]
     },
     "metadata": {
      "needs_background": "light"
     },
     "output_type": "display_data"
    }
   ],
   "source": [
    "sns.boxplot(data = df, y='CNT_FAM_MEMBERS')"
   ]
  },
  {
   "cell_type": "code",
   "execution_count": null,
   "metadata": {},
   "outputs": [
    {
     "data": {
      "text/plain": [
       "Int64Index([5008836, 5008837, 5021339, 5021340, 5021341, 5021342, 5021343,\n",
       "            5021500, 5113188, 5021620,\n",
       "            ...\n",
       "            6569307, 6603752, 6637951, 6715605, 6715606, 6731470, 6763905,\n",
       "            6789949, 6806287, 6806290],\n",
       "           dtype='int64', name='ID', length=5602)"
      ]
     },
     "execution_count": 178,
     "metadata": {},
     "output_type": "execute_result"
    }
   ],
   "source": [
    "# Find index values of observations above 4\n",
    "drop_fam_outliers = df[df['CNT_FAM_MEMBERS']>4].index\n",
    "drop_fam_outliers"
   ]
  },
  {
   "cell_type": "code",
   "execution_count": null,
   "metadata": {},
   "outputs": [],
   "source": [
    "df.drop(drop_fam_outliers, inplace=True)"
   ]
  },
  {
   "cell_type": "code",
   "execution_count": null,
   "metadata": {},
   "outputs": [
    {
     "data": {
      "text/plain": [
       "<AxesSubplot:ylabel='CNT_FAM_MEMBERS'>"
      ]
     },
     "execution_count": 180,
     "metadata": {},
     "output_type": "execute_result"
    },
    {
     "data": {
      "image/png": "[encoded data removed]",
      "text/plain": [
       "<Figure size 432x288 with 1 Axes>"
      ]
     },
     "metadata": {
      "needs_background": "light"
     },
     "output_type": "display_data"
    }
   ],
   "source": [
    "sns.boxplot(data = df, y='CNT_FAM_MEMBERS')"
   ]
  },
  {
   "cell_type": "code",
   "execution_count": null,
   "metadata": {},
   "outputs": [
    {
     "data": {
      "text/plain": [
       "<AxesSubplot:ylabel='AMT_INCOME_TOTAL'>"
      ]
     },
     "execution_count": 181,
     "metadata": {},
     "output_type": "execute_result"
    },
    {
     "data": {
      "image/png": "[encoded data removed]",
      "text/plain": [
       "<Figure size 432x288 with 1 Axes>"
      ]
     },
     "metadata": {
      "needs_background": "light"
     },
     "output_type": "display_data"
    }
   ],
   "source": [
    "sns.boxplot(data = df, y='AMT_INCOME_TOTAL')"
   ]
  },
  {
   "cell_type": "code",
   "execution_count": null,
   "metadata": {},
   "outputs": [
    {
     "data": {
      "text/plain": [
       "Int64Index([5143231, 5143232, 5143233, 5143234, 5143235, 5143236, 5143237,\n",
       "            5143238, 5163386, 5163387,\n",
       "            ...\n",
       "            6832249, 6832250, 6832251, 6832252, 6832253, 6832254, 7987964,\n",
       "            7873452, 7884723, 7996394],\n",
       "           dtype='int64', name='ID', length=131)"
      ]
     },
     "execution_count": 182,
     "metadata": {},
     "output_type": "execute_result"
    }
   ],
   "source": [
    "# Find index values of observations above 2500000\n",
    "drop_income_outliers = df[df['AMT_INCOME_TOTAL']>1500000].index\n",
    "drop_income_outliers"
   ]
  },
  {
   "cell_type": "code",
   "execution_count": null,
   "metadata": {},
   "outputs": [],
   "source": [
    "df.drop(drop_income_outliers, inplace=True)"
   ]
  },
  {
   "cell_type": "code",
   "execution_count": null,
   "metadata": {},
   "outputs": [
    {
     "data": {
      "text/plain": [
       "<AxesSubplot:ylabel='AMT_INCOME_TOTAL'>"
      ]
     },
     "execution_count": 184,
     "metadata": {},
     "output_type": "execute_result"
    },
    {
     "data": {
      "image/png": "[encoded data removed]",
      "text/plain": [
       "<Figure size 432x288 with 1 Axes>"
      ]
     },
     "metadata": {
      "needs_background": "light"
     },
     "output_type": "display_data"
    }
   ],
   "source": [
    "sns.boxplot(data = df, y='AMT_INCOME_TOTAL')"
   ]
  },
  {
   "cell_type": "code",
   "execution_count": null,
   "metadata": {},
   "outputs": [],
   "source": [
    "df.drop_duplicates(inplace=True)#let's drop any duplicate entries."
   ]
  },
  {
   "cell_type": "code",
   "execution_count": null,
   "metadata": {},
   "outputs": [
    {
     "name": "stdout",
     "output_type": "stream",
     "text": [
      "<class 'pandas.core.frame.DataFrame'>\n",
      "Int64Index: 73219 entries, 5008804 to 6840222\n",
      "Data columns (total 17 columns):\n",
      " #   Column               Non-Null Count  Dtype  \n",
      "---  ------               --------------  -----  \n",
      " 0   CODE_GENDER          73219 non-null  object \n",
      " 1   FLAG_OWN_CAR         73219 non-null  object \n",
      " 2   FLAG_OWN_REALTY      73219 non-null  object \n",
      " 3   CNT_CHILDREN         73219 non-null  int64  \n",
      " 4   AMT_INCOME_TOTAL     73219 non-null  float64\n",
      " 5   NAME_INCOME_TYPE     73219 non-null  object \n",
      " 6   NAME_EDUCATION_TYPE  73219 non-null  object \n",
      " 7   NAME_FAMILY_STATUS   73219 non-null  object \n",
      " 8   NAME_HOUSING_TYPE    73219 non-null  object \n",
      " 9   DAYS_BIRTH           73219 non-null  int64  \n",
      " 10  DAYS_EMPLOYED        73219 non-null  int64  \n",
      " 11  FLAG_MOBIL           73219 non-null  int64  \n",
      " 12  FLAG_WORK_PHONE      73219 non-null  int64  \n",
      " 13  FLAG_PHONE           73219 non-null  int64  \n",
      " 14  FLAG_EMAIL           73219 non-null  int64  \n",
      " 15  OCCUPATION_TYPE      73219 non-null  object \n",
      " 16  CNT_FAM_MEMBERS      73219 non-null  float64\n",
      "dtypes: float64(2), int64(7), object(8)\n",
      "memory usage: 10.1+ MB\n"
     ]
    }
   ],
   "source": [
    "df.info()"
   ]
  },
  {
   "cell_type": "code",
   "execution_count": 14,
   "metadata": {},
   "outputs": [],
   "source": [
    "record.drop_duplicates(inplace=True)#let's drop any duplicate entries."
   ]
  },
  {
   "cell_type": "code",
   "execution_count": null,
   "metadata": {},
   "outputs": [
    {
     "data": {
      "text/plain": [
       "<AxesSubplot:xlabel='DAYS_EMPLOYED', ylabel='Count'>"
      ]
     },
     "execution_count": 187,
     "metadata": {},
     "output_type": "execute_result"
    },
    {
     "data": {
      "image/png": "[encoded data removed]",
      "text/plain": [
       "<Figure size 432x288 with 1 Axes>"
      ]
     },
     "metadata": {
      "needs_background": "light"
     },
     "output_type": "display_data"
    }
   ],
   "source": [
    "sns.histplot(df['DAYS_EMPLOYED'])"
   ]
  },
  {
   "cell_type": "code",
   "execution_count": null,
   "metadata": {},
   "outputs": [
    {
     "data": {
      "text/plain": [
       "<AxesSubplot:xlabel='DAYS_BIRTH', ylabel='Count'>"
      ]
     },
     "execution_count": 188,
     "metadata": {},
     "output_type": "execute_result"
    },
    {
     "data": {
      "image/png": "[encoded data removed]",
      "text/plain": [
       "<Figure size 432x288 with 1 Axes>"
      ]
     },
     "metadata": {
      "needs_background": "light"
     },
     "output_type": "display_data"
    }
   ],
   "source": [
    "sns.histplot(df['DAYS_BIRTH'])"
   ]
  },
  {
   "cell_type": "code",
   "execution_count": null,
   "metadata": {},
   "outputs": [
    {
     "data": {
      "text/plain": [
       "<AxesSubplot:xlabel='OCCUPATION_TYPE'>"
      ]
     },
     "execution_count": 189,
     "metadata": {},
     "output_type": "execute_result"
    },
    {
     "data": {
      "image/png": "[encoded data removed]",
      "text/plain": [
       "<Figure size 720x360 with 1 Axes>"
      ]
     },
     "metadata": {
      "needs_background": "light"
     },
     "output_type": "display_data"
    }
   ],
   "source": [
    "df.groupby('OCCUPATION_TYPE')['DAYS_BIRTH'].count().sort_values(ascending=False).plot(kind='bar', figsize=(10,5))"
   ]
  },
  {
   "cell_type": "code",
   "execution_count": null,
   "metadata": {},
   "outputs": [
    {
     "data": {
      "text/plain": [
       "<AxesSubplot:xlabel='OCCUPATION_TYPE'>"
      ]
     },
     "execution_count": 190,
     "metadata": {},
     "output_type": "execute_result"
    },
    {
     "data": {
      "image/png": "[encoded data removed]",
      "text/plain": [
       "<Figure size 720x360 with 1 Axes>"
      ]
     },
     "metadata": {
      "needs_background": "light"
     },
     "output_type": "display_data"
    }
   ],
   "source": [
    "df.groupby('OCCUPATION_TYPE')['DAYS_EMPLOYED'].count().sort_values(ascending=False).plot(kind='bar', figsize=(10,5))"
   ]
  },
  {
   "cell_type": "markdown",
   "metadata": {},
   "source": [
    "We can see that Laborers has the highest number of days been employed and days of birth, followed by undetermine, sales staff and core staff. On the other hand, IT staff has the least number of days."
   ]
  },
  {
   "cell_type": "code",
   "execution_count": null,
   "metadata": {},
   "outputs": [
    {
     "data": {
      "text/plain": [
       "<AxesSubplot:xlabel='NAME_INCOME_TYPE'>"
      ]
     },
     "execution_count": 191,
     "metadata": {},
     "output_type": "execute_result"
    },
    {
     "data": {
      "image/png": "[encoded data removed]",
      "text/plain": [
       "<Figure size 720x360 with 1 Axes>"
      ]
     },
     "metadata": {
      "needs_background": "light"
     },
     "output_type": "display_data"
    }
   ],
   "source": [
    "df.groupby('NAME_INCOME_TYPE')['DAYS_EMPLOYED'].count().sort_values(ascending=False).plot(kind='bar', figsize=(10,5))"
   ]
  },
  {
   "cell_type": "code",
   "execution_count": null,
   "metadata": {},
   "outputs": [
    {
     "data": {
      "text/plain": [
       "<AxesSubplot:xlabel='NAME_INCOME_TYPE'>"
      ]
     },
     "execution_count": 192,
     "metadata": {},
     "output_type": "execute_result"
    },
    {
     "data": {
      "image/png": "[encoded data removed]",
      "text/plain": [
       "<Figure size 720x360 with 1 Axes>"
      ]
     },
     "metadata": {
      "needs_background": "light"
     },
     "output_type": "display_data"
    }
   ],
   "source": [
    "df.groupby('NAME_INCOME_TYPE')['DAYS_BIRTH'].count().sort_values(ascending=False).plot(kind='bar', figsize=(10,5))"
   ]
  },
  {
   "cell_type": "markdown",
   "metadata": {},
   "source": [
    "We can see that Workers has the highest number of days been employed and days of birth, followed by commercial associate. On the other hand, student has the least number of days."
   ]
  },
  {
   "cell_type": "code",
   "execution_count": null,
   "metadata": {},
   "outputs": [
    {
     "data": {
      "text/html": [
       "<div>\n",
       "<style scoped>\n",
       "    .dataframe tbody tr th:only-of-type {\n",
       "        vertical-align: middle;\n",
       "    }\n",
       "\n",
       "    .dataframe tbody tr th {\n",
       "        vertical-align: top;\n",
       "    }\n",
       "\n",
       "    .dataframe thead th {\n",
       "        text-align: right;\n",
       "    }\n",
       "</style>\n",
       "<table border=\"1\" class=\"dataframe\">\n",
       "  <thead>\n",
       "    <tr style=\"text-align: right;\">\n",
       "      <th></th>\n",
       "      <th>sum</th>\n",
       "      <th>mean</th>\n",
       "      <th>median</th>\n",
       "      <th>count</th>\n",
       "    </tr>\n",
       "    <tr>\n",
       "      <th>NAME_INCOME_TYPE</th>\n",
       "      <th></th>\n",
       "      <th></th>\n",
       "      <th></th>\n",
       "      <th></th>\n",
       "    </tr>\n",
       "  </thead>\n",
       "  <tbody>\n",
       "    <tr>\n",
       "      <th>Commercial associate</th>\n",
       "      <td>-303485938</td>\n",
       "      <td>-14683.856106</td>\n",
       "      <td>-14505.5</td>\n",
       "      <td>20668</td>\n",
       "    </tr>\n",
       "    <tr>\n",
       "      <th>Pensioner</th>\n",
       "      <td>-2294594</td>\n",
       "      <td>-15399.959732</td>\n",
       "      <td>-15295.0</td>\n",
       "      <td>149</td>\n",
       "    </tr>\n",
       "    <tr>\n",
       "      <th>State servant</th>\n",
       "      <td>-97462171</td>\n",
       "      <td>-14920.724280</td>\n",
       "      <td>-14680.5</td>\n",
       "      <td>6532</td>\n",
       "    </tr>\n",
       "    <tr>\n",
       "      <th>Student</th>\n",
       "      <td>-77827</td>\n",
       "      <td>-12971.166667</td>\n",
       "      <td>-12203.5</td>\n",
       "      <td>6</td>\n",
       "    </tr>\n",
       "    <tr>\n",
       "      <th>Working</th>\n",
       "      <td>-672899930</td>\n",
       "      <td>-14671.636360</td>\n",
       "      <td>-14479.0</td>\n",
       "      <td>45864</td>\n",
       "    </tr>\n",
       "  </tbody>\n",
       "</table>\n",
       "</div>"
      ],
      "text/plain": [
       "                            sum          mean   median  count\n",
       "NAME_INCOME_TYPE                                             \n",
       "Commercial associate -303485938 -14683.856106 -14505.5  20668\n",
       "Pensioner              -2294594 -15399.959732 -15295.0    149\n",
       "State servant         -97462171 -14920.724280 -14680.5   6532\n",
       "Student                  -77827 -12971.166667 -12203.5      6\n",
       "Working              -672899930 -14671.636360 -14479.0  45864"
      ]
     },
     "execution_count": 193,
     "metadata": {},
     "output_type": "execute_result"
    }
   ],
   "source": [
    "units_by_type = df.groupby('NAME_INCOME_TYPE')['DAYS_BIRTH'].aggregate(['sum','mean','median','count'])\n",
    "units_by_type"
   ]
  },
  {
   "cell_type": "code",
   "execution_count": null,
   "metadata": {},
   "outputs": [
    {
     "data": {
      "text/html": [
       "<div>\n",
       "<style scoped>\n",
       "    .dataframe tbody tr th:only-of-type {\n",
       "        vertical-align: middle;\n",
       "    }\n",
       "\n",
       "    .dataframe tbody tr th {\n",
       "        vertical-align: top;\n",
       "    }\n",
       "\n",
       "    .dataframe thead th {\n",
       "        text-align: right;\n",
       "    }\n",
       "</style>\n",
       "<table border=\"1\" class=\"dataframe\">\n",
       "  <thead>\n",
       "    <tr style=\"text-align: right;\">\n",
       "      <th></th>\n",
       "      <th>sum</th>\n",
       "      <th>mean</th>\n",
       "      <th>median</th>\n",
       "      <th>count</th>\n",
       "    </tr>\n",
       "    <tr>\n",
       "      <th>NAME_INCOME_TYPE</th>\n",
       "      <th></th>\n",
       "      <th></th>\n",
       "      <th></th>\n",
       "      <th></th>\n",
       "    </tr>\n",
       "  </thead>\n",
       "  <tbody>\n",
       "    <tr>\n",
       "      <th>Commercial associate</th>\n",
       "      <td>4.347740e+09</td>\n",
       "      <td>210360.936938</td>\n",
       "      <td>180000.0</td>\n",
       "      <td>20668</td>\n",
       "    </tr>\n",
       "    <tr>\n",
       "      <th>Pensioner</th>\n",
       "      <td>3.175676e+07</td>\n",
       "      <td>213132.624161</td>\n",
       "      <td>180000.0</td>\n",
       "      <td>149</td>\n",
       "    </tr>\n",
       "    <tr>\n",
       "      <th>State servant</th>\n",
       "      <td>1.247932e+09</td>\n",
       "      <td>191048.977036</td>\n",
       "      <td>175500.0</td>\n",
       "      <td>6532</td>\n",
       "    </tr>\n",
       "    <tr>\n",
       "      <th>Student</th>\n",
       "      <td>9.765000e+05</td>\n",
       "      <td>162750.000000</td>\n",
       "      <td>164250.0</td>\n",
       "      <td>6</td>\n",
       "    </tr>\n",
       "    <tr>\n",
       "      <th>Working</th>\n",
       "      <td>7.904981e+09</td>\n",
       "      <td>172356.992151</td>\n",
       "      <td>157500.0</td>\n",
       "      <td>45864</td>\n",
       "    </tr>\n",
       "  </tbody>\n",
       "</table>\n",
       "</div>"
      ],
      "text/plain": [
       "                               sum           mean    median  count\n",
       "NAME_INCOME_TYPE                                                  \n",
       "Commercial associate  4.347740e+09  210360.936938  180000.0  20668\n",
       "Pensioner             3.175676e+07  213132.624161  180000.0    149\n",
       "State servant         1.247932e+09  191048.977036  175500.0   6532\n",
       "Student               9.765000e+05  162750.000000  164250.0      6\n",
       "Working               7.904981e+09  172356.992151  157500.0  45864"
      ]
     },
     "execution_count": 194,
     "metadata": {},
     "output_type": "execute_result"
    }
   ],
   "source": [
    "units_by_type2 = df.groupby('NAME_INCOME_TYPE')['AMT_INCOME_TOTAL'].aggregate(['sum','mean','median','count'])\n",
    "units_by_type2"
   ]
  },
  {
   "cell_type": "code",
   "execution_count": null,
   "metadata": {},
   "outputs": [
    {
     "data": {
      "text/html": [
       "<div>\n",
       "<style scoped>\n",
       "    .dataframe tbody tr th:only-of-type {\n",
       "        vertical-align: middle;\n",
       "    }\n",
       "\n",
       "    .dataframe tbody tr th {\n",
       "        vertical-align: top;\n",
       "    }\n",
       "\n",
       "    .dataframe thead th {\n",
       "        text-align: right;\n",
       "    }\n",
       "</style>\n",
       "<table border=\"1\" class=\"dataframe\">\n",
       "  <thead>\n",
       "    <tr style=\"text-align: right;\">\n",
       "      <th></th>\n",
       "      <th>sum</th>\n",
       "      <th>mean</th>\n",
       "      <th>median</th>\n",
       "      <th>count</th>\n",
       "    </tr>\n",
       "    <tr>\n",
       "      <th>OCCUPATION_TYPE</th>\n",
       "      <th></th>\n",
       "      <th></th>\n",
       "      <th></th>\n",
       "      <th></th>\n",
       "    </tr>\n",
       "  </thead>\n",
       "  <tbody>\n",
       "    <tr>\n",
       "      <th>Accountants</th>\n",
       "      <td>6.069931e+08</td>\n",
       "      <td>202736.491984</td>\n",
       "      <td>180000.0</td>\n",
       "      <td>2994</td>\n",
       "    </tr>\n",
       "    <tr>\n",
       "      <th>Cleaning staff</th>\n",
       "      <td>1.678533e+08</td>\n",
       "      <td>139877.748750</td>\n",
       "      <td>135000.0</td>\n",
       "      <td>1200</td>\n",
       "    </tr>\n",
       "    <tr>\n",
       "      <th>Cooking staff</th>\n",
       "      <td>2.595583e+08</td>\n",
       "      <td>149257.208453</td>\n",
       "      <td>135000.0</td>\n",
       "      <td>1739</td>\n",
       "    </tr>\n",
       "    <tr>\n",
       "      <th>Core staff</th>\n",
       "      <td>1.443419e+09</td>\n",
       "      <td>181859.570747</td>\n",
       "      <td>157500.0</td>\n",
       "      <td>7937</td>\n",
       "    </tr>\n",
       "    <tr>\n",
       "      <th>Drivers</th>\n",
       "      <td>1.123572e+09</td>\n",
       "      <td>194895.428534</td>\n",
       "      <td>180000.0</td>\n",
       "      <td>5765</td>\n",
       "    </tr>\n",
       "    <tr>\n",
       "      <th>HR staff</th>\n",
       "      <td>3.239989e+07</td>\n",
       "      <td>196362.954545</td>\n",
       "      <td>180000.0</td>\n",
       "      <td>165</td>\n",
       "    </tr>\n",
       "    <tr>\n",
       "      <th>High skill tech staff</th>\n",
       "      <td>6.303540e+08</td>\n",
       "      <td>190381.754561</td>\n",
       "      <td>180000.0</td>\n",
       "      <td>3311</td>\n",
       "    </tr>\n",
       "    <tr>\n",
       "      <th>IT staff</th>\n",
       "      <td>2.663392e+07</td>\n",
       "      <td>213071.400000</td>\n",
       "      <td>180000.0</td>\n",
       "      <td>125</td>\n",
       "    </tr>\n",
       "    <tr>\n",
       "      <th>Laborers</th>\n",
       "      <td>2.833494e+09</td>\n",
       "      <td>173281.190680</td>\n",
       "      <td>157500.0</td>\n",
       "      <td>16352</td>\n",
       "    </tr>\n",
       "    <tr>\n",
       "      <th>Low-skill Laborers</th>\n",
       "      <td>7.959049e+07</td>\n",
       "      <td>142891.368043</td>\n",
       "      <td>135000.0</td>\n",
       "      <td>557</td>\n",
       "    </tr>\n",
       "    <tr>\n",
       "      <th>Managers</th>\n",
       "      <td>1.744699e+09</td>\n",
       "      <td>265272.831762</td>\n",
       "      <td>225000.0</td>\n",
       "      <td>6577</td>\n",
       "    </tr>\n",
       "    <tr>\n",
       "      <th>Medicine staff</th>\n",
       "      <td>3.908790e+08</td>\n",
       "      <td>159999.575931</td>\n",
       "      <td>137700.0</td>\n",
       "      <td>2443</td>\n",
       "    </tr>\n",
       "    <tr>\n",
       "      <th>Private service staff</th>\n",
       "      <td>1.382805e+08</td>\n",
       "      <td>185860.887097</td>\n",
       "      <td>166500.0</td>\n",
       "      <td>744</td>\n",
       "    </tr>\n",
       "    <tr>\n",
       "      <th>Realty agents</th>\n",
       "      <td>4.583925e+07</td>\n",
       "      <td>211240.783410</td>\n",
       "      <td>202500.0</td>\n",
       "      <td>217</td>\n",
       "    </tr>\n",
       "    <tr>\n",
       "      <th>Sales staff</th>\n",
       "      <td>1.461405e+09</td>\n",
       "      <td>162522.852438</td>\n",
       "      <td>135000.0</td>\n",
       "      <td>8992</td>\n",
       "    </tr>\n",
       "    <tr>\n",
       "      <th>Secretaries</th>\n",
       "      <td>6.661098e+07</td>\n",
       "      <td>163663.341523</td>\n",
       "      <td>135000.0</td>\n",
       "      <td>407</td>\n",
       "    </tr>\n",
       "    <tr>\n",
       "      <th>Security staff</th>\n",
       "      <td>2.796860e+08</td>\n",
       "      <td>162608.161919</td>\n",
       "      <td>144000.0</td>\n",
       "      <td>1720</td>\n",
       "    </tr>\n",
       "    <tr>\n",
       "      <th>Waiters/barmen staff</th>\n",
       "      <td>5.895112e+07</td>\n",
       "      <td>152328.488372</td>\n",
       "      <td>135000.0</td>\n",
       "      <td>387</td>\n",
       "    </tr>\n",
       "    <tr>\n",
       "      <th>undetermine</th>\n",
       "      <td>2.143166e+09</td>\n",
       "      <td>184962.960831</td>\n",
       "      <td>157500.0</td>\n",
       "      <td>11587</td>\n",
       "    </tr>\n",
       "  </tbody>\n",
       "</table>\n",
       "</div>"
      ],
      "text/plain": [
       "                                sum           mean    median  count\n",
       "OCCUPATION_TYPE                                                    \n",
       "Accountants            6.069931e+08  202736.491984  180000.0   2994\n",
       "Cleaning staff         1.678533e+08  139877.748750  135000.0   1200\n",
       "Cooking staff          2.595583e+08  149257.208453  135000.0   1739\n",
       "Core staff             1.443419e+09  181859.570747  157500.0   7937\n",
       "Drivers                1.123572e+09  194895.428534  180000.0   5765\n",
       "HR staff               3.239989e+07  196362.954545  180000.0    165\n",
       "High skill tech staff  6.303540e+08  190381.754561  180000.0   3311\n",
       "IT staff               2.663392e+07  213071.400000  180000.0    125\n",
       "Laborers               2.833494e+09  173281.190680  157500.0  16352\n",
       "Low-skill Laborers     7.959049e+07  142891.368043  135000.0    557\n",
       "Managers               1.744699e+09  265272.831762  225000.0   6577\n",
       "Medicine staff         3.908790e+08  159999.575931  137700.0   2443\n",
       "Private service staff  1.382805e+08  185860.887097  166500.0    744\n",
       "Realty agents          4.583925e+07  211240.783410  202500.0    217\n",
       "Sales staff            1.461405e+09  162522.852438  135000.0   8992\n",
       "Secretaries            6.661098e+07  163663.341523  135000.0    407\n",
       "Security staff         2.796860e+08  162608.161919  144000.0   1720\n",
       "Waiters/barmen staff   5.895112e+07  152328.488372  135000.0    387\n",
       "undetermine            2.143166e+09  184962.960831  157500.0  11587"
      ]
     },
     "execution_count": 195,
     "metadata": {},
     "output_type": "execute_result"
    }
   ],
   "source": [
    "units_by_type3 = df.groupby('OCCUPATION_TYPE')['AMT_INCOME_TOTAL'].aggregate(['sum','mean','median','count'])\n",
    "units_by_type3"
   ]
  }
 ],
 "metadata": {
  "kernelspec": {
   "display_name": "base",
   "language": "python",
   "name": "python3"
  },
  "language_info": {
   "codemirror_mode": {
    "name": "ipython",
    "version": 3
   },
   "file_extension": ".py",
   "mimetype": "text/x-python",
   "name": "python",
   "nbconvert_exporter": "python",
   "pygments_lexer": "ipython3",
   "version": "3.8.8"
  },
  "orig_nbformat": 4
 },
 "nbformat": 4,
 "nbformat_minor": 2
}

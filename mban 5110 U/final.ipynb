{
 "cells": [
  {
   "cell_type": "code",
   "execution_count": 1,
   "metadata": {},
   "outputs": [],
   "source": [
    "import numpy as np\n",
    "from datetime import timedelta, datetime\n",
    "import random\n",
    "import matplotlib.pyplot as plt\n",
    "import pandas as pd"
   ]
  },
  {
   "cell_type": "code",
   "execution_count": 2,
   "metadata": {},
   "outputs": [
    {
     "data": {
      "text/html": [
       "<div>\n",
       "<style scoped>\n",
       "    .dataframe tbody tr th:only-of-type {\n",
       "        vertical-align: middle;\n",
       "    }\n",
       "\n",
       "    .dataframe tbody tr th {\n",
       "        vertical-align: top;\n",
       "    }\n",
       "\n",
       "    .dataframe thead th {\n",
       "        text-align: right;\n",
       "    }\n",
       "</style>\n",
       "<table border=\"1\" class=\"dataframe\">\n",
       "  <thead>\n",
       "    <tr style=\"text-align: right;\">\n",
       "      <th></th>\n",
       "      <th>order_date</th>\n",
       "      <th>requested_delivery_date</th>\n",
       "      <th>Customer Country Code</th>\n",
       "      <th>Product Code</th>\n",
       "      <th>Description</th>\n",
       "      <th>order_type</th>\n",
       "      <th>Customer Order Code</th>\n",
       "      <th>value</th>\n",
       "      <th>Curr</th>\n",
       "      <th>items</th>\n",
       "      <th>Route</th>\n",
       "    </tr>\n",
       "  </thead>\n",
       "  <tbody>\n",
       "    <tr>\n",
       "      <th>0</th>\n",
       "      <td>13.07.2009</td>\n",
       "      <td>28.01.2010</td>\n",
       "      <td>RU</td>\n",
       "      <td>L10705000</td>\n",
       "      <td>Parka Outdoor Lifestyle STD</td>\n",
       "      <td>VO</td>\n",
       "      <td>3200435553</td>\n",
       "      <td>2337.00</td>\n",
       "      <td>RUB</td>\n",
       "      <td>6</td>\n",
       "      <td>RU0001</td>\n",
       "    </tr>\n",
       "    <tr>\n",
       "      <th>1</th>\n",
       "      <td>15.07.2009</td>\n",
       "      <td>24.03.2010</td>\n",
       "      <td>RU</td>\n",
       "      <td>L10705000</td>\n",
       "      <td>Parka Outdoor Lifestyle STD</td>\n",
       "      <td>VO</td>\n",
       "      <td>3200435694</td>\n",
       "      <td>10160.25</td>\n",
       "      <td>RUB</td>\n",
       "      <td>23</td>\n",
       "      <td>RU0001</td>\n",
       "    </tr>\n",
       "    <tr>\n",
       "      <th>2</th>\n",
       "      <td>16.07.2009</td>\n",
       "      <td>04.02.2010</td>\n",
       "      <td>RU</td>\n",
       "      <td>L10705000</td>\n",
       "      <td>Parka Outdoor Lifestyle STD</td>\n",
       "      <td>VO</td>\n",
       "      <td>3200435741</td>\n",
       "      <td>2992.50</td>\n",
       "      <td>RUB</td>\n",
       "      <td>7</td>\n",
       "      <td>RU0001</td>\n",
       "    </tr>\n",
       "    <tr>\n",
       "      <th>3</th>\n",
       "      <td>17.07.2009</td>\n",
       "      <td>04.02.2010</td>\n",
       "      <td>RU</td>\n",
       "      <td>L10705000</td>\n",
       "      <td>Parka Outdoor Lifestyle STD</td>\n",
       "      <td>VO</td>\n",
       "      <td>3200435907</td>\n",
       "      <td>4061.25</td>\n",
       "      <td>RUB</td>\n",
       "      <td>9</td>\n",
       "      <td>RU0001</td>\n",
       "    </tr>\n",
       "    <tr>\n",
       "      <th>4</th>\n",
       "      <td>21.07.2009</td>\n",
       "      <td>01.02.2010</td>\n",
       "      <td>RU</td>\n",
       "      <td>L10705000</td>\n",
       "      <td>Parka Outdoor Lifestyle STD</td>\n",
       "      <td>VO</td>\n",
       "      <td>3200435963</td>\n",
       "      <td>2208.75</td>\n",
       "      <td>RUB</td>\n",
       "      <td>5</td>\n",
       "      <td>RU0001</td>\n",
       "    </tr>\n",
       "    <tr>\n",
       "      <th>...</th>\n",
       "      <td>...</td>\n",
       "      <td>...</td>\n",
       "      <td>...</td>\n",
       "      <td>...</td>\n",
       "      <td>...</td>\n",
       "      <td>...</td>\n",
       "      <td>...</td>\n",
       "      <td>...</td>\n",
       "      <td>...</td>\n",
       "      <td>...</td>\n",
       "      <td>...</td>\n",
       "    </tr>\n",
       "    <tr>\n",
       "      <th>2415</th>\n",
       "      <td>13.07.2011</td>\n",
       "      <td>15.02.2012</td>\n",
       "      <td>HR</td>\n",
       "      <td>L12919200</td>\n",
       "      <td>Parka Outdoor Lifestyle STD</td>\n",
       "      <td>VO</td>\n",
       "      <td>3200819196</td>\n",
       "      <td>128.52</td>\n",
       "      <td>EUR</td>\n",
       "      <td>12</td>\n",
       "      <td>FI0003</td>\n",
       "    </tr>\n",
       "    <tr>\n",
       "      <th>2416</th>\n",
       "      <td>13.07.2011</td>\n",
       "      <td>15.02.2012</td>\n",
       "      <td>HR</td>\n",
       "      <td>L12919200</td>\n",
       "      <td>Parka Outdoor Lifestyle STD</td>\n",
       "      <td>VO</td>\n",
       "      <td>3200819201</td>\n",
       "      <td>128.52</td>\n",
       "      <td>EUR</td>\n",
       "      <td>12</td>\n",
       "      <td>FI0003</td>\n",
       "    </tr>\n",
       "    <tr>\n",
       "      <th>2417</th>\n",
       "      <td>13.07.2011</td>\n",
       "      <td>15.02.2012</td>\n",
       "      <td>HR</td>\n",
       "      <td>L12919200</td>\n",
       "      <td>Parka Outdoor Lifestyle STD</td>\n",
       "      <td>VO</td>\n",
       "      <td>3200819206</td>\n",
       "      <td>128.52</td>\n",
       "      <td>EUR</td>\n",
       "      <td>12</td>\n",
       "      <td>FI0003</td>\n",
       "    </tr>\n",
       "    <tr>\n",
       "      <th>2418</th>\n",
       "      <td>13.07.2011</td>\n",
       "      <td>15.02.2012</td>\n",
       "      <td>HR</td>\n",
       "      <td>L12919200</td>\n",
       "      <td>Parka Outdoor Lifestyle STD</td>\n",
       "      <td>VO</td>\n",
       "      <td>3200819210</td>\n",
       "      <td>107.10</td>\n",
       "      <td>EUR</td>\n",
       "      <td>10</td>\n",
       "      <td>FI0003</td>\n",
       "    </tr>\n",
       "    <tr>\n",
       "      <th>2419</th>\n",
       "      <td>23.01.2012</td>\n",
       "      <td>15.04.2012</td>\n",
       "      <td>RU</td>\n",
       "      <td>L12919200</td>\n",
       "      <td>Parka Outdoor Lifestyle STD</td>\n",
       "      <td>VO</td>\n",
       "      <td>3200828659</td>\n",
       "      <td>4183.00</td>\n",
       "      <td>RUB</td>\n",
       "      <td>10</td>\n",
       "      <td>RU0001</td>\n",
       "    </tr>\n",
       "  </tbody>\n",
       "</table>\n",
       "<p>2420 rows × 11 columns</p>\n",
       "</div>"
      ],
      "text/plain": [
       "      order_date requested_delivery_date Customer Country Code Product Code  \\\n",
       "0     13.07.2009              28.01.2010                    RU    L10705000   \n",
       "1     15.07.2009              24.03.2010                    RU    L10705000   \n",
       "2     16.07.2009              04.02.2010                    RU    L10705000   \n",
       "3     17.07.2009              04.02.2010                    RU    L10705000   \n",
       "4     21.07.2009              01.02.2010                    RU    L10705000   \n",
       "...          ...                     ...                   ...          ...   \n",
       "2415  13.07.2011              15.02.2012                    HR    L12919200   \n",
       "2416  13.07.2011              15.02.2012                    HR    L12919200   \n",
       "2417  13.07.2011              15.02.2012                    HR    L12919200   \n",
       "2418  13.07.2011              15.02.2012                    HR    L12919200   \n",
       "2419  23.01.2012              15.04.2012                    RU    L12919200   \n",
       "\n",
       "                      Description order_type  Customer Order Code     value  \\\n",
       "0     Parka Outdoor Lifestyle STD         VO           3200435553   2337.00   \n",
       "1     Parka Outdoor Lifestyle STD         VO           3200435694  10160.25   \n",
       "2     Parka Outdoor Lifestyle STD         VO           3200435741   2992.50   \n",
       "3     Parka Outdoor Lifestyle STD         VO           3200435907   4061.25   \n",
       "4     Parka Outdoor Lifestyle STD         VO           3200435963   2208.75   \n",
       "...                           ...        ...                  ...       ...   \n",
       "2415  Parka Outdoor Lifestyle STD         VO           3200819196    128.52   \n",
       "2416  Parka Outdoor Lifestyle STD         VO           3200819201    128.52   \n",
       "2417  Parka Outdoor Lifestyle STD         VO           3200819206    128.52   \n",
       "2418  Parka Outdoor Lifestyle STD         VO           3200819210    107.10   \n",
       "2419  Parka Outdoor Lifestyle STD         VO           3200828659   4183.00   \n",
       "\n",
       "     Curr items   Route  \n",
       "0     RUB     6  RU0001  \n",
       "1     RUB    23  RU0001  \n",
       "2     RUB     7  RU0001  \n",
       "3     RUB     9  RU0001  \n",
       "4     RUB     5  RU0001  \n",
       "...   ...   ...     ...  \n",
       "2415  EUR    12  FI0003  \n",
       "2416  EUR    12  FI0003  \n",
       "2417  EUR    12  FI0003  \n",
       "2418  EUR    10  FI0003  \n",
       "2419  RUB    10  RU0001  \n",
       "\n",
       "[2420 rows x 11 columns]"
      ]
     },
     "execution_count": 2,
     "metadata": {},
     "output_type": "execute_result"
    }
   ],
   "source": [
    "#read csv file from online github \n",
    "df2 = '/Users/frieda/Desktop/schulich/5110/data_set_hackathon.csv'\n",
    "df = pd.read_csv(df2)\n",
    "df"
   ]
  },
  {
   "cell_type": "code",
   "execution_count": 4,
   "metadata": {},
   "outputs": [],
   "source": [
    "# Convert 'Requested Delivery Date' and 'Order Date' to datetime objects\n",
    "df['order_date'] = pd.to_datetime(df['order_date'], format='%d.%m.%Y')\n",
    "df['requested_delivery_date'] = pd.to_datetime(df['requested_delivery_date'], format='%d.%m.%Y')\n",
    "\n",
    "# Calculate the time difference in days\n",
    "df['Time Difference'] = (df['requested_delivery_date'] - df['order_date']).dt.days\n",
    "\n",
    "# Add 'Fast Demand' column\n",
    "df['Fast Demand'] = np.where(df['Time Difference'] > 30, 1, 0)\n",
    "\n",
    "# Drop the temporary 'Time Difference' column if not needed\n",
    "df = df.drop('Time Difference', axis=1)\n"
   ]
  },
  {
   "cell_type": "code",
   "execution_count": 5,
   "metadata": {},
   "outputs": [
    {
     "name": "stdout",
     "output_type": "stream",
     "text": [
      "  order_date requested_delivery_date Customer Country Code Product Code  \\\n",
      "0 2009-07-13              2010-01-28                    RU    L10705000   \n",
      "1 2009-07-15              2010-03-24                    RU    L10705000   \n",
      "2 2009-07-16              2010-02-04                    RU    L10705000   \n",
      "3 2009-07-17              2010-02-04                    RU    L10705000   \n",
      "4 2009-07-21              2010-02-01                    RU    L10705000   \n",
      "\n",
      "                   Description order_type  Customer Order Code     value Curr  \\\n",
      "0  Parka Outdoor Lifestyle STD         VO           3200435553   2337.00  RUB   \n",
      "1  Parka Outdoor Lifestyle STD         VO           3200435694  10160.25  RUB   \n",
      "2  Parka Outdoor Lifestyle STD         VO           3200435741   2992.50  RUB   \n",
      "3  Parka Outdoor Lifestyle STD         VO           3200435907   4061.25  RUB   \n",
      "4  Parka Outdoor Lifestyle STD         VO           3200435963   2208.75  RUB   \n",
      "\n",
      "  items   Route  Fast Demand  \n",
      "0     6  RU0001            1  \n",
      "1    23  RU0001            1  \n",
      "2     7  RU0001            1  \n",
      "3     9  RU0001            1  \n",
      "4     5  RU0001            1  \n"
     ]
    }
   ],
   "source": [
    "print(df.head())"
   ]
  },
  {
   "cell_type": "code",
   "execution_count": 7,
   "metadata": {},
   "outputs": [],
   "source": [
    "# Convert date columns to datetime format\n",
    "df['order_date'] = pd.to_datetime(df['order_date'], format='%d.%m.%Y')\n",
    "df['requested_delivery_date'] = pd.to_datetime(df['requested_delivery_date'],    format='%d.%m.%Y')\n",
    "# Extract month and create a 'Season' column\n",
    "df['DELIVERY MONTH'] = df['requested_delivery_date'].dt.month\n",
    "df['SEASON'] = df['requested_delivery_date'].dt.month.map({1: 'Winter', 2:   'Winter', 3: 'Spring', 4: 'Spring', 5: 'Spring', 6: 'Summer', 7: 'Summer', 8: 'Summer', 9: 'Fall', 10: 'Fall', 11: 'Fall', 12: 'Winter'})\n"
   ]
  },
  {
   "cell_type": "code",
   "execution_count": 8,
   "metadata": {},
   "outputs": [
    {
     "name": "stdout",
     "output_type": "stream",
     "text": [
      "  order_date requested_delivery_date Customer Country Code Product Code  \\\n",
      "0 2009-07-13              2010-01-28                    RU    L10705000   \n",
      "1 2009-07-15              2010-03-24                    RU    L10705000   \n",
      "2 2009-07-16              2010-02-04                    RU    L10705000   \n",
      "3 2009-07-17              2010-02-04                    RU    L10705000   \n",
      "4 2009-07-21              2010-02-01                    RU    L10705000   \n",
      "\n",
      "                   Description order_type  Customer Order Code     value Curr  \\\n",
      "0  Parka Outdoor Lifestyle STD         VO           3200435553   2337.00  RUB   \n",
      "1  Parka Outdoor Lifestyle STD         VO           3200435694  10160.25  RUB   \n",
      "2  Parka Outdoor Lifestyle STD         VO           3200435741   2992.50  RUB   \n",
      "3  Parka Outdoor Lifestyle STD         VO           3200435907   4061.25  RUB   \n",
      "4  Parka Outdoor Lifestyle STD         VO           3200435963   2208.75  RUB   \n",
      "\n",
      "  items   Route  Fast Demand  DELIVERY MONTH  SEASON  \n",
      "0     6  RU0001            1               1  Winter  \n",
      "1    23  RU0001            1               3  Spring  \n",
      "2     7  RU0001            1               2  Winter  \n",
      "3     9  RU0001            1               2  Winter  \n",
      "4     5  RU0001            1               2  Winter  \n"
     ]
    }
   ],
   "source": [
    "print(df.head())"
   ]
  },
  {
   "cell_type": "code",
   "execution_count": 9,
   "metadata": {},
   "outputs": [],
   "source": [
    "from statsmodels.tsa.seasonal import seasonal_decompose\n",
    "from statsmodels.graphics.tsaplots import plot_acf, plot_pacf"
   ]
  },
  {
   "cell_type": "code",
   "execution_count": 10,
   "metadata": {},
   "outputs": [
    {
     "name": "stdout",
     "output_type": "stream",
     "text": [
      "Requirement already satisfied: pmdarima in /Users/frieda/opt/anaconda3/lib/python3.8/site-packages (2.0.4)\n",
      "Requirement already satisfied: packaging>=17.1 in /Users/frieda/opt/anaconda3/lib/python3.8/site-packages (from pmdarima) (23.1)\n",
      "Requirement already satisfied: scipy>=1.3.2 in /Users/frieda/opt/anaconda3/lib/python3.8/site-packages (from pmdarima) (1.6.2)\n",
      "Requirement already satisfied: pandas>=0.19 in /Users/frieda/opt/anaconda3/lib/python3.8/site-packages (from pmdarima) (2.0.3)\n",
      "Requirement already satisfied: joblib>=0.11 in /Users/frieda/opt/anaconda3/lib/python3.8/site-packages (from pmdarima) (1.3.1)\n",
      "Requirement already satisfied: statsmodels>=0.13.2 in /Users/frieda/opt/anaconda3/lib/python3.8/site-packages (from pmdarima) (0.14.0)\n",
      "Requirement already satisfied: urllib3 in /Users/frieda/opt/anaconda3/lib/python3.8/site-packages (from pmdarima) (1.26.4)\n",
      "Requirement already satisfied: setuptools!=50.0.0,>=38.6.0 in /Users/frieda/opt/anaconda3/lib/python3.8/site-packages (from pmdarima) (52.0.0.post20210125)\n",
      "Requirement already satisfied: Cython!=0.29.18,!=0.29.31,>=0.29 in /Users/frieda/opt/anaconda3/lib/python3.8/site-packages (from pmdarima) (0.29.23)\n",
      "Requirement already satisfied: scikit-learn>=0.22 in /Users/frieda/opt/anaconda3/lib/python3.8/site-packages (from pmdarima) (1.3.0)\n",
      "Requirement already satisfied: numpy>=1.21.2 in /Users/frieda/opt/anaconda3/lib/python3.8/site-packages (from pmdarima) (1.22.4)\n",
      "Requirement already satisfied: pytz>=2020.1 in /Users/frieda/opt/anaconda3/lib/python3.8/site-packages (from pandas>=0.19->pmdarima) (2021.1)\n",
      "Requirement already satisfied: python-dateutil>=2.8.2 in /Users/frieda/opt/anaconda3/lib/python3.8/site-packages (from pandas>=0.19->pmdarima) (2.8.2)\n",
      "Requirement already satisfied: tzdata>=2022.1 in /Users/frieda/opt/anaconda3/lib/python3.8/site-packages (from pandas>=0.19->pmdarima) (2023.3)\n",
      "Requirement already satisfied: six>=1.5 in /Users/frieda/opt/anaconda3/lib/python3.8/site-packages (from python-dateutil>=2.8.2->pandas>=0.19->pmdarima) (1.15.0)\n",
      "Requirement already satisfied: threadpoolctl>=2.0.0 in /Users/frieda/opt/anaconda3/lib/python3.8/site-packages (from scikit-learn>=0.22->pmdarima) (2.1.0)\n",
      "Requirement already satisfied: patsy>=0.5.2 in /Users/frieda/opt/anaconda3/lib/python3.8/site-packages (from statsmodels>=0.13.2->pmdarima) (0.5.3)\n",
      "Note: you may need to restart the kernel to use updated packages.\n"
     ]
    }
   ],
   "source": [
    "pip install pmdarima"
   ]
  },
  {
   "cell_type": "code",
   "execution_count": 11,
   "metadata": {},
   "outputs": [],
   "source": [
    "from pmdarima import auto_arima\n",
    "from sklearn.ensemble import RandomForestRegressor\n",
    "from sklearn.metrics import mean_squared_error"
   ]
  },
  {
   "cell_type": "code",
   "execution_count": 13,
   "metadata": {},
   "outputs": [],
   "source": [
    "data = df[['order_date', 'Fast Demand','items']]"
   ]
  },
  {
   "cell_type": "code",
   "execution_count": 14,
   "metadata": {},
   "outputs": [
    {
     "data": {
      "text/html": [
       "<div>\n",
       "<style scoped>\n",
       "    .dataframe tbody tr th:only-of-type {\n",
       "        vertical-align: middle;\n",
       "    }\n",
       "\n",
       "    .dataframe tbody tr th {\n",
       "        vertical-align: top;\n",
       "    }\n",
       "\n",
       "    .dataframe thead th {\n",
       "        text-align: right;\n",
       "    }\n",
       "</style>\n",
       "<table border=\"1\" class=\"dataframe\">\n",
       "  <thead>\n",
       "    <tr style=\"text-align: right;\">\n",
       "      <th></th>\n",
       "      <th>order_date</th>\n",
       "      <th>Fast Demand</th>\n",
       "      <th>items</th>\n",
       "    </tr>\n",
       "  </thead>\n",
       "  <tbody>\n",
       "    <tr>\n",
       "      <th>0</th>\n",
       "      <td>2009-07-13</td>\n",
       "      <td>1</td>\n",
       "      <td>6</td>\n",
       "    </tr>\n",
       "    <tr>\n",
       "      <th>1</th>\n",
       "      <td>2009-07-15</td>\n",
       "      <td>1</td>\n",
       "      <td>23</td>\n",
       "    </tr>\n",
       "    <tr>\n",
       "      <th>2</th>\n",
       "      <td>2009-07-16</td>\n",
       "      <td>1</td>\n",
       "      <td>7</td>\n",
       "    </tr>\n",
       "    <tr>\n",
       "      <th>3</th>\n",
       "      <td>2009-07-17</td>\n",
       "      <td>1</td>\n",
       "      <td>9</td>\n",
       "    </tr>\n",
       "    <tr>\n",
       "      <th>4</th>\n",
       "      <td>2009-07-21</td>\n",
       "      <td>1</td>\n",
       "      <td>5</td>\n",
       "    </tr>\n",
       "    <tr>\n",
       "      <th>...</th>\n",
       "      <td>...</td>\n",
       "      <td>...</td>\n",
       "      <td>...</td>\n",
       "    </tr>\n",
       "    <tr>\n",
       "      <th>2415</th>\n",
       "      <td>2011-07-13</td>\n",
       "      <td>1</td>\n",
       "      <td>12</td>\n",
       "    </tr>\n",
       "    <tr>\n",
       "      <th>2416</th>\n",
       "      <td>2011-07-13</td>\n",
       "      <td>1</td>\n",
       "      <td>12</td>\n",
       "    </tr>\n",
       "    <tr>\n",
       "      <th>2417</th>\n",
       "      <td>2011-07-13</td>\n",
       "      <td>1</td>\n",
       "      <td>12</td>\n",
       "    </tr>\n",
       "    <tr>\n",
       "      <th>2418</th>\n",
       "      <td>2011-07-13</td>\n",
       "      <td>1</td>\n",
       "      <td>10</td>\n",
       "    </tr>\n",
       "    <tr>\n",
       "      <th>2419</th>\n",
       "      <td>2012-01-23</td>\n",
       "      <td>1</td>\n",
       "      <td>10</td>\n",
       "    </tr>\n",
       "  </tbody>\n",
       "</table>\n",
       "<p>2420 rows × 3 columns</p>\n",
       "</div>"
      ],
      "text/plain": [
       "     order_date  Fast Demand items\n",
       "0    2009-07-13            1     6\n",
       "1    2009-07-15            1    23\n",
       "2    2009-07-16            1     7\n",
       "3    2009-07-17            1     9\n",
       "4    2009-07-21            1     5\n",
       "...         ...          ...   ...\n",
       "2415 2011-07-13            1    12\n",
       "2416 2011-07-13            1    12\n",
       "2417 2011-07-13            1    12\n",
       "2418 2011-07-13            1    10\n",
       "2419 2012-01-23            1    10\n",
       "\n",
       "[2420 rows x 3 columns]"
      ]
     },
     "execution_count": 14,
     "metadata": {},
     "output_type": "execute_result"
    }
   ],
   "source": [
    "data"
   ]
  },
  {
   "cell_type": "code",
   "execution_count": 15,
   "metadata": {},
   "outputs": [
    {
     "name": "stdout",
     "output_type": "stream",
     "text": [
      "     order_date  Fast Demand items  \\\n",
      "0    2009-07-13            1     6   \n",
      "1    2009-07-15            1    23   \n",
      "2    2009-07-16            1     7   \n",
      "3    2009-07-17            1     9   \n",
      "4    2009-07-21            1     5   \n",
      "...         ...          ...   ...   \n",
      "2415 2011-07-13            1    12   \n",
      "2416 2011-07-13            1    12   \n",
      "2417 2011-07-13            1    12   \n",
      "2418 2011-07-13            1    10   \n",
      "2419 2012-01-23            1    10   \n",
      "\n",
      "                                       Aggregate Demand  \n",
      "0                                                     6  \n",
      "1                                                   623  \n",
      "2                                                  6237  \n",
      "3                                                 62379  \n",
      "4                                                623795  \n",
      "...                                                 ...  \n",
      "2415  623795587166655135025245681\\N\\N699161061413486...  \n",
      "2416  623795587166655135025245681\\N\\N699161061413486...  \n",
      "2417  623795587166655135025245681\\N\\N699161061413486...  \n",
      "2418  623795587166655135025245681\\N\\N699161061413486...  \n",
      "2419  623795587166655135025245681\\N\\N699161061413486...  \n",
      "\n",
      "[2420 rows x 4 columns]\n"
     ]
    },
    {
     "name": "stderr",
     "output_type": "stream",
     "text": [
      "/var/folders/c2/7qpsnkf14s38y0d2tgt16cxm0000gn/T/ipykernel_3127/648314125.py:3: SettingWithCopyWarning: \n",
      "A value is trying to be set on a copy of a slice from a DataFrame.\n",
      "Try using .loc[row_indexer,col_indexer] = value instead\n",
      "\n",
      "See the caveats in the documentation: https://pandas.pydata.org/pandas-docs/stable/user_guide/indexing.html#returning-a-view-versus-a-copy\n",
      "  data['Aggregate Demand'] = data['items'].cumsum()\n"
     ]
    }
   ],
   "source": [
    "import pandas as pd\n",
    "\n",
    "data['Aggregate Demand'] = data['items'].cumsum()\n",
    "\n",
    "print(data)\n"
   ]
  },
  {
   "cell_type": "code",
   "execution_count": 16,
   "metadata": {},
   "outputs": [
    {
     "name": "stdout",
     "output_type": "stream",
     "text": [
      "Fast Demand\n",
      "1    2395\n",
      "0      25\n",
      "Name: count, dtype: int64\n"
     ]
    }
   ],
   "source": [
    "demand_counts = data['Fast Demand'].value_counts()\n",
    "\n",
    "print(demand_counts)"
   ]
  },
  {
   "cell_type": "code",
   "execution_count": 17,
   "metadata": {},
   "outputs": [
    {
     "name": "stdout",
     "output_type": "stream",
     "text": [
      "Requirement already satisfied: pmdarima in /Users/frieda/opt/anaconda3/lib/python3.8/site-packages (2.0.4)\n",
      "Requirement already satisfied: scipy>=1.3.2 in /Users/frieda/opt/anaconda3/lib/python3.8/site-packages (from pmdarima) (1.6.2)\n",
      "Requirement already satisfied: packaging>=17.1 in /Users/frieda/opt/anaconda3/lib/python3.8/site-packages (from pmdarima) (23.1)\n",
      "Requirement already satisfied: pandas>=0.19 in /Users/frieda/opt/anaconda3/lib/python3.8/site-packages (from pmdarima) (2.0.3)\n",
      "Requirement already satisfied: setuptools!=50.0.0,>=38.6.0 in /Users/frieda/opt/anaconda3/lib/python3.8/site-packages (from pmdarima) (52.0.0.post20210125)\n",
      "Requirement already satisfied: statsmodels>=0.13.2 in /Users/frieda/opt/anaconda3/lib/python3.8/site-packages (from pmdarima) (0.14.0)\n",
      "Requirement already satisfied: joblib>=0.11 in /Users/frieda/opt/anaconda3/lib/python3.8/site-packages (from pmdarima) (1.3.1)\n",
      "Requirement already satisfied: Cython!=0.29.18,!=0.29.31,>=0.29 in /Users/frieda/opt/anaconda3/lib/python3.8/site-packages (from pmdarima) (0.29.23)\n",
      "Requirement already satisfied: urllib3 in /Users/frieda/opt/anaconda3/lib/python3.8/site-packages (from pmdarima) (1.26.4)\n",
      "Requirement already satisfied: numpy>=1.21.2 in /Users/frieda/opt/anaconda3/lib/python3.8/site-packages (from pmdarima) (1.22.4)\n",
      "Requirement already satisfied: scikit-learn>=0.22 in /Users/frieda/opt/anaconda3/lib/python3.8/site-packages (from pmdarima) (1.3.0)\n",
      "Requirement already satisfied: python-dateutil>=2.8.2 in /Users/frieda/opt/anaconda3/lib/python3.8/site-packages (from pandas>=0.19->pmdarima) (2.8.2)\n",
      "Requirement already satisfied: pytz>=2020.1 in /Users/frieda/opt/anaconda3/lib/python3.8/site-packages (from pandas>=0.19->pmdarima) (2021.1)\n",
      "Requirement already satisfied: tzdata>=2022.1 in /Users/frieda/opt/anaconda3/lib/python3.8/site-packages (from pandas>=0.19->pmdarima) (2023.3)\n",
      "Requirement already satisfied: six>=1.5 in /Users/frieda/opt/anaconda3/lib/python3.8/site-packages (from python-dateutil>=2.8.2->pandas>=0.19->pmdarima) (1.15.0)\n",
      "Requirement already satisfied: threadpoolctl>=2.0.0 in /Users/frieda/opt/anaconda3/lib/python3.8/site-packages (from scikit-learn>=0.22->pmdarima) (2.1.0)\n",
      "Requirement already satisfied: patsy>=0.5.2 in /Users/frieda/opt/anaconda3/lib/python3.8/site-packages (from statsmodels>=0.13.2->pmdarima) (0.5.3)\n",
      "Note: you may need to restart the kernel to use updated packages.\n"
     ]
    }
   ],
   "source": [
    "pip install pmdarima"
   ]
  },
  {
   "cell_type": "code",
   "execution_count": 18,
   "metadata": {},
   "outputs": [],
   "source": [
    "from pmdarima import auto_arima\n",
    "from sklearn.ensemble import RandomForestRegressor\n",
    "from sklearn.metrics import mean_squared_error"
   ]
  },
  {
   "cell_type": "markdown",
   "metadata": {},
   "source": [
    "If we do not consider seasonality:"
   ]
  },
  {
   "cell_type": "code",
   "execution_count": 20,
   "metadata": {},
   "outputs": [
    {
     "name": "stdout",
     "output_type": "stream",
     "text": [
      "23                          623795587166655135025245681\\N\n",
      "24                        623795587166655135025245681\\N\\N\n",
      "25                       623795587166655135025245681\\N\\N6\n",
      "26                      623795587166655135025245681\\N\\N69\n",
      "27                     623795587166655135025245681\\N\\N699\n",
      "                              ...                        \n",
      "2415    623795587166655135025245681\\N\\N699161061413486...\n",
      "2416    623795587166655135025245681\\N\\N699161061413486...\n",
      "2417    623795587166655135025245681\\N\\N699161061413486...\n",
      "2418    623795587166655135025245681\\N\\N699161061413486...\n",
      "2419    623795587166655135025245681\\N\\N699161061413486...\n",
      "Name: Aggregate Demand, Length: 2397, dtype: object\n"
     ]
    }
   ],
   "source": [
    "non_numeric_values = data['Aggregate Demand'].loc[~data['Aggregate Demand'].astype(str).str.isnumeric()]\n",
    "print(non_numeric_values)"
   ]
  },
  {
   "cell_type": "code",
   "execution_count": 21,
   "metadata": {},
   "outputs": [
    {
     "name": "stderr",
     "output_type": "stream",
     "text": [
      "/var/folders/c2/7qpsnkf14s38y0d2tgt16cxm0000gn/T/ipykernel_3127/1779542892.py:9: SettingWithCopyWarning: \n",
      "A value is trying to be set on a copy of a slice from a DataFrame.\n",
      "Try using .loc[row_indexer,col_indexer] = value instead\n",
      "\n",
      "See the caveats in the documentation: https://pandas.pydata.org/pandas-docs/stable/user_guide/indexing.html#returning-a-view-versus-a-copy\n",
      "  data['Aggregate Demand'] = data['Aggregate Demand'].apply(extract_numeric)\n"
     ]
    }
   ],
   "source": [
    "import re\n",
    "\n",
    "# Define a function to extract numeric values\n",
    "def extract_numeric(value):\n",
    "    numeric_part = re.sub(r'\\D', '', str(value))  # Remove non-numeric characters\n",
    "    return int(numeric_part) if numeric_part else None  # Convert to integer, handling empty strings\n",
    "\n",
    "# Apply the function to the 'Aggregate Demand' column\n",
    "data['Aggregate Demand'] = data['Aggregate Demand'].apply(extract_numeric)\n"
   ]
  },
  {
   "cell_type": "code",
   "execution_count": 27,
   "metadata": {},
   "outputs": [
    {
     "name": "stdout",
     "output_type": "stream",
     "text": [
      "[6 623 6237 ...\n",
      " 623795587166655135025245681699161061413486955105106106171345982375510786106175504432524624862793015510138816831110462051589122581264513257868515568158208835138668427573158413635115115971459261114606121051128316654112351612317131471654461110311163124636610443464111111683514351149118152202312333614131416131246103109468344431116151145512558920165744113133459157228883684711641112492531128139114616333104439176341011141411343713127162213343356662414796166614211636715626422414875125526214120576599431101618345736104318484354717161039115142222175624261661687767614181573014612124111651161139101462121176267735157797105307655530034641010104681515311111101484449819111075151452134816610101015112913105555651411785190745887887777788888878888878888877777888888888777777776666788888888888888888888177777777777777777777131072712841113191013781510753375610555537442146333471013123731771511545163391378757185357441633411132431133281471555139376783775610554571653666688887767777767777766668888888886777777777777777777771413334236620615536815107718512543110111155144444844101477101965415105676101010101212121054476101241056446639356131461032111426556644163864566433443464543864521666844123541444144434104774555643042614454543636567610101010121212105474104673744133443410524311511464443464944441444336111442811667611144588444556573664335666555810511866857688816614141488511158551320091052215127581888882081614221042183371332344445474637653661643548348511515854910915125518362261061633810183424171242645461133484181355544433653435565131134636443646666361045115864868881661414148541336437088888366333364534434614644334126454465141345644381311465637610666664666645554121860211005132554985211010955555513613421551089713123314882474544142144101042342710888810866683341116766131184418332154614444664741069867786661315815155132051151010565655105526642287131216341452119542420442718442536666666664633583631855534372434366415306158520549751495555510131214685871216414855742142232871046410351363534458861851012301320512512129512555144553010810121635145818107724204315481034351141108888108666831155035344443144234644510351078566758564313347341423644524325432417365643651286365331034776666654474414163445656577777463134663310447365967765651017651234514144445469384777666465447234431266485665435777776336703365854746101010121212101045567575852210812375215773337101164412734336154534659310812656385855221136123471516424373520114146243581310126561884133933477377477734410445555556566756101010121212\n",
      " 62379558716665513502524568169916106141348695510510610617134598237551078610617550443252462486279301551013881683111046205158912258126451325786851556815820883513866842757315841363511511597145926111460612105112831665411235161231713147165446111031116312463661044346411111168351435114911815220231233361413141613124610310946834443111615114551255892016574411313345915722888368471164111249253112813911461633310443917634101114141134371312716221334335666241479616661421163671562642241487512552621412057659943110161834573610431848435471716103911514222217562426166168776761418157301461212411165116113910146212117626773515779710530765553003464101010468151531111110148444981911107515145213481661010101511291310555565141178519074588788777778888887888887888887777788888888877777777666678888888888888888888817777777777777777777713107271284111319101378151075337561055553744214633347101312373177151154516339137875718535744163341113243113328147155513937678377561055457165366668888776777776777776666888888888677777777777777777777141333423662061553681510771851254311011115514444484410147710196541510567610101010121212105447610124105644663935613146103211142655664416386456643344346454386452166684412354144414443410477455564304261445454363656761010101012121210547410467374413344341052431151146444346494444144433611144281166761114458844455657366433566655581051186685768881661414148851115855132009105221512758188888208161422104218337133234444547463765366164354834851151585491091512551836226106163381018342417124264546113348418135554443365343556513113463644364666636104511586486888166141414854133643708888836633336453443461464433412645446514134564438131146563761066666466664555412186021100513255498521101095555551361342155108971312331488247454414214410104234271088881086668334111676613118441833215461444466474106986778666131581515513205115101056565510552664228713121634145211954242044271844253666666666463358363185553437243436641530615852054975149555551013121468587121641485574214223287104641035136353445886185101230132051251212951255514455301081012163514581810772420431548103435114110888810866683115503534444314423464451035107856675856431334734142364452432543241736564365128636533103477666665447441416344565657777746313466331044736596776565101765123451414444546938477766646544723443126648566543577777633670336585474610101012121210104556757585221081237521577333710116441273433615453465931081265638585522113612347151642437352011414624358131012656188413393347737747773441044555555656675610101012121210\n",
      " 6237955871666551350252456816991610614134869551051061061713459823755107861061755044325246248627930155101388168311104620515891225812645132578685155681582088351386684275731584136351151159714592611146061210511283166541123516123171314716544611103111631246366104434641111116835143511491181522023123336141314161312461031094683444311161511455125589201657441131334591572288836847116411124925311281391146163331044391763410111414113437131271622133433566624147961666142116367156264224148751255262141205765994311016183457361043184843547171610391151422221756242616616877676141815730146121241116511611391014621211762677351577971053076555300346410101046815153111111014844498191110751514521348166101010151129131055556514117851907458878877777888888788888788888777778888888887777777766667888888888888888888881777777777777777777771310727128411131910137815107533756105555374421463334710131237317715115451633913787571853574416334111324311332814715551393767837756105545716536666888877677777677777666688888888867777777777777777777714133342366206155368151077185125431101111551444448441014771019654151056761010101012121210544761012410564466393561314610321114265566441638645664334434645438645216668441235414441444341047745556430426144545436365676101010101212121054741046737441334434105243115114644434649444414443361114428116676111445884445565736643356665558105118668576888166141414885111585513200910522151275818888820816142210421833713323444454746376536616435483485115158549109151255183622610616338101834241712426454611334841813555444336534355651311346364436466663610451158648688816614141485413364370888883663333645344346146443341264544651413456443813114656376106666646666455541218602110051325549852110109555555136134215510897131233148824745441421441010423427108888108666833411167661311844183321546144446647410698677866613158151551320511510105656551055266422871312163414521195424204427184425366666666646335836318555343724343664153061585205497514955555101312146858712164148557421422328710464103513635344588618510123013205125121295125551445530108101216351458181077242043154810343511411088881086668311550353444431442346445103510785667585643133473414236445243254324173656436512863653310347766666544744141634456565777774631346633104473659677656510176512345141444454693847776664654472344312664856654357777763367033658547461010101212121010455675758522108123752157733371011644127343361545346593108126563858552211361234715164243735201141462435813101265618841339334773774777344104455555565667561010101212121010]\n"
     ]
    }
   ],
   "source": [
    "print(data['Aggregate Demand'].unique())\n"
   ]
  },
  {
   "cell_type": "code",
   "execution_count": 28,
   "metadata": {},
   "outputs": [
    {
     "ename": "OverflowError",
     "evalue": "int too large to convert to float",
     "output_type": "error",
     "traceback": [
      "\u001b[0;31m---------------------------------------------------------------------------\u001b[0m",
      "\u001b[0;31mOverflowError\u001b[0m                             Traceback (most recent call last)",
      "\u001b[1;32m/leningschulich/schulich_data_science/mban 5110 U/final.ipynb Cell 20\u001b[0m line \u001b[0;36m2\n\u001b[1;32m      <a href='vscode-notebook-cell://github/leningschulich/schulich_data_science/mban%205110%20U/final.ipynb#X34sdnNjb2RlLXZmcw%3D%3D?line=0'>1</a>\u001b[0m \u001b[39m# Use descriptive statistics to identify outliers\u001b[39;00m\n\u001b[0;32m----> <a href='vscode-notebook-cell://github/leningschulich/schulich_data_science/mban%205110%20U/final.ipynb#X34sdnNjb2RlLXZmcw%3D%3D?line=1'>2</a>\u001b[0m \u001b[39mprint\u001b[39m(data[\u001b[39m'\u001b[39;49m\u001b[39mAggregate Demand\u001b[39;49m\u001b[39m'\u001b[39;49m]\u001b[39m.\u001b[39;49mdescribe())\n\u001b[1;32m      <a href='vscode-notebook-cell://github/leningschulich/schulich_data_science/mban%205110%20U/final.ipynb#X34sdnNjb2RlLXZmcw%3D%3D?line=3'>4</a>\u001b[0m \u001b[39m# Visualize the distribution of values\u001b[39;00m\n\u001b[1;32m      <a href='vscode-notebook-cell://github/leningschulich/schulich_data_science/mban%205110%20U/final.ipynb#X34sdnNjb2RlLXZmcw%3D%3D?line=4'>5</a>\u001b[0m \u001b[39mimport\u001b[39;00m \u001b[39mseaborn\u001b[39;00m \u001b[39mas\u001b[39;00m \u001b[39msns\u001b[39;00m\n",
      "File \u001b[0;32m~/opt/anaconda3/lib/python3.8/site-packages/pandas/core/generic.py:10819\u001b[0m, in \u001b[0;36mNDFrame.describe\u001b[0;34m(self, percentiles, include, exclude)\u001b[0m\n\u001b[1;32m  10577\u001b[0m \u001b[39m@final\u001b[39m\n\u001b[1;32m  10578\u001b[0m \u001b[39mdef\u001b[39;00m \u001b[39mdescribe\u001b[39m(\n\u001b[1;32m  10579\u001b[0m     \u001b[39mself\u001b[39m: NDFrameT,\n\u001b[0;32m   (...)\u001b[0m\n\u001b[1;32m  10582\u001b[0m     exclude\u001b[39m=\u001b[39m\u001b[39mNone\u001b[39;00m,\n\u001b[1;32m  10583\u001b[0m ) \u001b[39m-\u001b[39m\u001b[39m>\u001b[39m NDFrameT:\n\u001b[1;32m  10584\u001b[0m     \u001b[39m\"\"\"\u001b[39;00m\n\u001b[1;32m  10585\u001b[0m \u001b[39m    Generate descriptive statistics.\u001b[39;00m\n\u001b[1;32m  10586\u001b[0m \n\u001b[0;32m   (...)\u001b[0m\n\u001b[1;32m  10817\u001b[0m \u001b[39m    max            NaN      3.0\u001b[39;00m\n\u001b[1;32m  10818\u001b[0m \u001b[39m    \"\"\"\u001b[39;00m\n\u001b[0;32m> 10819\u001b[0m     \u001b[39mreturn\u001b[39;00m describe_ndframe(\n\u001b[1;32m  10820\u001b[0m         obj\u001b[39m=\u001b[39;49m\u001b[39mself\u001b[39;49m,\n\u001b[1;32m  10821\u001b[0m         include\u001b[39m=\u001b[39;49minclude,\n\u001b[1;32m  10822\u001b[0m         exclude\u001b[39m=\u001b[39;49mexclude,\n\u001b[1;32m  10823\u001b[0m         percentiles\u001b[39m=\u001b[39;49mpercentiles,\n\u001b[1;32m  10824\u001b[0m     )\n",
      "File \u001b[0;32m~/opt/anaconda3/lib/python3.8/site-packages/pandas/core/methods/describe.py:94\u001b[0m, in \u001b[0;36mdescribe_ndframe\u001b[0;34m(obj, include, exclude, percentiles)\u001b[0m\n\u001b[1;32m     87\u001b[0m \u001b[39melse\u001b[39;00m:\n\u001b[1;32m     88\u001b[0m     describer \u001b[39m=\u001b[39m DataFrameDescriber(\n\u001b[1;32m     89\u001b[0m         obj\u001b[39m=\u001b[39mcast(\u001b[39m\"\u001b[39m\u001b[39mDataFrame\u001b[39m\u001b[39m\"\u001b[39m, obj),\n\u001b[1;32m     90\u001b[0m         include\u001b[39m=\u001b[39minclude,\n\u001b[1;32m     91\u001b[0m         exclude\u001b[39m=\u001b[39mexclude,\n\u001b[1;32m     92\u001b[0m     )\n\u001b[0;32m---> 94\u001b[0m result \u001b[39m=\u001b[39m describer\u001b[39m.\u001b[39;49mdescribe(percentiles\u001b[39m=\u001b[39;49mpercentiles)\n\u001b[1;32m     95\u001b[0m \u001b[39mreturn\u001b[39;00m cast(NDFrameT, result)\n",
      "File \u001b[0;32m~/opt/anaconda3/lib/python3.8/site-packages/pandas/core/methods/describe.py:130\u001b[0m, in \u001b[0;36mSeriesDescriber.describe\u001b[0;34m(self, percentiles)\u001b[0m\n\u001b[1;32m    126\u001b[0m \u001b[39mdef\u001b[39;00m \u001b[39mdescribe\u001b[39m(\u001b[39mself\u001b[39m, percentiles: Sequence[\u001b[39mfloat\u001b[39m] \u001b[39m|\u001b[39m np\u001b[39m.\u001b[39mndarray) \u001b[39m-\u001b[39m\u001b[39m>\u001b[39m Series:\n\u001b[1;32m    127\u001b[0m     describe_func \u001b[39m=\u001b[39m select_describe_func(\n\u001b[1;32m    128\u001b[0m         \u001b[39mself\u001b[39m\u001b[39m.\u001b[39mobj,\n\u001b[1;32m    129\u001b[0m     )\n\u001b[0;32m--> 130\u001b[0m     \u001b[39mreturn\u001b[39;00m describe_func(\u001b[39mself\u001b[39;49m\u001b[39m.\u001b[39;49mobj, percentiles)\n",
      "File \u001b[0;32m~/opt/anaconda3/lib/python3.8/site-packages/pandas/core/methods/describe.py:279\u001b[0m, in \u001b[0;36mdescribe_categorical_1d\u001b[0;34m(data, percentiles_ignored)\u001b[0m\n\u001b[1;32m    275\u001b[0m result \u001b[39m=\u001b[39m [data\u001b[39m.\u001b[39mcount(), count_unique, top, freq]\n\u001b[1;32m    277\u001b[0m \u001b[39mfrom\u001b[39;00m \u001b[39mpandas\u001b[39;00m \u001b[39mimport\u001b[39;00m Series\n\u001b[0;32m--> 279\u001b[0m \u001b[39mreturn\u001b[39;00m Series(result, index\u001b[39m=\u001b[39;49mnames, name\u001b[39m=\u001b[39;49mdata\u001b[39m.\u001b[39;49mname, dtype\u001b[39m=\u001b[39;49mdtype)\n",
      "File \u001b[0;32m~/opt/anaconda3/lib/python3.8/site-packages/pandas/core/series.py:509\u001b[0m, in \u001b[0;36mSeries.__init__\u001b[0;34m(self, data, index, dtype, name, copy, fastpath)\u001b[0m\n\u001b[1;32m    507\u001b[0m         data \u001b[39m=\u001b[39m data\u001b[39m.\u001b[39mcopy()\n\u001b[1;32m    508\u001b[0m \u001b[39melse\u001b[39;00m:\n\u001b[0;32m--> 509\u001b[0m     data \u001b[39m=\u001b[39m sanitize_array(data, index, dtype, copy)\n\u001b[1;32m    511\u001b[0m     manager \u001b[39m=\u001b[39m get_option(\u001b[39m\"\u001b[39m\u001b[39mmode.data_manager\u001b[39m\u001b[39m\"\u001b[39m)\n\u001b[1;32m    512\u001b[0m     \u001b[39mif\u001b[39;00m manager \u001b[39m==\u001b[39m \u001b[39m\"\u001b[39m\u001b[39mblock\u001b[39m\u001b[39m\"\u001b[39m:\n",
      "File \u001b[0;32m~/opt/anaconda3/lib/python3.8/site-packages/pandas/core/construction.py:602\u001b[0m, in \u001b[0;36msanitize_array\u001b[0;34m(data, index, dtype, copy, allow_2d)\u001b[0m\n\u001b[1;32m    599\u001b[0m     subarr \u001b[39m=\u001b[39m _try_cast(data, dtype, copy)\n\u001b[1;32m    601\u001b[0m \u001b[39melse\u001b[39;00m:\n\u001b[0;32m--> 602\u001b[0m     subarr \u001b[39m=\u001b[39m maybe_convert_platform(data)\n\u001b[1;32m    603\u001b[0m     \u001b[39mif\u001b[39;00m subarr\u001b[39m.\u001b[39mdtype \u001b[39m==\u001b[39m \u001b[39mobject\u001b[39m:\n\u001b[1;32m    604\u001b[0m         subarr \u001b[39m=\u001b[39m cast(np\u001b[39m.\u001b[39mndarray, subarr)\n",
      "File \u001b[0;32m~/opt/anaconda3/lib/python3.8/site-packages/pandas/core/dtypes/cast.py:138\u001b[0m, in \u001b[0;36mmaybe_convert_platform\u001b[0;34m(values)\u001b[0m\n\u001b[1;32m    136\u001b[0m \u001b[39mif\u001b[39;00m arr\u001b[39m.\u001b[39mdtype \u001b[39m==\u001b[39m _dtype_obj:\n\u001b[1;32m    137\u001b[0m     arr \u001b[39m=\u001b[39m cast(np\u001b[39m.\u001b[39mndarray, arr)\n\u001b[0;32m--> 138\u001b[0m     arr \u001b[39m=\u001b[39m lib\u001b[39m.\u001b[39;49mmaybe_convert_objects(arr)\n\u001b[1;32m    140\u001b[0m \u001b[39mreturn\u001b[39;00m arr\n",
      "File \u001b[0;32m~/opt/anaconda3/lib/python3.8/site-packages/pandas/_libs/lib.pyx:2491\u001b[0m, in \u001b[0;36mpandas._libs.lib.maybe_convert_objects\u001b[0;34m()\u001b[0m\n",
      "\u001b[0;31mOverflowError\u001b[0m: int too large to convert to float"
     ]
    }
   ],
   "source": [
    "# Use descriptive statistics to identify outliers\n",
    "print(data['Aggregate Demand'].describe())\n",
    "\n",
    "# Visualize the distribution of values\n",
    "import seaborn as sns\n",
    "sns.boxplot(x=data['Aggregate Demand'])\n"
   ]
  },
  {
   "cell_type": "code",
   "execution_count": 25,
   "metadata": {},
   "outputs": [
    {
     "ename": "OverflowError",
     "evalue": "int too large to convert to float",
     "output_type": "error",
     "traceback": [
      "\u001b[0;31m---------------------------------------------------------------------------\u001b[0m",
      "\u001b[0;31mOverflowError\u001b[0m                             Traceback (most recent call last)",
      "\u001b[1;32m/leningschulich/schulich_data_science/mban 5110 U/final.ipynb Cell 19\u001b[0m line \u001b[0;36m6\n\u001b[1;32m      <a href='vscode-notebook-cell://github/leningschulich/schulich_data_science/mban%205110%20U/final.ipynb#X22sdnNjb2RlLXZmcw%3D%3D?line=1'>2</a>\u001b[0m \u001b[39mfrom\u001b[39;00m \u001b[39mpmdarima\u001b[39;00m\u001b[39m.\u001b[39;00m\u001b[39marima\u001b[39;00m \u001b[39mimport\u001b[39;00m auto_arima\n\u001b[1;32m      <a href='vscode-notebook-cell://github/leningschulich/schulich_data_science/mban%205110%20U/final.ipynb#X22sdnNjb2RlLXZmcw%3D%3D?line=3'>4</a>\u001b[0m X \u001b[39m=\u001b[39m np\u001b[39m.\u001b[39marray(data[\u001b[39m'\u001b[39m\u001b[39mFast Demand\u001b[39m\u001b[39m'\u001b[39m])\u001b[39m.\u001b[39mreshape(\u001b[39m-\u001b[39m\u001b[39m1\u001b[39m, \u001b[39m1\u001b[39m)\n\u001b[0;32m----> <a href='vscode-notebook-cell://github/leningschulich/schulich_data_science/mban%205110%20U/final.ipynb#X22sdnNjb2RlLXZmcw%3D%3D?line=5'>6</a>\u001b[0m arima_model \u001b[39m=\u001b[39m auto_arima(data[\u001b[39m'\u001b[39;49m\u001b[39mAggregate Demand\u001b[39;49m\u001b[39m'\u001b[39;49m], exogenous\u001b[39m=\u001b[39;49mX, start_p\u001b[39m=\u001b[39;49m\u001b[39m1\u001b[39;49m, start_q\u001b[39m=\u001b[39;49m\u001b[39m1\u001b[39;49m, max_p\u001b[39m=\u001b[39;49m\u001b[39m5\u001b[39;49m,\n\u001b[1;32m      <a href='vscode-notebook-cell://github/leningschulich/schulich_data_science/mban%205110%20U/final.ipynb#X22sdnNjb2RlLXZmcw%3D%3D?line=6'>7</a>\u001b[0m                          max_q\u001b[39m=\u001b[39;49m\u001b[39m5\u001b[39;49m, d\u001b[39m=\u001b[39;49m\u001b[39mNone\u001b[39;49;00m, trace\u001b[39m=\u001b[39;49m\u001b[39mTrue\u001b[39;49;00m, test\u001b[39m=\u001b[39;49m\u001b[39m'\u001b[39;49m\u001b[39madf\u001b[39;49m\u001b[39m'\u001b[39;49m,\n\u001b[1;32m      <a href='vscode-notebook-cell://github/leningschulich/schulich_data_science/mban%205110%20U/final.ipynb#X22sdnNjb2RlLXZmcw%3D%3D?line=7'>8</a>\u001b[0m                          error_action\u001b[39m=\u001b[39;49m\u001b[39m'\u001b[39;49m\u001b[39mignore\u001b[39;49m\u001b[39m'\u001b[39;49m, suppress_warnings\u001b[39m=\u001b[39;49m\u001b[39mTrue\u001b[39;49;00m,\n\u001b[1;32m      <a href='vscode-notebook-cell://github/leningschulich/schulich_data_science/mban%205110%20U/final.ipynb#X22sdnNjb2RlLXZmcw%3D%3D?line=8'>9</a>\u001b[0m                          stepwise\u001b[39m=\u001b[39;49m\u001b[39mTrue\u001b[39;49;00m)\n",
      "File \u001b[0;32m~/opt/anaconda3/lib/python3.8/site-packages/pmdarima/arima/auto.py:422\u001b[0m, in \u001b[0;36mauto_arima\u001b[0;34m(y, X, start_p, d, start_q, max_p, max_d, max_q, start_P, D, start_Q, max_P, max_D, max_Q, max_order, m, seasonal, stationary, information_criterion, alpha, test, seasonal_test, stepwise, n_jobs, start_params, trend, method, maxiter, offset_test_args, seasonal_test_args, suppress_warnings, error_action, trace, random, random_state, n_fits, return_valid_fits, out_of_sample_size, scoring, scoring_args, with_intercept, sarimax_kwargs, **fit_args)\u001b[0m\n\u001b[1;32m    419\u001b[0m start \u001b[39m=\u001b[39m time\u001b[39m.\u001b[39mtime()\n\u001b[1;32m    421\u001b[0m \u001b[39m# copy array\u001b[39;00m\n\u001b[0;32m--> 422\u001b[0m y \u001b[39m=\u001b[39m check_endog(y, dtype\u001b[39m=\u001b[39;49mDTYPE, preserve_series\u001b[39m=\u001b[39;49m\u001b[39mTrue\u001b[39;49;00m)\n\u001b[1;32m    423\u001b[0m n_samples \u001b[39m=\u001b[39m y\u001b[39m.\u001b[39mshape[\u001b[39m0\u001b[39m]\n\u001b[1;32m    425\u001b[0m \u001b[39m# the workhorse of the model fits\u001b[39;00m\n",
      "File \u001b[0;32m~/opt/anaconda3/lib/python3.8/site-packages/pmdarima/utils/array.py:179\u001b[0m, in \u001b[0;36mcheck_endog\u001b[0;34m(y, dtype, copy, force_all_finite, preserve_series)\u001b[0m\n\u001b[1;32m    141\u001b[0m \u001b[39mdef\u001b[39;00m \u001b[39mcheck_endog\u001b[39m(\n\u001b[1;32m    142\u001b[0m     y,\n\u001b[1;32m    143\u001b[0m     dtype\u001b[39m=\u001b[39mDTYPE,\n\u001b[0;32m   (...)\u001b[0m\n\u001b[1;32m    146\u001b[0m     preserve_series\u001b[39m=\u001b[39m\u001b[39mTrue\u001b[39;00m,\n\u001b[1;32m    147\u001b[0m ):\n\u001b[1;32m    148\u001b[0m     \u001b[39m\"\"\"Wrapper for ``check_array`` and ``column_or_1d`` from sklearn\u001b[39;00m\n\u001b[1;32m    149\u001b[0m \n\u001b[1;32m    150\u001b[0m \u001b[39m    Parameters\u001b[39;00m\n\u001b[0;32m   (...)\u001b[0m\n\u001b[1;32m    177\u001b[0m \u001b[39m        A 1d numpy ndarray\u001b[39;00m\n\u001b[1;32m    178\u001b[0m \u001b[39m    \"\"\"\u001b[39;00m\n\u001b[0;32m--> 179\u001b[0m     endog \u001b[39m=\u001b[39m skval\u001b[39m.\u001b[39;49mcheck_array(\n\u001b[1;32m    180\u001b[0m         y,\n\u001b[1;32m    181\u001b[0m         ensure_2d\u001b[39m=\u001b[39;49m\u001b[39mFalse\u001b[39;49;00m,\n\u001b[1;32m    182\u001b[0m         force_all_finite\u001b[39m=\u001b[39;49mforce_all_finite,\n\u001b[1;32m    183\u001b[0m         copy\u001b[39m=\u001b[39;49mcopy,\n\u001b[1;32m    184\u001b[0m         dtype\u001b[39m=\u001b[39;49mdtype,\n\u001b[1;32m    185\u001b[0m     )\n\u001b[1;32m    187\u001b[0m     endog \u001b[39m=\u001b[39m skval\u001b[39m.\u001b[39mcolumn_or_1d(endog)\n\u001b[1;32m    188\u001b[0m     \u001b[39mif\u001b[39;00m \u001b[39mnot\u001b[39;00m preserve_series:\n",
      "File \u001b[0;32m~/opt/anaconda3/lib/python3.8/site-packages/sklearn/utils/validation.py:917\u001b[0m, in \u001b[0;36mcheck_array\u001b[0;34m(array, accept_sparse, accept_large_sparse, dtype, order, copy, force_all_finite, ensure_2d, allow_nd, ensure_min_samples, ensure_min_features, estimator, input_name)\u001b[0m\n\u001b[1;32m    915\u001b[0m         array \u001b[39m=\u001b[39m xp\u001b[39m.\u001b[39mastype(array, dtype, copy\u001b[39m=\u001b[39m\u001b[39mFalse\u001b[39;00m)\n\u001b[1;32m    916\u001b[0m     \u001b[39melse\u001b[39;00m:\n\u001b[0;32m--> 917\u001b[0m         array \u001b[39m=\u001b[39m _asarray_with_order(array, order\u001b[39m=\u001b[39;49morder, dtype\u001b[39m=\u001b[39;49mdtype, xp\u001b[39m=\u001b[39;49mxp)\n\u001b[1;32m    918\u001b[0m \u001b[39mexcept\u001b[39;00m ComplexWarning \u001b[39mas\u001b[39;00m complex_warning:\n\u001b[1;32m    919\u001b[0m     \u001b[39mraise\u001b[39;00m \u001b[39mValueError\u001b[39;00m(\n\u001b[1;32m    920\u001b[0m         \u001b[39m\"\u001b[39m\u001b[39mComplex data not supported\u001b[39m\u001b[39m\\n\u001b[39;00m\u001b[39m{}\u001b[39;00m\u001b[39m\\n\u001b[39;00m\u001b[39m\"\u001b[39m\u001b[39m.\u001b[39mformat(array)\n\u001b[1;32m    921\u001b[0m     ) \u001b[39mfrom\u001b[39;00m \u001b[39mcomplex_warning\u001b[39;00m\n",
      "File \u001b[0;32m~/opt/anaconda3/lib/python3.8/site-packages/sklearn/utils/_array_api.py:380\u001b[0m, in \u001b[0;36m_asarray_with_order\u001b[0;34m(array, dtype, order, copy, xp)\u001b[0m\n\u001b[1;32m    378\u001b[0m     array \u001b[39m=\u001b[39m numpy\u001b[39m.\u001b[39marray(array, order\u001b[39m=\u001b[39morder, dtype\u001b[39m=\u001b[39mdtype)\n\u001b[1;32m    379\u001b[0m \u001b[39melse\u001b[39;00m:\n\u001b[0;32m--> 380\u001b[0m     array \u001b[39m=\u001b[39m numpy\u001b[39m.\u001b[39;49masarray(array, order\u001b[39m=\u001b[39;49morder, dtype\u001b[39m=\u001b[39;49mdtype)\n\u001b[1;32m    382\u001b[0m \u001b[39m# At this point array is a NumPy ndarray. We convert it to an array\u001b[39;00m\n\u001b[1;32m    383\u001b[0m \u001b[39m# container that is consistent with the input's namespace.\u001b[39;00m\n\u001b[1;32m    384\u001b[0m \u001b[39mreturn\u001b[39;00m xp\u001b[39m.\u001b[39masarray(array)\n",
      "File \u001b[0;32m~/opt/anaconda3/lib/python3.8/site-packages/pandas/core/series.py:917\u001b[0m, in \u001b[0;36mSeries.__array__\u001b[0;34m(self, dtype)\u001b[0m\n\u001b[1;32m    870\u001b[0m \u001b[39m\"\"\"\u001b[39;00m\n\u001b[1;32m    871\u001b[0m \u001b[39mReturn the values as a NumPy array.\u001b[39;00m\n\u001b[1;32m    872\u001b[0m \n\u001b[0;32m   (...)\u001b[0m\n\u001b[1;32m    914\u001b[0m \u001b[39m      dtype='datetime64[ns]')\u001b[39;00m\n\u001b[1;32m    915\u001b[0m \u001b[39m\"\"\"\u001b[39;00m\n\u001b[1;32m    916\u001b[0m values \u001b[39m=\u001b[39m \u001b[39mself\u001b[39m\u001b[39m.\u001b[39m_values\n\u001b[0;32m--> 917\u001b[0m arr \u001b[39m=\u001b[39m np\u001b[39m.\u001b[39;49masarray(values, dtype\u001b[39m=\u001b[39;49mdtype)\n\u001b[1;32m    918\u001b[0m \u001b[39mif\u001b[39;00m using_copy_on_write() \u001b[39mand\u001b[39;00m astype_is_view(values\u001b[39m.\u001b[39mdtype, arr\u001b[39m.\u001b[39mdtype):\n\u001b[1;32m    919\u001b[0m     arr \u001b[39m=\u001b[39m arr\u001b[39m.\u001b[39mview()\n",
      "\u001b[0;31mOverflowError\u001b[0m: int too large to convert to float"
     ]
    }
   ],
   "source": [
    "import numpy as np\n",
    "from pmdarima.arima import auto_arima\n",
    "\n",
    "X = np.array(data['Fast Demand']).reshape(-1, 1)\n",
    "\n",
    "arima_model = auto_arima(data['Aggregate Demand'], exogenous=X, start_p=1, start_q=1, max_p=5,\n",
    "                         max_q=5, d=None, trace=True, test='adf',\n",
    "                         error_action='ignore', suppress_warnings=True,\n",
    "                         stepwise=True)\n"
   ]
  }
 ],
 "metadata": {
  "kernelspec": {
   "display_name": "base",
   "language": "python",
   "name": "python3"
  },
  "language_info": {
   "codemirror_mode": {
    "name": "ipython",
    "version": 3
   },
   "file_extension": ".py",
   "mimetype": "text/x-python",
   "name": "python",
   "nbconvert_exporter": "python",
   "pygments_lexer": "ipython3",
   "version": "3.8.8"
  }
 },
 "nbformat": 4,
 "nbformat_minor": 2
}

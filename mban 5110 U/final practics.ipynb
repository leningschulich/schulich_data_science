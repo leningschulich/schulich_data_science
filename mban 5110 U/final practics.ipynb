{
 "cells": [
  {
   "cell_type": "code",
   "execution_count": 2,
   "metadata": {},
   "outputs": [],
   "source": [
    "import numpy as np\n",
    "from datetime import timedelta, datetime\n",
    "import random\n",
    "import matplotlib.pyplot as plt\n",
    "import pandas as pd"
   ]
  },
  {
   "cell_type": "code",
   "execution_count": 3,
   "metadata": {},
   "outputs": [],
   "source": [
    "# Function to generate a random date within a range\n",
    "def random_date(start, end):\n",
    "    return start + timedelta(\n",
    "        days=random.randint(0, int((end - start).days)))\n",
    "\n",
    "# Define the start and end dates for the dataset period\n",
    "start_date = datetime(2009, 1, 1)\n",
    "end_date = datetime(2011, 12, 31)"
   ]
  },
  {
   "cell_type": "code",
   "execution_count": 4,
   "metadata": {},
   "outputs": [],
   "source": [
    "# Sample values for categorical variables\n",
    "customer_country_codes = ['USA', 'CAN', 'GBR', 'AUS', 'DEU']\n",
    "product_codes = ['P001', 'P002', 'P003', 'P004', 'P005']\n",
    "order_types = ['VO']\n",
    "routes = ['Air', 'Sea', 'Road', 'Rail']\n",
    "currencies = ['USD', 'CAD', 'GBP', 'AUD', 'EUR']"
   ]
  },
  {
   "cell_type": "code",
   "execution_count": 5,
   "metadata": {},
   "outputs": [
    {
     "name": "stdout",
     "output_type": "stream",
     "text": [
      "  Order Date Requested Delivery Date Customer Country Code Product Code  \\\n",
      "0 2011-10-11              2012-03-30                   CAN         P002   \n",
      "1 2011-01-02              2011-03-02                   USA         P001   \n",
      "2 2010-08-05              2010-12-31                   GBR         P005   \n",
      "3 2011-10-21              2011-11-07                   DEU         P003   \n",
      "4 2010-02-06              2010-08-04                   CAN         P003   \n",
      "\n",
      "    Description Order Type Customer Order Code   Value Currency       Items  \\\n",
      "0  Parka - P002         VO             CO-7927  544.31      GBP  520.569006   \n",
      "1  Parka - P001         VO             CO-2908  608.37      CAD  654.119064   \n",
      "2  Parka - P005         VO             CO-2082  878.90      CAD  675.214340   \n",
      "3  Parka - P003         VO             CO-9935  267.12      CAD  303.455423   \n",
      "4  Parka - P003         VO             CO-6757  571.42      GBP  992.360187   \n",
      "\n",
      "  Route  \n",
      "0  Rail  \n",
      "1   Sea  \n",
      "2  Rail  \n",
      "3   Sea  \n",
      "4  Rail  \n"
     ]
    }
   ],
   "source": [
    "# Number of rows in the dataset\n",
    "num_rows = 2421\n",
    "\n",
    "# Generating the dataset\n",
    "data = []\n",
    "for _ in range(num_rows):\n",
    "    order_date = random_date(start_date, end_date)\n",
    "    delivery_date = order_date + timedelta(days=random.randint(15,180))\n",
    "    country_code = random.choice(customer_country_codes)\n",
    "    product_code = random.choice(product_codes)\n",
    "    order_type = random.choice(order_types)\n",
    "    route = random.choice(routes)\n",
    "    currency = random.choice(currencies)\n",
    "    value = round(random.uniform(100, 1000), 2)\n",
    "    items = random.uniform(100, 1000)\n",
    "    description = f\"Parka - {product_code}\"\n",
    "\n",
    "    data.append([order_date, delivery_date, country_code, product_code, description,\n",
    "                 order_type, f'CO-{random.randint(1000, 9999)}', value, currency, items, route])\n",
    "\n",
    "# Creating DataFrame\n",
    "df = pd.DataFrame(data, columns=['Order Date', 'Requested Delivery Date', 'Customer Country Code',\n",
    "                                 'Product Code', 'Description', 'Order Type', 'Customer Order Code',\n",
    "                                 'Value', 'Currency', 'Items', 'Route'])\n",
    "\n",
    "print(df.head())  # Display the first few rows of the dataset"
   ]
  },
  {
   "cell_type": "code",
   "execution_count": 6,
   "metadata": {},
   "outputs": [],
   "source": [
    "# Convert 'Requested Delivery Date' and 'Order Date' to datetime objects\n",
    "df['Order Date'] = pd.to_datetime(df['Order Date'], format='%d.%m.%Y')\n",
    "df['Requested Delivery Date'] = pd.to_datetime(df['Requested Delivery Date'], format='%d.%m.%Y')\n",
    "\n",
    "# Calculate the time difference in days\n",
    "df['Time Difference'] = (df['Requested Delivery Date'] - df['Order Date']).dt.days\n",
    "\n",
    "# Add 'Fast Demand' column\n",
    "df['Fast Demand'] = np.where(df['Time Difference'] > 30, 1, 0)\n",
    "\n",
    "# Drop the temporary 'Time Difference' column if not needed\n",
    "df = df.drop('Time Difference', axis=1)\n"
   ]
  },
  {
   "cell_type": "code",
   "execution_count": 7,
   "metadata": {},
   "outputs": [
    {
     "name": "stdout",
     "output_type": "stream",
     "text": [
      "  Order Date Requested Delivery Date Customer Country Code Product Code  \\\n",
      "0 2011-10-11              2012-03-30                   CAN         P002   \n",
      "1 2011-01-02              2011-03-02                   USA         P001   \n",
      "2 2010-08-05              2010-12-31                   GBR         P005   \n",
      "3 2011-10-21              2011-11-07                   DEU         P003   \n",
      "4 2010-02-06              2010-08-04                   CAN         P003   \n",
      "\n",
      "    Description Order Type Customer Order Code   Value Currency       Items  \\\n",
      "0  Parka - P002         VO             CO-7927  544.31      GBP  520.569006   \n",
      "1  Parka - P001         VO             CO-2908  608.37      CAD  654.119064   \n",
      "2  Parka - P005         VO             CO-2082  878.90      CAD  675.214340   \n",
      "3  Parka - P003         VO             CO-9935  267.12      CAD  303.455423   \n",
      "4  Parka - P003         VO             CO-6757  571.42      GBP  992.360187   \n",
      "\n",
      "  Route  Fast Demand  \n",
      "0  Rail            1  \n",
      "1   Sea            1  \n",
      "2  Rail            1  \n",
      "3   Sea            0  \n",
      "4  Rail            1  \n"
     ]
    }
   ],
   "source": [
    "print(df.head())"
   ]
  },
  {
   "cell_type": "code",
   "execution_count": 8,
   "metadata": {},
   "outputs": [],
   "source": [
    "# Convert date columns to datetime format\n",
    "df['Order Date'] = pd.to_datetime(df['Order Date'], format='%d.%m.%Y')\n",
    "df['Requested Delivery Date'] = pd.to_datetime(df['Requested Delivery Date'],    format='%d.%m.%Y')\n",
    "# Extract month and create a 'Season' column\n",
    "df['DELIVERY MONTH'] = df['Requested Delivery Date'].dt.month\n",
    "df['SEASON'] = df['Requested Delivery Date'].dt.month.map({1: 'Winter', 2:   'Winter', 3: 'Spring', 4: 'Spring', 5: 'Spring', 6: 'Summer', 7: 'Summer', 8: 'Summer', 9: 'Fall', 10: 'Fall', 11: 'Fall', 12: 'Winter'})\n"
   ]
  },
  {
   "cell_type": "code",
   "execution_count": 9,
   "metadata": {},
   "outputs": [
    {
     "name": "stdout",
     "output_type": "stream",
     "text": [
      "  Order Date Requested Delivery Date Customer Country Code Product Code  \\\n",
      "0 2011-10-11              2012-03-30                   CAN         P002   \n",
      "1 2011-01-02              2011-03-02                   USA         P001   \n",
      "2 2010-08-05              2010-12-31                   GBR         P005   \n",
      "3 2011-10-21              2011-11-07                   DEU         P003   \n",
      "4 2010-02-06              2010-08-04                   CAN         P003   \n",
      "\n",
      "    Description Order Type Customer Order Code   Value Currency       Items  \\\n",
      "0  Parka - P002         VO             CO-7927  544.31      GBP  520.569006   \n",
      "1  Parka - P001         VO             CO-2908  608.37      CAD  654.119064   \n",
      "2  Parka - P005         VO             CO-2082  878.90      CAD  675.214340   \n",
      "3  Parka - P003         VO             CO-9935  267.12      CAD  303.455423   \n",
      "4  Parka - P003         VO             CO-6757  571.42      GBP  992.360187   \n",
      "\n",
      "  Route  Fast Demand  DELIVERY MONTH  SEASON  \n",
      "0  Rail            1               3  Spring  \n",
      "1   Sea            1               3  Spring  \n",
      "2  Rail            1              12  Winter  \n",
      "3   Sea            0              11    Fall  \n",
      "4  Rail            1               8  Summer  \n"
     ]
    }
   ],
   "source": [
    "print(df.head())"
   ]
  },
  {
   "cell_type": "code",
   "execution_count": 10,
   "metadata": {},
   "outputs": [],
   "source": [
    "from statsmodels.tsa.seasonal import seasonal_decompose\n",
    "from statsmodels.graphics.tsaplots import plot_acf, plot_pacf"
   ]
  },
  {
   "cell_type": "code",
   "execution_count": 11,
   "metadata": {},
   "outputs": [
    {
     "name": "stdout",
     "output_type": "stream",
     "text": [
      "Collecting pmdarima\n",
      "  Downloading pmdarima-2.0.4-cp38-cp38-macosx_10_9_x86_64.whl (653 kB)\n",
      "\u001b[K     |████████████████████████████████| 653 kB 5.2 MB/s eta 0:00:01\n",
      "\u001b[?25hRequirement already satisfied: pandas>=0.19 in /Users/frieda/opt/anaconda3/lib/python3.8/site-packages (from pmdarima) (2.0.3)\n",
      "Requirement already satisfied: urllib3 in /Users/frieda/opt/anaconda3/lib/python3.8/site-packages (from pmdarima) (1.26.4)\n",
      "Requirement already satisfied: Cython!=0.29.18,!=0.29.31,>=0.29 in /Users/frieda/opt/anaconda3/lib/python3.8/site-packages (from pmdarima) (0.29.23)\n",
      "Requirement already satisfied: scipy>=1.3.2 in /Users/frieda/opt/anaconda3/lib/python3.8/site-packages (from pmdarima) (1.6.2)\n",
      "Requirement already satisfied: setuptools!=50.0.0,>=38.6.0 in /Users/frieda/opt/anaconda3/lib/python3.8/site-packages (from pmdarima) (52.0.0.post20210125)\n",
      "Requirement already satisfied: numpy>=1.21.2 in /Users/frieda/opt/anaconda3/lib/python3.8/site-packages (from pmdarima) (1.22.4)\n",
      "Requirement already satisfied: joblib>=0.11 in /Users/frieda/opt/anaconda3/lib/python3.8/site-packages (from pmdarima) (1.3.1)\n",
      "Requirement already satisfied: statsmodels>=0.13.2 in /Users/frieda/opt/anaconda3/lib/python3.8/site-packages (from pmdarima) (0.14.0)\n",
      "Requirement already satisfied: packaging>=17.1 in /Users/frieda/opt/anaconda3/lib/python3.8/site-packages (from pmdarima) (23.1)\n",
      "Requirement already satisfied: scikit-learn>=0.22 in /Users/frieda/opt/anaconda3/lib/python3.8/site-packages (from pmdarima) (1.3.0)\n",
      "Requirement already satisfied: pytz>=2020.1 in /Users/frieda/opt/anaconda3/lib/python3.8/site-packages (from pandas>=0.19->pmdarima) (2021.1)\n",
      "Requirement already satisfied: tzdata>=2022.1 in /Users/frieda/opt/anaconda3/lib/python3.8/site-packages (from pandas>=0.19->pmdarima) (2023.3)\n",
      "Requirement already satisfied: python-dateutil>=2.8.2 in /Users/frieda/opt/anaconda3/lib/python3.8/site-packages (from pandas>=0.19->pmdarima) (2.8.2)\n",
      "Requirement already satisfied: six>=1.5 in /Users/frieda/opt/anaconda3/lib/python3.8/site-packages (from python-dateutil>=2.8.2->pandas>=0.19->pmdarima) (1.15.0)\n",
      "Requirement already satisfied: threadpoolctl>=2.0.0 in /Users/frieda/opt/anaconda3/lib/python3.8/site-packages (from scikit-learn>=0.22->pmdarima) (2.1.0)\n",
      "Requirement already satisfied: patsy>=0.5.2 in /Users/frieda/opt/anaconda3/lib/python3.8/site-packages (from statsmodels>=0.13.2->pmdarima) (0.5.3)\n",
      "Installing collected packages: pmdarima\n",
      "Successfully installed pmdarima-2.0.4\n",
      "Note: you may need to restart the kernel to use updated packages.\n"
     ]
    }
   ],
   "source": [
    "pip install pmdarima"
   ]
  },
  {
   "cell_type": "code",
   "execution_count": 12,
   "metadata": {},
   "outputs": [],
   "source": [
    "from pmdarima import auto_arima\n",
    "from sklearn.ensemble import RandomForestRegressor\n",
    "from sklearn.metrics import mean_squared_error"
   ]
  },
  {
   "cell_type": "code",
   "execution_count": 13,
   "metadata": {},
   "outputs": [
    {
     "name": "stdout",
     "output_type": "stream",
     "text": [
      "Performing stepwise search to minimize aic\n",
      " ARIMA(1,0,1)(0,0,0)[0] intercept   : AIC=993.851, Time=1.88 sec\n",
      " ARIMA(0,0,0)(0,0,0)[0] intercept   : AIC=989.851, Time=0.28 sec\n",
      " ARIMA(1,0,0)(0,0,0)[0] intercept   : AIC=991.851, Time=0.30 sec\n",
      " ARIMA(0,0,1)(0,0,0)[0] intercept   : AIC=991.851, Time=0.33 sec\n",
      " ARIMA(0,0,0)(0,0,0)[0]             : AIC=6624.191, Time=0.13 sec\n",
      "\n",
      "Best model:  ARIMA(0,0,0)(0,0,0)[0] intercept\n",
      "Total fit time: 2.987 seconds\n"
     ]
    }
   ],
   "source": [
    "arima_model = auto_arima( df['Fast Demand'], start_p=1, start_q=1, max_p=5\n",
    "                         , max_q=5\n",
    "                         , d=None\n",
    "                         ,trace=True\n",
    "                         , test='adf'\n",
    "                         , error_action='ignore'\n",
    "                         , suppress_warnings=True\n",
    "                         , stepwise=True)\n"
   ]
  },
  {
   "cell_type": "code",
   "execution_count": 14,
   "metadata": {},
   "outputs": [
    {
     "name": "stdout",
     "output_type": "stream",
     "text": [
      "                               SARIMAX Results                                \n",
      "==============================================================================\n",
      "Dep. Variable:                      y   No. Observations:                 2421\n",
      "Model:                        SARIMAX   Log Likelihood                -492.925\n",
      "Date:                Sun, 10 Dec 2023   AIC                            989.851\n",
      "Time:                        23:11:20   BIC                           1001.435\n",
      "Sample:                             0   HQIC                           994.063\n",
      "                               - 2421                                         \n",
      "Covariance Type:                  opg                                         \n",
      "==============================================================================\n",
      "                 coef    std err          z      P>|z|      [0.025      0.975]\n",
      "------------------------------------------------------------------------------\n",
      "intercept      0.9025      0.000   3283.676      0.000       0.902       0.903\n",
      "sigma2         0.0880      0.001     69.962      0.000       0.086       0.090\n",
      "===================================================================================\n",
      "Ljung-Box (L1) (Q):                   0.00   Jarque-Bera (JB):              5877.49\n",
      "Prob(Q):                              1.00   Prob(JB):                         0.00\n",
      "Heteroskedasticity (H):               1.12   Skew:                            -2.71\n",
      "Prob(H) (two-sided):                  0.10   Kurtosis:                         8.37\n",
      "===================================================================================\n",
      "\n",
      "Warnings:\n",
      "[1] Covariance matrix calculated using the outer product of gradients (complex-step).\n",
      "[2] Covariance matrix is singular or near-singular, with condition number 3.66e+16. Standard errors may be unstable.\n"
     ]
    }
   ],
   "source": [
    "print(arima_model.summary())"
   ]
  },
  {
   "cell_type": "code",
   "execution_count": null,
   "metadata": {},
   "outputs": [],
   "source": []
  }
 ],
 "metadata": {
  "kernelspec": {
   "display_name": "base",
   "language": "python",
   "name": "python3"
  },
  "language_info": {
   "codemirror_mode": {
    "name": "ipython",
    "version": 3
   },
   "file_extension": ".py",
   "mimetype": "text/x-python",
   "name": "python",
   "nbconvert_exporter": "python",
   "pygments_lexer": "ipython3",
   "version": "3.8.8"
  }
 },
 "nbformat": 4,
 "nbformat_minor": 2
}

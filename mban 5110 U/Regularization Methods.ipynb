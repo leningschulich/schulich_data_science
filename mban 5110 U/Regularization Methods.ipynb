{
 "cells": [
  {
   "cell_type": "code",
   "execution_count": 13,
   "id": "8289f5e1",
   "metadata": {},
   "outputs": [],
   "source": [
    "import numpy as np\n",
    "import pandas as pd\n",
    "import matplotlib.pyplot as plt\n",
    "import statsmodels.api as sm\n",
    "from sklearn import linear_model as lm"
   ]
  },
  {
   "cell_type": "code",
   "execution_count": 14,
   "id": "ac25ff6d",
   "metadata": {},
   "outputs": [],
   "source": [
    "x_1 = np.random.uniform(10,40,100)\n",
    "x_2 = np.random.uniform(-50,20,100)\n",
    "x_3 = np.random.uniform(20,60,100)\n",
    "x_4 = np.random.uniform(10,40,100)\n",
    "x_5 = np.random.uniform(-50,20,100)\n",
    "x_6 = np.random.uniform(20,60,100)\n",
    "\n",
    "epsilon = np.random.normal(0,10,100)"
   ]
  },
  {
   "cell_type": "code",
   "execution_count": 15,
   "id": "42b4353c",
   "metadata": {},
   "outputs": [],
   "source": [
    "y=-30+1.3*x_1+1.6*x_2+1.1*x_3+0.7*x_4-2.1*x_5-0.9*x_6+epsilon"
   ]
  },
  {
   "cell_type": "code",
   "execution_count": 16,
   "id": "f4f0d12d",
   "metadata": {},
   "outputs": [],
   "source": [
    "X_ols=pd.DataFrame()\n",
    "X_ols['Constant']=pd.Series(np.ones(100))\n",
    "X_ols['X1'] = pd.Series(x_1)\n",
    "X_ols['X2'] = pd.Series(x_2)\n",
    "X_ols['X3'] = pd.Series(x_3)\n",
    "X_ols['X4'] = pd.Series(x_4)\n",
    "X_ols['X5'] = pd.Series(x_5)\n",
    "X_ols['X6'] = pd.Series(x_6)"
   ]
  },
  {
   "cell_type": "code",
   "execution_count": 17,
   "id": "0614462a",
   "metadata": {},
   "outputs": [
    {
     "data": {
      "text/html": [
       "<table class=\"simpletable\">\n",
       "<caption>OLS Regression Results</caption>\n",
       "<tr>\n",
       "  <th>Dep. Variable:</th>            <td>y</td>        <th>  R-squared:         </th> <td>   0.961</td>\n",
       "</tr>\n",
       "<tr>\n",
       "  <th>Model:</th>                   <td>OLS</td>       <th>  Adj. R-squared:    </th> <td>   0.959</td>\n",
       "</tr>\n",
       "<tr>\n",
       "  <th>Method:</th>             <td>Least Squares</td>  <th>  F-statistic:       </th> <td>   383.5</td>\n",
       "</tr>\n",
       "<tr>\n",
       "  <th>Date:</th>             <td>Mon, 02 Oct 2023</td> <th>  Prob (F-statistic):</th> <td>2.71e-63</td>\n",
       "</tr>\n",
       "<tr>\n",
       "  <th>Time:</th>                 <td>20:21:49</td>     <th>  Log-Likelihood:    </th> <td> -371.06</td>\n",
       "</tr>\n",
       "<tr>\n",
       "  <th>No. Observations:</th>      <td>   100</td>      <th>  AIC:               </th> <td>   756.1</td>\n",
       "</tr>\n",
       "<tr>\n",
       "  <th>Df Residuals:</th>          <td>    93</td>      <th>  BIC:               </th> <td>   774.4</td>\n",
       "</tr>\n",
       "<tr>\n",
       "  <th>Df Model:</th>              <td>     6</td>      <th>                     </th>     <td> </td>   \n",
       "</tr>\n",
       "<tr>\n",
       "  <th>Covariance Type:</th>      <td>nonrobust</td>    <th>                     </th>     <td> </td>   \n",
       "</tr>\n",
       "</table>\n",
       "<table class=\"simpletable\">\n",
       "<tr>\n",
       "      <td></td>        <th>coef</th>     <th>std err</th>      <th>t</th>      <th>P>|t|</th>  <th>[0.025</th>    <th>0.975]</th>  \n",
       "</tr>\n",
       "<tr>\n",
       "  <th>Constant</th> <td>  -33.7984</td> <td>    6.181</td> <td>   -5.468</td> <td> 0.000</td> <td>  -46.073</td> <td>  -21.523</td>\n",
       "</tr>\n",
       "<tr>\n",
       "  <th>X1</th>       <td>    1.3022</td> <td>    0.122</td> <td>   10.656</td> <td> 0.000</td> <td>    1.059</td> <td>    1.545</td>\n",
       "</tr>\n",
       "<tr>\n",
       "  <th>X2</th>       <td>    1.6029</td> <td>    0.052</td> <td>   30.982</td> <td> 0.000</td> <td>    1.500</td> <td>    1.706</td>\n",
       "</tr>\n",
       "<tr>\n",
       "  <th>X3</th>       <td>    1.1861</td> <td>    0.092</td> <td>   12.932</td> <td> 0.000</td> <td>    1.004</td> <td>    1.368</td>\n",
       "</tr>\n",
       "<tr>\n",
       "  <th>X4</th>       <td>    0.5878</td> <td>    0.110</td> <td>    5.331</td> <td> 0.000</td> <td>    0.369</td> <td>    0.807</td>\n",
       "</tr>\n",
       "<tr>\n",
       "  <th>X5</th>       <td>   -2.0370</td> <td>    0.058</td> <td>  -34.891</td> <td> 0.000</td> <td>   -2.153</td> <td>   -1.921</td>\n",
       "</tr>\n",
       "<tr>\n",
       "  <th>X6</th>       <td>   -0.7873</td> <td>    0.088</td> <td>   -8.947</td> <td> 0.000</td> <td>   -0.962</td> <td>   -0.613</td>\n",
       "</tr>\n",
       "</table>\n",
       "<table class=\"simpletable\">\n",
       "<tr>\n",
       "  <th>Omnibus:</th>       <td> 0.275</td> <th>  Durbin-Watson:     </th> <td>   1.688</td>\n",
       "</tr>\n",
       "<tr>\n",
       "  <th>Prob(Omnibus):</th> <td> 0.872</td> <th>  Jarque-Bera (JB):  </th> <td>   0.101</td>\n",
       "</tr>\n",
       "<tr>\n",
       "  <th>Skew:</th>          <td>-0.075</td> <th>  Prob(JB):          </th> <td>   0.951</td>\n",
       "</tr>\n",
       "<tr>\n",
       "  <th>Kurtosis:</th>      <td> 3.041</td> <th>  Cond. No.          </th> <td>    426.</td>\n",
       "</tr>\n",
       "</table><br/><br/>Notes:<br/>[1] Standard Errors assume that the covariance matrix of the errors is correctly specified."
      ],
      "text/plain": [
       "<class 'statsmodels.iolib.summary.Summary'>\n",
       "\"\"\"\n",
       "                            OLS Regression Results                            \n",
       "==============================================================================\n",
       "Dep. Variable:                      y   R-squared:                       0.961\n",
       "Model:                            OLS   Adj. R-squared:                  0.959\n",
       "Method:                 Least Squares   F-statistic:                     383.5\n",
       "Date:                Mon, 02 Oct 2023   Prob (F-statistic):           2.71e-63\n",
       "Time:                        20:21:49   Log-Likelihood:                -371.06\n",
       "No. Observations:                 100   AIC:                             756.1\n",
       "Df Residuals:                      93   BIC:                             774.4\n",
       "Df Model:                           6                                         \n",
       "Covariance Type:            nonrobust                                         \n",
       "==============================================================================\n",
       "                 coef    std err          t      P>|t|      [0.025      0.975]\n",
       "------------------------------------------------------------------------------\n",
       "Constant     -33.7984      6.181     -5.468      0.000     -46.073     -21.523\n",
       "X1             1.3022      0.122     10.656      0.000       1.059       1.545\n",
       "X2             1.6029      0.052     30.982      0.000       1.500       1.706\n",
       "X3             1.1861      0.092     12.932      0.000       1.004       1.368\n",
       "X4             0.5878      0.110      5.331      0.000       0.369       0.807\n",
       "X5            -2.0370      0.058    -34.891      0.000      -2.153      -1.921\n",
       "X6            -0.7873      0.088     -8.947      0.000      -0.962      -0.613\n",
       "==============================================================================\n",
       "Omnibus:                        0.275   Durbin-Watson:                   1.688\n",
       "Prob(Omnibus):                  0.872   Jarque-Bera (JB):                0.101\n",
       "Skew:                          -0.075   Prob(JB):                        0.951\n",
       "Kurtosis:                       3.041   Cond. No.                         426.\n",
       "==============================================================================\n",
       "\n",
       "Notes:\n",
       "[1] Standard Errors assume that the covariance matrix of the errors is correctly specified.\n",
       "\"\"\""
      ]
     },
     "execution_count": 17,
     "metadata": {},
     "output_type": "execute_result"
    }
   ],
   "source": [
    "model_reg = sm.OLS(y,X_ols).fit()\n",
    "model_reg.summary()"
   ]
  },
  {
   "cell_type": "markdown",
   "id": "c754676e",
   "metadata": {},
   "source": [
    "We try lasso"
   ]
  },
  {
   "cell_type": "code",
   "execution_count": 18,
   "id": "7a996da0",
   "metadata": {},
   "outputs": [],
   "source": [
    "# Now we add some unrelated coefficients\n",
    "x_7 = np.random.uniform(10,40,100)\n",
    "x_8 = np.random.uniform(-50,20,100)\n",
    "x_9 = np.random.uniform(20,60,100)\n",
    "x_10 = np.random.uniform(10,40,100)\n",
    "x_11 = np.random.uniform(-50,20,100)\n",
    "x_12 = np.random.uniform(20,60,100)"
   ]
  },
  {
   "cell_type": "code",
   "execution_count": 19,
   "id": "6c40d68e",
   "metadata": {},
   "outputs": [],
   "source": [
    "X_ext = pd.DataFrame()\n",
    "X_ext['Constant']=pd.Series(np.ones(100))\n",
    "X_ext['X1'] = pd.Series(x_1)\n",
    "X_ext['X2'] = pd.Series(x_2)\n",
    "X_ext['X3'] = pd.Series(x_3)\n",
    "X_ext['X4'] = pd.Series(x_4)\n",
    "X_ext['X5'] = pd.Series(x_5)\n",
    "X_ext['X6'] = pd.Series(x_6)\n",
    "X_ext['X7'] = pd.Series(x_7)\n",
    "X_ext['X8'] = pd.Series(x_8)\n",
    "X_ext['X9'] = pd.Series(x_9)\n",
    "X_ext['X10'] = pd.Series(x_10)\n",
    "X_ext['X11'] = pd.Series(x_11)\n",
    "X_ext['X12'] = pd.Series(x_12)"
   ]
  },
  {
   "cell_type": "code",
   "execution_count": 20,
   "id": "d87033bc",
   "metadata": {},
   "outputs": [
    {
     "data": {
      "text/html": [
       "<table class=\"simpletable\">\n",
       "<caption>OLS Regression Results</caption>\n",
       "<tr>\n",
       "  <th>Dep. Variable:</th>            <td>y</td>        <th>  R-squared:         </th> <td>   0.963</td>\n",
       "</tr>\n",
       "<tr>\n",
       "  <th>Model:</th>                   <td>OLS</td>       <th>  Adj. R-squared:    </th> <td>   0.958</td>\n",
       "</tr>\n",
       "<tr>\n",
       "  <th>Method:</th>             <td>Least Squares</td>  <th>  F-statistic:       </th> <td>   189.4</td>\n",
       "</tr>\n",
       "<tr>\n",
       "  <th>Date:</th>             <td>Mon, 02 Oct 2023</td> <th>  Prob (F-statistic):</th> <td>6.72e-57</td>\n",
       "</tr>\n",
       "<tr>\n",
       "  <th>Time:</th>                 <td>20:21:49</td>     <th>  Log-Likelihood:    </th> <td> -368.45</td>\n",
       "</tr>\n",
       "<tr>\n",
       "  <th>No. Observations:</th>      <td>   100</td>      <th>  AIC:               </th> <td>   762.9</td>\n",
       "</tr>\n",
       "<tr>\n",
       "  <th>Df Residuals:</th>          <td>    87</td>      <th>  BIC:               </th> <td>   796.8</td>\n",
       "</tr>\n",
       "<tr>\n",
       "  <th>Df Model:</th>              <td>    12</td>      <th>                     </th>     <td> </td>   \n",
       "</tr>\n",
       "<tr>\n",
       "  <th>Covariance Type:</th>      <td>nonrobust</td>    <th>                     </th>     <td> </td>   \n",
       "</tr>\n",
       "</table>\n",
       "<table class=\"simpletable\">\n",
       "<tr>\n",
       "      <td></td>        <th>coef</th>     <th>std err</th>      <th>t</th>      <th>P>|t|</th>  <th>[0.025</th>    <th>0.975]</th>  \n",
       "</tr>\n",
       "<tr>\n",
       "  <th>Constant</th> <td>  -38.7499</td> <td>    9.434</td> <td>   -4.107</td> <td> 0.000</td> <td>  -57.501</td> <td>  -19.999</td>\n",
       "</tr>\n",
       "<tr>\n",
       "  <th>X1</th>       <td>    1.3323</td> <td>    0.126</td> <td>   10.604</td> <td> 0.000</td> <td>    1.083</td> <td>    1.582</td>\n",
       "</tr>\n",
       "<tr>\n",
       "  <th>X2</th>       <td>    1.6063</td> <td>    0.055</td> <td>   29.292</td> <td> 0.000</td> <td>    1.497</td> <td>    1.715</td>\n",
       "</tr>\n",
       "<tr>\n",
       "  <th>X3</th>       <td>    1.2272</td> <td>    0.096</td> <td>   12.782</td> <td> 0.000</td> <td>    1.036</td> <td>    1.418</td>\n",
       "</tr>\n",
       "<tr>\n",
       "  <th>X4</th>       <td>    0.6049</td> <td>    0.118</td> <td>    5.128</td> <td> 0.000</td> <td>    0.370</td> <td>    0.839</td>\n",
       "</tr>\n",
       "<tr>\n",
       "  <th>X5</th>       <td>   -2.0282</td> <td>    0.060</td> <td>  -33.560</td> <td> 0.000</td> <td>   -2.148</td> <td>   -1.908</td>\n",
       "</tr>\n",
       "<tr>\n",
       "  <th>X6</th>       <td>   -0.7740</td> <td>    0.091</td> <td>   -8.512</td> <td> 0.000</td> <td>   -0.955</td> <td>   -0.593</td>\n",
       "</tr>\n",
       "<tr>\n",
       "  <th>X7</th>       <td>   -0.0071</td> <td>    0.122</td> <td>   -0.059</td> <td> 0.953</td> <td>   -0.249</td> <td>    0.235</td>\n",
       "</tr>\n",
       "<tr>\n",
       "  <th>X8</th>       <td>    0.0143</td> <td>    0.051</td> <td>    0.283</td> <td> 0.778</td> <td>   -0.087</td> <td>    0.115</td>\n",
       "</tr>\n",
       "<tr>\n",
       "  <th>X9</th>       <td>    0.0339</td> <td>    0.101</td> <td>    0.334</td> <td> 0.739</td> <td>   -0.168</td> <td>    0.235</td>\n",
       "</tr>\n",
       "<tr>\n",
       "  <th>X10</th>      <td>    0.1028</td> <td>    0.122</td> <td>    0.841</td> <td> 0.403</td> <td>   -0.140</td> <td>    0.346</td>\n",
       "</tr>\n",
       "<tr>\n",
       "  <th>X11</th>      <td>   -0.0882</td> <td>    0.052</td> <td>   -1.680</td> <td> 0.097</td> <td>   -0.193</td> <td>    0.016</td>\n",
       "</tr>\n",
       "<tr>\n",
       "  <th>X12</th>      <td>   -0.0727</td> <td>    0.090</td> <td>   -0.807</td> <td> 0.422</td> <td>   -0.252</td> <td>    0.106</td>\n",
       "</tr>\n",
       "</table>\n",
       "<table class=\"simpletable\">\n",
       "<tr>\n",
       "  <th>Omnibus:</th>       <td> 1.287</td> <th>  Durbin-Watson:     </th> <td>   1.695</td>\n",
       "</tr>\n",
       "<tr>\n",
       "  <th>Prob(Omnibus):</th> <td> 0.526</td> <th>  Jarque-Bera (JB):  </th> <td>   0.771</td>\n",
       "</tr>\n",
       "<tr>\n",
       "  <th>Skew:</th>          <td>-0.074</td> <th>  Prob(JB):          </th> <td>   0.680</td>\n",
       "</tr>\n",
       "<tr>\n",
       "  <th>Kurtosis:</th>      <td> 3.404</td> <th>  Cond. No.          </th> <td>    905.</td>\n",
       "</tr>\n",
       "</table><br/><br/>Notes:<br/>[1] Standard Errors assume that the covariance matrix of the errors is correctly specified."
      ],
      "text/plain": [
       "<class 'statsmodels.iolib.summary.Summary'>\n",
       "\"\"\"\n",
       "                            OLS Regression Results                            \n",
       "==============================================================================\n",
       "Dep. Variable:                      y   R-squared:                       0.963\n",
       "Model:                            OLS   Adj. R-squared:                  0.958\n",
       "Method:                 Least Squares   F-statistic:                     189.4\n",
       "Date:                Mon, 02 Oct 2023   Prob (F-statistic):           6.72e-57\n",
       "Time:                        20:21:49   Log-Likelihood:                -368.45\n",
       "No. Observations:                 100   AIC:                             762.9\n",
       "Df Residuals:                      87   BIC:                             796.8\n",
       "Df Model:                          12                                         \n",
       "Covariance Type:            nonrobust                                         \n",
       "==============================================================================\n",
       "                 coef    std err          t      P>|t|      [0.025      0.975]\n",
       "------------------------------------------------------------------------------\n",
       "Constant     -38.7499      9.434     -4.107      0.000     -57.501     -19.999\n",
       "X1             1.3323      0.126     10.604      0.000       1.083       1.582\n",
       "X2             1.6063      0.055     29.292      0.000       1.497       1.715\n",
       "X3             1.2272      0.096     12.782      0.000       1.036       1.418\n",
       "X4             0.6049      0.118      5.128      0.000       0.370       0.839\n",
       "X5            -2.0282      0.060    -33.560      0.000      -2.148      -1.908\n",
       "X6            -0.7740      0.091     -8.512      0.000      -0.955      -0.593\n",
       "X7            -0.0071      0.122     -0.059      0.953      -0.249       0.235\n",
       "X8             0.0143      0.051      0.283      0.778      -0.087       0.115\n",
       "X9             0.0339      0.101      0.334      0.739      -0.168       0.235\n",
       "X10            0.1028      0.122      0.841      0.403      -0.140       0.346\n",
       "X11           -0.0882      0.052     -1.680      0.097      -0.193       0.016\n",
       "X12           -0.0727      0.090     -0.807      0.422      -0.252       0.106\n",
       "==============================================================================\n",
       "Omnibus:                        1.287   Durbin-Watson:                   1.695\n",
       "Prob(Omnibus):                  0.526   Jarque-Bera (JB):                0.771\n",
       "Skew:                          -0.074   Prob(JB):                        0.680\n",
       "Kurtosis:                       3.404   Cond. No.                         905.\n",
       "==============================================================================\n",
       "\n",
       "Notes:\n",
       "[1] Standard Errors assume that the covariance matrix of the errors is correctly specified.\n",
       "\"\"\""
      ]
     },
     "execution_count": 20,
     "metadata": {},
     "output_type": "execute_result"
    }
   ],
   "source": [
    "model_reg = sm.OLS(y,X_ext).fit()\n",
    "model_reg.summary()"
   ]
  },
  {
   "cell_type": "code",
   "execution_count": 21,
   "id": "4bf6e43b",
   "metadata": {},
   "outputs": [
    {
     "data": {
      "text/plain": [
       "array([ 1.31588069,  1.60178267,  1.21494734,  0.59086202, -2.02534176,\n",
       "       -0.76590611, -0.        ,  0.01243348,  0.02448482,  0.09134539,\n",
       "       -0.08396009, -0.06455548])"
      ]
     },
     "execution_count": 21,
     "metadata": {},
     "output_type": "execute_result"
    }
   ],
   "source": [
    "# When we input the matrix, we don't need to add the column of ones because \\\n",
    "# Lasso automatically takes it into account\n",
    "# alpha: higher, higher regulation and the model coefficient more likely to be zero \n",
    "X_ext = X_ext.drop(columns=['Constant'])#drop X0 = 1 \n",
    "model_lasso = lm.Lasso(alpha=1).fit(X_ext,y)\n",
    "model_lasso.coef_"
   ]
  },
  {
   "cell_type": "code",
   "execution_count": 22,
   "id": "d9778204",
   "metadata": {},
   "outputs": [
    {
     "data": {
      "text/plain": [
       "array([ 1.15951704,  1.56025929,  1.10882935,  0.4529044 , -1.99283005,\n",
       "       -0.68092178, -0.        ,  0.        ,  0.        ,  0.        ,\n",
       "       -0.03978697, -0.        ])"
      ]
     },
     "execution_count": 22,
     "metadata": {},
     "output_type": "execute_result"
    }
   ],
   "source": [
    "model_lasso = lm.Lasso(alpha=10).fit(X_ext,y)\n",
    "model_lasso.coef_"
   ]
  },
  {
   "cell_type": "code",
   "execution_count": 23,
   "id": "7b10d4f6",
   "metadata": {},
   "outputs": [
    {
     "data": {
      "text/plain": [
       "array([ 1.33009983,  1.60570591,  1.22599838,  0.60378304, -2.02735831,\n",
       "       -0.77294528, -0.00753215,  0.01426734,  0.03420894,  0.10278205,\n",
       "       -0.0878669 , -0.07275878])"
      ]
     },
     "execution_count": 23,
     "metadata": {},
     "output_type": "execute_result"
    }
   ],
   "source": [
    "# We now apply Ridge Regression to our data\n",
    "\n",
    "model_ridge = lm.Ridge(alpha=10).fit(X_ext,y)\n",
    "model_ridge.coef_"
   ]
  },
  {
   "cell_type": "code",
   "execution_count": 24,
   "id": "16de3321",
   "metadata": {},
   "outputs": [
    {
     "data": {
      "text/plain": [
       "array([ 0.496245  ,  1.20187375,  0.60912114,  0.19699036, -1.49509289,\n",
       "       -0.30349789, -0.07353183, -0.04136381,  0.11303685,  0.05231849,\n",
       "        0.02629642, -0.10106694])"
      ]
     },
     "execution_count": 24,
     "metadata": {},
     "output_type": "execute_result"
    }
   ],
   "source": [
    "model_ridge = lm.Ridge(alpha=10000).fit(X_ext,y)\n",
    "model_ridge.coef_"
   ]
  },
  {
   "cell_type": "code",
   "execution_count": null,
   "id": "b0628168",
   "metadata": {},
   "outputs": [],
   "source": []
  }
 ],
 "metadata": {
  "kernelspec": {
   "display_name": "Python 3 (ipykernel)",
   "language": "python",
   "name": "python3"
  },
  "language_info": {
   "codemirror_mode": {
    "name": "ipython",
    "version": 3
   },
   "file_extension": ".py",
   "mimetype": "text/x-python",
   "name": "python",
   "nbconvert_exporter": "python",
   "pygments_lexer": "ipython3",
   "version": "3.8.8"
  }
 },
 "nbformat": 4,
 "nbformat_minor": 5
}

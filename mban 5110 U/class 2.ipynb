{
 "cells": [
  {
   "cell_type": "code",
   "execution_count": 3,
   "metadata": {},
   "outputs": [
    {
     "name": "stdout",
     "output_type": "stream",
     "text": [
      "octave not found, please see README\n"
     ]
    }
   ],
   "source": [
    "import numpy as np\n",
    "import pandas as pd\n",
    "import sklearn as sl\n",
    "import scipy as sp\n",
    "import seaborn as sb\n",
    "import matplotlib as mpl\n",
    "from matplotlib import pyplot as plt\n",
    "import oct2py as oclib"
   ]
  },
  {
   "cell_type": "code",
   "execution_count": 2,
   "metadata": {},
   "outputs": [
    {
     "name": "stdout",
     "output_type": "stream",
     "text": [
      "Collecting oct2py\n",
      "  Downloading oct2py-5.6.0-py3-none-any.whl (45 kB)\n",
      "\u001b[K     |████████████████████████████████| 45 kB 299 kB/s eta 0:00:01\n",
      "\u001b[?25hRequirement already satisfied: scipy>=0.17 in /Users/frieda/opt/anaconda3/lib/python3.8/site-packages (from oct2py) (1.6.2)\n",
      "Requirement already satisfied: numpy>=1.12 in /Users/frieda/opt/anaconda3/lib/python3.8/site-packages (from oct2py) (1.20.1)\n",
      "Collecting octave-kernel>=0.34.0\n",
      "  Downloading octave_kernel-0.35.1-py3-none-any.whl (35 kB)\n",
      "Requirement already satisfied: jupyter-client>=4.3.0 in /Users/frieda/opt/anaconda3/lib/python3.8/site-packages (from octave-kernel>=0.34.0->oct2py) (6.1.12)\n",
      "Requirement already satisfied: ipykernel in /Users/frieda/opt/anaconda3/lib/python3.8/site-packages (from octave-kernel>=0.34.0->oct2py) (5.3.4)\n",
      "Collecting metakernel>=0.24.0\n",
      "  Downloading metakernel-0.30.1-py3-none-any.whl (217 kB)\n",
      "\u001b[K     |████████████████████████████████| 217 kB 263 kB/s eta 0:00:01\n",
      "\u001b[?25hRequirement already satisfied: tornado>=4.1 in /Users/frieda/opt/anaconda3/lib/python3.8/site-packages (from jupyter-client>=4.3.0->octave-kernel>=0.34.0->oct2py) (6.1)\n",
      "Requirement already satisfied: jupyter-core>=4.6.0 in /Users/frieda/opt/anaconda3/lib/python3.8/site-packages (from jupyter-client>=4.3.0->octave-kernel>=0.34.0->oct2py) (4.7.1)\n",
      "Requirement already satisfied: pyzmq>=13 in /Users/frieda/opt/anaconda3/lib/python3.8/site-packages (from jupyter-client>=4.3.0->octave-kernel>=0.34.0->oct2py) (20.0.0)\n",
      "Requirement already satisfied: python-dateutil>=2.1 in /Users/frieda/opt/anaconda3/lib/python3.8/site-packages (from jupyter-client>=4.3.0->octave-kernel>=0.34.0->oct2py) (2.8.1)\n",
      "Requirement already satisfied: traitlets in /Users/frieda/opt/anaconda3/lib/python3.8/site-packages (from jupyter-client>=4.3.0->octave-kernel>=0.34.0->oct2py) (5.0.5)\n",
      "Collecting jedi>=0.18\n",
      "  Downloading jedi-0.19.0-py2.py3-none-any.whl (1.6 MB)\n",
      "\u001b[K     |████████████████████████████████| 1.6 MB 400 kB/s eta 0:00:01\n",
      "\u001b[?25hRequirement already satisfied: pexpect>=4.8 in /Users/frieda/opt/anaconda3/lib/python3.8/site-packages (from metakernel>=0.24.0->octave-kernel>=0.34.0->oct2py) (4.8.0)\n",
      "Collecting jupyter-core>=4.6.0\n",
      "  Downloading jupyter_core-5.3.1-py3-none-any.whl (93 kB)\n",
      "\u001b[K     |████████████████████████████████| 93 kB 785 kB/s eta 0:00:011\n",
      "\u001b[?25hCollecting ipykernel\n",
      "  Downloading ipykernel-6.25.2-py3-none-any.whl (154 kB)\n",
      "\u001b[K     |████████████████████████████████| 154 kB 1.5 MB/s eta 0:00:01\n",
      "\u001b[?25hRequirement already satisfied: nest-asyncio in /Users/frieda/opt/anaconda3/lib/python3.8/site-packages (from ipykernel->octave-kernel>=0.34.0->oct2py) (1.5.1)\n",
      "Requirement already satisfied: packaging in /Users/frieda/opt/anaconda3/lib/python3.8/site-packages (from ipykernel->octave-kernel>=0.34.0->oct2py) (20.9)\n",
      "Requirement already satisfied: psutil in /Users/frieda/opt/anaconda3/lib/python3.8/site-packages (from ipykernel->octave-kernel>=0.34.0->oct2py) (5.8.0)\n",
      "Collecting traitlets\n",
      "  Downloading traitlets-5.10.0-py3-none-any.whl (120 kB)\n",
      "\u001b[K     |████████████████████████████████| 120 kB 1.6 MB/s eta 0:00:01\n",
      "\u001b[?25hRequirement already satisfied: appnope in /Users/frieda/opt/anaconda3/lib/python3.8/site-packages (from ipykernel->octave-kernel>=0.34.0->oct2py) (0.1.2)\n",
      "Collecting debugpy>=1.6.5\n",
      "  Downloading debugpy-1.8.0-py2.py3-none-any.whl (5.0 MB)\n",
      "\u001b[K     |████████████████████████████████| 5.0 MB 1.1 MB/s eta 0:00:01\n",
      "\u001b[?25hCollecting comm>=0.1.1\n",
      "  Downloading comm-0.1.4-py3-none-any.whl (6.6 kB)\n",
      "Collecting matplotlib-inline>=0.1\n",
      "  Using cached matplotlib_inline-0.1.6-py3-none-any.whl (9.4 kB)\n",
      "Collecting ipython>=7.23.1\n",
      "  Downloading ipython-8.12.2-py3-none-any.whl (797 kB)\n",
      "\u001b[K     |████████████████████████████████| 797 kB 441 kB/s eta 0:00:01\n",
      "\u001b[?25hRequirement already satisfied: backcall in /Users/frieda/opt/anaconda3/lib/python3.8/site-packages (from ipython>=7.23.1->ipykernel->octave-kernel>=0.34.0->oct2py) (0.2.0)\n",
      "Requirement already satisfied: typing-extensions in /Users/frieda/opt/anaconda3/lib/python3.8/site-packages (from ipython>=7.23.1->ipykernel->octave-kernel>=0.34.0->oct2py) (3.7.4.3)\n",
      "Requirement already satisfied: pygments>=2.4.0 in /Users/frieda/opt/anaconda3/lib/python3.8/site-packages (from ipython>=7.23.1->ipykernel->octave-kernel>=0.34.0->oct2py) (2.8.1)\n",
      "Collecting prompt-toolkit!=3.0.37,<3.1.0,>=3.0.30\n",
      "  Downloading prompt_toolkit-3.0.39-py3-none-any.whl (385 kB)\n",
      "\u001b[K     |████████████████████████████████| 385 kB 668 kB/s eta 0:00:01\n",
      "\u001b[?25hRequirement already satisfied: decorator in /Users/frieda/opt/anaconda3/lib/python3.8/site-packages (from ipython>=7.23.1->ipykernel->octave-kernel>=0.34.0->oct2py) (5.0.6)\n",
      "Requirement already satisfied: pickleshare in /Users/frieda/opt/anaconda3/lib/python3.8/site-packages (from ipython>=7.23.1->ipykernel->octave-kernel>=0.34.0->oct2py) (0.7.5)\n",
      "Collecting stack-data\n",
      "  Using cached stack_data-0.6.2-py3-none-any.whl (24 kB)\n",
      "Collecting parso<0.9.0,>=0.8.3\n",
      "  Using cached parso-0.8.3-py2.py3-none-any.whl (100 kB)\n",
      "Collecting platformdirs>=2.5\n",
      "  Downloading platformdirs-3.10.0-py3-none-any.whl (17 kB)\n",
      "Requirement already satisfied: ptyprocess>=0.5 in /Users/frieda/opt/anaconda3/lib/python3.8/site-packages (from pexpect>=4.8->metakernel>=0.24.0->octave-kernel>=0.34.0->oct2py) (0.7.0)\n",
      "Requirement already satisfied: wcwidth in /Users/frieda/opt/anaconda3/lib/python3.8/site-packages (from prompt-toolkit!=3.0.37,<3.1.0,>=3.0.30->ipython>=7.23.1->ipykernel->octave-kernel>=0.34.0->oct2py) (0.2.5)\n",
      "Requirement already satisfied: six>=1.5 in /Users/frieda/opt/anaconda3/lib/python3.8/site-packages (from python-dateutil>=2.1->jupyter-client>=4.3.0->octave-kernel>=0.34.0->oct2py) (1.15.0)\n",
      "Requirement already satisfied: pyparsing>=2.0.2 in /Users/frieda/opt/anaconda3/lib/python3.8/site-packages (from packaging->ipykernel->octave-kernel>=0.34.0->oct2py) (2.4.7)\n",
      "Collecting pure-eval\n",
      "  Using cached pure_eval-0.2.2-py3-none-any.whl (11 kB)\n",
      "Collecting asttokens>=2.1.0\n",
      "  Downloading asttokens-2.4.0-py2.py3-none-any.whl (27 kB)\n",
      "Collecting executing>=1.2.0\n",
      "  Using cached executing-1.2.0-py2.py3-none-any.whl (24 kB)\n",
      "Installing collected packages: traitlets, pure-eval, platformdirs, parso, executing, asttokens, stack-data, prompt-toolkit, matplotlib-inline, jupyter-core, jedi, ipython, debugpy, comm, ipykernel, metakernel, octave-kernel, oct2py\n",
      "  Attempting uninstall: traitlets\n",
      "    Found existing installation: traitlets 5.0.5\n",
      "    Uninstalling traitlets-5.0.5:\n",
      "      Successfully uninstalled traitlets-5.0.5\n",
      "  Attempting uninstall: parso\n",
      "    Found existing installation: parso 0.7.0\n",
      "    Uninstalling parso-0.7.0:\n",
      "      Successfully uninstalled parso-0.7.0\n",
      "  Attempting uninstall: prompt-toolkit\n",
      "    Found existing installation: prompt-toolkit 3.0.17\n",
      "    Uninstalling prompt-toolkit-3.0.17:\n",
      "      Successfully uninstalled prompt-toolkit-3.0.17\n",
      "  Attempting uninstall: jupyter-core\n",
      "    Found existing installation: jupyter-core 4.7.1\n",
      "    Uninstalling jupyter-core-4.7.1:\n",
      "      Successfully uninstalled jupyter-core-4.7.1\n",
      "  Attempting uninstall: jedi\n",
      "    Found existing installation: jedi 0.17.2\n",
      "    Uninstalling jedi-0.17.2:\n",
      "      Successfully uninstalled jedi-0.17.2\n",
      "  Attempting uninstall: ipython\n",
      "    Found existing installation: ipython 7.22.0\n",
      "    Uninstalling ipython-7.22.0:\n",
      "      Successfully uninstalled ipython-7.22.0\n",
      "  Attempting uninstall: ipykernel\n",
      "    Found existing installation: ipykernel 5.3.4\n",
      "    Uninstalling ipykernel-5.3.4:\n",
      "      Successfully uninstalled ipykernel-5.3.4\n",
      "\u001b[31mERROR: pip's dependency resolver does not currently take into account all the packages that are installed. This behaviour is the source of the following dependency conflicts.\n",
      "spyder 4.2.5 requires pyqt5<5.13, which is not installed.\n",
      "spyder 4.2.5 requires pyqtwebengine<5.13, which is not installed.\n",
      "conda-repo-cli 1.0.4 requires pathlib, which is not installed.\n",
      "spyder 4.2.5 requires jedi==0.17.2, but you have jedi 0.19.0 which is incompatible.\n",
      "spyder 4.2.5 requires parso==0.7.0, but you have parso 0.8.3 which is incompatible.\n",
      "python-language-server 0.36.2 requires jedi<0.18.0,>=0.17.2, but you have jedi 0.19.0 which is incompatible.\u001b[0m\n",
      "Successfully installed asttokens-2.4.0 comm-0.1.4 debugpy-1.8.0 executing-1.2.0 ipykernel-6.25.2 ipython-8.12.2 jedi-0.19.0 jupyter-core-5.3.1 matplotlib-inline-0.1.6 metakernel-0.30.1 oct2py-5.6.0 octave-kernel-0.35.1 parso-0.8.3 platformdirs-3.10.0 prompt-toolkit-3.0.39 pure-eval-0.2.2 stack-data-0.6.2 traitlets-5.10.0\n",
      "Note: you may need to restart the kernel to use updated packages.\n"
     ]
    }
   ],
   "source": [
    "pip install oct2py"
   ]
  },
  {
   "cell_type": "code",
   "execution_count": 4,
   "metadata": {},
   "outputs": [],
   "source": [
    "import oct2py as oclib"
   ]
  },
  {
   "cell_type": "code",
   "execution_count": 5,
   "metadata": {},
   "outputs": [],
   "source": [
    "year_list = [1994, 1995, 1996, 1997, 1998, 1999, 2000, 2001, 2002, 2003, 2004, 2005, 2006,\n",
    "       2007, 2008, 2009, 2010, 2011, 2012, 2013]"
   ]
  },
  {
   "cell_type": "code",
   "execution_count": 6,
   "metadata": {},
   "outputs": [],
   "source": [
    "josb_assets_list = [101.783,90.671,81.41,77.144,82.515,84.751,88.954,108.457,133.993,186.511,231.83,\n",
    "                 304.832,368.392,440.098,491.366,556.364,662.037,813.612,894.847,935.738]\n",
    "mw_assets_list = [160.494,204.105,295.478,379.415,403.732,611.195,707.734,717.869,769.313,869.198,993.322,\n",
    "               1123.274,1096.952,1256.467,1187.73,1232.106,1320.318,1405.952,1496.347,1555.23]"
   ]
  },
  {
   "cell_type": "code",
   "execution_count": 17,
   "metadata": {},
   "outputs": [
    {
     "data": {
      "text/plain": [
       "Text(0, 0.5, 'Total Assets')"
      ]
     },
     "execution_count": 17,
     "metadata": {},
     "output_type": "execute_result"
    },
    {
     "data": {
      "image/png": "[encoded data removed]",
      "text/plain": [
       "<Figure size 960x960 with 1 Axes>"
      ]
     },
     "metadata": {
      "needs_background": "light"
     },
     "output_type": "display_data"
    }
   ],
   "source": [
    "plt.figure(figsize=(24,24), dpi= 40)\n",
    "plt.plot(year_list,josb_assets_list,label=\"Joseph A Bank\",linewidth=8)\n",
    "plt.plot(year_list,mw_assets_list,'g-.',label=\"Men's Wearhouse\",linewidth=8)\n",
    "xtick_location = np.arange(1994,2013,4)\n",
    "plt.xticks(ticks=xtick_location, rotation=0, fontsize=50, horizontalalignment='center')\n",
    "plt.legend(bbox_to_anchor=(0.50, 0.95),fontsize=50)\n",
    "plt.yticks(fontsize=50)\n",
    "plt.grid(axis='both')\n",
    "plt.xlabel('Year', fontsize = 65)\n",
    "plt.ylabel('Total Assets', fontsize = 65)"
   ]
  },
  {
   "cell_type": "code",
   "execution_count": 23,
   "metadata": {},
   "outputs": [
    {
     "data": {
      "text/plain": [
       "Text(0.5, 1.0, 'Histogram of Asset Values in NYSE')"
      ]
     },
     "execution_count": 23,
     "metadata": {},
     "output_type": "execute_result"
    },
    {
     "data": {
      "image/png": "[encoded data removed]",
      "text/plain": [
       "<Figure size 960x640 with 1 Axes>"
      ]
     },
     "metadata": {
      "needs_background": "light"
     },
     "output_type": "display_data"
    }
   ],
   "source": [
    "random_values = np.random.normal(1000,200,10000)\n",
    "bins = np.linspace(400,1600,30)\n",
    "plt.figure(figsize=(24,16), dpi= 40)\n",
    "plt.hist(random_values,bins)\n",
    "plt.xlabel('Total Assets', fontsize = 65)\n",
    "plt.ylabel('Frequency', fontsize = 65)\n",
    "plt.xticks(fontsize=50)\n",
    "plt.yticks(fontsize=50)\n",
    "plt.grid(axis='both')\n",
    "plt.title('Histogram of Asset Values in NYSE', fontsize = 65)"
   ]
  },
  {
   "cell_type": "code",
   "execution_count": 24,
   "metadata": {},
   "outputs": [
    {
     "data": {
      "text/plain": [
       "[1, 2, 3, 4, 1]"
      ]
     },
     "execution_count": 24,
     "metadata": {},
     "output_type": "execute_result"
    }
   ],
   "source": [
    "list_vec = [1,2,3,4]\n",
    "list_vec + [1]"
   ]
  },
  {
   "cell_type": "code",
   "execution_count": 25,
   "metadata": {},
   "outputs": [
    {
     "data": {
      "text/plain": [
       "[1, 2, 3, 4, 1]"
      ]
     },
     "execution_count": 25,
     "metadata": {},
     "output_type": "execute_result"
    }
   ],
   "source": [
    "list_vec = [1,2,3,4]\n",
    "list_vec.append(1)\n",
    "list_vec"
   ]
  },
  {
   "cell_type": "code",
   "execution_count": 26,
   "metadata": {},
   "outputs": [
    {
     "data": {
      "text/plain": [
       "array([2, 3, 4, 5])"
      ]
     },
     "execution_count": 26,
     "metadata": {},
     "output_type": "execute_result"
    }
   ],
   "source": [
    "import numpy as np\n",
    "array_vec = np.array([1,2,3,4])\n",
    "array_vec + np.array([1])"
   ]
  },
  {
   "cell_type": "code",
   "execution_count": 27,
   "metadata": {},
   "outputs": [],
   "source": [
    "matrix_example = np.array([[1,2,3],[0,-1,2],[1,0,4]])\n",
    "array_example = np.array([1,-2,1])"
   ]
  },
  {
   "cell_type": "code",
   "execution_count": 28,
   "metadata": {},
   "outputs": [
    {
     "data": {
      "text/plain": [
       "array([0, 4, 5])"
      ]
     },
     "execution_count": 28,
     "metadata": {},
     "output_type": "execute_result"
    }
   ],
   "source": [
    "np.dot(matrix_example,array_example)"
   ]
  },
  {
   "cell_type": "code",
   "execution_count": 29,
   "metadata": {},
   "outputs": [
    {
     "data": {
      "text/plain": [
       "array([[-1.33333333, -2.66666667,  2.33333333],\n",
       "       [ 0.66666667,  0.33333333, -0.66666667],\n",
       "       [ 0.33333333,  0.66666667, -0.33333333]])"
      ]
     },
     "execution_count": 29,
     "metadata": {},
     "output_type": "execute_result"
    }
   ],
   "source": [
    "np.linalg.inv(matrix_example)"
   ]
  },
  {
   "cell_type": "code",
   "execution_count": 30,
   "metadata": {},
   "outputs": [
    {
     "data": {
      "text/plain": [
       "array([[ 1,  0,  1],\n",
       "       [ 2, -1,  0],\n",
       "       [ 3,  2,  4]])"
      ]
     },
     "execution_count": 30,
     "metadata": {},
     "output_type": "execute_result"
    }
   ],
   "source": [
    "np.transpose(matrix_example)"
   ]
  },
  {
   "cell_type": "code",
   "execution_count": 31,
   "metadata": {},
   "outputs": [
    {
     "data": {
      "text/plain": [
       "array([ 4.93394491+0.j        , -0.46697245+0.62447535j,\n",
       "       -0.46697245-0.62447535j])"
      ]
     },
     "execution_count": 31,
     "metadata": {},
     "output_type": "execute_result"
    }
   ],
   "source": [
    "np.linalg.eigvals(matrix_example)"
   ]
  },
  {
   "cell_type": "code",
   "execution_count": 32,
   "metadata": {},
   "outputs": [
    {
     "data": {
      "text/plain": [
       "3"
      ]
     },
     "execution_count": 32,
     "metadata": {},
     "output_type": "execute_result"
    }
   ],
   "source": [
    "np.linalg.matrix_rank(matrix_example)"
   ]
  },
  {
   "cell_type": "code",
   "execution_count": 33,
   "metadata": {},
   "outputs": [
    {
     "data": {
      "text/plain": [
       "array([[ 1,  2,  3],\n",
       "       [ 0, -1,  2],\n",
       "       [ 1,  0,  4]])"
      ]
     },
     "execution_count": 33,
     "metadata": {},
     "output_type": "execute_result"
    }
   ],
   "source": [
    "matrix_example"
   ]
  },
  {
   "cell_type": "code",
   "execution_count": 34,
   "metadata": {},
   "outputs": [
    {
     "data": {
      "text/plain": [
       "array([1, 0, 4])"
      ]
     },
     "execution_count": 34,
     "metadata": {},
     "output_type": "execute_result"
    }
   ],
   "source": [
    "matrix_example[-1]"
   ]
  },
  {
   "cell_type": "code",
   "execution_count": 35,
   "metadata": {},
   "outputs": [
    {
     "data": {
      "text/plain": [
       "1"
      ]
     },
     "execution_count": 35,
     "metadata": {},
     "output_type": "execute_result"
    }
   ],
   "source": [
    "matrix_example[2][0]"
   ]
  },
  {
   "cell_type": "code",
   "execution_count": 36,
   "metadata": {},
   "outputs": [
    {
     "data": {
      "text/plain": [
       "array([[ 9.4610007 , 11.97963917, 13.63210687],\n",
       "       [ 9.16958694,  8.37441324,  7.7793376 ],\n",
       "       [ 9.5067572 , 11.15556754, 12.73460272],\n",
       "       [12.39973859,  9.67675616, 10.15589562],\n",
       "       [ 7.91649994,  8.25471114, 11.97279854],\n",
       "       [11.06113785, 10.67486198,  9.97020891],\n",
       "       [ 7.41174436,  8.00852692, 13.18107177],\n",
       "       [11.35759832,  8.69959686,  9.52326762],\n",
       "       [ 8.72430283, 10.08448138,  5.69369206],\n",
       "       [11.44389488, 12.17327107, 13.51612614]])"
      ]
     },
     "execution_count": 36,
     "metadata": {},
     "output_type": "execute_result"
    }
   ],
   "source": [
    "np.random.normal(10,2,[10,3])"
   ]
  },
  {
   "cell_type": "code",
   "execution_count": 37,
   "metadata": {},
   "outputs": [],
   "source": [
    "import scipy as sp"
   ]
  },
  {
   "cell_type": "code",
   "execution_count": 38,
   "metadata": {},
   "outputs": [
    {
     "data": {
      "text/plain": [
       "0.02699548325659403"
      ]
     },
     "execution_count": 38,
     "metadata": {},
     "output_type": "execute_result"
    }
   ],
   "source": [
    "sp.stats.norm.pdf(14,10,2)"
   ]
  },
  {
   "cell_type": "code",
   "execution_count": 39,
   "metadata": {},
   "outputs": [
    {
     "data": {
      "text/plain": [
       "0.9772498680518208"
      ]
     },
     "execution_count": 39,
     "metadata": {},
     "output_type": "execute_result"
    }
   ],
   "source": [
    "sp.stats.norm.cdf(14,10,2)"
   ]
  },
  {
   "cell_type": "code",
   "execution_count": 40,
   "metadata": {},
   "outputs": [
    {
     "data": {
      "text/plain": [
       "14.0"
      ]
     },
     "execution_count": 40,
     "metadata": {},
     "output_type": "execute_result"
    }
   ],
   "source": [
    "sp.stats.norm.isf(1-0.9772498680518208,10,2)"
   ]
  },
  {
   "cell_type": "code",
   "execution_count": 41,
   "metadata": {},
   "outputs": [
    {
     "data": {
      "text/plain": [
       "0.9772498680518208"
      ]
     },
     "execution_count": 41,
     "metadata": {},
     "output_type": "execute_result"
    }
   ],
   "source": [
    "sp.stats.norm.cdf(2,0,1)"
   ]
  },
  {
   "cell_type": "code",
   "execution_count": 42,
   "metadata": {},
   "outputs": [
    {
     "data": {
      "text/plain": [
       "14.0"
      ]
     },
     "execution_count": 42,
     "metadata": {},
     "output_type": "execute_result"
    }
   ],
   "source": [
    "sp.stats.norm.isf(1-0.9772498680518208,0,1)*2+10"
   ]
  },
  {
   "cell_type": "code",
   "execution_count": 43,
   "metadata": {},
   "outputs": [],
   "source": [
    "import pandas as pd"
   ]
  },
  {
   "cell_type": "code",
   "execution_count": 44,
   "metadata": {},
   "outputs": [
    {
     "data": {
      "text/plain": [
       "0    13.042021\n",
       "1    13.914713\n",
       "2     9.846988\n",
       "3    10.317744\n",
       "4     9.422221\n",
       "5     9.878663\n",
       "6     9.077366\n",
       "7     9.613621\n",
       "dtype: float64"
      ]
     },
     "execution_count": 44,
     "metadata": {},
     "output_type": "execute_result"
    }
   ],
   "source": [
    "pd.Series(np.random.normal(10,2,8))"
   ]
  },
  {
   "cell_type": "code",
   "execution_count": 45,
   "metadata": {},
   "outputs": [
    {
     "data": {
      "text/html": [
       "<div>\n",
       "<style scoped>\n",
       "    .dataframe tbody tr th:only-of-type {\n",
       "        vertical-align: middle;\n",
       "    }\n",
       "\n",
       "    .dataframe tbody tr th {\n",
       "        vertical-align: top;\n",
       "    }\n",
       "\n",
       "    .dataframe thead th {\n",
       "        text-align: right;\n",
       "    }\n",
       "</style>\n",
       "<table border=\"1\" class=\"dataframe\">\n",
       "  <thead>\n",
       "    <tr style=\"text-align: right;\">\n",
       "      <th></th>\n",
       "      <th>column 1</th>\n",
       "      <th>column 2</th>\n",
       "      <th>column 3</th>\n",
       "    </tr>\n",
       "  </thead>\n",
       "  <tbody>\n",
       "    <tr>\n",
       "      <th>0</th>\n",
       "      <td>11.473694</td>\n",
       "      <td>8.453657</td>\n",
       "      <td>8.704465</td>\n",
       "    </tr>\n",
       "    <tr>\n",
       "      <th>1</th>\n",
       "      <td>10.696108</td>\n",
       "      <td>11.978173</td>\n",
       "      <td>11.220693</td>\n",
       "    </tr>\n",
       "    <tr>\n",
       "      <th>2</th>\n",
       "      <td>10.573739</td>\n",
       "      <td>8.647771</td>\n",
       "      <td>8.985882</td>\n",
       "    </tr>\n",
       "    <tr>\n",
       "      <th>3</th>\n",
       "      <td>9.198327</td>\n",
       "      <td>7.713878</td>\n",
       "      <td>9.439944</td>\n",
       "    </tr>\n",
       "    <tr>\n",
       "      <th>4</th>\n",
       "      <td>9.294017</td>\n",
       "      <td>6.499797</td>\n",
       "      <td>9.573091</td>\n",
       "    </tr>\n",
       "    <tr>\n",
       "      <th>5</th>\n",
       "      <td>8.010667</td>\n",
       "      <td>7.270547</td>\n",
       "      <td>9.373411</td>\n",
       "    </tr>\n",
       "    <tr>\n",
       "      <th>6</th>\n",
       "      <td>14.314970</td>\n",
       "      <td>12.776832</td>\n",
       "      <td>8.209492</td>\n",
       "    </tr>\n",
       "    <tr>\n",
       "      <th>7</th>\n",
       "      <td>10.892943</td>\n",
       "      <td>12.613762</td>\n",
       "      <td>9.451923</td>\n",
       "    </tr>\n",
       "  </tbody>\n",
       "</table>\n",
       "</div>"
      ],
      "text/plain": [
       "    column 1   column 2   column 3\n",
       "0  11.473694   8.453657   8.704465\n",
       "1  10.696108  11.978173  11.220693\n",
       "2  10.573739   8.647771   8.985882\n",
       "3   9.198327   7.713878   9.439944\n",
       "4   9.294017   6.499797   9.573091\n",
       "5   8.010667   7.270547   9.373411\n",
       "6  14.314970  12.776832   8.209492\n",
       "7  10.892943  12.613762   9.451923"
      ]
     },
     "execution_count": 45,
     "metadata": {},
     "output_type": "execute_result"
    }
   ],
   "source": [
    "DataTable = pd.DataFrame(np.random.normal(10,2,[8,3]),columns=list([\"column 1\", \"column 2\", \"column 3\"]))\n",
    "DataTable"
   ]
  },
  {
   "cell_type": "code",
   "execution_count": 46,
   "metadata": {},
   "outputs": [
    {
     "data": {
      "text/html": [
       "<div>\n",
       "<style scoped>\n",
       "    .dataframe tbody tr th:only-of-type {\n",
       "        vertical-align: middle;\n",
       "    }\n",
       "\n",
       "    .dataframe tbody tr th {\n",
       "        vertical-align: top;\n",
       "    }\n",
       "\n",
       "    .dataframe thead th {\n",
       "        text-align: right;\n",
       "    }\n",
       "</style>\n",
       "<table border=\"1\" class=\"dataframe\">\n",
       "  <thead>\n",
       "    <tr style=\"text-align: right;\">\n",
       "      <th></th>\n",
       "      <th>column 1</th>\n",
       "      <th>column 2</th>\n",
       "      <th>column 3</th>\n",
       "    </tr>\n",
       "  </thead>\n",
       "  <tbody>\n",
       "    <tr>\n",
       "      <th>6</th>\n",
       "      <td>14.31497</td>\n",
       "      <td>12.776832</td>\n",
       "      <td>8.209492</td>\n",
       "    </tr>\n",
       "  </tbody>\n",
       "</table>\n",
       "</div>"
      ],
      "text/plain": [
       "   column 1   column 2  column 3\n",
       "6  14.31497  12.776832  8.209492"
      ]
     },
     "execution_count": 46,
     "metadata": {},
     "output_type": "execute_result"
    }
   ],
   "source": [
    "DataTable[DataTable[\"column 1\"]>13]"
   ]
  },
  {
   "cell_type": "code",
   "execution_count": 52,
   "metadata": {},
   "outputs": [],
   "source": [
    "import pandas as pd\n",
    "\n",
    "# Raw URL of the CSV file on GitHub\n",
    "csv_url = \"https://github.com/leningschulich/schulich_data_science/raw/main/mban%205110%20U/sales_data.csv\"\n",
    "\n",
    "# Read the CSV file into a DataFrame\n",
    "input_table = pd.read_csv(csv_url)\n",
    "\n",
    "# Now you can work with the input_table DataFrame\n"
   ]
  },
  {
   "cell_type": "code",
   "execution_count": 53,
   "metadata": {},
   "outputs": [
    {
     "data": {
      "text/html": [
       "<div>\n",
       "<style scoped>\n",
       "    .dataframe tbody tr th:only-of-type {\n",
       "        vertical-align: middle;\n",
       "    }\n",
       "\n",
       "    .dataframe tbody tr th {\n",
       "        vertical-align: top;\n",
       "    }\n",
       "\n",
       "    .dataframe thead th {\n",
       "        text-align: right;\n",
       "    }\n",
       "</style>\n",
       "<table border=\"1\" class=\"dataframe\">\n",
       "  <thead>\n",
       "    <tr style=\"text-align: right;\">\n",
       "      <th></th>\n",
       "      <th>Order ID</th>\n",
       "      <th>Product ID</th>\n",
       "      <th>Amount (kg)</th>\n",
       "      <th>Order Confirm Date</th>\n",
       "      <th>Required Delivery Date</th>\n",
       "    </tr>\n",
       "  </thead>\n",
       "  <tbody>\n",
       "    <tr>\n",
       "      <th>0</th>\n",
       "      <td>1005781.0</td>\n",
       "      <td>8908023.0</td>\n",
       "      <td>20000.0</td>\n",
       "      <td>NaN</td>\n",
       "      <td>2020-07-30</td>\n",
       "    </tr>\n",
       "    <tr>\n",
       "      <th>1</th>\n",
       "      <td>1005998.0</td>\n",
       "      <td>8909373.0</td>\n",
       "      <td>6297.0</td>\n",
       "      <td>NaN</td>\n",
       "      <td>2020-07-15</td>\n",
       "    </tr>\n",
       "    <tr>\n",
       "      <th>2</th>\n",
       "      <td>1005969.0</td>\n",
       "      <td>8908023.0</td>\n",
       "      <td>20000.0</td>\n",
       "      <td>2020-05-29</td>\n",
       "      <td>NaN</td>\n",
       "    </tr>\n",
       "    <tr>\n",
       "      <th>3</th>\n",
       "      <td>1005969.0</td>\n",
       "      <td>8908023.0</td>\n",
       "      <td>20000.0</td>\n",
       "      <td>2020-05-29</td>\n",
       "      <td>NaN</td>\n",
       "    </tr>\n",
       "    <tr>\n",
       "      <th>4</th>\n",
       "      <td>NaN</td>\n",
       "      <td>NaN</td>\n",
       "      <td>NaN</td>\n",
       "      <td>NaN</td>\n",
       "      <td>NaN</td>\n",
       "    </tr>\n",
       "  </tbody>\n",
       "</table>\n",
       "</div>"
      ],
      "text/plain": [
       "    Order ID  Product ID  Amount (kg) Order Confirm Date  \\\n",
       "0  1005781.0   8908023.0      20000.0                NaN   \n",
       "1  1005998.0   8909373.0       6297.0                NaN   \n",
       "2  1005969.0   8908023.0      20000.0         2020-05-29   \n",
       "3  1005969.0   8908023.0      20000.0         2020-05-29   \n",
       "4        NaN         NaN          NaN                NaN   \n",
       "\n",
       "  Required Delivery Date  \n",
       "0             2020-07-30  \n",
       "1             2020-07-15  \n",
       "2                    NaN  \n",
       "3                    NaN  \n",
       "4                    NaN  "
      ]
     },
     "execution_count": 53,
     "metadata": {},
     "output_type": "execute_result"
    }
   ],
   "source": [
    "input_table.head()"
   ]
  },
  {
   "cell_type": "code",
   "execution_count": 54,
   "metadata": {},
   "outputs": [
    {
     "data": {
      "text/html": [
       "<div>\n",
       "<style scoped>\n",
       "    .dataframe tbody tr th:only-of-type {\n",
       "        vertical-align: middle;\n",
       "    }\n",
       "\n",
       "    .dataframe tbody tr th {\n",
       "        vertical-align: top;\n",
       "    }\n",
       "\n",
       "    .dataframe thead th {\n",
       "        text-align: right;\n",
       "    }\n",
       "</style>\n",
       "<table border=\"1\" class=\"dataframe\">\n",
       "  <thead>\n",
       "    <tr style=\"text-align: right;\">\n",
       "      <th></th>\n",
       "      <th>Amount (kg)</th>\n",
       "    </tr>\n",
       "    <tr>\n",
       "      <th>Product ID</th>\n",
       "      <th></th>\n",
       "    </tr>\n",
       "  </thead>\n",
       "  <tbody>\n",
       "    <tr>\n",
       "      <th>8601971.0</th>\n",
       "      <td>740.000000</td>\n",
       "    </tr>\n",
       "    <tr>\n",
       "      <th>8601986.0</th>\n",
       "      <td>956.000000</td>\n",
       "    </tr>\n",
       "    <tr>\n",
       "      <th>8902398.0</th>\n",
       "      <td>3937.372553</td>\n",
       "    </tr>\n",
       "    <tr>\n",
       "      <th>8902615.0</th>\n",
       "      <td>2960.000000</td>\n",
       "    </tr>\n",
       "    <tr>\n",
       "      <th>8902635.0</th>\n",
       "      <td>17292.335506</td>\n",
       "    </tr>\n",
       "    <tr>\n",
       "      <th>8905735.0</th>\n",
       "      <td>1754.080000</td>\n",
       "    </tr>\n",
       "    <tr>\n",
       "      <th>8906381.0</th>\n",
       "      <td>3579.833333</td>\n",
       "    </tr>\n",
       "    <tr>\n",
       "      <th>8907133.0</th>\n",
       "      <td>5435.416667</td>\n",
       "    </tr>\n",
       "    <tr>\n",
       "      <th>8908023.0</th>\n",
       "      <td>20063.473486</td>\n",
       "    </tr>\n",
       "    <tr>\n",
       "      <th>8908024.0</th>\n",
       "      <td>16400.000000</td>\n",
       "    </tr>\n",
       "    <tr>\n",
       "      <th>8908111.0</th>\n",
       "      <td>11000.000000</td>\n",
       "    </tr>\n",
       "    <tr>\n",
       "      <th>8908112.0</th>\n",
       "      <td>16647.885521</td>\n",
       "    </tr>\n",
       "    <tr>\n",
       "      <th>8908114.0</th>\n",
       "      <td>18929.411765</td>\n",
       "    </tr>\n",
       "    <tr>\n",
       "      <th>8908672.0</th>\n",
       "      <td>17875.806452</td>\n",
       "    </tr>\n",
       "    <tr>\n",
       "      <th>8908748.0</th>\n",
       "      <td>19866.220736</td>\n",
       "    </tr>\n",
       "    <tr>\n",
       "      <th>8908749.0</th>\n",
       "      <td>20299.019704</td>\n",
       "    </tr>\n",
       "    <tr>\n",
       "      <th>8908880.0</th>\n",
       "      <td>4766.666667</td>\n",
       "    </tr>\n",
       "    <tr>\n",
       "      <th>8909286.0</th>\n",
       "      <td>5975.000000</td>\n",
       "    </tr>\n",
       "    <tr>\n",
       "      <th>8909373.0</th>\n",
       "      <td>5698.556667</td>\n",
       "    </tr>\n",
       "  </tbody>\n",
       "</table>\n",
       "</div>"
      ],
      "text/plain": [
       "             Amount (kg)\n",
       "Product ID              \n",
       "8601971.0     740.000000\n",
       "8601986.0     956.000000\n",
       "8902398.0    3937.372553\n",
       "8902615.0    2960.000000\n",
       "8902635.0   17292.335506\n",
       "8905735.0    1754.080000\n",
       "8906381.0    3579.833333\n",
       "8907133.0    5435.416667\n",
       "8908023.0   20063.473486\n",
       "8908024.0   16400.000000\n",
       "8908111.0   11000.000000\n",
       "8908112.0   16647.885521\n",
       "8908114.0   18929.411765\n",
       "8908672.0   17875.806452\n",
       "8908748.0   19866.220736\n",
       "8908749.0   20299.019704\n",
       "8908880.0    4766.666667\n",
       "8909286.0    5975.000000\n",
       "8909373.0    5698.556667"
      ]
     },
     "execution_count": 54,
     "metadata": {},
     "output_type": "execute_result"
    }
   ],
   "source": [
    "pd.pivot_table(input_table,values=\"Amount (kg)\",index=\"Product ID\")"
   ]
  },
  {
   "cell_type": "code",
   "execution_count": 55,
   "metadata": {},
   "outputs": [
    {
     "data": {
      "text/html": [
       "<div>\n",
       "<style scoped>\n",
       "    .dataframe tbody tr th:only-of-type {\n",
       "        vertical-align: middle;\n",
       "    }\n",
       "\n",
       "    .dataframe tbody tr th {\n",
       "        vertical-align: top;\n",
       "    }\n",
       "\n",
       "    .dataframe thead th {\n",
       "        text-align: right;\n",
       "    }\n",
       "</style>\n",
       "<table border=\"1\" class=\"dataframe\">\n",
       "  <thead>\n",
       "    <tr style=\"text-align: right;\">\n",
       "      <th></th>\n",
       "      <th>Order ID</th>\n",
       "      <th>Product ID</th>\n",
       "      <th>Amount (kg)</th>\n",
       "      <th>Order Confirm Date</th>\n",
       "      <th>Required Delivery Date</th>\n",
       "    </tr>\n",
       "  </thead>\n",
       "  <tbody>\n",
       "    <tr>\n",
       "      <th>2</th>\n",
       "      <td>1005969.0</td>\n",
       "      <td>8908023.0</td>\n",
       "      <td>20000.0</td>\n",
       "      <td>2020-05-29</td>\n",
       "      <td>NaN</td>\n",
       "    </tr>\n",
       "    <tr>\n",
       "      <th>3</th>\n",
       "      <td>1005969.0</td>\n",
       "      <td>8908023.0</td>\n",
       "      <td>20000.0</td>\n",
       "      <td>2020-05-29</td>\n",
       "      <td>NaN</td>\n",
       "    </tr>\n",
       "    <tr>\n",
       "      <th>5</th>\n",
       "      <td>1006069.0</td>\n",
       "      <td>8902635.0</td>\n",
       "      <td>10000.0</td>\n",
       "      <td>2020-06-16</td>\n",
       "      <td>2020-08-05</td>\n",
       "    </tr>\n",
       "    <tr>\n",
       "      <th>6</th>\n",
       "      <td>1005998.0</td>\n",
       "      <td>8909373.0</td>\n",
       "      <td>6500.0</td>\n",
       "      <td>2020-06-30</td>\n",
       "      <td>2020-09-10</td>\n",
       "    </tr>\n",
       "    <tr>\n",
       "      <th>7</th>\n",
       "      <td>1006067.0</td>\n",
       "      <td>8908023.0</td>\n",
       "      <td>21000.0</td>\n",
       "      <td>2020-06-22</td>\n",
       "      <td>2020-07-07</td>\n",
       "    </tr>\n",
       "  </tbody>\n",
       "</table>\n",
       "</div>"
      ],
      "text/plain": [
       "    Order ID  Product ID  Amount (kg) Order Confirm Date  \\\n",
       "2  1005969.0   8908023.0      20000.0         2020-05-29   \n",
       "3  1005969.0   8908023.0      20000.0         2020-05-29   \n",
       "5  1006069.0   8902635.0      10000.0         2020-06-16   \n",
       "6  1005998.0   8909373.0       6500.0         2020-06-30   \n",
       "7  1006067.0   8908023.0      21000.0         2020-06-22   \n",
       "\n",
       "  Required Delivery Date  \n",
       "2                    NaN  \n",
       "3                    NaN  \n",
       "5             2020-08-05  \n",
       "6             2020-09-10  \n",
       "7             2020-07-07  "
      ]
     },
     "execution_count": 55,
     "metadata": {},
     "output_type": "execute_result"
    }
   ],
   "source": [
    "input_table_imputed_partially = input_table.dropna(subset=[\"Order Confirm Date\"])\n",
    "input_table_imputed_fully = input_table.dropna()\n",
    "input_table_imputed_partially.head()"
   ]
  },
  {
   "cell_type": "code",
   "execution_count": 59,
   "metadata": {},
   "outputs": [
    {
     "name": "stdout",
     "output_type": "stream",
     "text": [
      "Collecting mlxtend\n",
      "  Downloading mlxtend-0.22.0-py2.py3-none-any.whl (1.4 MB)\n",
      "\u001b[K     |████████████████████████████████| 1.4 MB 866 kB/s eta 0:00:01\n",
      "\u001b[?25hRequirement already satisfied: scipy>=1.2.1 in /Users/frieda/opt/anaconda3/lib/python3.8/site-packages (from mlxtend) (1.6.2)\n",
      "Requirement already satisfied: joblib>=0.13.2 in /Users/frieda/opt/anaconda3/lib/python3.8/site-packages (from mlxtend) (1.3.1)\n",
      "Requirement already satisfied: scikit-learn>=1.0.2 in /Users/frieda/opt/anaconda3/lib/python3.8/site-packages (from mlxtend) (1.3.0)\n",
      "Requirement already satisfied: matplotlib>=3.0.0 in /Users/frieda/opt/anaconda3/lib/python3.8/site-packages (from mlxtend) (3.3.4)\n",
      "Requirement already satisfied: setuptools in /Users/frieda/opt/anaconda3/lib/python3.8/site-packages (from mlxtend) (52.0.0.post20210125)\n",
      "Requirement already satisfied: pandas>=0.24.2 in /Users/frieda/opt/anaconda3/lib/python3.8/site-packages (from mlxtend) (1.2.4)\n",
      "Requirement already satisfied: numpy>=1.16.2 in /Users/frieda/opt/anaconda3/lib/python3.8/site-packages (from mlxtend) (1.20.1)\n",
      "Requirement already satisfied: pyparsing!=2.0.4,!=2.1.2,!=2.1.6,>=2.0.3 in /Users/frieda/opt/anaconda3/lib/python3.8/site-packages (from matplotlib>=3.0.0->mlxtend) (2.4.7)\n",
      "Requirement already satisfied: pillow>=6.2.0 in /Users/frieda/opt/anaconda3/lib/python3.8/site-packages (from matplotlib>=3.0.0->mlxtend) (8.2.0)\n",
      "Requirement already satisfied: cycler>=0.10 in /Users/frieda/opt/anaconda3/lib/python3.8/site-packages (from matplotlib>=3.0.0->mlxtend) (0.10.0)\n",
      "Requirement already satisfied: python-dateutil>=2.1 in /Users/frieda/opt/anaconda3/lib/python3.8/site-packages (from matplotlib>=3.0.0->mlxtend) (2.8.1)\n",
      "Requirement already satisfied: kiwisolver>=1.0.1 in /Users/frieda/opt/anaconda3/lib/python3.8/site-packages (from matplotlib>=3.0.0->mlxtend) (1.3.1)\n",
      "Requirement already satisfied: six in /Users/frieda/opt/anaconda3/lib/python3.8/site-packages (from cycler>=0.10->matplotlib>=3.0.0->mlxtend) (1.15.0)\n",
      "Requirement already satisfied: pytz>=2017.3 in /Users/frieda/opt/anaconda3/lib/python3.8/site-packages (from pandas>=0.24.2->mlxtend) (2021.1)\n",
      "Requirement already satisfied: threadpoolctl>=2.0.0 in /Users/frieda/opt/anaconda3/lib/python3.8/site-packages (from scikit-learn>=1.0.2->mlxtend) (2.1.0)\n",
      "Installing collected packages: mlxtend\n",
      "Successfully installed mlxtend-0.22.0\n",
      "Note: you may need to restart the kernel to use updated packages.\n"
     ]
    }
   ],
   "source": [
    "pip install mlxtend"
   ]
  },
  {
   "cell_type": "code",
   "execution_count": 66,
   "metadata": {},
   "outputs": [],
   "source": [
    "import numpy as np\n",
    "import pandas as pd\n",
    "from mlxtend.preprocessing import TransactionEncoder\n",
    "\n",
    "import pandas as pd\n",
    "\n"
   ]
  },
  {
   "cell_type": "code",
   "execution_count": 67,
   "metadata": {},
   "outputs": [],
   "source": [
    "import pandas as pd\n",
    "\n",
    "# Define the URL of the raw CSV file on GitHub\n",
    "csv_url = 'https://raw.githubusercontent.com/leningschulich/schulich_data_science/a6bb0ee82fbdf19284157376a39de1ea99ca289f/mban%205110%20U/small_dataset.csv'\n",
    "\n",
    "# Read the CSV file into a DataFrame\n",
    "shopping_basket = pd.read_csv(csv_url)\n",
    "\n",
    "# Now, 'shopping_basket' contains the data from the CSV file\n",
    "# You can perform operations on this DataFrame as needed\n"
   ]
  },
  {
   "cell_type": "code",
   "execution_count": 68,
   "metadata": {},
   "outputs": [
    {
     "data": {
      "text/html": [
       "<div>\n",
       "<style scoped>\n",
       "    .dataframe tbody tr th:only-of-type {\n",
       "        vertical-align: middle;\n",
       "    }\n",
       "\n",
       "    .dataframe tbody tr th {\n",
       "        vertical-align: top;\n",
       "    }\n",
       "\n",
       "    .dataframe thead th {\n",
       "        text-align: right;\n",
       "    }\n",
       "</style>\n",
       "<table border=\"1\" class=\"dataframe\">\n",
       "  <thead>\n",
       "    <tr style=\"text-align: right;\">\n",
       "      <th></th>\n",
       "      <th>Transaction ID</th>\n",
       "      <th>ItemsPurchased</th>\n",
       "    </tr>\n",
       "  </thead>\n",
       "  <tbody>\n",
       "    <tr>\n",
       "      <th>0</th>\n",
       "      <td>1</td>\n",
       "      <td>biscuit,bread,milk</td>\n",
       "    </tr>\n",
       "    <tr>\n",
       "      <th>1</th>\n",
       "      <td>2</td>\n",
       "      <td>biscuit,bread,cereal,milk</td>\n",
       "    </tr>\n",
       "    <tr>\n",
       "      <th>2</th>\n",
       "      <td>3</td>\n",
       "      <td>bread,tea</td>\n",
       "    </tr>\n",
       "    <tr>\n",
       "      <th>3</th>\n",
       "      <td>4</td>\n",
       "      <td>bread,jam,milk</td>\n",
       "    </tr>\n",
       "    <tr>\n",
       "      <th>4</th>\n",
       "      <td>5</td>\n",
       "      <td>biscuit,tea</td>\n",
       "    </tr>\n",
       "  </tbody>\n",
       "</table>\n",
       "</div>"
      ],
      "text/plain": [
       "   Transaction ID             ItemsPurchased\n",
       "0               1         biscuit,bread,milk\n",
       "1               2  biscuit,bread,cereal,milk\n",
       "2               3                  bread,tea\n",
       "3               4             bread,jam,milk\n",
       "4               5                biscuit,tea"
      ]
     },
     "execution_count": 68,
     "metadata": {},
     "output_type": "execute_result"
    }
   ],
   "source": [
    "shopping_basket.head()"
   ]
  },
  {
   "cell_type": "code",
   "execution_count": 69,
   "metadata": {},
   "outputs": [],
   "source": [
    "transaction_list = list(shopping_basket[\"ItemsPurchased\"].apply(lambda t:t.split(\",\")))"
   ]
  },
  {
   "cell_type": "code",
   "execution_count": 70,
   "metadata": {},
   "outputs": [
    {
     "data": {
      "text/plain": [
       "[['biscuit', 'bread', 'milk'],\n",
       " ['biscuit', 'bread', 'cereal', 'milk'],\n",
       " ['bread', 'tea'],\n",
       " ['bread', 'jam', 'milk'],\n",
       " ['biscuit', 'tea'],\n",
       " ['bread', 'tea'],\n",
       " ['cereal', 'tea'],\n",
       " ['biscuit', 'bread', 'tea'],\n",
       " ['bread', 'jam', 'tea'],\n",
       " ['bread', 'milk'],\n",
       " ['biscuit', 'cereal'],\n",
       " ['biscuit', 'bread', 'milk', 'tea'],\n",
       " ['bread', 'tea'],\n",
       " ['bread', 'jam', 'milk'],\n",
       " ['biscuit', 'tea'],\n",
       " ['bread', 'tea'],\n",
       " ['cereal', 'tea'],\n",
       " ['bread', 'tea'],\n",
       " ['bread', 'jam', 'tea'],\n",
       " ['bread', 'milk']]"
      ]
     },
     "execution_count": 70,
     "metadata": {},
     "output_type": "execute_result"
    }
   ],
   "source": [
    "transaction_list"
   ]
  },
  {
   "cell_type": "code",
   "execution_count": 71,
   "metadata": {},
   "outputs": [
    {
     "data": {
      "text/html": [
       "<style>#sk-container-id-1 {color: black;}#sk-container-id-1 pre{padding: 0;}#sk-container-id-1 div.sk-toggleable {background-color: white;}#sk-container-id-1 label.sk-toggleable__label {cursor: pointer;display: block;width: 100%;margin-bottom: 0;padding: 0.3em;box-sizing: border-box;text-align: center;}#sk-container-id-1 label.sk-toggleable__label-arrow:before {content: \"▸\";float: left;margin-right: 0.25em;color: #696969;}#sk-container-id-1 label.sk-toggleable__label-arrow:hover:before {color: black;}#sk-container-id-1 div.sk-estimator:hover label.sk-toggleable__label-arrow:before {color: black;}#sk-container-id-1 div.sk-toggleable__content {max-height: 0;max-width: 0;overflow: hidden;text-align: left;background-color: #f0f8ff;}#sk-container-id-1 div.sk-toggleable__content pre {margin: 0.2em;color: black;border-radius: 0.25em;background-color: #f0f8ff;}#sk-container-id-1 input.sk-toggleable__control:checked~div.sk-toggleable__content {max-height: 200px;max-width: 100%;overflow: auto;}#sk-container-id-1 input.sk-toggleable__control:checked~label.sk-toggleable__label-arrow:before {content: \"▾\";}#sk-container-id-1 div.sk-estimator input.sk-toggleable__control:checked~label.sk-toggleable__label {background-color: #d4ebff;}#sk-container-id-1 div.sk-label input.sk-toggleable__control:checked~label.sk-toggleable__label {background-color: #d4ebff;}#sk-container-id-1 input.sk-hidden--visually {border: 0;clip: rect(1px 1px 1px 1px);clip: rect(1px, 1px, 1px, 1px);height: 1px;margin: -1px;overflow: hidden;padding: 0;position: absolute;width: 1px;}#sk-container-id-1 div.sk-estimator {font-family: monospace;background-color: #f0f8ff;border: 1px dotted black;border-radius: 0.25em;box-sizing: border-box;margin-bottom: 0.5em;}#sk-container-id-1 div.sk-estimator:hover {background-color: #d4ebff;}#sk-container-id-1 div.sk-parallel-item::after {content: \"\";width: 100%;border-bottom: 1px solid gray;flex-grow: 1;}#sk-container-id-1 div.sk-label:hover label.sk-toggleable__label {background-color: #d4ebff;}#sk-container-id-1 div.sk-serial::before {content: \"\";position: absolute;border-left: 1px solid gray;box-sizing: border-box;top: 0;bottom: 0;left: 50%;z-index: 0;}#sk-container-id-1 div.sk-serial {display: flex;flex-direction: column;align-items: center;background-color: white;padding-right: 0.2em;padding-left: 0.2em;position: relative;}#sk-container-id-1 div.sk-item {position: relative;z-index: 1;}#sk-container-id-1 div.sk-parallel {display: flex;align-items: stretch;justify-content: center;background-color: white;position: relative;}#sk-container-id-1 div.sk-item::before, #sk-container-id-1 div.sk-parallel-item::before {content: \"\";position: absolute;border-left: 1px solid gray;box-sizing: border-box;top: 0;bottom: 0;left: 50%;z-index: -1;}#sk-container-id-1 div.sk-parallel-item {display: flex;flex-direction: column;z-index: 1;position: relative;background-color: white;}#sk-container-id-1 div.sk-parallel-item:first-child::after {align-self: flex-end;width: 50%;}#sk-container-id-1 div.sk-parallel-item:last-child::after {align-self: flex-start;width: 50%;}#sk-container-id-1 div.sk-parallel-item:only-child::after {width: 0;}#sk-container-id-1 div.sk-dashed-wrapped {border: 1px dashed gray;margin: 0 0.4em 0.5em 0.4em;box-sizing: border-box;padding-bottom: 0.4em;background-color: white;}#sk-container-id-1 div.sk-label label {font-family: monospace;font-weight: bold;display: inline-block;line-height: 1.2em;}#sk-container-id-1 div.sk-label-container {text-align: center;}#sk-container-id-1 div.sk-container {/* jupyter's `normalize.less` sets `[hidden] { display: none; }` but bootstrap.min.css set `[hidden] { display: none !important; }` so we also need the `!important` here to be able to override the default hidden behavior on the sphinx rendered scikit-learn.org. See: https://github.com/scikit-learn/scikit-learn/issues/21755 */display: inline-block !important;position: relative;}#sk-container-id-1 div.sk-text-repr-fallback {display: none;}</style><div id=\"sk-container-id-1\" class=\"sk-top-container\"><div class=\"sk-text-repr-fallback\"><pre>TransactionEncoder()</pre><b>In a Jupyter environment, please rerun this cell to show the HTML representation or trust the notebook. <br />On GitHub, the HTML representation is unable to render, please try loading this page with nbviewer.org.</b></div><div class=\"sk-container\" hidden><div class=\"sk-item\"><div class=\"sk-estimator sk-toggleable\"><input class=\"sk-toggleable__control sk-hidden--visually\" id=\"sk-estimator-id-1\" type=\"checkbox\" checked><label for=\"sk-estimator-id-1\" class=\"sk-toggleable__label sk-toggleable__label-arrow\">TransactionEncoder</label><div class=\"sk-toggleable__content\"><pre>TransactionEncoder()</pre></div></div></div></div></div>"
      ],
      "text/plain": [
       "TransactionEncoder()"
      ]
     },
     "execution_count": 71,
     "metadata": {},
     "output_type": "execute_result"
    }
   ],
   "source": [
    "encoder = TransactionEncoder().fit(transaction_list)\n",
    "encoder"
   ]
  },
  {
   "cell_type": "code",
   "execution_count": 72,
   "metadata": {},
   "outputs": [
    {
     "data": {
      "text/plain": [
       "array([[ True,  True, False, False,  True, False],\n",
       "       [ True,  True,  True, False,  True, False],\n",
       "       [False,  True, False, False, False,  True],\n",
       "       [False,  True, False,  True,  True, False],\n",
       "       [ True, False, False, False, False,  True],\n",
       "       [False,  True, False, False, False,  True],\n",
       "       [False, False,  True, False, False,  True],\n",
       "       [ True,  True, False, False, False,  True],\n",
       "       [False,  True, False,  True, False,  True],\n",
       "       [False,  True, False, False,  True, False],\n",
       "       [ True, False,  True, False, False, False],\n",
       "       [ True,  True, False, False,  True,  True],\n",
       "       [False,  True, False, False, False,  True],\n",
       "       [False,  True, False,  True,  True, False],\n",
       "       [ True, False, False, False, False,  True],\n",
       "       [False,  True, False, False, False,  True],\n",
       "       [False, False,  True, False, False,  True],\n",
       "       [False,  True, False, False, False,  True],\n",
       "       [False,  True, False,  True, False,  True],\n",
       "       [False,  True, False, False,  True, False]])"
      ]
     },
     "execution_count": 72,
     "metadata": {},
     "output_type": "execute_result"
    }
   ],
   "source": [
    "encoded_transaction_list = encoder.transform(transaction_list)\n",
    "encoded_transaction_list"
   ]
  },
  {
   "cell_type": "code",
   "execution_count": 73,
   "metadata": {},
   "outputs": [
    {
     "data": {
      "text/html": [
       "<div>\n",
       "<style scoped>\n",
       "    .dataframe tbody tr th:only-of-type {\n",
       "        vertical-align: middle;\n",
       "    }\n",
       "\n",
       "    .dataframe tbody tr th {\n",
       "        vertical-align: top;\n",
       "    }\n",
       "\n",
       "    .dataframe thead th {\n",
       "        text-align: right;\n",
       "    }\n",
       "</style>\n",
       "<table border=\"1\" class=\"dataframe\">\n",
       "  <thead>\n",
       "    <tr style=\"text-align: right;\">\n",
       "      <th></th>\n",
       "      <th>biscuit</th>\n",
       "      <th>bread</th>\n",
       "      <th>cereal</th>\n",
       "      <th>jam</th>\n",
       "      <th>milk</th>\n",
       "      <th>tea</th>\n",
       "    </tr>\n",
       "  </thead>\n",
       "  <tbody>\n",
       "    <tr>\n",
       "      <th>0</th>\n",
       "      <td>True</td>\n",
       "      <td>True</td>\n",
       "      <td>False</td>\n",
       "      <td>False</td>\n",
       "      <td>True</td>\n",
       "      <td>False</td>\n",
       "    </tr>\n",
       "    <tr>\n",
       "      <th>1</th>\n",
       "      <td>True</td>\n",
       "      <td>True</td>\n",
       "      <td>True</td>\n",
       "      <td>False</td>\n",
       "      <td>True</td>\n",
       "      <td>False</td>\n",
       "    </tr>\n",
       "    <tr>\n",
       "      <th>2</th>\n",
       "      <td>False</td>\n",
       "      <td>True</td>\n",
       "      <td>False</td>\n",
       "      <td>False</td>\n",
       "      <td>False</td>\n",
       "      <td>True</td>\n",
       "    </tr>\n",
       "    <tr>\n",
       "      <th>3</th>\n",
       "      <td>False</td>\n",
       "      <td>True</td>\n",
       "      <td>False</td>\n",
       "      <td>True</td>\n",
       "      <td>True</td>\n",
       "      <td>False</td>\n",
       "    </tr>\n",
       "    <tr>\n",
       "      <th>4</th>\n",
       "      <td>True</td>\n",
       "      <td>False</td>\n",
       "      <td>False</td>\n",
       "      <td>False</td>\n",
       "      <td>False</td>\n",
       "      <td>True</td>\n",
       "    </tr>\n",
       "  </tbody>\n",
       "</table>\n",
       "</div>"
      ],
      "text/plain": [
       "   biscuit  bread  cereal    jam   milk    tea\n",
       "0     True   True   False  False   True  False\n",
       "1     True   True    True  False   True  False\n",
       "2    False   True   False  False  False   True\n",
       "3    False   True   False   True   True  False\n",
       "4     True  False   False  False  False   True"
      ]
     },
     "execution_count": 73,
     "metadata": {},
     "output_type": "execute_result"
    }
   ],
   "source": [
    "ideal_format_table = pd.DataFrame(encoded_transaction_list, columns = encoder.columns_)\n",
    "ideal_format_table.head()"
   ]
  }
 ],
 "metadata": {
  "kernelspec": {
   "display_name": "base",
   "language": "python",
   "name": "python3"
  },
  "language_info": {
   "codemirror_mode": {
    "name": "ipython",
    "version": 3
   },
   "file_extension": ".py",
   "mimetype": "text/x-python",
   "name": "python",
   "nbconvert_exporter": "python",
   "pygments_lexer": "ipython3",
   "version": "3.8.8"
  },
  "orig_nbformat": 4
 },
 "nbformat": 4,
 "nbformat_minor": 2
}
